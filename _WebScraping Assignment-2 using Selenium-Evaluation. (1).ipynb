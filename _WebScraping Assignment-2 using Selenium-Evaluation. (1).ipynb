{
 "cells": [
  {
   "cell_type": "markdown",
   "id": "4e228550",
   "metadata": {},
   "source": [
    " WebScraping Assignment-2 using Selenium-Evaluation."
   ]
  },
  {
   "cell_type": "markdown",
   "id": "8ff3dddc",
   "metadata": {},
   "source": [
    "# Question-1"
   ]
  },
  {
   "cell_type": "code",
   "execution_count": 1,
   "id": "5896fd6d",
   "metadata": {},
   "outputs": [
    {
     "name": "stdout",
     "output_type": "stream",
     "text": [
      "Requirement already satisfied: selenium in c:\\users\\sumit kaushik\\anaconda3\\lib\\site-packages (4.19.0)\n",
      "Requirement already satisfied: urllib3[socks]<3,>=1.26 in c:\\users\\sumit kaushik\\anaconda3\\lib\\site-packages (from selenium) (1.26.16)\n",
      "Requirement already satisfied: trio~=0.17 in c:\\users\\sumit kaushik\\anaconda3\\lib\\site-packages (from selenium) (0.25.0)\n",
      "Requirement already satisfied: trio-websocket~=0.9 in c:\\users\\sumit kaushik\\anaconda3\\lib\\site-packages (from selenium) (0.11.1)\n",
      "Requirement already satisfied: certifi>=2021.10.8 in c:\\users\\sumit kaushik\\anaconda3\\lib\\site-packages (from selenium) (2023.7.22)\n",
      "Requirement already satisfied: typing_extensions>=4.9.0 in c:\\users\\sumit kaushik\\anaconda3\\lib\\site-packages (from selenium) (4.10.0)\n",
      "Requirement already satisfied: attrs>=23.2.0 in c:\\users\\sumit kaushik\\anaconda3\\lib\\site-packages (from trio~=0.17->selenium) (23.2.0)\n",
      "Requirement already satisfied: sortedcontainers in c:\\users\\sumit kaushik\\anaconda3\\lib\\site-packages (from trio~=0.17->selenium) (2.4.0)\n",
      "Requirement already satisfied: idna in c:\\users\\sumit kaushik\\anaconda3\\lib\\site-packages (from trio~=0.17->selenium) (3.4)\n",
      "Requirement already satisfied: outcome in c:\\users\\sumit kaushik\\anaconda3\\lib\\site-packages (from trio~=0.17->selenium) (1.3.0.post0)\n",
      "Requirement already satisfied: sniffio>=1.3.0 in c:\\users\\sumit kaushik\\anaconda3\\lib\\site-packages (from trio~=0.17->selenium) (1.3.1)\n",
      "Requirement already satisfied: cffi>=1.14 in c:\\users\\sumit kaushik\\anaconda3\\lib\\site-packages (from trio~=0.17->selenium) (1.15.1)\n",
      "Requirement already satisfied: wsproto>=0.14 in c:\\users\\sumit kaushik\\anaconda3\\lib\\site-packages (from trio-websocket~=0.9->selenium) (1.2.0)\n",
      "Requirement already satisfied: PySocks!=1.5.7,<2.0,>=1.5.6 in c:\\users\\sumit kaushik\\anaconda3\\lib\\site-packages (from urllib3[socks]<3,>=1.26->selenium) (1.7.1)\n",
      "Requirement already satisfied: pycparser in c:\\users\\sumit kaushik\\anaconda3\\lib\\site-packages (from cffi>=1.14->trio~=0.17->selenium) (2.21)\n",
      "Requirement already satisfied: h11<1,>=0.9.0 in c:\\users\\sumit kaushik\\anaconda3\\lib\\site-packages (from wsproto>=0.14->trio-websocket~=0.9->selenium) (0.14.0)\n"
     ]
    }
   ],
   "source": [
    "!pip install selenium\n"
   ]
  },
  {
   "cell_type": "code",
   "execution_count": 2,
   "id": "067e3b89",
   "metadata": {},
   "outputs": [],
   "source": [
    "import selenium\n",
    "import pandas as pd\n",
    "from selenium import webdriver\n",
    "import warnings\n",
    "warnings.filterwarnings('ignore')\n",
    "from selenium.webdriver.common.by import By"
   ]
  },
  {
   "cell_type": "code",
   "execution_count": 3,
   "id": "12bc308b",
   "metadata": {},
   "outputs": [],
   "source": [
    "driver = webdriver.Chrome()"
   ]
  },
  {
   "cell_type": "code",
   "execution_count": 4,
   "id": "9599fa29",
   "metadata": {},
   "outputs": [],
   "source": [
    "#opening the naukri page on automated chrome browser\n",
    "driver.get(\"https://www.naukri.com/\")"
   ]
  },
  {
   "cell_type": "code",
   "execution_count": 5,
   "id": "32efafc5",
   "metadata": {},
   "outputs": [],
   "source": [
    "# entering designationn and location as required in the question-\n",
    "\n",
    "designation=driver.find_element(By.CLASS_NAME,\"suggestor-input \")\n",
    "designation.send_keys('Data Scientist')"
   ]
  },
  {
   "cell_type": "code",
   "execution_count": 6,
   "id": "7b2c5a43",
   "metadata": {},
   "outputs": [],
   "source": [
    "location=driver.find_element(By.XPATH,\"/html/body/div[1]/div[7]/div/div/div[5]/div/div/div/div[1]/div/input\")\n",
    "location.send_keys('Delhi/NCR')"
   ]
  },
  {
   "cell_type": "code",
   "execution_count": 7,
   "id": "e6b71eff",
   "metadata": {},
   "outputs": [],
   "source": [
    "search=driver.find_element(By.CLASS_NAME,\"qsbSubmit\")\n",
    "search.click()"
   ]
  },
  {
   "cell_type": "code",
   "execution_count": 8,
   "id": "7cb09d43",
   "metadata": {},
   "outputs": [],
   "source": [
    "job_title=[]\n",
    "job_location=[]\n",
    "company_name=[]\n",
    "experience_required=[]\n"
   ]
  },
  {
   "cell_type": "code",
   "execution_count": 9,
   "id": "9fef7931",
   "metadata": {},
   "outputs": [],
   "source": [
    "# scraping job title from the given page\n",
    "title_tags=driver.find_elements(By.XPATH,'//div[@class=\"cust-job-tuple layout-wrapper lay-2 sjw__tuple \"]/div/a')\n",
    "for i in title_tags:\n",
    "    title=i.text\n",
    "    job_title.append(title)\n",
    "    \n",
    "# scraping job location from the given page \n",
    "location_tags=driver.find_elements(By.XPATH,'//span[@class=\"locWdth\"]')\n",
    "for i in location_tags:\n",
    "    location=i.text\n",
    "    job_location.append(location)    \n",
    "    \n",
    "# scraping company name from the given page \n",
    "company_tags=driver.find_elements(By.XPATH,'//div[@class=\" row2\"]/span/a[1]')\n",
    "for i in company_tags: \n",
    "    company=i.text\n",
    "    company_name.append(company) \n",
    "\n",
    "# scraping job experience from the given page \n",
    "experience_tags=driver.find_elements(By.XPATH,'//span[@class=\"expwdth\"]')\n",
    "for i in experience_tags:\n",
    "    exp=i.text\n",
    "    experience_required.append(exp)     \n",
    "    \n",
    "    "
   ]
  },
  {
   "cell_type": "code",
   "execution_count": null,
   "id": "7a9b84ba",
   "metadata": {},
   "outputs": [],
   "source": []
  },
  {
   "cell_type": "code",
   "execution_count": 10,
   "id": "8f55547d",
   "metadata": {},
   "outputs": [
    {
     "name": "stdout",
     "output_type": "stream",
     "text": [
      "10 10 10 10\n"
     ]
    }
   ],
   "source": [
    "print(len(job_title[:10]),len(job_location[:10]),len(company_name[:10]),len(experience_required[:10]))"
   ]
  },
  {
   "cell_type": "code",
   "execution_count": 11,
   "id": "911a4d62",
   "metadata": {},
   "outputs": [
    {
     "data": {
      "text/html": [
       "<div>\n",
       "<style scoped>\n",
       "    .dataframe tbody tr th:only-of-type {\n",
       "        vertical-align: middle;\n",
       "    }\n",
       "\n",
       "    .dataframe tbody tr th {\n",
       "        vertical-align: top;\n",
       "    }\n",
       "\n",
       "    .dataframe thead th {\n",
       "        text-align: right;\n",
       "    }\n",
       "</style>\n",
       "<table border=\"1\" class=\"dataframe\">\n",
       "  <thead>\n",
       "    <tr style=\"text-align: right;\">\n",
       "      <th></th>\n",
       "      <th>Title</th>\n",
       "      <th>Location</th>\n",
       "      <th>Company_name</th>\n",
       "      <th>Experience</th>\n",
       "    </tr>\n",
       "  </thead>\n",
       "  <tbody>\n",
       "    <tr>\n",
       "      <th>0</th>\n",
       "      <td>Senior Data Scientist, Reporting</td>\n",
       "      <td>Kolkata, Mumbai, New Delhi, Hyderabad/Secunder...</td>\n",
       "      <td>Coursera</td>\n",
       "      <td>6-7 Yrs</td>\n",
       "    </tr>\n",
       "    <tr>\n",
       "      <th>1</th>\n",
       "      <td>Data Scientist, Marketing</td>\n",
       "      <td>Kolkata, Mumbai, New Delhi, Hyderabad/Secunder...</td>\n",
       "      <td>Coursera</td>\n",
       "      <td>4-6 Yrs</td>\n",
       "    </tr>\n",
       "    <tr>\n",
       "      <th>2</th>\n",
       "      <td>Data Scientist</td>\n",
       "      <td>Kolkata, Mumbai, New Delhi, Hyderabad, Pune, C...</td>\n",
       "      <td>Ford</td>\n",
       "      <td>3-6 Yrs</td>\n",
       "    </tr>\n",
       "    <tr>\n",
       "      <th>3</th>\n",
       "      <td>AI Data Scientist</td>\n",
       "      <td>Kolkata, Mumbai, New Delhi, Hyderabad, Pune, C...</td>\n",
       "      <td>Ford</td>\n",
       "      <td>2-6 Yrs</td>\n",
       "    </tr>\n",
       "    <tr>\n",
       "      <th>4</th>\n",
       "      <td>GenAI Data Scientist</td>\n",
       "      <td>Kolkata, Mumbai, New Delhi, Hyderabad, Pune, C...</td>\n",
       "      <td>Ford</td>\n",
       "      <td>5-6 Yrs</td>\n",
       "    </tr>\n",
       "    <tr>\n",
       "      <th>5</th>\n",
       "      <td>Data Scientist II</td>\n",
       "      <td>Greater Noida, Bengaluru</td>\n",
       "      <td>Honeywell</td>\n",
       "      <td>4-6 Yrs</td>\n",
       "    </tr>\n",
       "    <tr>\n",
       "      <th>6</th>\n",
       "      <td>NLP Data Scientist - Real World Data (RWD)</td>\n",
       "      <td>Kolkata, Mumbai, New Delhi, Hyderabad/Secunder...</td>\n",
       "      <td>Agilite Global Solutions</td>\n",
       "      <td>7-8 Yrs</td>\n",
       "    </tr>\n",
       "    <tr>\n",
       "      <th>7</th>\n",
       "      <td>Data Analytics-Corporate HR</td>\n",
       "      <td>Kolkata, Mumbai, New Delhi, Hyderabad/Secunder...</td>\n",
       "      <td>Tata Communications</td>\n",
       "      <td>3-6 Yrs</td>\n",
       "    </tr>\n",
       "    <tr>\n",
       "      <th>8</th>\n",
       "      <td>DS - NLP Expert</td>\n",
       "      <td>Hyderabad, Telangana, Gurugram, Haryana, Banga...</td>\n",
       "      <td>Genpact</td>\n",
       "      <td>6-11 Yrs</td>\n",
       "    </tr>\n",
       "    <tr>\n",
       "      <th>9</th>\n",
       "      <td>Generative AI Data Scientist</td>\n",
       "      <td>Hyderabad, Gurugram, Bengaluru</td>\n",
       "      <td>Genpact</td>\n",
       "      <td>8-13 Yrs</td>\n",
       "    </tr>\n",
       "  </tbody>\n",
       "</table>\n",
       "</div>"
      ],
      "text/plain": [
       "                                        Title  \\\n",
       "0            Senior Data Scientist, Reporting   \n",
       "1                   Data Scientist, Marketing   \n",
       "2                              Data Scientist   \n",
       "3                           AI Data Scientist   \n",
       "4                        GenAI Data Scientist   \n",
       "5                           Data Scientist II   \n",
       "6  NLP Data Scientist - Real World Data (RWD)   \n",
       "7                 Data Analytics-Corporate HR   \n",
       "8                             DS - NLP Expert   \n",
       "9                Generative AI Data Scientist   \n",
       "\n",
       "                                            Location  \\\n",
       "0  Kolkata, Mumbai, New Delhi, Hyderabad/Secunder...   \n",
       "1  Kolkata, Mumbai, New Delhi, Hyderabad/Secunder...   \n",
       "2  Kolkata, Mumbai, New Delhi, Hyderabad, Pune, C...   \n",
       "3  Kolkata, Mumbai, New Delhi, Hyderabad, Pune, C...   \n",
       "4  Kolkata, Mumbai, New Delhi, Hyderabad, Pune, C...   \n",
       "5                           Greater Noida, Bengaluru   \n",
       "6  Kolkata, Mumbai, New Delhi, Hyderabad/Secunder...   \n",
       "7  Kolkata, Mumbai, New Delhi, Hyderabad/Secunder...   \n",
       "8  Hyderabad, Telangana, Gurugram, Haryana, Banga...   \n",
       "9                     Hyderabad, Gurugram, Bengaluru   \n",
       "\n",
       "               Company_name Experience  \n",
       "0                  Coursera    6-7 Yrs  \n",
       "1                  Coursera    4-6 Yrs  \n",
       "2                      Ford    3-6 Yrs  \n",
       "3                      Ford    2-6 Yrs  \n",
       "4                      Ford    5-6 Yrs  \n",
       "5                 Honeywell    4-6 Yrs  \n",
       "6  Agilite Global Solutions    7-8 Yrs  \n",
       "7       Tata Communications    3-6 Yrs  \n",
       "8                   Genpact   6-11 Yrs  \n",
       "9                   Genpact   8-13 Yrs  "
      ]
     },
     "execution_count": 11,
     "metadata": {},
     "output_type": "execute_result"
    }
   ],
   "source": [
    "import pandas as pd\n",
    "df=pd.DataFrame({'Title':job_title[:10],'Location':job_location[:10],'Company_name':company_name[:10],'Experience':experience_required[:10]})\n",
    "df"
   ]
  },
  {
   "cell_type": "code",
   "execution_count": null,
   "id": "d586443c",
   "metadata": {},
   "outputs": [],
   "source": []
  },
  {
   "cell_type": "code",
   "execution_count": null,
   "id": "bf73be2d",
   "metadata": {},
   "outputs": [],
   "source": []
  },
  {
   "cell_type": "code",
   "execution_count": 12,
   "id": "2b1f4d9f",
   "metadata": {},
   "outputs": [
    {
     "data": {
      "text/plain": [
       "[<selenium.webdriver.remote.webelement.WebElement (session=\"59491629089d393a55f71f5e4e348417\", element=\"f.D57741530899A4AE49EFA4D4CCD13E2F.d.9DD19428765F340CF6255A7A2EC26D64.e.4054\")>,\n",
       " <selenium.webdriver.remote.webelement.WebElement (session=\"59491629089d393a55f71f5e4e348417\", element=\"f.D57741530899A4AE49EFA4D4CCD13E2F.d.9DD19428765F340CF6255A7A2EC26D64.e.4132\")>,\n",
       " <selenium.webdriver.remote.webelement.WebElement (session=\"59491629089d393a55f71f5e4e348417\", element=\"f.D57741530899A4AE49EFA4D4CCD13E2F.d.9DD19428765F340CF6255A7A2EC26D64.e.4211\")>,\n",
       " <selenium.webdriver.remote.webelement.WebElement (session=\"59491629089d393a55f71f5e4e348417\", element=\"f.D57741530899A4AE49EFA4D4CCD13E2F.d.9DD19428765F340CF6255A7A2EC26D64.e.4305\")>]"
      ]
     },
     "execution_count": 12,
     "metadata": {},
     "output_type": "execute_result"
    }
   ],
   "source": [
    "# to fetcg the url-\n",
    "url=driver.find_elements(By.XPATH,'//a[@class=\"title \"]')\n",
    "url[0:4]"
   ]
  },
  {
   "cell_type": "code",
   "execution_count": 13,
   "id": "8dc2ac60",
   "metadata": {},
   "outputs": [
    {
     "name": "stdout",
     "output_type": "stream",
     "text": [
      "https://www.naukri.com/job-listings-senior-data-scientist-reporting-coursera-kolkata-mumbai-new-delhi-hyderabad-secunderabad-pune-chennai-bangalore-bengaluru-6-to-7-years-220124502188\n",
      "https://www.naukri.com/job-listings-data-scientist-marketing-coursera-kolkata-mumbai-new-delhi-hyderabad-secunderabad-pune-chennai-bangalore-bengaluru-4-to-6-years-240124501248\n",
      "https://www.naukri.com/job-listings-data-scientist-ford-global-business-services-kolkata-mumbai-new-delhi-hyderabad-pune-chennai-bengaluru-3-to-6-years-291123502308\n",
      "None\n"
     ]
    }
   ],
   "source": [
    "for i in url[0:4]: #lets provide range to print only top 4 data\n",
    "    print(i.get_attribute('href'))"
   ]
  },
  {
   "cell_type": "code",
   "execution_count": 14,
   "id": "42e708c6",
   "metadata": {},
   "outputs": [],
   "source": [
    "job_titles=[]"
   ]
  },
  {
   "cell_type": "code",
   "execution_count": 15,
   "id": "177e6000",
   "metadata": {},
   "outputs": [],
   "source": [
    "start=0\n",
    "end=1\n",
    "for page in range(start,end):\n",
    "    titles=driver.find_elements(By.XPATH,'//div[@class=\"cust-job-tuple layout-wrapper lay-2 sjw__tuple \"]/div/a')\n",
    "    for i in titles:\n",
    "        job_titles.append(i.text)"
   ]
  },
  {
   "cell_type": "code",
   "execution_count": 16,
   "id": "7a0b2da5",
   "metadata": {},
   "outputs": [
    {
     "data": {
      "text/plain": [
       "10"
      ]
     },
     "execution_count": 16,
     "metadata": {},
     "output_type": "execute_result"
    }
   ],
   "source": [
    "len(job_title[:10])"
   ]
  },
  {
   "cell_type": "code",
   "execution_count": 17,
   "id": "466cee71",
   "metadata": {},
   "outputs": [
    {
     "data": {
      "text/plain": [
       "['Senior Data Scientist, Reporting',\n",
       " 'Data Scientist, Marketing',\n",
       " 'Data Scientist',\n",
       " 'AI Data Scientist',\n",
       " 'GenAI Data Scientist',\n",
       " 'Data Scientist II',\n",
       " 'NLP Data Scientist - Real World Data (RWD)',\n",
       " 'Data Analytics-Corporate HR',\n",
       " 'DS - NLP Expert',\n",
       " 'Generative AI Data Scientist']"
      ]
     },
     "execution_count": 17,
     "metadata": {},
     "output_type": "execute_result"
    }
   ],
   "source": [
    "job_titles[:10]"
   ]
  },
  {
   "cell_type": "code",
   "execution_count": null,
   "id": "53708284",
   "metadata": {},
   "outputs": [],
   "source": []
  },
  {
   "cell_type": "markdown",
   "id": "f9497a1e",
   "metadata": {},
   "source": [
    "# Question-3"
   ]
  },
  {
   "cell_type": "code",
   "execution_count": 18,
   "id": "46eeb863",
   "metadata": {},
   "outputs": [],
   "source": [
    "driver = webdriver.Chrome()"
   ]
  },
  {
   "cell_type": "code",
   "execution_count": 19,
   "id": "c828da04",
   "metadata": {},
   "outputs": [],
   "source": [
    "#opening the flipkart page on automated chrome browser\n",
    "driver.get(\"https://www.flipkart.com/\")"
   ]
  },
  {
   "cell_type": "code",
   "execution_count": 20,
   "id": "9864ced9",
   "metadata": {},
   "outputs": [],
   "source": [
    "# entering designationn and location as required in the question-\n",
    "designation = driver.find_element(By.XPATH, '//input[@type=\"text\"]')"
   ]
  },
  {
   "cell_type": "code",
   "execution_count": 21,
   "id": "e40799f7",
   "metadata": {},
   "outputs": [],
   "source": [
    "search_button = driver.find_element(By.XPATH,'//button[@type=\"submit\"]')"
   ]
  },
  {
   "cell_type": "code",
   "execution_count": 22,
   "id": "cf669fe1",
   "metadata": {},
   "outputs": [],
   "source": [
    "designation.send_keys('iphone11 phone')\n",
    "search_button.click()"
   ]
  },
  {
   "cell_type": "code",
   "execution_count": 23,
   "id": "7f4a3fe5",
   "metadata": {},
   "outputs": [],
   "source": [
    "ratings = []\n",
    "review_summary =[]"
   ]
  },
  {
   "cell_type": "code",
   "execution_count": 34,
   "id": "db552635",
   "metadata": {},
   "outputs": [],
   "source": [
    "# scraping rating from the given page\n",
    "rating_tags=driver.find_elements(By.XPATH,'/html/body/div/div/div[3]/div[1]/div[2]/div[2]/div/div/div/a/div[2]/div[1]/div[2]/span[1]/div')\n",
    "for i in rating_tags:\n",
    "    rating=i.text\n",
    "    ratings.append(rating)"
   ]
  },
  {
   "cell_type": "code",
   "execution_count": 35,
   "id": "cde7614a",
   "metadata": {},
   "outputs": [],
   "source": [
    "# scraping full_review from the given page\n",
    "full_review_tags = driver.find_elements(By.XPATH, '//p[@class=\"_2-N8zT\"]')\n"
   ]
  },
  {
   "cell_type": "code",
   "execution_count": 36,
   "id": "822ece75",
   "metadata": {},
   "outputs": [],
   "source": [
    "# Initialize an empty list to store reviews\n",
    "full_review = [] \n",
    "# Iterate over the found elements and extract the text\n",
    "for i in full_review_tags:\n",
    "    review = i.text\n",
    "    full_review.append(review)"
   ]
  },
  {
   "cell_type": "code",
   "execution_count": 37,
   "id": "a1696233",
   "metadata": {},
   "outputs": [
    {
     "name": "stdout",
     "output_type": "stream",
     "text": [
      "26 10\n"
     ]
    }
   ],
   "source": [
    "print(len(ratings[:100]),len(full_review[:100]))"
   ]
  },
  {
   "cell_type": "code",
   "execution_count": 38,
   "id": "98d971d9",
   "metadata": {},
   "outputs": [],
   "source": [
    "from time import sleep"
   ]
  },
  {
   "cell_type": "code",
   "execution_count": 39,
   "id": "8f76ec05",
   "metadata": {},
   "outputs": [
    {
     "name": "stdout",
     "output_type": "stream",
     "text": [
      "scraping page 1\n",
      "scraping page 2\n",
      "scraping page 3\n",
      "scraping page 4\n",
      "scraping page 5\n",
      "scraping page 6\n",
      "scraping page 7\n",
      "scraping page 8\n",
      "scraping page 9\n",
      "scraping page 10\n"
     ]
    }
   ],
   "source": [
    "products = []\n",
    "for i in range(10):\n",
    "    print('scraping page',i+1)\n",
    "    product = driver.find_elements(By.XPATH,'//div[@class=\"_4rR01T\"]')\n",
    "    products.extend(product)\n",
    "    next_button = driver.find_element(By.XPATH,'//a[@class=\"_1LKTO3\"]') \n",
    "    next_button.click()\n",
    "    sleep(3)"
   ]
  },
  {
   "cell_type": "code",
   "execution_count": 40,
   "id": "288ddc93",
   "metadata": {},
   "outputs": [
    {
     "data": {
      "text/plain": [
       "24"
      ]
     },
     "execution_count": 40,
     "metadata": {},
     "output_type": "execute_result"
    }
   ],
   "source": [
    "len(product)"
   ]
  },
  {
   "cell_type": "code",
   "execution_count": 41,
   "id": "3799e817",
   "metadata": {},
   "outputs": [
    {
     "data": {
      "text/html": [
       "<div>\n",
       "<style scoped>\n",
       "    .dataframe tbody tr th:only-of-type {\n",
       "        vertical-align: middle;\n",
       "    }\n",
       "\n",
       "    .dataframe tbody tr th {\n",
       "        vertical-align: top;\n",
       "    }\n",
       "\n",
       "    .dataframe thead th {\n",
       "        text-align: right;\n",
       "    }\n",
       "</style>\n",
       "<table border=\"1\" class=\"dataframe\">\n",
       "  <thead>\n",
       "    <tr style=\"text-align: right;\">\n",
       "      <th></th>\n",
       "      <th>ratings</th>\n",
       "      <th>full_review</th>\n",
       "    </tr>\n",
       "  </thead>\n",
       "  <tbody>\n",
       "    <tr>\n",
       "      <th>0</th>\n",
       "      <td>4.6</td>\n",
       "      <td>Highly recommended</td>\n",
       "    </tr>\n",
       "    <tr>\n",
       "      <th>1</th>\n",
       "      <td>4.6</td>\n",
       "      <td>Perfect product!</td>\n",
       "    </tr>\n",
       "    <tr>\n",
       "      <th>2</th>\n",
       "      <td>4.6</td>\n",
       "      <td>Must buy!</td>\n",
       "    </tr>\n",
       "    <tr>\n",
       "      <th>3</th>\n",
       "      <td>4.6</td>\n",
       "      <td>Awesome</td>\n",
       "    </tr>\n",
       "    <tr>\n",
       "      <th>4</th>\n",
       "      <td>4.6</td>\n",
       "      <td>Awesome</td>\n",
       "    </tr>\n",
       "    <tr>\n",
       "      <th>5</th>\n",
       "      <td>4.6</td>\n",
       "      <td>Worthless</td>\n",
       "    </tr>\n",
       "    <tr>\n",
       "      <th>6</th>\n",
       "      <td>4.6</td>\n",
       "      <td>Good phone but not for the power user</td>\n",
       "    </tr>\n",
       "    <tr>\n",
       "      <th>7</th>\n",
       "      <td>4.6</td>\n",
       "      <td>Brilliant</td>\n",
       "    </tr>\n",
       "    <tr>\n",
       "      <th>8</th>\n",
       "      <td>4.6</td>\n",
       "      <td>Wonderful</td>\n",
       "    </tr>\n",
       "    <tr>\n",
       "      <th>9</th>\n",
       "      <td>4.6</td>\n",
       "      <td>Great product</td>\n",
       "    </tr>\n",
       "  </tbody>\n",
       "</table>\n",
       "</div>"
      ],
      "text/plain": [
       "  ratings                            full_review\n",
       "0     4.6                     Highly recommended\n",
       "1     4.6                       Perfect product!\n",
       "2     4.6                              Must buy!\n",
       "3     4.6                                Awesome\n",
       "4     4.6                                Awesome\n",
       "5     4.6                              Worthless\n",
       "6     4.6  Good phone but not for the power user\n",
       "7     4.6                              Brilliant\n",
       "8     4.6                              Wonderful\n",
       "9     4.6                          Great product"
      ]
     },
     "execution_count": 41,
     "metadata": {},
     "output_type": "execute_result"
    }
   ],
   "source": [
    "import pandas as pd\n",
    "df=pd.DataFrame({'ratings':rating[:100],'full_review':full_review[:100]})\n",
    "df"
   ]
  },
  {
   "cell_type": "code",
   "execution_count": null,
   "id": "9051626d",
   "metadata": {},
   "outputs": [],
   "source": []
  },
  {
   "cell_type": "markdown",
   "id": "75161ca5",
   "metadata": {},
   "source": [
    "# Question-4"
   ]
  },
  {
   "cell_type": "code",
   "execution_count": 116,
   "id": "1f4e28a8",
   "metadata": {},
   "outputs": [
    {
     "name": "stdout",
     "output_type": "stream",
     "text": [
      "Requirement already satisfied: selenium in c:\\users\\sumit kaushik\\anaconda3\\lib\\site-packages (4.19.0)\n",
      "Requirement already satisfied: urllib3[socks]<3,>=1.26 in c:\\users\\sumit kaushik\\anaconda3\\lib\\site-packages (from selenium) (1.26.16)\n",
      "Requirement already satisfied: trio~=0.17 in c:\\users\\sumit kaushik\\anaconda3\\lib\\site-packages (from selenium) (0.25.0)\n",
      "Requirement already satisfied: trio-websocket~=0.9 in c:\\users\\sumit kaushik\\anaconda3\\lib\\site-packages (from selenium) (0.11.1)\n",
      "Requirement already satisfied: certifi>=2021.10.8 in c:\\users\\sumit kaushik\\anaconda3\\lib\\site-packages (from selenium) (2023.7.22)\n",
      "Requirement already satisfied: typing_extensions>=4.9.0 in c:\\users\\sumit kaushik\\anaconda3\\lib\\site-packages (from selenium) (4.10.0)\n",
      "Requirement already satisfied: attrs>=23.2.0 in c:\\users\\sumit kaushik\\anaconda3\\lib\\site-packages (from trio~=0.17->selenium) (23.2.0)\n",
      "Requirement already satisfied: sortedcontainers in c:\\users\\sumit kaushik\\anaconda3\\lib\\site-packages (from trio~=0.17->selenium) (2.4.0)\n",
      "Requirement already satisfied: idna in c:\\users\\sumit kaushik\\anaconda3\\lib\\site-packages (from trio~=0.17->selenium) (3.4)\n",
      "Requirement already satisfied: outcome in c:\\users\\sumit kaushik\\anaconda3\\lib\\site-packages (from trio~=0.17->selenium) (1.3.0.post0)\n",
      "Requirement already satisfied: sniffio>=1.3.0 in c:\\users\\sumit kaushik\\anaconda3\\lib\\site-packages (from trio~=0.17->selenium) (1.3.1)\n",
      "Requirement already satisfied: cffi>=1.14 in c:\\users\\sumit kaushik\\anaconda3\\lib\\site-packages (from trio~=0.17->selenium) (1.15.1)\n",
      "Requirement already satisfied: wsproto>=0.14 in c:\\users\\sumit kaushik\\anaconda3\\lib\\site-packages (from trio-websocket~=0.9->selenium) (1.2.0)\n",
      "Requirement already satisfied: PySocks!=1.5.7,<2.0,>=1.5.6 in c:\\users\\sumit kaushik\\anaconda3\\lib\\site-packages (from urllib3[socks]<3,>=1.26->selenium) (1.7.1)\n",
      "Requirement already satisfied: pycparser in c:\\users\\sumit kaushik\\anaconda3\\lib\\site-packages (from cffi>=1.14->trio~=0.17->selenium) (2.21)\n",
      "Requirement already satisfied: h11<1,>=0.9.0 in c:\\users\\sumit kaushik\\anaconda3\\lib\\site-packages (from wsproto>=0.14->trio-websocket~=0.9->selenium) (0.14.0)\n"
     ]
    }
   ],
   "source": [
    "!pip install selenium"
   ]
  },
  {
   "cell_type": "code",
   "execution_count": 117,
   "id": "810588bc",
   "metadata": {},
   "outputs": [],
   "source": [
    "import selenium\n",
    "import pandas as pd\n",
    "from selenium import webdriver\n",
    "import warnings\n",
    "warnings.filterwarnings('ignore')\n",
    "from selenium.webdriver.common.by import By"
   ]
  },
  {
   "cell_type": "code",
   "execution_count": 118,
   "id": "d40ff5cc",
   "metadata": {},
   "outputs": [],
   "source": [
    "# let's first connect to the web driver\n",
    "driver = webdriver.Chrome()"
   ]
  },
  {
   "cell_type": "code",
   "execution_count": 119,
   "id": "769bbca2",
   "metadata": {},
   "outputs": [],
   "source": [
    "#opening the flipkart page on automated chrome browser\n",
    "driver.get(\"https://www.flipkart.com/\")"
   ]
  },
  {
   "cell_type": "code",
   "execution_count": 120,
   "id": "bcf22061",
   "metadata": {},
   "outputs": [
    {
     "data": {
      "text/plain": [
       "<selenium.webdriver.remote.webelement.WebElement (session=\"502ef9e27c4de5c8b73b180e4ccc38aa\", element=\"f.E63176576E9B8A5B612972842E19F2CA.d.8D6F8298B92BB1F4EE6D9DC87C6AA239.e.102\")>"
      ]
     },
     "execution_count": 120,
     "metadata": {},
     "output_type": "execute_result"
    }
   ],
   "source": [
    "# finding element for job search bar\n",
    "search_g = driver.find_element(By.XPATH,'//input[@type=\"text\"]')\n",
    "search_g"
   ]
  },
  {
   "cell_type": "code",
   "execution_count": 121,
   "id": "faf29a14",
   "metadata": {},
   "outputs": [],
   "source": [
    "# write on search bar\n",
    "search_g.send_keys('sneakers')"
   ]
  },
  {
   "cell_type": "code",
   "execution_count": 122,
   "id": "a5a7040d",
   "metadata": {},
   "outputs": [
    {
     "data": {
      "text/plain": [
       "<selenium.webdriver.remote.webelement.WebElement (session=\"502ef9e27c4de5c8b73b180e4ccc38aa\", element=\"f.E63176576E9B8A5B612972842E19F2CA.d.8D6F8298B92BB1F4EE6D9DC87C6AA239.e.371\")>"
      ]
     },
     "execution_count": 122,
     "metadata": {},
     "output_type": "execute_result"
    }
   ],
   "source": [
    "search_btn=driver.find_element(By.XPATH,'//button[@type=\"submit\"]')\n",
    "search_btn"
   ]
  },
  {
   "cell_type": "code",
   "execution_count": 123,
   "id": "df1879df",
   "metadata": {},
   "outputs": [],
   "source": [
    "search_btn=driver.find_element(By.XPATH,'//button[@type=\"submit\"]')\n",
    "search_btn.click()"
   ]
  },
  {
   "cell_type": "code",
   "execution_count": 124,
   "id": "557f0f91",
   "metadata": {},
   "outputs": [],
   "source": [
    "B_name=[]\n",
    "Price=[]\n",
    "P_desc=[]"
   ]
  },
  {
   "cell_type": "code",
   "execution_count": 125,
   "id": "7e5668df",
   "metadata": {},
   "outputs": [],
   "source": [
    " for i in range(3):\n",
    "    b_name=driver.find_elements(By.XPATH,'//div[@class=\"_2WkVRV\"]')\n",
    "    p_desc=driver.find_elements(By.XPATH,'//a[@class=\"IRpwTa\"]')\n",
    "    price =driver.find_elements(By.XPATH,'//div[@class=\"_25b18c\"]')\n",
    "    \n",
    "    for j  in b_name:\n",
    "        B_name.append(j.text)\n",
    "    B_name[:100]    \n",
    "    \n",
    "    \n",
    "    \n",
    "    for k in p_desc:\n",
    "        P_desc.append(k.text)\n",
    "    P_desc[:100] \n",
    "    \n",
    "    \n",
    "    for l in price:\n",
    "        Price.append(l.text)\n",
    "    Price[:100] "
   ]
  },
  {
   "cell_type": "code",
   "execution_count": 126,
   "id": "51b7ac18",
   "metadata": {},
   "outputs": [
    {
     "name": "stdout",
     "output_type": "stream",
     "text": [
      "100\n",
      "100\n",
      "100\n"
     ]
    },
    {
     "data": {
      "text/plain": [
       "(None, None, None)"
      ]
     },
     "execution_count": 126,
     "metadata": {},
     "output_type": "execute_result"
    }
   ],
   "source": [
    "print(len(B_name[:100])),print(len(Price[:100])),print(len(P_desc[:100]))"
   ]
  },
  {
   "cell_type": "code",
   "execution_count": 127,
   "id": "9b2e5f57",
   "metadata": {},
   "outputs": [
    {
     "data": {
      "text/plain": [
       "['RapidBox',\n",
       " 'ATOM',\n",
       " 'Deals4you',\n",
       " 'URBANBOX',\n",
       " 'RED TAPE',\n",
       " 'Sparx',\n",
       " 'ATOM',\n",
       " 'ATOM',\n",
       " 'ATOM',\n",
       " 'ATOM',\n",
       " 'ATOM',\n",
       " 'ATOM',\n",
       " 'asian',\n",
       " 'KILLER',\n",
       " 'RED TAPE',\n",
       " 'RapidBox',\n",
       " 'ATOM',\n",
       " 'ATOM',\n",
       " 'Hida',\n",
       " 'RED TAPE',\n",
       " 'PUMA',\n",
       " 'ATOM',\n",
       " 'RED TAPE',\n",
       " 'RapidBox',\n",
       " 'RED TAPE',\n",
       " 'Layasa',\n",
       " 'New Balance',\n",
       " 'REEBOK',\n",
       " 'Abros',\n",
       " 'RapidBox',\n",
       " 'ADIDAS',\n",
       " 'PUMA',\n",
       " 'RED TAPE',\n",
       " 'U.S. POLO ASSN.',\n",
       " 'asian',\n",
       " 'Robbie jones',\n",
       " 'asian',\n",
       " 'New Balance',\n",
       " 'RED TAPE',\n",
       " 'RED TAPE',\n",
       " 'RapidBox',\n",
       " 'ATOM',\n",
       " 'Deals4you',\n",
       " 'URBANBOX',\n",
       " 'RED TAPE',\n",
       " 'Sparx',\n",
       " 'ATOM',\n",
       " 'ATOM',\n",
       " 'ATOM',\n",
       " 'ATOM',\n",
       " 'ATOM',\n",
       " 'ATOM',\n",
       " 'asian',\n",
       " 'KILLER',\n",
       " 'RED TAPE',\n",
       " 'RapidBox',\n",
       " 'ATOM',\n",
       " 'ATOM',\n",
       " 'Hida',\n",
       " 'RED TAPE',\n",
       " 'PUMA',\n",
       " 'ATOM',\n",
       " 'RED TAPE',\n",
       " 'RapidBox',\n",
       " 'RED TAPE',\n",
       " 'Layasa',\n",
       " 'New Balance',\n",
       " 'REEBOK',\n",
       " 'Abros',\n",
       " 'RapidBox',\n",
       " 'ADIDAS',\n",
       " 'PUMA',\n",
       " 'RED TAPE',\n",
       " 'U.S. POLO ASSN.',\n",
       " 'asian',\n",
       " 'Robbie jones',\n",
       " 'asian',\n",
       " 'New Balance',\n",
       " 'RED TAPE',\n",
       " 'RED TAPE',\n",
       " 'RapidBox',\n",
       " 'ATOM',\n",
       " 'Deals4you',\n",
       " 'URBANBOX',\n",
       " 'RED TAPE',\n",
       " 'Sparx',\n",
       " 'ATOM',\n",
       " 'ATOM',\n",
       " 'ATOM',\n",
       " 'ATOM',\n",
       " 'ATOM',\n",
       " 'ATOM',\n",
       " 'asian',\n",
       " 'KILLER',\n",
       " 'RED TAPE',\n",
       " 'RapidBox',\n",
       " 'ATOM',\n",
       " 'ATOM',\n",
       " 'Hida',\n",
       " 'RED TAPE']"
      ]
     },
     "execution_count": 127,
     "metadata": {},
     "output_type": "execute_result"
    }
   ],
   "source": [
    "B_name[:100]"
   ]
  },
  {
   "cell_type": "code",
   "execution_count": 128,
   "id": "09448841",
   "metadata": {},
   "outputs": [],
   "source": [
    "sneakers=pd.DataFrame({})\n",
    "sneakers['Brand_name']=B_name[:100]\n",
    "sneakers['P_price']=Price[:100]\n",
    "sneakers['Pr_desc']=P_desc[:100]"
   ]
  },
  {
   "cell_type": "code",
   "execution_count": 129,
   "id": "a8522d8c",
   "metadata": {},
   "outputs": [
    {
     "data": {
      "text/html": [
       "<div>\n",
       "<style scoped>\n",
       "    .dataframe tbody tr th:only-of-type {\n",
       "        vertical-align: middle;\n",
       "    }\n",
       "\n",
       "    .dataframe tbody tr th {\n",
       "        vertical-align: top;\n",
       "    }\n",
       "\n",
       "    .dataframe thead th {\n",
       "        text-align: right;\n",
       "    }\n",
       "</style>\n",
       "<table border=\"1\" class=\"dataframe\">\n",
       "  <thead>\n",
       "    <tr style=\"text-align: right;\">\n",
       "      <th></th>\n",
       "      <th>Brand_name</th>\n",
       "      <th>P_price</th>\n",
       "      <th>Pr_desc</th>\n",
       "    </tr>\n",
       "  </thead>\n",
       "  <tbody>\n",
       "    <tr>\n",
       "      <th>0</th>\n",
       "      <td>RapidBox</td>\n",
       "      <td>₹595₹99940% off</td>\n",
       "      <td>Sneakers For Men</td>\n",
       "    </tr>\n",
       "    <tr>\n",
       "      <th>1</th>\n",
       "      <td>ATOM</td>\n",
       "      <td>₹1,264₹3,29561% off</td>\n",
       "      <td>Good Vibes Sneakers For Men</td>\n",
       "    </tr>\n",
       "    <tr>\n",
       "      <th>2</th>\n",
       "      <td>Deals4you</td>\n",
       "      <td>₹379₹99962% off</td>\n",
       "      <td>Sneakers For Women</td>\n",
       "    </tr>\n",
       "    <tr>\n",
       "      <th>3</th>\n",
       "      <td>URBANBOX</td>\n",
       "      <td>₹299₹99970% off</td>\n",
       "      <td>Trending Stylish Casual Outdoor Shoes Sneakers...</td>\n",
       "    </tr>\n",
       "    <tr>\n",
       "      <th>4</th>\n",
       "      <td>RED TAPE</td>\n",
       "      <td>₹1,179₹5,89980% off</td>\n",
       "      <td>Casual Sneakers Shoes for Men | Soft Cushioned...</td>\n",
       "    </tr>\n",
       "    <tr>\n",
       "      <th>...</th>\n",
       "      <td>...</td>\n",
       "      <td>...</td>\n",
       "      <td>...</td>\n",
       "    </tr>\n",
       "    <tr>\n",
       "      <th>95</th>\n",
       "      <td>RapidBox</td>\n",
       "      <td>₹789₹94916% off</td>\n",
       "      <td>Casual Sneakers Shoes for Men | Soft Cushioned...</td>\n",
       "    </tr>\n",
       "    <tr>\n",
       "      <th>96</th>\n",
       "      <td>ATOM</td>\n",
       "      <td>₹1,367₹3,49560% off</td>\n",
       "      <td>Sneakers For Men</td>\n",
       "    </tr>\n",
       "    <tr>\n",
       "      <th>97</th>\n",
       "      <td>ATOM</td>\n",
       "      <td>₹1,094₹3,29566% off</td>\n",
       "      <td>Casual Sneaker Shoes for Women | Soft Cushione...</td>\n",
       "    </tr>\n",
       "    <tr>\n",
       "      <th>98</th>\n",
       "      <td>Hida</td>\n",
       "      <td>₹1,367₹3,49560% off</td>\n",
       "      <td>Sneakers For Men</td>\n",
       "    </tr>\n",
       "    <tr>\n",
       "      <th>99</th>\n",
       "      <td>RED TAPE</td>\n",
       "      <td>₹1,094₹3,29566% off</td>\n",
       "      <td>327 Sneakers For Women</td>\n",
       "    </tr>\n",
       "  </tbody>\n",
       "</table>\n",
       "<p>100 rows × 3 columns</p>\n",
       "</div>"
      ],
      "text/plain": [
       "   Brand_name              P_price  \\\n",
       "0    RapidBox      ₹595₹99940% off   \n",
       "1        ATOM  ₹1,264₹3,29561% off   \n",
       "2   Deals4you      ₹379₹99962% off   \n",
       "3    URBANBOX      ₹299₹99970% off   \n",
       "4    RED TAPE  ₹1,179₹5,89980% off   \n",
       "..        ...                  ...   \n",
       "95   RapidBox      ₹789₹94916% off   \n",
       "96       ATOM  ₹1,367₹3,49560% off   \n",
       "97       ATOM  ₹1,094₹3,29566% off   \n",
       "98       Hida  ₹1,367₹3,49560% off   \n",
       "99   RED TAPE  ₹1,094₹3,29566% off   \n",
       "\n",
       "                                              Pr_desc  \n",
       "0                                    Sneakers For Men  \n",
       "1                         Good Vibes Sneakers For Men  \n",
       "2                                  Sneakers For Women  \n",
       "3   Trending Stylish Casual Outdoor Shoes Sneakers...  \n",
       "4   Casual Sneakers Shoes for Men | Soft Cushioned...  \n",
       "..                                                ...  \n",
       "95  Casual Sneakers Shoes for Men | Soft Cushioned...  \n",
       "96                                   Sneakers For Men  \n",
       "97  Casual Sneaker Shoes for Women | Soft Cushione...  \n",
       "98                                   Sneakers For Men  \n",
       "99                             327 Sneakers For Women  \n",
       "\n",
       "[100 rows x 3 columns]"
      ]
     },
     "execution_count": 129,
     "metadata": {},
     "output_type": "execute_result"
    }
   ],
   "source": [
    "sneakers"
   ]
  },
  {
   "cell_type": "code",
   "execution_count": null,
   "id": "6a041e6f",
   "metadata": {},
   "outputs": [],
   "source": []
  },
  {
   "cell_type": "markdown",
   "id": "4ea45a62",
   "metadata": {},
   "source": [
    "# Qestion-2\n"
   ]
  },
  {
   "cell_type": "code",
   "execution_count": 6,
   "id": "ad9cc193",
   "metadata": {},
   "outputs": [
    {
     "name": "stdout",
     "output_type": "stream",
     "text": [
      "Requirement already satisfied: selenium in c:\\users\\sumit kaushik\\anaconda3\\lib\\site-packages (4.19.0)\n",
      "Requirement already satisfied: urllib3[socks]<3,>=1.26 in c:\\users\\sumit kaushik\\anaconda3\\lib\\site-packages (from selenium) (1.26.16)\n",
      "Requirement already satisfied: trio~=0.17 in c:\\users\\sumit kaushik\\anaconda3\\lib\\site-packages (from selenium) (0.25.0)\n",
      "Requirement already satisfied: trio-websocket~=0.9 in c:\\users\\sumit kaushik\\anaconda3\\lib\\site-packages (from selenium) (0.11.1)\n",
      "Requirement already satisfied: certifi>=2021.10.8 in c:\\users\\sumit kaushik\\anaconda3\\lib\\site-packages (from selenium) (2023.7.22)\n",
      "Requirement already satisfied: typing_extensions>=4.9.0 in c:\\users\\sumit kaushik\\anaconda3\\lib\\site-packages (from selenium) (4.10.0)\n",
      "Requirement already satisfied: attrs>=23.2.0 in c:\\users\\sumit kaushik\\anaconda3\\lib\\site-packages (from trio~=0.17->selenium) (23.2.0)\n",
      "Requirement already satisfied: sortedcontainers in c:\\users\\sumit kaushik\\anaconda3\\lib\\site-packages (from trio~=0.17->selenium) (2.4.0)\n",
      "Requirement already satisfied: idna in c:\\users\\sumit kaushik\\anaconda3\\lib\\site-packages (from trio~=0.17->selenium) (3.4)\n",
      "Requirement already satisfied: outcome in c:\\users\\sumit kaushik\\anaconda3\\lib\\site-packages (from trio~=0.17->selenium) (1.3.0.post0)\n",
      "Requirement already satisfied: sniffio>=1.3.0 in c:\\users\\sumit kaushik\\anaconda3\\lib\\site-packages (from trio~=0.17->selenium) (1.3.1)\n",
      "Requirement already satisfied: cffi>=1.14 in c:\\users\\sumit kaushik\\anaconda3\\lib\\site-packages (from trio~=0.17->selenium) (1.15.1)\n",
      "Requirement already satisfied: wsproto>=0.14 in c:\\users\\sumit kaushik\\anaconda3\\lib\\site-packages (from trio-websocket~=0.9->selenium) (1.2.0)\n",
      "Requirement already satisfied: PySocks!=1.5.7,<2.0,>=1.5.6 in c:\\users\\sumit kaushik\\anaconda3\\lib\\site-packages (from urllib3[socks]<3,>=1.26->selenium) (1.7.1)\n",
      "Requirement already satisfied: pycparser in c:\\users\\sumit kaushik\\anaconda3\\lib\\site-packages (from cffi>=1.14->trio~=0.17->selenium) (2.21)\n",
      "Requirement already satisfied: h11<1,>=0.9.0 in c:\\users\\sumit kaushik\\anaconda3\\lib\\site-packages (from wsproto>=0.14->trio-websocket~=0.9->selenium) (0.14.0)\n"
     ]
    }
   ],
   "source": [
    "!pip install selenium"
   ]
  },
  {
   "cell_type": "code",
   "execution_count": 7,
   "id": "eaff440a",
   "metadata": {},
   "outputs": [],
   "source": [
    "# Let's now import all the required libraries.\n",
    "import selenium\n",
    "import pandas as pd\n",
    "from selenium import webdriver\n",
    "import warnings\n",
    "warnings.filterwarnings('ignore')\n",
    "from selenium.webdriver.common.by import By"
   ]
  },
  {
   "cell_type": "code",
   "execution_count": 8,
   "id": "039a9414",
   "metadata": {},
   "outputs": [],
   "source": [
    "# let's first connect to the web driver\n",
    "driver = webdriver.Chrome()"
   ]
  },
  {
   "cell_type": "code",
   "execution_count": 9,
   "id": "64265891",
   "metadata": {},
   "outputs": [],
   "source": [
    "#opening the flipkart page on automated chrome browser\n",
    "driver.get(\"https://www.shine.com/\")"
   ]
  },
  {
   "cell_type": "code",
   "execution_count": 14,
   "id": "c2ae6b7f",
   "metadata": {},
   "outputs": [
    {
     "data": {
      "text/plain": [
       "<selenium.webdriver.remote.webelement.WebElement (session=\"84ff9c835c581ad6e4975263402af416\", element=\"f.E26F4DB24DBB4F1670A703E022F14038.d.479D51973854BB36638F7E11B19FFE7B.e.16097\")>"
      ]
     },
     "execution_count": 14,
     "metadata": {},
     "output_type": "execute_result"
    }
   ],
   "source": [
    "# entering designationn and location as required in the question-\n",
    "\n",
    "search_job=driver.find_element(By.XPATH,'//input[@type=\"text\"]')\n",
    "search_job"
   ]
  },
  {
   "cell_type": "code",
   "execution_count": 15,
   "id": "9025a230",
   "metadata": {},
   "outputs": [],
   "source": [
    "# write on search bar\n",
    "search_job.send_keys('Data Analyst')"
   ]
  },
  {
   "cell_type": "code",
   "execution_count": 29,
   "id": "53ecf65a",
   "metadata": {},
   "outputs": [],
   "source": [
    "# finding element for job search bar\n",
    "search_loc = driver.find_element(By.XPATH,'//input[@id=\"id_loc\"]')\n",
    "search_loc.send_keys(\"Bangalore\")"
   ]
  },
  {
   "cell_type": "code",
   "execution_count": 30,
   "id": "6cbda1ad",
   "metadata": {},
   "outputs": [
    {
     "data": {
      "text/plain": [
       "<selenium.webdriver.remote.webelement.WebElement (session=\"84ff9c835c581ad6e4975263402af416\", element=\"f.E26F4DB24DBB4F1670A703E022F14038.d.479D51973854BB36638F7E11B19FFE7B.e.16568\")>"
      ]
     },
     "execution_count": 30,
     "metadata": {},
     "output_type": "execute_result"
    }
   ],
   "source": [
    "search_btn= driver .find_element(By.XPATH,'//button[@type=\"submit\"]')\n",
    "search_btn"
   ]
  },
  {
   "cell_type": "code",
   "execution_count": 31,
   "id": "07b40f35",
   "metadata": {},
   "outputs": [],
   "source": [
    "# clicking  using xpath function\n",
    "search_btn=driver.find_element(By.XPATH,'//button[@type=\"submit\"]')\n",
    "search_btn.click()"
   ]
  },
  {
   "cell_type": "code",
   "execution_count": 32,
   "id": "0f24878b",
   "metadata": {},
   "outputs": [
    {
     "data": {
      "text/plain": [
       "[<selenium.webdriver.remote.webelement.WebElement (session=\"84ff9c835c581ad6e4975263402af416\", element=\"f.E26F4DB24DBB4F1670A703E022F14038.d.4269EFECA6ACA8D404870E128F4CEAC9.e.18724\")>,\n",
       " <selenium.webdriver.remote.webelement.WebElement (session=\"84ff9c835c581ad6e4975263402af416\", element=\"f.E26F4DB24DBB4F1670A703E022F14038.d.4269EFECA6ACA8D404870E128F4CEAC9.e.18763\")>,\n",
       " <selenium.webdriver.remote.webelement.WebElement (session=\"84ff9c835c581ad6e4975263402af416\", element=\"f.E26F4DB24DBB4F1670A703E022F14038.d.4269EFECA6ACA8D404870E128F4CEAC9.e.18806\")>,\n",
       " <selenium.webdriver.remote.webelement.WebElement (session=\"84ff9c835c581ad6e4975263402af416\", element=\"f.E26F4DB24DBB4F1670A703E022F14038.d.4269EFECA6ACA8D404870E128F4CEAC9.e.18843\")>,\n",
       " <selenium.webdriver.remote.webelement.WebElement (session=\"84ff9c835c581ad6e4975263402af416\", element=\"f.E26F4DB24DBB4F1670A703E022F14038.d.4269EFECA6ACA8D404870E128F4CEAC9.e.18890\")>,\n",
       " <selenium.webdriver.remote.webelement.WebElement (session=\"84ff9c835c581ad6e4975263402af416\", element=\"f.E26F4DB24DBB4F1670A703E022F14038.d.4269EFECA6ACA8D404870E128F4CEAC9.e.18929\")>,\n",
       " <selenium.webdriver.remote.webelement.WebElement (session=\"84ff9c835c581ad6e4975263402af416\", element=\"f.E26F4DB24DBB4F1670A703E022F14038.d.4269EFECA6ACA8D404870E128F4CEAC9.e.18994\")>,\n",
       " <selenium.webdriver.remote.webelement.WebElement (session=\"84ff9c835c581ad6e4975263402af416\", element=\"f.E26F4DB24DBB4F1670A703E022F14038.d.4269EFECA6ACA8D404870E128F4CEAC9.e.19030\")>,\n",
       " <selenium.webdriver.remote.webelement.WebElement (session=\"84ff9c835c581ad6e4975263402af416\", element=\"f.E26F4DB24DBB4F1670A703E022F14038.d.4269EFECA6ACA8D404870E128F4CEAC9.e.19070\")>,\n",
       " <selenium.webdriver.remote.webelement.WebElement (session=\"84ff9c835c581ad6e4975263402af416\", element=\"f.E26F4DB24DBB4F1670A703E022F14038.d.4269EFECA6ACA8D404870E128F4CEAC9.e.19109\")>,\n",
       " <selenium.webdriver.remote.webelement.WebElement (session=\"84ff9c835c581ad6e4975263402af416\", element=\"f.E26F4DB24DBB4F1670A703E022F14038.d.4269EFECA6ACA8D404870E128F4CEAC9.e.19149\")>,\n",
       " <selenium.webdriver.remote.webelement.WebElement (session=\"84ff9c835c581ad6e4975263402af416\", element=\"f.E26F4DB24DBB4F1670A703E022F14038.d.4269EFECA6ACA8D404870E128F4CEAC9.e.19186\")>,\n",
       " <selenium.webdriver.remote.webelement.WebElement (session=\"84ff9c835c581ad6e4975263402af416\", element=\"f.E26F4DB24DBB4F1670A703E022F14038.d.4269EFECA6ACA8D404870E128F4CEAC9.e.19225\")>,\n",
       " <selenium.webdriver.remote.webelement.WebElement (session=\"84ff9c835c581ad6e4975263402af416\", element=\"f.E26F4DB24DBB4F1670A703E022F14038.d.4269EFECA6ACA8D404870E128F4CEAC9.e.19265\")>,\n",
       " <selenium.webdriver.remote.webelement.WebElement (session=\"84ff9c835c581ad6e4975263402af416\", element=\"f.E26F4DB24DBB4F1670A703E022F14038.d.4269EFECA6ACA8D404870E128F4CEAC9.e.19304\")>,\n",
       " <selenium.webdriver.remote.webelement.WebElement (session=\"84ff9c835c581ad6e4975263402af416\", element=\"f.E26F4DB24DBB4F1670A703E022F14038.d.4269EFECA6ACA8D404870E128F4CEAC9.e.19343\")>,\n",
       " <selenium.webdriver.remote.webelement.WebElement (session=\"84ff9c835c581ad6e4975263402af416\", element=\"f.E26F4DB24DBB4F1670A703E022F14038.d.4269EFECA6ACA8D404870E128F4CEAC9.e.19388\")>,\n",
       " <selenium.webdriver.remote.webelement.WebElement (session=\"84ff9c835c581ad6e4975263402af416\", element=\"f.E26F4DB24DBB4F1670A703E022F14038.d.4269EFECA6ACA8D404870E128F4CEAC9.e.19427\")>,\n",
       " <selenium.webdriver.remote.webelement.WebElement (session=\"84ff9c835c581ad6e4975263402af416\", element=\"f.E26F4DB24DBB4F1670A703E022F14038.d.4269EFECA6ACA8D404870E128F4CEAC9.e.19466\")>,\n",
       " <selenium.webdriver.remote.webelement.WebElement (session=\"84ff9c835c581ad6e4975263402af416\", element=\"f.E26F4DB24DBB4F1670A703E022F14038.d.4269EFECA6ACA8D404870E128F4CEAC9.e.19506\")>]"
      ]
     },
     "execution_count": 32,
     "metadata": {},
     "output_type": "execute_result"
    }
   ],
   "source": [
    "#so let's extract all the tags having the job titles\n",
    "title_tags=driver.find_elements(By.XPATH,'//strong[@class=\"jobCard_pReplaceH2__xWmHg\"]')\n",
    "title_tags"
   ]
  },
  {
   "cell_type": "code",
   "execution_count": 33,
   "id": "6b0b3e03",
   "metadata": {},
   "outputs": [],
   "source": [
    "job_title=[]\n",
    "job_location=[]\n",
    "company_name=[]\n",
    "experience_required=[]\n"
   ]
  },
  {
   "cell_type": "code",
   "execution_count": 36,
   "id": "c0c2ed4a",
   "metadata": {},
   "outputs": [
    {
     "data": {
      "text/plain": [
       "['0 to 4 Yrs',\n",
       " '0 to 4 Yrs',\n",
       " '3 to 8 Yrs',\n",
       " '9 to 14 Yrs',\n",
       " '0 to 1 Yr',\n",
       " '12 to 22 Yrs',\n",
       " '5 to 8 Yrs',\n",
       " '12 to 22 Yrs',\n",
       " '0 to 1 Yr',\n",
       " '0 to 4 Yrs']"
      ]
     },
     "execution_count": 36,
     "metadata": {},
     "output_type": "execute_result"
    }
   ],
   "source": [
    "# scraping job title from the given page\n",
    "title_tags=driver.find_elements(By.XPATH,'//strong[@class=\"jobCard_pReplaceH2__xWmHg\"]')\n",
    "for i in title_tags:\n",
    "    title=i.text\n",
    "    job_title.append(title)\n",
    "job_title[:10]\n",
    "\n",
    "# scraping job location from the given page \n",
    "location_tags=driver.find_elements(By.XPATH,'//div[@class=\" jobCard_jobCard_lists_item__YxRkV jobCard_locationIcon__zrWt2\"]')\n",
    "for i in location_tags:\n",
    "    location=i.text\n",
    "    job_location.append(location)    \n",
    "job_location[:10]\n",
    "\n",
    "# scraping company name from the given page \n",
    "company_tags=driver.find_elements(By.XPATH,'//div[@class=\"jobCard_jobCard_cName__mYnow\"]')\n",
    "for i in company_tags: \n",
    "    company=i.text\n",
    "    company_name.append(company) \n",
    "company_name[:10]\n",
    "\n",
    "# scraping job experience from the given page \n",
    "experience_tags=driver.find_elements(By.XPATH,'//div[@class=\" jobCard_jobCard_lists_item__YxRkV jobCard_jobIcon__3FB1t\"]')\n",
    "for i in experience_tags:\n",
    "    exp=i.text\n",
    "    experience_required.append(exp)     \n",
    "experience_required[:10]    "
   ]
  },
  {
   "cell_type": "code",
   "execution_count": 37,
   "id": "c9cbee02",
   "metadata": {},
   "outputs": [
    {
     "name": "stdout",
     "output_type": "stream",
     "text": [
      "10 10 10 10\n"
     ]
    }
   ],
   "source": [
    "print(len(job_title[:10]),len(job_location[:10]),len(company_name[:10]),len(experience_required[:10]))"
   ]
  },
  {
   "cell_type": "code",
   "execution_count": 38,
   "id": "204cd1a5",
   "metadata": {},
   "outputs": [
    {
     "data": {
      "text/html": [
       "<div>\n",
       "<style scoped>\n",
       "    .dataframe tbody tr th:only-of-type {\n",
       "        vertical-align: middle;\n",
       "    }\n",
       "\n",
       "    .dataframe tbody tr th {\n",
       "        vertical-align: top;\n",
       "    }\n",
       "\n",
       "    .dataframe thead th {\n",
       "        text-align: right;\n",
       "    }\n",
       "</style>\n",
       "<table border=\"1\" class=\"dataframe\">\n",
       "  <thead>\n",
       "    <tr style=\"text-align: right;\">\n",
       "      <th></th>\n",
       "      <th>Title</th>\n",
       "      <th>Location</th>\n",
       "      <th>Company_name</th>\n",
       "      <th>Experience</th>\n",
       "    </tr>\n",
       "  </thead>\n",
       "  <tbody>\n",
       "    <tr>\n",
       "      <th>0</th>\n",
       "      <td>Data Analyst Recruitment</td>\n",
       "      <td>Bangalore\\n+12</td>\n",
       "      <td>radhika enterprises</td>\n",
       "      <td>0 to 4 Yrs</td>\n",
       "    </tr>\n",
       "    <tr>\n",
       "      <th>1</th>\n",
       "      <td>Data Analyst Recruitment</td>\n",
       "      <td>Bangalore\\n+12</td>\n",
       "      <td>radhika enterprises</td>\n",
       "      <td>0 to 4 Yrs</td>\n",
       "    </tr>\n",
       "    <tr>\n",
       "      <th>2</th>\n",
       "      <td>Data Analyst (Power BI, Python, SQL)- Internal...</td>\n",
       "      <td>Bangalore</td>\n",
       "      <td>talent leads hr solutions pvt ltd</td>\n",
       "      <td>3 to 8 Yrs</td>\n",
       "    </tr>\n",
       "    <tr>\n",
       "      <th>3</th>\n",
       "      <td>Data Analyst</td>\n",
       "      <td>Bangalore\\n+12</td>\n",
       "      <td>millennium babycares private limite...</td>\n",
       "      <td>9 to 14 Yrs</td>\n",
       "    </tr>\n",
       "    <tr>\n",
       "      <th>4</th>\n",
       "      <td>Clinical Data Analyst</td>\n",
       "      <td>Bangalore\\n+6</td>\n",
       "      <td>techno endura</td>\n",
       "      <td>0 to 1 Yr</td>\n",
       "    </tr>\n",
       "    <tr>\n",
       "      <th>5</th>\n",
       "      <td>Data Analyst</td>\n",
       "      <td>Bangalore\\n+9</td>\n",
       "      <td>sahast sales corporation</td>\n",
       "      <td>12 to 22 Yrs</td>\n",
       "    </tr>\n",
       "    <tr>\n",
       "      <th>6</th>\n",
       "      <td>Data Governance Analyst</td>\n",
       "      <td>Bangalore</td>\n",
       "      <td>white horse manpower consultancy (p...</td>\n",
       "      <td>5 to 8 Yrs</td>\n",
       "    </tr>\n",
       "    <tr>\n",
       "      <th>7</th>\n",
       "      <td>Data Analyst</td>\n",
       "      <td>Bangalore\\n+9</td>\n",
       "      <td>sahast sales corporation</td>\n",
       "      <td>12 to 22 Yrs</td>\n",
       "    </tr>\n",
       "    <tr>\n",
       "      <th>8</th>\n",
       "      <td>Data Engineer Ii</td>\n",
       "      <td>Bangalore\\n+9</td>\n",
       "      <td>v-tech data outsourcing</td>\n",
       "      <td>0 to 1 Yr</td>\n",
       "    </tr>\n",
       "    <tr>\n",
       "      <th>9</th>\n",
       "      <td>Hiring For Data Analyst</td>\n",
       "      <td>Bangalore\\n+12</td>\n",
       "      <td>radhika enterprises</td>\n",
       "      <td>0 to 4 Yrs</td>\n",
       "    </tr>\n",
       "  </tbody>\n",
       "</table>\n",
       "</div>"
      ],
      "text/plain": [
       "                                               Title        Location  \\\n",
       "0                           Data Analyst Recruitment  Bangalore\\n+12   \n",
       "1                           Data Analyst Recruitment  Bangalore\\n+12   \n",
       "2  Data Analyst (Power BI, Python, SQL)- Internal...       Bangalore   \n",
       "3                                       Data Analyst  Bangalore\\n+12   \n",
       "4                              Clinical Data Analyst   Bangalore\\n+6   \n",
       "5                                       Data Analyst   Bangalore\\n+9   \n",
       "6                            Data Governance Analyst       Bangalore   \n",
       "7                                       Data Analyst   Bangalore\\n+9   \n",
       "8                                   Data Engineer Ii   Bangalore\\n+9   \n",
       "9                            Hiring For Data Analyst  Bangalore\\n+12   \n",
       "\n",
       "                             Company_name    Experience  \n",
       "0                     radhika enterprises    0 to 4 Yrs  \n",
       "1                     radhika enterprises    0 to 4 Yrs  \n",
       "2       talent leads hr solutions pvt ltd    3 to 8 Yrs  \n",
       "3  millennium babycares private limite...   9 to 14 Yrs  \n",
       "4                           techno endura     0 to 1 Yr  \n",
       "5                sahast sales corporation  12 to 22 Yrs  \n",
       "6  white horse manpower consultancy (p...    5 to 8 Yrs  \n",
       "7                sahast sales corporation  12 to 22 Yrs  \n",
       "8                 v-tech data outsourcing     0 to 1 Yr  \n",
       "9                     radhika enterprises    0 to 4 Yrs  "
      ]
     },
     "execution_count": 38,
     "metadata": {},
     "output_type": "execute_result"
    }
   ],
   "source": [
    "import pandas as pd\n",
    "df=pd.DataFrame({'Title':job_title[:10],'Location':job_location[:10],'Company_name':company_name[:10],'Experience':experience_required[:10]})\n",
    "df"
   ]
  },
  {
   "cell_type": "code",
   "execution_count": null,
   "id": "d477c746",
   "metadata": {},
   "outputs": [],
   "source": []
  },
  {
   "cell_type": "code",
   "execution_count": null,
   "id": "f2a7296c",
   "metadata": {},
   "outputs": [],
   "source": []
  },
  {
   "cell_type": "code",
   "execution_count": null,
   "id": "66e5af61",
   "metadata": {},
   "outputs": [],
   "source": []
  }
 ],
 "metadata": {
  "kernelspec": {
   "display_name": "Python 3 (ipykernel)",
   "language": "python",
   "name": "python3"
  },
  "language_info": {
   "codemirror_mode": {
    "name": "ipython",
    "version": 3
   },
   "file_extension": ".py",
   "mimetype": "text/x-python",
   "name": "python",
   "nbconvert_exporter": "python",
   "pygments_lexer": "ipython3",
   "version": "3.11.5"
  }
 },
 "nbformat": 4,
 "nbformat_minor": 5
}
