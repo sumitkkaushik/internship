{
 "cells": [
  {
   "cell_type": "code",
   "execution_count": 1,
   "id": "cf88b920",
   "metadata": {},
   "outputs": [],
   "source": [
    "import pandas as pd \n",
    "import re\n"
   ]
  },
  {
   "cell_type": "markdown",
   "id": "00230892",
   "metadata": {},
   "source": [
    "Q1."
   ]
  },
  {
   "cell_type": "code",
   "execution_count": 2,
   "id": "3e20d1c8",
   "metadata": {},
   "outputs": [
    {
     "name": "stdout",
     "output_type": "stream",
     "text": [
      "Python:Exercises::PHP:exercises:\n"
     ]
    }
   ],
   "source": [
    "def replace_characters(text):\n",
    "    # Replace space, comma, and dot with colon\n",
    "    replaced_text = text.replace(' ', ':').replace(',', ':').replace('.', ':')\n",
    "    return replaced_text\n",
    "\n",
    "# Sample text\n",
    "sample_text = 'Python Exercises, PHP exercises.'\n",
    "\n",
    "# Call the function and print the result\n",
    "print(replace_characters(sample_text))\n"
   ]
  },
  {
   "cell_type": "markdown",
   "id": "67676fb2",
   "metadata": {},
   "source": [
    "Q2."
   ]
  },
  {
   "cell_type": "code",
   "execution_count": 4,
   "id": "f6cdc258",
   "metadata": {},
   "outputs": [
    {
     "name": "stdout",
     "output_type": "stream",
     "text": [
      "            SUMMARY\n",
      "0       hello world\n",
      "1        XXXXX test\n",
      "2  123four five six\n"
     ]
    }
   ],
   "source": [
    "\n",
    "\n",
    "# Dictionary\n",
    "data = {'SUMMARY': ['hello, world!', 'XXXXX test', '123four, five:; six...']}\n",
    "\n",
    "# Create dataframe\n",
    "df = pd.DataFrame(data)\n",
    "\n",
    "# Define function to remove everything except words\n",
    "def remove_non_words(text):\n",
    "    return re.sub(r'[^\\w\\s]', '', text)\n",
    "\n",
    "# Apply the function to each element in the dataframe\n",
    "df['SUMMARY'] = df['SUMMARY'].apply(remove_non_words)\n",
    "\n",
    "# Print the dataframe\n",
    "print(df)\n"
   ]
  },
  {
   "cell_type": "markdown",
   "id": "ae23413d",
   "metadata": {},
   "source": [
    "Q3."
   ]
  },
  {
   "cell_type": "code",
   "execution_count": 9,
   "id": "80564c69",
   "metadata": {},
   "outputs": [],
   "source": [
    "def find_long_words(text):\n",
    "    # Compile a regular expression pattern to find words of at least 4 characters\n",
    "    pattern = re.compile(r'\\b\\w{4,}\\b')\n",
    "    # Use findall() to extract all words of at least 4 characters\n",
    "    long_words = pattern.findall(text)\n",
    "    return long_words\n",
    "\n",
    "\n"
   ]
  },
  {
   "cell_type": "markdown",
   "id": "11a19d8d",
   "metadata": {},
   "source": [
    "Q4."
   ]
  },
  {
   "cell_type": "code",
   "execution_count": 10,
   "id": "7d0eeba6",
   "metadata": {},
   "outputs": [],
   "source": [
    "import re\n",
    "\n",
    "def find_words(text):\n",
    "    # Compile a regular expression pattern to find words of three, four, and five characters\n",
    "    pattern = re.compile(r'\\b\\w{3,5}\\b')\n",
    "    # Use findall() to extract all words of three, four, and five characters\n",
    "    words = pattern.findall(text)\n",
    "    return words\n",
    "\n",
    "\n"
   ]
  },
  {
   "cell_type": "markdown",
   "id": "d019fdae",
   "metadata": {},
   "source": [
    "Q5.\n"
   ]
  },
  {
   "cell_type": "code",
   "execution_count": 11,
   "id": "89e256b0",
   "metadata": {},
   "outputs": [
    {
     "name": "stdout",
     "output_type": "stream",
     "text": [
      "example \n",
      "hr@fliprobo \n",
      "github \n",
      "Hello \n",
      "Data \n"
     ]
    }
   ],
   "source": [
    "def remove_parenthesis(strings):\n",
    "    # Compile a regular expression pattern to remove parenthesis\n",
    "    pattern = re.compile(r'\\((.*?)\\)')\n",
    "    # Use sub() to replace the matches with an empty string\n",
    "    cleaned_strings = [pattern.sub('', s) for s in strings]\n",
    "    return cleaned_strings\n",
    "\n",
    "# Sample Text\n",
    "sample_text = [\"example (.com)\", \"hr@fliprobo (.com)\", \"github (.com)\", \"Hello (Data Science World)\", \"Data (Scientist)\"]\n",
    "\n",
    "# Call the function and print the result\n",
    "output = remove_parenthesis(sample_text)\n",
    "for item in output:\n",
    "    print(item)\n"
   ]
  },
  {
   "cell_type": "markdown",
   "id": "cf20d521",
   "metadata": {},
   "source": [
    "Q6."
   ]
  },
  {
   "cell_type": "code",
   "execution_count": 13,
   "id": "bc75bb25",
   "metadata": {},
   "outputs": [
    {
     "ename": "FileNotFoundError",
     "evalue": "[Errno 2] No such file or directory: 'sample_text.txt'",
     "output_type": "error",
     "traceback": [
      "\u001b[1;31m---------------------------------------------------------------------------\u001b[0m",
      "\u001b[1;31mFileNotFoundError\u001b[0m                         Traceback (most recent call last)",
      "Cell \u001b[1;32mIn[13], line 21\u001b[0m\n\u001b[0;32m     18\u001b[0m output_file_path \u001b[38;5;241m=\u001b[39m \u001b[38;5;124m'\u001b[39m\u001b[38;5;124mcleaned_text.txt\u001b[39m\u001b[38;5;124m'\u001b[39m\n\u001b[0;32m     20\u001b[0m \u001b[38;5;66;03m# Call the function to remove parenthesis and write cleaned text to the output file\u001b[39;00m\n\u001b[1;32m---> 21\u001b[0m remove_parenthesis_from_file(input_file_path, output_file_path)\n",
      "Cell \u001b[1;32mIn[13], line 3\u001b[0m, in \u001b[0;36mremove_parenthesis_from_file\u001b[1;34m(input_file, output_file)\u001b[0m\n\u001b[0;32m      1\u001b[0m \u001b[38;5;28;01mdef\u001b[39;00m \u001b[38;5;21mremove_parenthesis_from_file\u001b[39m(input_file, output_file):\n\u001b[0;32m      2\u001b[0m     \u001b[38;5;66;03m# Read text from input file\u001b[39;00m\n\u001b[1;32m----> 3\u001b[0m     \u001b[38;5;28;01mwith\u001b[39;00m \u001b[38;5;28mopen\u001b[39m(input_file, \u001b[38;5;124m'\u001b[39m\u001b[38;5;124mr\u001b[39m\u001b[38;5;124m'\u001b[39m) \u001b[38;5;28;01mas\u001b[39;00m file:\n\u001b[0;32m      4\u001b[0m         text \u001b[38;5;241m=\u001b[39m file\u001b[38;5;241m.\u001b[39mread()\n\u001b[0;32m      6\u001b[0m     \u001b[38;5;66;03m# Compile a regular expression pattern to remove parenthesis and their contents\u001b[39;00m\n",
      "File \u001b[1;32m~\\anaconda3\\Lib\\site-packages\\IPython\\core\\interactiveshell.py:286\u001b[0m, in \u001b[0;36m_modified_open\u001b[1;34m(file, *args, **kwargs)\u001b[0m\n\u001b[0;32m    279\u001b[0m \u001b[38;5;28;01mif\u001b[39;00m file \u001b[38;5;129;01min\u001b[39;00m {\u001b[38;5;241m0\u001b[39m, \u001b[38;5;241m1\u001b[39m, \u001b[38;5;241m2\u001b[39m}:\n\u001b[0;32m    280\u001b[0m     \u001b[38;5;28;01mraise\u001b[39;00m \u001b[38;5;167;01mValueError\u001b[39;00m(\n\u001b[0;32m    281\u001b[0m         \u001b[38;5;124mf\u001b[39m\u001b[38;5;124m\"\u001b[39m\u001b[38;5;124mIPython won\u001b[39m\u001b[38;5;124m'\u001b[39m\u001b[38;5;124mt let you open fd=\u001b[39m\u001b[38;5;132;01m{\u001b[39;00mfile\u001b[38;5;132;01m}\u001b[39;00m\u001b[38;5;124m by default \u001b[39m\u001b[38;5;124m\"\u001b[39m\n\u001b[0;32m    282\u001b[0m         \u001b[38;5;124m\"\u001b[39m\u001b[38;5;124mas it is likely to crash IPython. If you know what you are doing, \u001b[39m\u001b[38;5;124m\"\u001b[39m\n\u001b[0;32m    283\u001b[0m         \u001b[38;5;124m\"\u001b[39m\u001b[38;5;124myou can use builtins\u001b[39m\u001b[38;5;124m'\u001b[39m\u001b[38;5;124m open.\u001b[39m\u001b[38;5;124m\"\u001b[39m\n\u001b[0;32m    284\u001b[0m     )\n\u001b[1;32m--> 286\u001b[0m \u001b[38;5;28;01mreturn\u001b[39;00m io_open(file, \u001b[38;5;241m*\u001b[39margs, \u001b[38;5;241m*\u001b[39m\u001b[38;5;241m*\u001b[39mkwargs)\n",
      "\u001b[1;31mFileNotFoundError\u001b[0m: [Errno 2] No such file or directory: 'sample_text.txt'"
     ]
    }
   ],
   "source": [
    "def remove_parenthesis_from_file(input_file, output_file):\n",
    "    # Read text from input file\n",
    "    with open(input_file, 'r') as file:\n",
    "        text = file.read()\n",
    "\n",
    "    # Compile a regular expression pattern to remove parenthesis and their contents\n",
    "    pattern = re.compile(r'\\((.*?)\\)')\n",
    "\n",
    "    # Use sub() to replace the matches with an empty string\n",
    "    cleaned_text = pattern.sub('', text)\n",
    "\n",
    "    # Write the cleaned text to the output file\n",
    "    with open(output_file, 'w') as file:\n",
    "        file.write(cleaned_text)\n",
    "\n",
    "# Paths to input and output files\n",
    "input_file_path = 'sample_text.txt'\n",
    "output_file_path = 'cleaned_text.txt'\n",
    "\n",
    "# Call the function to remove parenthesis and write cleaned text to the output file\n",
    "remove_parenthesis_from_file(input_file_path, output_file_path)\n"
   ]
  },
  {
   "cell_type": "markdown",
   "id": "1a961cd8",
   "metadata": {},
   "source": [
    "Q7."
   ]
  },
  {
   "cell_type": "code",
   "execution_count": 14,
   "id": "0b8e5aa6",
   "metadata": {},
   "outputs": [
    {
     "name": "stdout",
     "output_type": "stream",
     "text": [
      "['Importance', 'Of', 'Regular', 'Expressions', 'In', 'Python']\n"
     ]
    }
   ],
   "source": [
    "def split_uppercase(text):\n",
    "    # Regular expression pattern to split the string into uppercase letters\n",
    "    pattern = re.findall('[A-Z][^A-Z]*', text)\n",
    "    return pattern\n",
    "\n",
    "# Sample text\n",
    "sample_text = \"ImportanceOfRegularExpressionsInPython\"\n",
    "\n",
    "# Call the function and print the result\n",
    "result = split_uppercase(sample_text)\n",
    "print(result)\n"
   ]
  },
  {
   "cell_type": "markdown",
   "id": "afcd7ce4",
   "metadata": {},
   "source": [
    "Q8."
   ]
  },
  {
   "cell_type": "code",
   "execution_count": 15,
   "id": "28a68d61",
   "metadata": {},
   "outputs": [
    {
     "name": "stdout",
     "output_type": "stream",
     "text": [
      "RegularExpression1 IsAn2 ImportantTopic3 InPython\n"
     ]
    }
   ],
   "source": [
    "def insert_spaces(text):\n",
    "    # Regular expression pattern to find words starting with numbers\n",
    "    pattern = re.sub(r'(\\d)([A-Za-z])', r'\\1 \\2', text)\n",
    "    return pattern\n",
    "\n",
    "# Sample Text\n",
    "sample_text = \"RegularExpression1IsAn2ImportantTopic3InPython\"\n",
    "\n",
    "# Call the function and print the result\n",
    "result = insert_spaces(sample_text)\n",
    "print(result)\n"
   ]
  },
  {
   "cell_type": "markdown",
   "id": "4cef7538",
   "metadata": {},
   "source": [
    "Q9."
   ]
  },
  {
   "cell_type": "code",
   "execution_count": 16,
   "id": "5f5b1a76",
   "metadata": {},
   "outputs": [
    {
     "name": "stdout",
     "output_type": "stream",
     "text": [
      "R egularE xpression1I sA n2I mportantT opic3I nP ython\n"
     ]
    }
   ],
   "source": [
    "def insert_spaces(text):\n",
    "    # Regular expression pattern to find words starting with capital letters or numbers\n",
    "    pattern = re.sub(r'([A-Z\\d])([a-z])', r'\\1 \\2', text)\n",
    "    return pattern\n",
    "\n",
    "# Sample Text\n",
    "sample_text = \"RegularExpression1IsAn2ImportantTopic3InPython\"\n",
    "\n",
    "# Call the function and print the result\n",
    "result = insert_spaces(sample_text)\n",
    "print(result)\n"
   ]
  },
  {
   "cell_type": "markdown",
   "id": "16706d40",
   "metadata": {},
   "source": [
    "Q10."
   ]
  },
  {
   "cell_type": "code",
   "execution_count": 17,
   "id": "e094a6a4",
   "metadata": {},
   "outputs": [
    {
     "name": "stdout",
     "output_type": "stream",
     "text": [
      "       Country          Region  Happiness Rank  Happiness Score  \\\n",
      "0  Switzerland  Western Europe               1            7.587   \n",
      "1      Iceland  Western Europe               2            7.561   \n",
      "2      Denmark  Western Europe               3            7.527   \n",
      "3       Norway  Western Europe               4            7.522   \n",
      "4       Canada   North America               5            7.427   \n",
      "\n",
      "   Standard Error  Economy (GDP per Capita)   Family  \\\n",
      "0         0.03411                   1.39651  1.34951   \n",
      "1         0.04884                   1.30232  1.40223   \n",
      "2         0.03328                   1.32548  1.36058   \n",
      "3         0.03880                   1.45900  1.33095   \n",
      "4         0.03553                   1.32629  1.32261   \n",
      "\n",
      "   Health (Life Expectancy)  Freedom  Trust (Government Corruption)  \\\n",
      "0                   0.94143  0.66557                        0.41978   \n",
      "1                   0.94784  0.62877                        0.14145   \n",
      "2                   0.87464  0.64938                        0.48357   \n",
      "3                   0.88521  0.66973                        0.36503   \n",
      "4                   0.90563  0.63297                        0.32957   \n",
      "\n",
      "   Generosity  Dystopia Residual first_five_letters  \n",
      "0     0.29678            2.51738             Switze  \n",
      "1     0.43630            2.70201             Icelan  \n",
      "2     0.34139            2.49204             Denmar  \n",
      "3     0.34699            2.46531             Norway  \n",
      "4     0.45811            2.45176             Canada  \n"
     ]
    }
   ],
   "source": [
    "# Read the data from the provided GitHub link\n",
    "url = \"https://raw.githubusercontent.com/dsrscientist/DSData/master/happiness_score_dataset.csv\"\n",
    "df = pd.read_csv(url)\n",
    "\n",
    "# Extract first 6 letters of each country and store in a new column called 'first_five_letters'\n",
    "df['first_five_letters'] = df['Country'].str[:6]\n",
    "\n",
    "# Display the dataframe\n",
    "print(df.head())\n"
   ]
  },
  {
   "cell_type": "markdown",
   "id": "bbaaaabb",
   "metadata": {},
   "source": [
    "Q11."
   ]
  },
  {
   "cell_type": "code",
   "execution_count": 22,
   "id": "7be8256b",
   "metadata": {},
   "outputs": [
    {
     "name": "stdout",
     "output_type": "stream",
     "text": [
      "Hello_World123: True\n",
      "Hello!123: False\n",
      "12345: True\n",
      "hello_world: True\n",
      "_underscore_: True\n",
      "hello_world123: True\n"
     ]
    }
   ],
   "source": [
    "def match_string(text):\n",
    "    # Regular expression pattern to match the string\n",
    "    pattern = re.compile(r'^[a-zA-Z0-9_]+$')\n",
    "    # Use search() to find if the string matches the pattern\n",
    "    match = pattern.search(text)\n",
    "    return match is not None\n",
    "\n",
    "# Test the function\n",
    "test_strings = [\"Hello_World123\", \"Hello!123\", \"12345\", \"hello_world\", \"_underscore_\", \"hello_world123\"]\n",
    "for string in test_strings:\n",
    "    print(f\"{string}: {match_string(string)}\")\n"
   ]
  },
  {
   "cell_type": "markdown",
   "id": "fd027d0c",
   "metadata": {},
   "source": [
    "Q12."
   ]
  },
  {
   "cell_type": "code",
   "execution_count": 23,
   "id": "51c4d2d6",
   "metadata": {},
   "outputs": [
    {
     "name": "stdout",
     "output_type": "stream",
     "text": [
      "123Hello: True\n",
      "456World: False\n",
      "789Python: False\n",
      "Hello123: False\n",
      "World456: False\n",
      "Python789: False\n"
     ]
    }
   ],
   "source": [
    "def starts_with_number(string, number):\n",
    "    # Regular expression pattern to match the string starting with the specified number\n",
    "    pattern = re.compile(r'^' + re.escape(str(number)) + r'.*')\n",
    "    # Use search() to find if the string matches the pattern\n",
    "    match = pattern.search(string)\n",
    "    return match is not None\n",
    "\n",
    "# Test the function\n",
    "test_strings = [\"123Hello\", \"456World\", \"789Python\", \"Hello123\", \"World456\", \"Python789\"]\n",
    "number = 123\n",
    "for string in test_strings:\n",
    "    print(f\"{string}: {starts_with_number(string, number)}\")\n"
   ]
  },
  {
   "cell_type": "markdown",
   "id": "7409026f",
   "metadata": {},
   "source": [
    "Q13."
   ]
  },
  {
   "cell_type": "code",
   "execution_count": 24,
   "id": "78d04277",
   "metadata": {},
   "outputs": [
    {
     "name": "stdout",
     "output_type": "stream",
     "text": [
      "Original IP address: 192.168.001.001\n",
      "Cleaned IP address: 192.168.1.1\n"
     ]
    }
   ],
   "source": [
    "def remove_leading_zeros(ip_address):\n",
    "    # Split the IP address into octets\n",
    "    octets = ip_address.split('.')\n",
    "    \n",
    "    # Remove leading zeros from each octet\n",
    "    cleaned_octets = [str(int(octet)) for octet in octets]\n",
    "    \n",
    "    # Join the cleaned octets back together\n",
    "    cleaned_ip_address = '.'.join(cleaned_octets)\n",
    "    \n",
    "    return cleaned_ip_address\n",
    "\n",
    "# Test the function\n",
    "ip_address = \"192.168.001.001\"\n",
    "cleaned_ip_address = remove_leading_zeros(ip_address)\n",
    "print(\"Original IP address:\", ip_address)\n",
    "print(\"Cleaned IP address:\", cleaned_ip_address)\n"
   ]
  },
  {
   "cell_type": "markdown",
   "id": "f96eb3fc",
   "metadata": {},
   "source": [
    "Q14."
   ]
  },
  {
   "cell_type": "code",
   "execution_count": 25,
   "id": "2d646d06",
   "metadata": {},
   "outputs": [
    {
     "ename": "FileNotFoundError",
     "evalue": "[Errno 2] No such file or directory: 'sample_text.txt'",
     "output_type": "error",
     "traceback": [
      "\u001b[1;31m---------------------------------------------------------------------------\u001b[0m",
      "\u001b[1;31mFileNotFoundError\u001b[0m                         Traceback (most recent call last)",
      "Cell \u001b[1;32mIn[25], line 21\u001b[0m\n\u001b[0;32m     18\u001b[0m file_path \u001b[38;5;241m=\u001b[39m \u001b[38;5;124m'\u001b[39m\u001b[38;5;124msample_text.txt\u001b[39m\u001b[38;5;124m'\u001b[39m\n\u001b[0;32m     20\u001b[0m \u001b[38;5;66;03m# Call the function to extract the date string\u001b[39;00m\n\u001b[1;32m---> 21\u001b[0m date_string \u001b[38;5;241m=\u001b[39m extract_date_from_text(file_path)\n\u001b[0;32m     23\u001b[0m \u001b[38;5;66;03m# Print the extracted date string\u001b[39;00m\n\u001b[0;32m     24\u001b[0m \u001b[38;5;28mprint\u001b[39m(\u001b[38;5;124m\"\u001b[39m\u001b[38;5;124mExtracted Date String:\u001b[39m\u001b[38;5;124m\"\u001b[39m, date_string)\n",
      "Cell \u001b[1;32mIn[25], line 3\u001b[0m, in \u001b[0;36mextract_date_from_text\u001b[1;34m(file_path)\u001b[0m\n\u001b[0;32m      1\u001b[0m \u001b[38;5;28;01mdef\u001b[39;00m \u001b[38;5;21mextract_date_from_text\u001b[39m(file_path):\n\u001b[0;32m      2\u001b[0m     \u001b[38;5;66;03m# Read text from the file\u001b[39;00m\n\u001b[1;32m----> 3\u001b[0m     \u001b[38;5;28;01mwith\u001b[39;00m \u001b[38;5;28mopen\u001b[39m(file_path, \u001b[38;5;124m'\u001b[39m\u001b[38;5;124mr\u001b[39m\u001b[38;5;124m'\u001b[39m) \u001b[38;5;28;01mas\u001b[39;00m file:\n\u001b[0;32m      4\u001b[0m         text \u001b[38;5;241m=\u001b[39m file\u001b[38;5;241m.\u001b[39mread()\n\u001b[0;32m      6\u001b[0m     \u001b[38;5;66;03m# Regular expression pattern to match the date string in the specified format\u001b[39;00m\n",
      "File \u001b[1;32m~\\anaconda3\\Lib\\site-packages\\IPython\\core\\interactiveshell.py:286\u001b[0m, in \u001b[0;36m_modified_open\u001b[1;34m(file, *args, **kwargs)\u001b[0m\n\u001b[0;32m    279\u001b[0m \u001b[38;5;28;01mif\u001b[39;00m file \u001b[38;5;129;01min\u001b[39;00m {\u001b[38;5;241m0\u001b[39m, \u001b[38;5;241m1\u001b[39m, \u001b[38;5;241m2\u001b[39m}:\n\u001b[0;32m    280\u001b[0m     \u001b[38;5;28;01mraise\u001b[39;00m \u001b[38;5;167;01mValueError\u001b[39;00m(\n\u001b[0;32m    281\u001b[0m         \u001b[38;5;124mf\u001b[39m\u001b[38;5;124m\"\u001b[39m\u001b[38;5;124mIPython won\u001b[39m\u001b[38;5;124m'\u001b[39m\u001b[38;5;124mt let you open fd=\u001b[39m\u001b[38;5;132;01m{\u001b[39;00mfile\u001b[38;5;132;01m}\u001b[39;00m\u001b[38;5;124m by default \u001b[39m\u001b[38;5;124m\"\u001b[39m\n\u001b[0;32m    282\u001b[0m         \u001b[38;5;124m\"\u001b[39m\u001b[38;5;124mas it is likely to crash IPython. If you know what you are doing, \u001b[39m\u001b[38;5;124m\"\u001b[39m\n\u001b[0;32m    283\u001b[0m         \u001b[38;5;124m\"\u001b[39m\u001b[38;5;124myou can use builtins\u001b[39m\u001b[38;5;124m'\u001b[39m\u001b[38;5;124m open.\u001b[39m\u001b[38;5;124m\"\u001b[39m\n\u001b[0;32m    284\u001b[0m     )\n\u001b[1;32m--> 286\u001b[0m \u001b[38;5;28;01mreturn\u001b[39;00m io_open(file, \u001b[38;5;241m*\u001b[39margs, \u001b[38;5;241m*\u001b[39m\u001b[38;5;241m*\u001b[39mkwargs)\n",
      "\u001b[1;31mFileNotFoundError\u001b[0m: [Errno 2] No such file or directory: 'sample_text.txt'"
     ]
    }
   ],
   "source": [
    "def extract_date_from_text(file_path):\n",
    "    # Read text from the file\n",
    "    with open(file_path, 'r') as file:\n",
    "        text = file.read()\n",
    "\n",
    "    # Regular expression pattern to match the date string in the specified format\n",
    "    pattern = re.compile(r'([A-Z][a-z]+ \\d{1,2}(?:st|nd|rd|th) \\d{4})')\n",
    "\n",
    "    # Use search() to find the date string in the text\n",
    "    match = pattern.search(text)\n",
    "\n",
    "    if match:\n",
    "        return match.group(0)\n",
    "    else:\n",
    "        return None\n",
    "\n",
    "# File path containing the text\n",
    "file_path = 'sample_text.txt'\n",
    "\n",
    "# Call the function to extract the date string\n",
    "date_string = extract_date_from_text(file_path)\n",
    "\n",
    "# Print the extracted date string\n",
    "print(\"Extracted Date String:\", date_string)\n"
   ]
  },
  {
   "cell_type": "markdown",
   "id": "5492f480",
   "metadata": {},
   "source": [
    "Q15."
   ]
  },
  {
   "cell_type": "code",
   "execution_count": 26,
   "id": "3fc94deb",
   "metadata": {},
   "outputs": [
    {
     "name": "stdout",
     "output_type": "stream",
     "text": [
      "Found words: ['fox', 'dog']\n"
     ]
    }
   ],
   "source": [
    "def search_literals(sample_text, searched_words):\n",
    "    found_words = []\n",
    "    for word in searched_words:\n",
    "        if word in sample_text:\n",
    "            found_words.append(word)\n",
    "    return found_words\n",
    "\n",
    "# Sample text\n",
    "sample_text = 'The quick brown fox jumps over the lazy dog.'\n",
    "\n",
    "# Searched words\n",
    "searched_words = ['fox', 'dog', 'horse']\n",
    "\n",
    "# Call the function to search for the words\n",
    "found_words = search_literals(sample_text, searched_words)\n",
    "\n",
    "# Print the found words\n",
    "print(\"Found words:\", found_words)\n"
   ]
  },
  {
   "cell_type": "markdown",
   "id": "34edb87d",
   "metadata": {},
   "source": [
    "Q16."
   ]
  },
  {
   "cell_type": "code",
   "execution_count": 27,
   "id": "ce934748",
   "metadata": {},
   "outputs": [
    {
     "name": "stdout",
     "output_type": "stream",
     "text": [
      "Found word: fox\n",
      "Location(s): [16]\n"
     ]
    }
   ],
   "source": [
    "def search_literals_with_location(sample_text, searched_word):\n",
    "    found_locations = []\n",
    "    start_index = 0\n",
    "    while True:\n",
    "        index = sample_text.find(searched_word, start_index)\n",
    "        if index == -1:\n",
    "            break\n",
    "        found_locations.append(index)\n",
    "        start_index = index + 1\n",
    "    return found_locations\n",
    "\n",
    "# Sample text\n",
    "sample_text = 'The quick brown fox jumps over the lazy dog.'\n",
    "\n",
    "# Searched word\n",
    "searched_word = 'fox'\n",
    "\n",
    "# Call the function to search for the word and find its location\n",
    "found_locations = search_literals_with_location(sample_text, searched_word)\n",
    "\n",
    "# Print the found locations\n",
    "print(\"Found word:\", searched_word)\n",
    "if found_locations:\n",
    "    print(\"Location(s):\", found_locations)\n",
    "else:\n",
    "    print(\"The word was not found.\")\n"
   ]
  },
  {
   "cell_type": "code",
   "execution_count": null,
   "id": "49d76722",
   "metadata": {},
   "outputs": [],
   "source": [
    "Q17."
   ]
  },
  {
   "cell_type": "code",
   "execution_count": 29,
   "id": "82347ad4",
   "metadata": {},
   "outputs": [
    {
     "name": "stdout",
     "output_type": "stream",
     "text": [
      "Pattern: exercises\n",
      "Indices: [7, 22, 36]\n"
     ]
    }
   ],
   "source": [
    "def find_substrings(text, pattern):\n",
    "    found_indices = []\n",
    "    start_index = 0\n",
    "    while True:\n",
    "        index = text.find(pattern, start_index)\n",
    "        if index == -1:\n",
    "            break\n",
    "        found_indices.append(index)\n",
    "        start_index = index + 1\n",
    "    return found_indices\n",
    "\n",
    "# Sample text\n",
    "sample_text = 'Python exercises, PHP exercises, C# exercises'\n",
    "\n",
    "# Pattern to search\n",
    "pattern = 'exercises'\n",
    "\n",
    "# Call the function to find the starting indices of substrings\n",
    "found_indices = find_substrings(sample_text, pattern)\n",
    "\n",
    "# Print the found indices\n",
    "print(\"Pattern:\", pattern)\n",
    "if found_indices:\n",
    "    print(\"Indices:\", found_indices)\n",
    "else:\n",
    "    print(\"The pattern was not found.\")\n"
   ]
  },
  {
   "cell_type": "markdown",
   "id": "5e2b91be",
   "metadata": {},
   "source": [
    "Q18."
   ]
  },
  {
   "cell_type": "code",
   "execution_count": 30,
   "id": "c3ef0a4d",
   "metadata": {},
   "outputs": [
    {
     "name": "stdout",
     "output_type": "stream",
     "text": [
      "Pattern: exercises\n",
      "Number of occurrences: 3\n",
      "Positions: [7, 22, 36]\n"
     ]
    }
   ],
   "source": [
    "def find_occurrences_and_positions(text, pattern):\n",
    "    occurrences = 0\n",
    "    positions = []\n",
    "    start_index = 0\n",
    "    while True:\n",
    "        index = text.find(pattern, start_index)\n",
    "        if index == -1:\n",
    "            break\n",
    "        occurrences += 1\n",
    "        positions.append(index)\n",
    "        start_index = index + 1\n",
    "    return occurrences, positions\n",
    "\n",
    "# Sample text\n",
    "sample_text = 'Python exercises, PHP exercises, C# exercises'\n",
    "\n",
    "# Pattern to search\n",
    "pattern = 'exercises'\n",
    "\n",
    "# Call the function to find the occurrences and positions of the pattern\n",
    "occurrences, positions = find_occurrences_and_positions(sample_text, pattern)\n",
    "\n",
    "# Print the occurrences and positions\n",
    "print(\"Pattern:\", pattern)\n",
    "print(\"Number of occurrences:\", occurrences)\n",
    "if positions:\n",
    "    print(\"Positions:\", positions)\n",
    "else:\n",
    "    print(\"The pattern was not found.\")\n"
   ]
  },
  {
   "cell_type": "code",
   "execution_count": null,
   "id": "19a12984",
   "metadata": {},
   "outputs": [],
   "source": [
    "Q19."
   ]
  },
  {
   "cell_type": "code",
   "execution_count": 38,
   "id": "b6e27160",
   "metadata": {},
   "outputs": [
    {
     "name": "stdout",
     "output_type": "stream",
     "text": [
      "Original date: 2024-03-07\n",
      "Converted date: 07-03-2024\n"
     ]
    }
   ],
   "source": [
    "from datetime import datetime\n",
    "\n",
    "def convert_date_format(date_string):\n",
    "    # Parse the date string into a datetime object\n",
    "    date_object = datetime.strptime(date_string, '%Y-%m-%d')\n",
    "    \n",
    "    # Format the datetime object as per the desired format\n",
    "    formatted_date = date_object.strftime('%d-%m-%Y')\n",
    "    \n",
    "    return formatted_date\n",
    "\n",
    "# Sample date string in yyyy-mm-dd format\n",
    "date_string = '2024-03-07'\n",
    "\n",
    "# Call the function to convert the date format\n",
    "formatted_date = convert_date_format(date_string)\n",
    "\n",
    "# Print the converted date\n",
    "print(\"Original date:\", date_string)\n",
    "print(\"Converted date:\", formatted_date)\n"
   ]
  },
  {
   "cell_type": "markdown",
   "id": "5c734643",
   "metadata": {},
   "source": [
    "Q20."
   ]
  },
  {
   "cell_type": "code",
   "execution_count": 39,
   "id": "1a55b73d",
   "metadata": {},
   "outputs": [
    {
     "name": "stdout",
     "output_type": "stream",
     "text": [
      "['01.12', '145.8', '3.01', '27.25', '0.25']\n"
     ]
    }
   ],
   "source": [
    "def find_decimal_numbers(text):\n",
    "    # Compile a regular expression pattern to find decimal numbers with a precision of 1 or 2\n",
    "    pattern = re.compile(r'\\b\\d+\\.\\d{1,2}\\b')\n",
    "    # Use findall() to extract all matching decimal numbers\n",
    "    decimal_numbers = pattern.findall(text)\n",
    "    return decimal_numbers\n",
    "\n",
    "# Sample text\n",
    "sample_text = \"01.12 0132.123 2.31875 145.8 3.01 27.25 0.25\"\n",
    "\n",
    "# Call the function and print the result\n",
    "result = find_decimal_numbers(sample_text)\n",
    "print(result)\n"
   ]
  },
  {
   "cell_type": "markdown",
   "id": "1e688fd0",
   "metadata": {},
   "source": [
    "Q21."
   ]
  },
  {
   "cell_type": "code",
   "execution_count": 40,
   "id": "965aae78",
   "metadata": {},
   "outputs": [
    {
     "name": "stdout",
     "output_type": "stream",
     "text": [
      "Number: 12345 Position: 44\n"
     ]
    }
   ],
   "source": [
    "def separate_numbers_and_positions(text):\n",
    "    # Compile a regular expression pattern to find numbers\n",
    "    pattern = re.compile(r'\\d+')\n",
    "    # Use finditer() to iterate over all matches of the pattern\n",
    "    matches = pattern.finditer(text)\n",
    "    # Extract numbers and their positions\n",
    "    numbers_and_positions = [(match.group(), match.start()) for match in matches]\n",
    "    return numbers_and_positions\n",
    "\n",
    "# Sample text\n",
    "sample_text = \"The quick brown fox jumps over the lazy dog 12345\"\n",
    "\n",
    "# Call the function to separate numbers and their positions\n",
    "result = separate_numbers_and_positions(sample_text)\n",
    "\n",
    "# Print numbers and their positions\n",
    "for number, position in result:\n",
    "    print(\"Number:\", number, \"Position:\", position)\n"
   ]
  },
  {
   "cell_type": "markdown",
   "id": "50934394",
   "metadata": {},
   "source": [
    "Q22."
   ]
  },
  {
   "cell_type": "code",
   "execution_count": 41,
   "id": "64e2b3ec",
   "metadata": {},
   "outputs": [
    {
     "name": "stdout",
     "output_type": "stream",
     "text": [
      "Maximum numeric value: 950\n"
     ]
    }
   ],
   "source": [
    "def extract_maximum_numeric_value(text):\n",
    "    # Regular expression pattern to match numeric values\n",
    "    pattern = re.compile(r'\\b\\d+\\b')\n",
    "    \n",
    "    # Use findall() to extract all numeric values\n",
    "    numeric_values = pattern.findall(text)\n",
    "    \n",
    "    # Convert numeric values to integers and find the maximum\n",
    "    maximum_value = max(map(int, numeric_values))\n",
    "    \n",
    "    return maximum_value\n",
    "\n",
    "# Sample text\n",
    "sample_text = 'My marks in each semester are: 947, 896, 926, 524, 734, 950, 642'\n",
    "\n",
    "# Call the function and print the result\n",
    "result = extract_maximum_numeric_value(sample_text)\n",
    "print(\"Maximum numeric value:\", result)\n"
   ]
  },
  {
   "cell_type": "markdown",
   "id": "13ef3cd9",
   "metadata": {},
   "source": [
    "Q23."
   ]
  },
  {
   "cell_type": "code",
   "execution_count": 50,
   "id": "0e248cc2",
   "metadata": {},
   "outputs": [
    {
     "name": "stdout",
     "output_type": "stream",
     "text": [
      "Regular Expression Is An Important Topic In Python\n"
     ]
    }
   ],
   "source": [
    "def insert_spaces(text):\n",
    "    # Regular expression pattern to match words starting with capital letters\n",
    "    pattern = re.compile(r'([A-Z][a-z]*)')\n",
    "    \n",
    "    # Use sub() to insert space before words starting with capital letters\n",
    "    spaced_text = pattern.sub(r' \\1', text).strip()\n",
    "    \n",
    "    return spaced_text\n",
    "\n",
    "# Sample text\n",
    "sample_text = \"RegularExpressionIsAnImportantTopicInPython\"\n",
    "\n",
    "# Call the function and print the result\n",
    "result = insert_spaces(sample_text)\n",
    "print(result)\n"
   ]
  },
  {
   "cell_type": "markdown",
   "id": "a6f5436e",
   "metadata": {},
   "source": [
    "Q24."
   ]
  },
  {
   "cell_type": "code",
   "execution_count": 51,
   "id": "c1f0c009",
   "metadata": {},
   "outputs": [
    {
     "name": "stdout",
     "output_type": "stream",
     "text": [
      "['Hello', 'World', 'Open']\n"
     ]
    }
   ],
   "source": [
    "def find_uppercase_lowercase_sequences(text):\n",
    "    # Regular expression pattern to find sequences of one uppercase letter followed by lowercase letters\n",
    "    pattern = re.compile(r'[A-Z][a-z]+')\n",
    "    \n",
    "    # Use findall() to extract all matches\n",
    "    sequences = pattern.findall(text)\n",
    "    \n",
    "    return sequences\n",
    "\n",
    "# Sample text\n",
    "sample_text = \"Hello World, OpenAI is a great tool.\"\n",
    "\n",
    "# Call the function and print the result\n",
    "result = find_uppercase_lowercase_sequences(sample_text)\n",
    "print(result)\n"
   ]
  },
  {
   "cell_type": "markdown",
   "id": "908e37ee",
   "metadata": {},
   "source": [
    "Q25."
   ]
  },
  {
   "cell_type": "code",
   "execution_count": 52,
   "id": "c71cce09",
   "metadata": {},
   "outputs": [
    {
     "name": "stdout",
     "output_type": "stream",
     "text": [
      "Hello world\n"
     ]
    }
   ],
   "source": [
    "def remove_continuous_duplicates(sentence):\n",
    "    # Regular expression pattern to find continuous duplicate words\n",
    "    pattern = re.compile(r'\\b(\\w+)(?:\\s+\\1\\b)+', flags=re.IGNORECASE)\n",
    "    \n",
    "    # Use sub() to remove continuous duplicate words\n",
    "    cleaned_sentence = pattern.sub(r'\\1', sentence)\n",
    "    \n",
    "    return cleaned_sentence\n",
    "\n",
    "# Sample text\n",
    "sample_text = \"Hello hello world world\"\n",
    "\n",
    "# Call the function and print the result\n",
    "result = remove_continuous_duplicates(sample_text)\n",
    "print(result)\n"
   ]
  },
  {
   "cell_type": "markdown",
   "id": "db7da637",
   "metadata": {},
   "source": [
    "Q26."
   ]
  },
  {
   "cell_type": "code",
   "execution_count": 53,
   "id": "111d10a0",
   "metadata": {},
   "outputs": [
    {
     "name": "stdout",
     "output_type": "stream",
     "text": [
      "hello123: True\n",
      "world456!: False\n",
      "12345: True\n",
      "alpha!: False\n",
      "123beta: True\n"
     ]
    }
   ],
   "source": [
    "def ends_with_alphanumeric(string):\n",
    "    # Regular expression pattern to match string ending with alphanumeric character\n",
    "    pattern = re.compile(r'.*[a-zA-Z0-9]$')\n",
    "    \n",
    "    # Use match() to check if the string matches the pattern\n",
    "    match = pattern.match(string)\n",
    "    \n",
    "    return match is not None\n",
    "\n",
    "# Test strings\n",
    "test_strings = [\"hello123\", \"world456!\", \"12345\", \"alpha!\", \"123beta\"]\n",
    "\n",
    "# Check each test string\n",
    "for string in test_strings:\n",
    "    print(f\"{string}: {ends_with_alphanumeric(string)}\")\n"
   ]
  },
  {
   "cell_type": "markdown",
   "id": "035830e6",
   "metadata": {},
   "source": [
    "Q27."
   ]
  },
  {
   "cell_type": "code",
   "execution_count": 54,
   "id": "2c1663c8",
   "metadata": {},
   "outputs": [
    {
     "name": "stdout",
     "output_type": "stream",
     "text": [
      "['#Doltiwal', '#xyzabc', '#Demonetization']\n"
     ]
    }
   ],
   "source": [
    "def extract_hashtags(text):\n",
    "    # Regular expression pattern to match hashtags\n",
    "    pattern = re.compile(r'#\\w+')\n",
    "    \n",
    "    # Use findall() to extract all hashtags\n",
    "    hashtags = pattern.findall(text)\n",
    "    \n",
    "    return hashtags\n",
    "\n",
    "# Sample text\n",
    "sample_text = \"\"\"RT @kapil_kausik: #Doltiwal I mean #xyzabc is \"hurt\" by #Demonetization as the same has rendered USELESS <ed><U+00A0><U+00BD><ed><U+00B1><U+0089> \"acquired funds\" No wo\"\"\"\n",
    "\n",
    "# Call the function and print the result\n",
    "result = extract_hashtags(sample_text)\n",
    "print(result)\n"
   ]
  },
  {
   "cell_type": "markdown",
   "id": "ee3f709e",
   "metadata": {},
   "source": [
    "Q28."
   ]
  },
  {
   "cell_type": "code",
   "execution_count": 55,
   "id": "2f0bb833",
   "metadata": {},
   "outputs": [
    {
     "name": "stdout",
     "output_type": "stream",
     "text": [
      "@Jags123456 Bharat band on 28??<ed><ed>Those who  are protesting #demonetization  are all different party leaders\n"
     ]
    }
   ],
   "source": [
    "def remove_U_plus_symbols(text):\n",
    "    # Regular expression pattern to match <U+..> like symbols\n",
    "    pattern = re.compile(r'<U\\+\\w{2,4}>')\n",
    "    \n",
    "    # Use sub() to replace all matches with an empty string\n",
    "    cleaned_text = pattern.sub('', text)\n",
    "    \n",
    "    return cleaned_text\n",
    "\n",
    "# Sample text\n",
    "sample_text = \"@Jags123456 Bharat band on 28??<ed><U+00A0><U+00BD><ed><U+00B8><U+0082>Those who  are protesting #demonetization  are all different party leaders\"\n",
    "\n",
    "# Call the function and print the result\n",
    "result = remove_U_plus_symbols(sample_text)\n",
    "print(result)\n"
   ]
  },
  {
   "cell_type": "markdown",
   "id": "1538109d",
   "metadata": {},
   "source": [
    "Q29."
   ]
  },
  {
   "cell_type": "code",
   "execution_count": 56,
   "id": "4c865edf",
   "metadata": {},
   "outputs": [
    {
     "ename": "FileNotFoundError",
     "evalue": "[Errno 2] No such file or directory: 'sample_text.txt'",
     "output_type": "error",
     "traceback": [
      "\u001b[1;31m---------------------------------------------------------------------------\u001b[0m",
      "\u001b[1;31mFileNotFoundError\u001b[0m                         Traceback (most recent call last)",
      "Cell \u001b[1;32mIn[56], line 18\u001b[0m\n\u001b[0;32m     15\u001b[0m file_path \u001b[38;5;241m=\u001b[39m \u001b[38;5;124m'\u001b[39m\u001b[38;5;124msample_text.txt\u001b[39m\u001b[38;5;124m'\u001b[39m\n\u001b[0;32m     17\u001b[0m \u001b[38;5;66;03m# Call the function to extract dates from the file\u001b[39;00m\n\u001b[1;32m---> 18\u001b[0m result \u001b[38;5;241m=\u001b[39m extract_dates_from_file(file_path)\n\u001b[0;32m     20\u001b[0m \u001b[38;5;66;03m# Print the extracted dates\u001b[39;00m\n\u001b[0;32m     21\u001b[0m \u001b[38;5;28mprint\u001b[39m(\u001b[38;5;124m\"\u001b[39m\u001b[38;5;124mExtracted dates:\u001b[39m\u001b[38;5;124m\"\u001b[39m, result)\n",
      "Cell \u001b[1;32mIn[56], line 3\u001b[0m, in \u001b[0;36mextract_dates_from_file\u001b[1;34m(file_path)\u001b[0m\n\u001b[0;32m      1\u001b[0m \u001b[38;5;28;01mdef\u001b[39;00m \u001b[38;5;21mextract_dates_from_file\u001b[39m(file_path):\n\u001b[0;32m      2\u001b[0m     \u001b[38;5;66;03m# Read text from the file\u001b[39;00m\n\u001b[1;32m----> 3\u001b[0m     \u001b[38;5;28;01mwith\u001b[39;00m \u001b[38;5;28mopen\u001b[39m(file_path, \u001b[38;5;124m'\u001b[39m\u001b[38;5;124mr\u001b[39m\u001b[38;5;124m'\u001b[39m) \u001b[38;5;28;01mas\u001b[39;00m file:\n\u001b[0;32m      4\u001b[0m         text \u001b[38;5;241m=\u001b[39m file\u001b[38;5;241m.\u001b[39mread()\n\u001b[0;32m      6\u001b[0m     \u001b[38;5;66;03m# Regular expression pattern to match dates in dd-mm-yyyy format\u001b[39;00m\n",
      "File \u001b[1;32m~\\anaconda3\\Lib\\site-packages\\IPython\\core\\interactiveshell.py:286\u001b[0m, in \u001b[0;36m_modified_open\u001b[1;34m(file, *args, **kwargs)\u001b[0m\n\u001b[0;32m    279\u001b[0m \u001b[38;5;28;01mif\u001b[39;00m file \u001b[38;5;129;01min\u001b[39;00m {\u001b[38;5;241m0\u001b[39m, \u001b[38;5;241m1\u001b[39m, \u001b[38;5;241m2\u001b[39m}:\n\u001b[0;32m    280\u001b[0m     \u001b[38;5;28;01mraise\u001b[39;00m \u001b[38;5;167;01mValueError\u001b[39;00m(\n\u001b[0;32m    281\u001b[0m         \u001b[38;5;124mf\u001b[39m\u001b[38;5;124m\"\u001b[39m\u001b[38;5;124mIPython won\u001b[39m\u001b[38;5;124m'\u001b[39m\u001b[38;5;124mt let you open fd=\u001b[39m\u001b[38;5;132;01m{\u001b[39;00mfile\u001b[38;5;132;01m}\u001b[39;00m\u001b[38;5;124m by default \u001b[39m\u001b[38;5;124m\"\u001b[39m\n\u001b[0;32m    282\u001b[0m         \u001b[38;5;124m\"\u001b[39m\u001b[38;5;124mas it is likely to crash IPython. If you know what you are doing, \u001b[39m\u001b[38;5;124m\"\u001b[39m\n\u001b[0;32m    283\u001b[0m         \u001b[38;5;124m\"\u001b[39m\u001b[38;5;124myou can use builtins\u001b[39m\u001b[38;5;124m'\u001b[39m\u001b[38;5;124m open.\u001b[39m\u001b[38;5;124m\"\u001b[39m\n\u001b[0;32m    284\u001b[0m     )\n\u001b[1;32m--> 286\u001b[0m \u001b[38;5;28;01mreturn\u001b[39;00m io_open(file, \u001b[38;5;241m*\u001b[39margs, \u001b[38;5;241m*\u001b[39m\u001b[38;5;241m*\u001b[39mkwargs)\n",
      "\u001b[1;31mFileNotFoundError\u001b[0m: [Errno 2] No such file or directory: 'sample_text.txt'"
     ]
    }
   ],
   "source": [
    "def extract_dates_from_file(file_path):\n",
    "    # Read text from the file\n",
    "    with open(file_path, 'r') as file:\n",
    "        text = file.read()\n",
    "\n",
    "    # Regular expression pattern to match dates in dd-mm-yyyy format\n",
    "    pattern = re.compile(r'\\b\\d{2}-\\d{2}-\\d{4}\\b')\n",
    "    \n",
    "    # Use findall() to extract all matching dates\n",
    "    dates = pattern.findall(text)\n",
    "    \n",
    "    return dates\n",
    "\n",
    "# File path containing the text\n",
    "file_path = 'sample_text.txt'\n",
    "\n",
    "# Call the function to extract dates from the file\n",
    "result = extract_dates_from_file(file_path)\n",
    "\n",
    "# Print the extracted dates\n",
    "print(\"Extracted dates:\", result)\n"
   ]
  },
  {
   "cell_type": "markdown",
   "id": "b3c33d4c",
   "metadata": {},
   "source": [
    "Q30."
   ]
  },
  {
   "cell_type": "code",
   "execution_count": 68,
   "id": "48480f58",
   "metadata": {},
   "outputs": [
    {
     "name": "stdout",
     "output_type": "stream",
     "text": [
      " following example creates  ArrayList  a capacity   elements. 4 elements   added   ArrayList   ArrayList  trimmed accordingly.\n"
     ]
    }
   ],
   "source": [
    "def remove_words_of_length_between_2_and_4(text):\n",
    "    # Regular expression pattern to match words of length between 2 and 4\n",
    "    pattern = re.compile(r'\\b\\w{2,4}\\b')\n",
    "    \n",
    "    # Use sub() to replace all matches with an empty string\n",
    "    cleaned_text = pattern.sub('', text)\n",
    "    \n",
    "    return cleaned_text\n",
    "\n",
    "# Sample text\n",
    "sample_text = \"The following example creates an ArrayList with a capacity of 50 elements. 4 elements are then added to the ArrayList and the ArrayList is trimmed accordingly.\"\n",
    "\n",
    "# Call the function and print the result\n",
    "result = remove_words_of_length_between_2_and_4(sample_text)\n",
    "print(result)\n"
   ]
  },
  {
   "cell_type": "code",
   "execution_count": null,
   "id": "e0897b50",
   "metadata": {},
   "outputs": [],
   "source": []
  },
  {
   "cell_type": "code",
   "execution_count": null,
   "id": "e4d8dc1d",
   "metadata": {},
   "outputs": [],
   "source": []
  }
 ],
 "metadata": {
  "kernelspec": {
   "display_name": "Python 3 (ipykernel)",
   "language": "python",
   "name": "python3"
  },
  "language_info": {
   "codemirror_mode": {
    "name": "ipython",
    "version": 3
   },
   "file_extension": ".py",
   "mimetype": "text/x-python",
   "name": "python",
   "nbconvert_exporter": "python",
   "pygments_lexer": "ipython3",
   "version": "3.11.5"
  }
 },
 "nbformat": 4,
 "nbformat_minor": 5
}
