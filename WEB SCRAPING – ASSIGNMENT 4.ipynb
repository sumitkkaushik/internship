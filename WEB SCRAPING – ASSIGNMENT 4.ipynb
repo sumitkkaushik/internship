{
 "cells": [
  {
   "cell_type": "code",
   "execution_count": 1,
   "id": "2ef8641a",
   "metadata": {},
   "outputs": [],
   "source": [
    "# Importing Libraries\n",
    "import selenium\n",
    "import pandas as pd\n",
    "import time\n",
    "from bs4 import BeautifulSoup\n",
    "\n",
    "# Importing selenium webdriver \n",
    "from selenium import webdriver\n",
    "\n",
    "# Importing required Exceptions which needs to handled\n",
    "from selenium.common.exceptions import StaleElementReferenceException, NoSuchElementException\n",
    "\n",
    "#Importing requests\n",
    "import requests\n",
    "\n",
    "# importing regex\n",
    "import re"
   ]
  },
  {
   "cell_type": "code",
   "execution_count": 2,
   "id": "df1efdc3",
   "metadata": {},
   "outputs": [],
   "source": [
    "from selenium.webdriver.common.by import By"
   ]
  },
  {
   "cell_type": "markdown",
   "id": "d6424d15",
   "metadata": {},
   "source": [
    "# QUESTION.1"
   ]
  },
  {
   "cell_type": "code",
   "execution_count": 3,
   "id": "c1d0c314",
   "metadata": {},
   "outputs": [],
   "source": [
    "driver = webdriver.Chrome()"
   ]
  },
  {
   "cell_type": "code",
   "execution_count": 4,
   "id": "84f9d6f3",
   "metadata": {},
   "outputs": [],
   "source": [
    "url=\"https://en.wikipedia.org/wiki/List_of_most-viewed_YouTube_videos\""
   ]
  },
  {
   "cell_type": "code",
   "execution_count": 5,
   "id": "d332f81f",
   "metadata": {},
   "outputs": [],
   "source": [
    "driver.get(url)"
   ]
  },
  {
   "cell_type": "code",
   "execution_count": 6,
   "id": "11e40fd0",
   "metadata": {},
   "outputs": [],
   "source": [
    "search = driver.find_element(By.XPATH,'//*[@id=\"p-search\"]')       # Locating page for top videos by xpath\n",
    "search.click()"
   ]
  },
  {
   "cell_type": "code",
   "execution_count": 7,
   "id": "0f7c62b0",
   "metadata": {},
   "outputs": [],
   "source": [
    "search_button = driver.find_element(By.XPATH,'//*[@id=\"p-search\"]/a/span[1]')\n",
    "search_button.click()"
   ]
  },
  {
   "cell_type": "code",
   "execution_count": 9,
   "id": "96b52e92",
   "metadata": {},
   "outputs": [],
   "source": [
    "Rank=[]\n",
    "Name=[]\n",
    "Artist=[]\n",
    "Upload_Date=[]\n",
    "Views=[]"
   ]
  },
  {
   "cell_type": "code",
   "execution_count": 10,
   "id": "b8a3a72c",
   "metadata": {},
   "outputs": [
    {
     "name": "stdout",
     "output_type": "stream",
     "text": [
      "30 ['\"Baby Shark Dance\"[7]', '\"Despacito\"[10]', '\"Johny Johny Yes Papa\"[18]', '\"Bath Song\"[19]', '\"Shape of You\"[20]', '\"See You Again\"[23]', '\"Wheels on the Bus\"[28]', '\"Phonics Song with Two Words\"[29]', '\"Uptown Funk\"[30]', '\"Gangnam Style\"[31]', '\"Learning Colors – Colorful Eggs on a Farm\"[36]', '\"Dame Tu Cosita\"[37]', '\"Masha and the Bear – Recipe for Disaster\"[38]', '\"Axel F\"[39]', '\"Sugar\"[40]', '\"Baa Baa Black Sheep\"[41]', '\"Counting Stars\"[42]', '\"Lakdi Ki Kathi\"[43]', '\"Roar\"[44]', '\"Waka Waka (This Time for Africa)\"[45]', '\"Sorry\"[46]', '\"Shree Hanuman Chalisa\"[47]', '\"Humpty the train on a fruits ride\"[48]', '\"Thinking Out Loud\"[49]', '\"Perfect\"[50]', '\"Dark Horse\"[51]', '\"Let Her Go\"[52]', '\"Faded\"[53]', '\"Girls Like You\"[54]', '\"Lean On\"[55]']\n"
     ]
    }
   ],
   "source": [
    "#scraping the Rank \n",
    "rk=driver.find_elements(By.XPATH,'//*[@id=\"mw-content-text\"]/div[1]/table[1]/tbody/tr/td[1]')\n",
    "for i in rk:\n",
    "    if i.text is None :\n",
    "        Rank.append(\"--\") \n",
    "    else:\n",
    "        Rank.append(i.text)\n",
    "print(len(Rank),Rank)"
   ]
  },
  {
   "cell_type": "code",
   "execution_count": 14,
   "id": "c911e62a",
   "metadata": {},
   "outputs": [
    {
     "name": "stdout",
     "output_type": "stream",
     "text": [
      "30 ['\"Baby Shark Dance\"[7]', '\"Despacito\"[10]', '\"Johny Johny Yes Papa\"[18]', '\"Bath Song\"[19]', '\"Shape of You\"[20]', '\"See You Again\"[23]', '\"Wheels on the Bus\"[28]', '\"Phonics Song with Two Words\"[29]', '\"Uptown Funk\"[30]', '\"Gangnam Style\"[31]', '\"Learning Colors – Colorful Eggs on a Farm\"[36]', '\"Dame Tu Cosita\"[37]', '\"Masha and the Bear – Recipe for Disaster\"[38]', '\"Axel F\"[39]', '\"Sugar\"[40]', '\"Baa Baa Black Sheep\"[41]', '\"Counting Stars\"[42]', '\"Lakdi Ki Kathi\"[43]', '\"Roar\"[44]', '\"Waka Waka (This Time for Africa)\"[45]', '\"Sorry\"[46]', '\"Shree Hanuman Chalisa\"[47]', '\"Humpty the train on a fruits ride\"[48]', '\"Thinking Out Loud\"[49]', '\"Perfect\"[50]', '\"Dark Horse\"[51]', '\"Let Her Go\"[52]', '\"Faded\"[53]', '\"Girls Like You\"[54]', '\"Lean On\"[55]']\n"
     ]
    }
   ],
   "source": [
    "#scraping the Video Name \n",
    "nm=driver.find_elements(By.XPATH,'//*[@id=\"mw-content-text\"]/div[1]/table[1]/tbody/tr/td[1]')\n",
    "for i in nm:\n",
    "    if i.text is None :\n",
    "        Name.append(\"--\") \n",
    "    else:\n",
    "        Name.append(i.text)\n",
    "print(len(Name),Name)"
   ]
  },
  {
   "cell_type": "code",
   "execution_count": 15,
   "id": "826e460b",
   "metadata": {},
   "outputs": [
    {
     "name": "stdout",
     "output_type": "stream",
     "text": [
      "30 [\"Pinkfong Baby Shark - Kids' Songs & Stories\", 'Luis Fonsi', \"LooLoo Kids - Nursery Rhymes and Children's Songs\", 'Cocomelon - Nursery Rhymes', 'Ed Sheeran', 'Wiz Khalifa', 'Cocomelon - Nursery Rhymes', 'ChuChu TV Nursery Rhymes & Kids Songs', 'Mark Ronson', 'Psy', 'Miroshka TV', 'Ultra Records', 'Get Movies', 'Crazy Frog', 'Maroon 5', 'Cocomelon - Nursery Rhymes', 'OneRepublic', 'Jingle Toons', 'Katy Perry', 'Shakira', 'Justin Bieber', 'T-Series Bhakti Sagar', 'Kiddiestv Hindi - Nursery Rhymes & Kids Songs', 'Ed Sheeran', 'Ed Sheeran', 'Katy Perry', 'Passenger', 'Alan Walker', 'Maroon 5', 'Major Lazer Official']\n"
     ]
    }
   ],
   "source": [
    "#scraping the Artist \n",
    "Ar=driver.find_elements(By.XPATH,\"//*[@id='mw-content-text']/div[1]/table[1]/tbody/tr/td[2]\")\n",
    "for i in Ar:\n",
    "    if i.text is None :\n",
    "        Artist.append(\"--\") \n",
    "    else:\n",
    "        Artist.append(i.text)\n",
    "print(len(Artist),Artist)"
   ]
  },
  {
   "cell_type": "code",
   "execution_count": 16,
   "id": "828f841f",
   "metadata": {},
   "outputs": [
    {
     "name": "stdout",
     "output_type": "stream",
     "text": [
      "30 ['14.32', '8.41', '6.89', '6.66', '6.23', '6.22', '6.01', '5.75', '5.18', '5.10', '5.09', '4.59', '4.57', '4.45', '4.02', '4.01', '4.00', '3.98', '3.98', '3.89', '3.78', '3.77', '3.76', '3.75', '3.70', '3.70', '3.64', '3.60', '3.58', '3.57']\n"
     ]
    }
   ],
   "source": [
    "#scraping the Views \n",
    "v=driver.find_elements(By.XPATH,\"//*[@id='mw-content-text']/div[1]/table[1]/tbody/tr/td[3]\")\n",
    "for i in v:\n",
    "    if i.text is None :\n",
    "        Views.append(\"--\") \n",
    "    else:\n",
    "        Views.append(i.text)\n",
    "print(len(Views),Views)"
   ]
  },
  {
   "cell_type": "code",
   "execution_count": 17,
   "id": "925502bd",
   "metadata": {},
   "outputs": [
    {
     "name": "stdout",
     "output_type": "stream",
     "text": [
      "30 ['June 17, 2016', 'January 12, 2017', 'October 8, 2016', 'May 2, 2018', 'January 30, 2017', 'April 6, 2015', 'May 24, 2018', 'March 6, 2014', 'November 19, 2014', 'July 15, 2012', 'February 27, 2018', 'April 5, 2018', 'January 31, 2012', 'June 16, 2009', 'January 14, 2015', 'June 25, 2018', 'May 31, 2013', 'June 14, 2018', 'September 5, 2013', 'June 4, 2010', 'October 22, 2015', 'May 10, 2011', 'January 26, 2018', 'October 7, 2014', 'November 9, 2017', 'February 20, 2014', 'July 25, 2012', 'December 3, 2015', 'May 31, 2018', 'March 22, 2015']\n"
     ]
    }
   ],
   "source": [
    "#scraping the Upload_Date \n",
    "date=driver.find_elements(By.XPATH,\"//*[@id='mw-content-text']/div[1]/table[1]/tbody/tr/td[4]\")\n",
    "for i in date:\n",
    "    if i.text is None :\n",
    "        Upload_Date.append(\"--\") \n",
    "    else:\n",
    "        Upload_Date.append(i.text)\n",
    "print(len(Upload_Date),Upload_Date)"
   ]
  },
  {
   "cell_type": "code",
   "execution_count": 18,
   "id": "cf81b2e3",
   "metadata": {},
   "outputs": [
    {
     "data": {
      "text/html": [
       "<div>\n",
       "<style scoped>\n",
       "    .dataframe tbody tr th:only-of-type {\n",
       "        vertical-align: middle;\n",
       "    }\n",
       "\n",
       "    .dataframe tbody tr th {\n",
       "        vertical-align: top;\n",
       "    }\n",
       "\n",
       "    .dataframe thead th {\n",
       "        text-align: right;\n",
       "    }\n",
       "</style>\n",
       "<table border=\"1\" class=\"dataframe\">\n",
       "  <thead>\n",
       "    <tr style=\"text-align: right;\">\n",
       "      <th></th>\n",
       "      <th>Rank</th>\n",
       "      <th>Video Title</th>\n",
       "      <th>Artist</th>\n",
       "      <th>Upload_Date</th>\n",
       "      <th>Views In Bllion</th>\n",
       "    </tr>\n",
       "  </thead>\n",
       "  <tbody>\n",
       "    <tr>\n",
       "      <th>0</th>\n",
       "      <td>\"Baby Shark Dance\"[7]</td>\n",
       "      <td>\"Baby Shark Dance\"[7]</td>\n",
       "      <td>Pinkfong Baby Shark - Kids' Songs &amp; Stories</td>\n",
       "      <td>June 17, 2016</td>\n",
       "      <td>14.32</td>\n",
       "    </tr>\n",
       "    <tr>\n",
       "      <th>1</th>\n",
       "      <td>\"Despacito\"[10]</td>\n",
       "      <td>\"Despacito\"[10]</td>\n",
       "      <td>Luis Fonsi</td>\n",
       "      <td>January 12, 2017</td>\n",
       "      <td>8.41</td>\n",
       "    </tr>\n",
       "    <tr>\n",
       "      <th>2</th>\n",
       "      <td>\"Johny Johny Yes Papa\"[18]</td>\n",
       "      <td>\"Johny Johny Yes Papa\"[18]</td>\n",
       "      <td>LooLoo Kids - Nursery Rhymes and Children's Songs</td>\n",
       "      <td>October 8, 2016</td>\n",
       "      <td>6.89</td>\n",
       "    </tr>\n",
       "    <tr>\n",
       "      <th>3</th>\n",
       "      <td>\"Bath Song\"[19]</td>\n",
       "      <td>\"Bath Song\"[19]</td>\n",
       "      <td>Cocomelon - Nursery Rhymes</td>\n",
       "      <td>May 2, 2018</td>\n",
       "      <td>6.66</td>\n",
       "    </tr>\n",
       "    <tr>\n",
       "      <th>4</th>\n",
       "      <td>\"Shape of You\"[20]</td>\n",
       "      <td>\"Shape of You\"[20]</td>\n",
       "      <td>Ed Sheeran</td>\n",
       "      <td>January 30, 2017</td>\n",
       "      <td>6.23</td>\n",
       "    </tr>\n",
       "    <tr>\n",
       "      <th>5</th>\n",
       "      <td>\"See You Again\"[23]</td>\n",
       "      <td>\"See You Again\"[23]</td>\n",
       "      <td>Wiz Khalifa</td>\n",
       "      <td>April 6, 2015</td>\n",
       "      <td>6.22</td>\n",
       "    </tr>\n",
       "    <tr>\n",
       "      <th>6</th>\n",
       "      <td>\"Wheels on the Bus\"[28]</td>\n",
       "      <td>\"Wheels on the Bus\"[28]</td>\n",
       "      <td>Cocomelon - Nursery Rhymes</td>\n",
       "      <td>May 24, 2018</td>\n",
       "      <td>6.01</td>\n",
       "    </tr>\n",
       "    <tr>\n",
       "      <th>7</th>\n",
       "      <td>\"Phonics Song with Two Words\"[29]</td>\n",
       "      <td>\"Phonics Song with Two Words\"[29]</td>\n",
       "      <td>ChuChu TV Nursery Rhymes &amp; Kids Songs</td>\n",
       "      <td>March 6, 2014</td>\n",
       "      <td>5.75</td>\n",
       "    </tr>\n",
       "    <tr>\n",
       "      <th>8</th>\n",
       "      <td>\"Uptown Funk\"[30]</td>\n",
       "      <td>\"Uptown Funk\"[30]</td>\n",
       "      <td>Mark Ronson</td>\n",
       "      <td>November 19, 2014</td>\n",
       "      <td>5.18</td>\n",
       "    </tr>\n",
       "    <tr>\n",
       "      <th>9</th>\n",
       "      <td>\"Gangnam Style\"[31]</td>\n",
       "      <td>\"Gangnam Style\"[31]</td>\n",
       "      <td>Psy</td>\n",
       "      <td>July 15, 2012</td>\n",
       "      <td>5.10</td>\n",
       "    </tr>\n",
       "    <tr>\n",
       "      <th>10</th>\n",
       "      <td>\"Learning Colors – Colorful Eggs on a Farm\"[36]</td>\n",
       "      <td>\"Learning Colors – Colorful Eggs on a Farm\"[36]</td>\n",
       "      <td>Miroshka TV</td>\n",
       "      <td>February 27, 2018</td>\n",
       "      <td>5.09</td>\n",
       "    </tr>\n",
       "    <tr>\n",
       "      <th>11</th>\n",
       "      <td>\"Dame Tu Cosita\"[37]</td>\n",
       "      <td>\"Dame Tu Cosita\"[37]</td>\n",
       "      <td>Ultra Records</td>\n",
       "      <td>April 5, 2018</td>\n",
       "      <td>4.59</td>\n",
       "    </tr>\n",
       "    <tr>\n",
       "      <th>12</th>\n",
       "      <td>\"Masha and the Bear – Recipe for Disaster\"[38]</td>\n",
       "      <td>\"Masha and the Bear – Recipe for Disaster\"[38]</td>\n",
       "      <td>Get Movies</td>\n",
       "      <td>January 31, 2012</td>\n",
       "      <td>4.57</td>\n",
       "    </tr>\n",
       "    <tr>\n",
       "      <th>13</th>\n",
       "      <td>\"Axel F\"[39]</td>\n",
       "      <td>\"Axel F\"[39]</td>\n",
       "      <td>Crazy Frog</td>\n",
       "      <td>June 16, 2009</td>\n",
       "      <td>4.45</td>\n",
       "    </tr>\n",
       "    <tr>\n",
       "      <th>14</th>\n",
       "      <td>\"Sugar\"[40]</td>\n",
       "      <td>\"Sugar\"[40]</td>\n",
       "      <td>Maroon 5</td>\n",
       "      <td>January 14, 2015</td>\n",
       "      <td>4.02</td>\n",
       "    </tr>\n",
       "    <tr>\n",
       "      <th>15</th>\n",
       "      <td>\"Baa Baa Black Sheep\"[41]</td>\n",
       "      <td>\"Baa Baa Black Sheep\"[41]</td>\n",
       "      <td>Cocomelon - Nursery Rhymes</td>\n",
       "      <td>June 25, 2018</td>\n",
       "      <td>4.01</td>\n",
       "    </tr>\n",
       "    <tr>\n",
       "      <th>16</th>\n",
       "      <td>\"Counting Stars\"[42]</td>\n",
       "      <td>\"Counting Stars\"[42]</td>\n",
       "      <td>OneRepublic</td>\n",
       "      <td>May 31, 2013</td>\n",
       "      <td>4.00</td>\n",
       "    </tr>\n",
       "    <tr>\n",
       "      <th>17</th>\n",
       "      <td>\"Lakdi Ki Kathi\"[43]</td>\n",
       "      <td>\"Lakdi Ki Kathi\"[43]</td>\n",
       "      <td>Jingle Toons</td>\n",
       "      <td>June 14, 2018</td>\n",
       "      <td>3.98</td>\n",
       "    </tr>\n",
       "    <tr>\n",
       "      <th>18</th>\n",
       "      <td>\"Roar\"[44]</td>\n",
       "      <td>\"Roar\"[44]</td>\n",
       "      <td>Katy Perry</td>\n",
       "      <td>September 5, 2013</td>\n",
       "      <td>3.98</td>\n",
       "    </tr>\n",
       "    <tr>\n",
       "      <th>19</th>\n",
       "      <td>\"Waka Waka (This Time for Africa)\"[45]</td>\n",
       "      <td>\"Waka Waka (This Time for Africa)\"[45]</td>\n",
       "      <td>Shakira</td>\n",
       "      <td>June 4, 2010</td>\n",
       "      <td>3.89</td>\n",
       "    </tr>\n",
       "    <tr>\n",
       "      <th>20</th>\n",
       "      <td>\"Sorry\"[46]</td>\n",
       "      <td>\"Sorry\"[46]</td>\n",
       "      <td>Justin Bieber</td>\n",
       "      <td>October 22, 2015</td>\n",
       "      <td>3.78</td>\n",
       "    </tr>\n",
       "    <tr>\n",
       "      <th>21</th>\n",
       "      <td>\"Shree Hanuman Chalisa\"[47]</td>\n",
       "      <td>\"Shree Hanuman Chalisa\"[47]</td>\n",
       "      <td>T-Series Bhakti Sagar</td>\n",
       "      <td>May 10, 2011</td>\n",
       "      <td>3.77</td>\n",
       "    </tr>\n",
       "    <tr>\n",
       "      <th>22</th>\n",
       "      <td>\"Humpty the train on a fruits ride\"[48]</td>\n",
       "      <td>\"Humpty the train on a fruits ride\"[48]</td>\n",
       "      <td>Kiddiestv Hindi - Nursery Rhymes &amp; Kids Songs</td>\n",
       "      <td>January 26, 2018</td>\n",
       "      <td>3.76</td>\n",
       "    </tr>\n",
       "    <tr>\n",
       "      <th>23</th>\n",
       "      <td>\"Thinking Out Loud\"[49]</td>\n",
       "      <td>\"Thinking Out Loud\"[49]</td>\n",
       "      <td>Ed Sheeran</td>\n",
       "      <td>October 7, 2014</td>\n",
       "      <td>3.75</td>\n",
       "    </tr>\n",
       "    <tr>\n",
       "      <th>24</th>\n",
       "      <td>\"Perfect\"[50]</td>\n",
       "      <td>\"Perfect\"[50]</td>\n",
       "      <td>Ed Sheeran</td>\n",
       "      <td>November 9, 2017</td>\n",
       "      <td>3.70</td>\n",
       "    </tr>\n",
       "    <tr>\n",
       "      <th>25</th>\n",
       "      <td>\"Dark Horse\"[51]</td>\n",
       "      <td>\"Dark Horse\"[51]</td>\n",
       "      <td>Katy Perry</td>\n",
       "      <td>February 20, 2014</td>\n",
       "      <td>3.70</td>\n",
       "    </tr>\n",
       "    <tr>\n",
       "      <th>26</th>\n",
       "      <td>\"Let Her Go\"[52]</td>\n",
       "      <td>\"Let Her Go\"[52]</td>\n",
       "      <td>Passenger</td>\n",
       "      <td>July 25, 2012</td>\n",
       "      <td>3.64</td>\n",
       "    </tr>\n",
       "    <tr>\n",
       "      <th>27</th>\n",
       "      <td>\"Faded\"[53]</td>\n",
       "      <td>\"Faded\"[53]</td>\n",
       "      <td>Alan Walker</td>\n",
       "      <td>December 3, 2015</td>\n",
       "      <td>3.60</td>\n",
       "    </tr>\n",
       "    <tr>\n",
       "      <th>28</th>\n",
       "      <td>\"Girls Like You\"[54]</td>\n",
       "      <td>\"Girls Like You\"[54]</td>\n",
       "      <td>Maroon 5</td>\n",
       "      <td>May 31, 2018</td>\n",
       "      <td>3.58</td>\n",
       "    </tr>\n",
       "    <tr>\n",
       "      <th>29</th>\n",
       "      <td>\"Lean On\"[55]</td>\n",
       "      <td>\"Lean On\"[55]</td>\n",
       "      <td>Major Lazer Official</td>\n",
       "      <td>March 22, 2015</td>\n",
       "      <td>3.57</td>\n",
       "    </tr>\n",
       "  </tbody>\n",
       "</table>\n",
       "</div>"
      ],
      "text/plain": [
       "                                               Rank  \\\n",
       "0                             \"Baby Shark Dance\"[7]   \n",
       "1                                   \"Despacito\"[10]   \n",
       "2                        \"Johny Johny Yes Papa\"[18]   \n",
       "3                                   \"Bath Song\"[19]   \n",
       "4                                \"Shape of You\"[20]   \n",
       "5                               \"See You Again\"[23]   \n",
       "6                           \"Wheels on the Bus\"[28]   \n",
       "7                 \"Phonics Song with Two Words\"[29]   \n",
       "8                                 \"Uptown Funk\"[30]   \n",
       "9                               \"Gangnam Style\"[31]   \n",
       "10  \"Learning Colors – Colorful Eggs on a Farm\"[36]   \n",
       "11                             \"Dame Tu Cosita\"[37]   \n",
       "12   \"Masha and the Bear – Recipe for Disaster\"[38]   \n",
       "13                                     \"Axel F\"[39]   \n",
       "14                                      \"Sugar\"[40]   \n",
       "15                        \"Baa Baa Black Sheep\"[41]   \n",
       "16                             \"Counting Stars\"[42]   \n",
       "17                             \"Lakdi Ki Kathi\"[43]   \n",
       "18                                       \"Roar\"[44]   \n",
       "19           \"Waka Waka (This Time for Africa)\"[45]   \n",
       "20                                      \"Sorry\"[46]   \n",
       "21                      \"Shree Hanuman Chalisa\"[47]   \n",
       "22          \"Humpty the train on a fruits ride\"[48]   \n",
       "23                          \"Thinking Out Loud\"[49]   \n",
       "24                                    \"Perfect\"[50]   \n",
       "25                                 \"Dark Horse\"[51]   \n",
       "26                                 \"Let Her Go\"[52]   \n",
       "27                                      \"Faded\"[53]   \n",
       "28                             \"Girls Like You\"[54]   \n",
       "29                                    \"Lean On\"[55]   \n",
       "\n",
       "                                        Video Title  \\\n",
       "0                             \"Baby Shark Dance\"[7]   \n",
       "1                                   \"Despacito\"[10]   \n",
       "2                        \"Johny Johny Yes Papa\"[18]   \n",
       "3                                   \"Bath Song\"[19]   \n",
       "4                                \"Shape of You\"[20]   \n",
       "5                               \"See You Again\"[23]   \n",
       "6                           \"Wheels on the Bus\"[28]   \n",
       "7                 \"Phonics Song with Two Words\"[29]   \n",
       "8                                 \"Uptown Funk\"[30]   \n",
       "9                               \"Gangnam Style\"[31]   \n",
       "10  \"Learning Colors – Colorful Eggs on a Farm\"[36]   \n",
       "11                             \"Dame Tu Cosita\"[37]   \n",
       "12   \"Masha and the Bear – Recipe for Disaster\"[38]   \n",
       "13                                     \"Axel F\"[39]   \n",
       "14                                      \"Sugar\"[40]   \n",
       "15                        \"Baa Baa Black Sheep\"[41]   \n",
       "16                             \"Counting Stars\"[42]   \n",
       "17                             \"Lakdi Ki Kathi\"[43]   \n",
       "18                                       \"Roar\"[44]   \n",
       "19           \"Waka Waka (This Time for Africa)\"[45]   \n",
       "20                                      \"Sorry\"[46]   \n",
       "21                      \"Shree Hanuman Chalisa\"[47]   \n",
       "22          \"Humpty the train on a fruits ride\"[48]   \n",
       "23                          \"Thinking Out Loud\"[49]   \n",
       "24                                    \"Perfect\"[50]   \n",
       "25                                 \"Dark Horse\"[51]   \n",
       "26                                 \"Let Her Go\"[52]   \n",
       "27                                      \"Faded\"[53]   \n",
       "28                             \"Girls Like You\"[54]   \n",
       "29                                    \"Lean On\"[55]   \n",
       "\n",
       "                                               Artist        Upload_Date  \\\n",
       "0         Pinkfong Baby Shark - Kids' Songs & Stories      June 17, 2016   \n",
       "1                                          Luis Fonsi   January 12, 2017   \n",
       "2   LooLoo Kids - Nursery Rhymes and Children's Songs    October 8, 2016   \n",
       "3                          Cocomelon - Nursery Rhymes        May 2, 2018   \n",
       "4                                          Ed Sheeran   January 30, 2017   \n",
       "5                                         Wiz Khalifa      April 6, 2015   \n",
       "6                          Cocomelon - Nursery Rhymes       May 24, 2018   \n",
       "7               ChuChu TV Nursery Rhymes & Kids Songs      March 6, 2014   \n",
       "8                                         Mark Ronson  November 19, 2014   \n",
       "9                                                 Psy      July 15, 2012   \n",
       "10                                        Miroshka TV  February 27, 2018   \n",
       "11                                      Ultra Records      April 5, 2018   \n",
       "12                                         Get Movies   January 31, 2012   \n",
       "13                                         Crazy Frog      June 16, 2009   \n",
       "14                                           Maroon 5   January 14, 2015   \n",
       "15                         Cocomelon - Nursery Rhymes      June 25, 2018   \n",
       "16                                        OneRepublic       May 31, 2013   \n",
       "17                                       Jingle Toons      June 14, 2018   \n",
       "18                                         Katy Perry  September 5, 2013   \n",
       "19                                            Shakira       June 4, 2010   \n",
       "20                                      Justin Bieber   October 22, 2015   \n",
       "21                              T-Series Bhakti Sagar       May 10, 2011   \n",
       "22      Kiddiestv Hindi - Nursery Rhymes & Kids Songs   January 26, 2018   \n",
       "23                                         Ed Sheeran    October 7, 2014   \n",
       "24                                         Ed Sheeran   November 9, 2017   \n",
       "25                                         Katy Perry  February 20, 2014   \n",
       "26                                          Passenger      July 25, 2012   \n",
       "27                                        Alan Walker   December 3, 2015   \n",
       "28                                           Maroon 5       May 31, 2018   \n",
       "29                               Major Lazer Official     March 22, 2015   \n",
       "\n",
       "   Views In Bllion  \n",
       "0            14.32  \n",
       "1             8.41  \n",
       "2             6.89  \n",
       "3             6.66  \n",
       "4             6.23  \n",
       "5             6.22  \n",
       "6             6.01  \n",
       "7             5.75  \n",
       "8             5.18  \n",
       "9             5.10  \n",
       "10            5.09  \n",
       "11            4.59  \n",
       "12            4.57  \n",
       "13            4.45  \n",
       "14            4.02  \n",
       "15            4.01  \n",
       "16            4.00  \n",
       "17            3.98  \n",
       "18            3.98  \n",
       "19            3.89  \n",
       "20            3.78  \n",
       "21            3.77  \n",
       "22            3.76  \n",
       "23            3.75  \n",
       "24            3.70  \n",
       "25            3.70  \n",
       "26            3.64  \n",
       "27            3.60  \n",
       "28            3.58  \n",
       "29            3.57  "
      ]
     },
     "execution_count": 18,
     "metadata": {},
     "output_type": "execute_result"
    }
   ],
   "source": [
    "Youtube_Video=pd.DataFrame([])\n",
    "Youtube_Video['Rank']=Rank\n",
    "Youtube_Video['Video Title']=Name\n",
    "Youtube_Video['Artist']=Artist\n",
    "Youtube_Video['Upload_Date']=Upload_Date\n",
    "Youtube_Video['Views In Bllion']=Views\n",
    "Youtube_Video"
   ]
  },
  {
   "cell_type": "markdown",
   "id": "c91ef27e",
   "metadata": {},
   "source": [
    "# QUESTION.2"
   ]
  },
  {
   "cell_type": "code",
   "execution_count": 30,
   "id": "d2494b9a",
   "metadata": {},
   "outputs": [],
   "source": [
    "driver = webdriver.Chrome()"
   ]
  },
  {
   "cell_type": "code",
   "execution_count": 31,
   "id": "7bc3b8ee",
   "metadata": {},
   "outputs": [],
   "source": [
    "url=\"https://www.bcci.tv/international/fixtures\""
   ]
  },
  {
   "cell_type": "code",
   "execution_count": 32,
   "id": "7e1140d4",
   "metadata": {},
   "outputs": [],
   "source": [
    "driver.get(url)"
   ]
  },
  {
   "cell_type": "code",
   "execution_count": 33,
   "id": "2dbf7b29",
   "metadata": {},
   "outputs": [],
   "source": [
    "series=[]\n",
    "Date=[]\n",
    "Time=[]\n",
    "place=[]\n"
   ]
  },
  {
   "cell_type": "code",
   "execution_count": 34,
   "id": "5f008dc1",
   "metadata": {},
   "outputs": [
    {
     "name": "stdout",
     "output_type": "stream",
     "text": [
      "9 ['1st T20I', '2nd T20I', '3rd T20I', '4th T20I', '1st T20I', '2nd T20I', '3rd T20I', '4th T20I', '5th T20I']\n"
     ]
    }
   ],
   "source": [
    "#scraping the company_name \n",
    "sr=driver.find_elements(By.XPATH,'//span[@class=\"matchOrderText ng-binding ng-scope t20-tag\"]')\n",
    "for i in sr:\n",
    "    if i.text is None :\n",
    "        series.append(\"--\") \n",
    "    else:\n",
    "        series.append(i.text)\n",
    "print(len(series),series)"
   ]
  },
  {
   "cell_type": "code",
   "execution_count": 35,
   "id": "ce03b6e3",
   "metadata": {},
   "outputs": [
    {
     "name": "stdout",
     "output_type": "stream",
     "text": [
      "9 ['New York', 'New York', 'New York', 'Florida', 'Harare', 'Harare', 'Harare', 'Harare', 'Harare']\n"
     ]
    }
   ],
   "source": [
    "#scraping the Ground \n",
    "P=driver.find_elements(By.XPATH,'//span[@class=\"ng-binding\"]')\n",
    "for i in P:\n",
    "    if i.text is None :\n",
    "        place.append(\"--\") \n",
    "    else:\n",
    "        place.append(i.text)\n",
    "print(len(place),place)"
   ]
  },
  {
   "cell_type": "code",
   "execution_count": 36,
   "id": "68faf556",
   "metadata": {},
   "outputs": [
    {
     "name": "stdout",
     "output_type": "stream",
     "text": [
      "9 ['5 JUNE, 2024', '9 JUNE, 2024', '12 JUNE, 2024', '15 JUNE, 2024', '6 JULY, 2024', '7 JULY, 2024', '10 JULY, 2024', '13 JULY, 2024', '14 JULY, 2024']\n"
     ]
    }
   ],
   "source": [
    "#scraping the Date_Time \n",
    "D=driver.find_elements(By.XPATH,'//div[@class=\"match-dates ng-binding\"]')\n",
    "for i in D:\n",
    "    if i.text is None :\n",
    "        Date.append(\"--\") \n",
    "    else:\n",
    "        Date.append(i.text)\n",
    "print(len(Date),Date)"
   ]
  },
  {
   "cell_type": "code",
   "execution_count": 37,
   "id": "692ccf05",
   "metadata": {},
   "outputs": [
    {
     "name": "stdout",
     "output_type": "stream",
     "text": [
      "9 ['8:00 PM IST', '8:00 PM IST', '8:00 PM IST', '8:00 PM IST', '8:00 PM IST', '8:00 PM IST', '8:00 PM IST', '8:00 PM IST', '8:00 PM IST']\n"
     ]
    }
   ],
   "source": [
    "#scraping the Date_Time \n",
    "T=driver.find_elements(By.XPATH,'//div[@class=\"match-time no-margin ng-binding\"]')\n",
    "for i in T:\n",
    "    if i.text is None :\n",
    "        Time.append(\"--\") \n",
    "    else:\n",
    "        Time.append(i.text)\n",
    "print(len(Time),Time)"
   ]
  },
  {
   "cell_type": "code",
   "execution_count": 38,
   "id": "68d62879",
   "metadata": {},
   "outputs": [
    {
     "data": {
      "text/html": [
       "<div>\n",
       "<style scoped>\n",
       "    .dataframe tbody tr th:only-of-type {\n",
       "        vertical-align: middle;\n",
       "    }\n",
       "\n",
       "    .dataframe tbody tr th {\n",
       "        vertical-align: top;\n",
       "    }\n",
       "\n",
       "    .dataframe thead th {\n",
       "        text-align: right;\n",
       "    }\n",
       "</style>\n",
       "<table border=\"1\" class=\"dataframe\">\n",
       "  <thead>\n",
       "    <tr style=\"text-align: right;\">\n",
       "      <th></th>\n",
       "      <th>series</th>\n",
       "      <th>place</th>\n",
       "      <th>Date</th>\n",
       "      <th>Time</th>\n",
       "    </tr>\n",
       "  </thead>\n",
       "  <tbody>\n",
       "    <tr>\n",
       "      <th>0</th>\n",
       "      <td>1st T20I</td>\n",
       "      <td>New York</td>\n",
       "      <td>5 JUNE, 2024</td>\n",
       "      <td>8:00 PM IST</td>\n",
       "    </tr>\n",
       "    <tr>\n",
       "      <th>1</th>\n",
       "      <td>2nd T20I</td>\n",
       "      <td>New York</td>\n",
       "      <td>9 JUNE, 2024</td>\n",
       "      <td>8:00 PM IST</td>\n",
       "    </tr>\n",
       "    <tr>\n",
       "      <th>2</th>\n",
       "      <td>3rd T20I</td>\n",
       "      <td>New York</td>\n",
       "      <td>12 JUNE, 2024</td>\n",
       "      <td>8:00 PM IST</td>\n",
       "    </tr>\n",
       "    <tr>\n",
       "      <th>3</th>\n",
       "      <td>4th T20I</td>\n",
       "      <td>Florida</td>\n",
       "      <td>15 JUNE, 2024</td>\n",
       "      <td>8:00 PM IST</td>\n",
       "    </tr>\n",
       "    <tr>\n",
       "      <th>4</th>\n",
       "      <td>1st T20I</td>\n",
       "      <td>Harare</td>\n",
       "      <td>6 JULY, 2024</td>\n",
       "      <td>8:00 PM IST</td>\n",
       "    </tr>\n",
       "    <tr>\n",
       "      <th>5</th>\n",
       "      <td>2nd T20I</td>\n",
       "      <td>Harare</td>\n",
       "      <td>7 JULY, 2024</td>\n",
       "      <td>8:00 PM IST</td>\n",
       "    </tr>\n",
       "    <tr>\n",
       "      <th>6</th>\n",
       "      <td>3rd T20I</td>\n",
       "      <td>Harare</td>\n",
       "      <td>10 JULY, 2024</td>\n",
       "      <td>8:00 PM IST</td>\n",
       "    </tr>\n",
       "    <tr>\n",
       "      <th>7</th>\n",
       "      <td>4th T20I</td>\n",
       "      <td>Harare</td>\n",
       "      <td>13 JULY, 2024</td>\n",
       "      <td>8:00 PM IST</td>\n",
       "    </tr>\n",
       "    <tr>\n",
       "      <th>8</th>\n",
       "      <td>5th T20I</td>\n",
       "      <td>Harare</td>\n",
       "      <td>14 JULY, 2024</td>\n",
       "      <td>8:00 PM IST</td>\n",
       "    </tr>\n",
       "  </tbody>\n",
       "</table>\n",
       "</div>"
      ],
      "text/plain": [
       "     series     place           Date         Time\n",
       "0  1st T20I  New York   5 JUNE, 2024  8:00 PM IST\n",
       "1  2nd T20I  New York   9 JUNE, 2024  8:00 PM IST\n",
       "2  3rd T20I  New York  12 JUNE, 2024  8:00 PM IST\n",
       "3  4th T20I   Florida  15 JUNE, 2024  8:00 PM IST\n",
       "4  1st T20I    Harare   6 JULY, 2024  8:00 PM IST\n",
       "5  2nd T20I    Harare   7 JULY, 2024  8:00 PM IST\n",
       "6  3rd T20I    Harare  10 JULY, 2024  8:00 PM IST\n",
       "7  4th T20I    Harare  13 JULY, 2024  8:00 PM IST\n",
       "8  5th T20I    Harare  14 JULY, 2024  8:00 PM IST"
      ]
     },
     "execution_count": 38,
     "metadata": {},
     "output_type": "execute_result"
    }
   ],
   "source": [
    "International_Fixtures=pd.DataFrame([])\n",
    "International_Fixtures['series']=series\n",
    "International_Fixtures['place']=place\n",
    "International_Fixtures['Date']=Date\n",
    "International_Fixtures['Time']=Time\n",
    "International_Fixtures"
   ]
  },
  {
   "cell_type": "markdown",
   "id": "97fe7197",
   "metadata": {},
   "source": [
    "# QUESTION.4"
   ]
  },
  {
   "cell_type": "code",
   "execution_count": 1,
   "id": "ef9af9d3",
   "metadata": {},
   "outputs": [],
   "source": [
    "# Importing Libraries\n",
    "import selenium\n",
    "import pandas as pd\n",
    "import time\n",
    "from bs4 import BeautifulSoup\n",
    "\n",
    "# Importing selenium webdriver \n",
    "from selenium import webdriver\n",
    "\n",
    "# Importing required Exceptions which needs to handled\n",
    "from selenium.common.exceptions import StaleElementReferenceException, NoSuchElementException\n",
    "\n",
    "#Importing requests\n",
    "import requests\n",
    "\n",
    "# importing regex\n",
    "import re\n",
    "from selenium.webdriver.common.by import By"
   ]
  },
  {
   "cell_type": "code",
   "execution_count": 2,
   "id": "9bb1f57c",
   "metadata": {},
   "outputs": [],
   "source": [
    "driver = webdriver.Chrome()"
   ]
  },
  {
   "cell_type": "code",
   "execution_count": 3,
   "id": "b047393b",
   "metadata": {},
   "outputs": [],
   "source": [
    "Url = \"https://github.com/\""
   ]
  },
  {
   "cell_type": "code",
   "execution_count": 5,
   "id": "a2f67d93",
   "metadata": {},
   "outputs": [],
   "source": [
    "driver.get(Url)"
   ]
  },
  {
   "cell_type": "code",
   "execution_count": 8,
   "id": "00c90c40",
   "metadata": {},
   "outputs": [],
   "source": [
    "Repository_title=[]\n",
    "description=[]\n",
    "Contributors=[]\n",
    "Language=[]"
   ]
  },
  {
   "cell_type": "code",
   "execution_count": 14,
   "id": "ba5e89c0",
   "metadata": {},
   "outputs": [],
   "source": [
    "explore = driver.find_element(By.XPATH,'/html/body/div[1]/div[4]/main/div[1]/nav/div/a[1]')       # Locating page foe top videos by xpath\n",
    "explore.click()"
   ]
  },
  {
   "cell_type": "code",
   "execution_count": 15,
   "id": "e1062230",
   "metadata": {},
   "outputs": [],
   "source": [
    "trending = driver.find_element(By.XPATH,'/html/body/div[1]/div[4]/main/div[1]/nav/div/a[3]')       # Locating page foe top videos by xpath\n",
    "trending.click()"
   ]
  },
  {
   "cell_type": "code",
   "execution_count": 17,
   "id": "2a39bd3c",
   "metadata": {},
   "outputs": [
    {
     "name": "stdout",
     "output_type": "stream",
     "text": [
      "26 ['KindXiaoming /', 'KindXiaoming /', 'xM4ddy /', 'rasbt /', 'IvanGlinkin /', 'karpathy /', 'Blealtan /', 'lmstudio-ai /', 'solana-labs /', 'fastfetch-cli /', 'pydantic /', 'Stirling-Tools /', 'wandb /', 'reorproject /', 'systemdesign42 /', 'HVision-NKU /', 'mlc-ai /', 'huggingface /', 'MaaAssistantArknights /', 'adrianhajdin /', 'Profluent-AI /', 'langgenius /', 'cpacker /', 'Universidade-Livre /', 'codecrafters-io /', 'tokio-rs /']\n"
     ]
    }
   ],
   "source": [
    "#scraping the Repositor_Name \n",
    "RT=driver.find_elements(By.XPATH,'//span[@class=\"text-normal\"]')\n",
    "for i in RT:\n",
    "    if i.text is None :\n",
    "        Repository_title.append(\"--\") \n",
    "    else:\n",
    "        Repository_title.append(i.text)\n",
    "print(len(Repository_title),Repository_title)"
   ]
  },
  {
   "cell_type": "code",
   "execution_count": 18,
   "id": "814814be",
   "metadata": {},
   "outputs": [
    {
     "name": "stdout",
     "output_type": "stream",
     "text": [
      "25 ['Kolmogorov Arnold Networks', 'GUI Tool To Removes Ads From Various Places Around Windows 11', 'Implementing a ChatGPT-like LLM from scratch, step by step', 'Close-Circuit Telegram Vision revolutionizes location tracking with its open-source design and Telegram API integration. Offering precise tracking within 50-100 meters, users can monitor others in real-time for logistics or safety, redefining how we navigate our surroundings', 'LLM training in simple, raw C/CUDA', 'An efficient pure-PyTorch implementation of Kolmogorov-Arnold Network (KAN).', 'LM Studio in your terminal', 'Web-Scale Blockchain for fast, secure, scalable, decentralized apps and marketplaces.', 'Like neofetch, but much faster because written mostly in C.', 'Uncomplicated Observability for Python and beyond! 🪵🔥', '#1 Locally hosted web application that allows you to perform various operations on PDF files', \"OpenUI let's you describe UI using your imagination, then see it rendered live.\", 'Private & offline AI personal knowledge management app.', 'A resource to help you learn system design.', 'Create Magic Story!', 'Bringing large-language models and chat to web browsers. Everything runs inside the browser with no server support.', 'Minimalist ML framework for Rust', '《明日方舟》小助手，全日常一键长草！| A one-click tool for the daily tasks of Arknights, supporting all clients.', 'Horizon is a modern banking platform for everyone.', 'AI-generated gene editing systems', \"Dify is an open-source LLM app development platform. Dify's intuitive interface combines AI workflow, RAG pipeline, agent capabilities, model management, observability features and more, letting you quickly go from prototype to production.\", 'Create LLM agents with long-term memory and custom tools 📚🦙', '🎓 Um caminho para a educação autodidata em Ciência da Computação!', 'Master programming by recreating your favorite technologies from scratch.', 'Ergonomic and modular web framework built with Tokio, Tower, and Hyper']\n"
     ]
    }
   ],
   "source": [
    "#scraping the Description \n",
    "des=driver.find_elements(By.XPATH,'//p[@class=\"col-9 color-fg-muted my-1 pr-4\"]')\n",
    "for i in des:\n",
    "    if i.text is None :\n",
    "        description.append(\"--\") \n",
    "    else:\n",
    "        description.append(i.text)\n",
    "print(len(description),description)"
   ]
  },
  {
   "cell_type": "code",
   "execution_count": 19,
   "id": "70172cd3",
   "metadata": {},
   "outputs": [
    {
     "name": "stdout",
     "output_type": "stream",
     "text": [
      "21 ['Jupyter Notebook', 'C#', 'Jupyter Notebook', 'JavaScript', 'Cuda', 'Python', 'TypeScript', 'Rust', 'C', 'Python', 'Java', 'TypeScript', 'TypeScript', 'Jupyter Notebook', 'TypeScript', 'Rust', 'C++', 'TypeScript', 'TypeScript', 'Python', 'Rust']\n"
     ]
    }
   ],
   "source": [
    "#scraping the Language \n",
    "L=driver.find_elements(By.XPATH,'//span[@itemprop=\"programmingLanguage\"]')\n",
    "for i in L:\n",
    "    if i.text is None :\n",
    "        Language.append(\"NAN\") \n",
    "    else:\n",
    "        Language.append(i.text)\n",
    "print(len(Language),Language)"
   ]
  },
  {
   "cell_type": "code",
   "execution_count": 20,
   "id": "78ee28bc",
   "metadata": {},
   "outputs": [
    {
     "name": "stdout",
     "output_type": "stream",
     "text": [
      "50 ['7,246', '552', '2,870', '77', '14,924', '1,328', '809', '102', '18,177', '1,880', '536', '39', '319', '28', '12,281', '3,811', '4,981', '264', '897', '26', '23,850', '1,684', '7,353', '693', '5,057', '277', '8,946', '884', '1,118', '108', '9,487', '578', '13,656', '738', '11,975', '1,558', '447', '124', '872', '74', '26,822', '3,480', '9,422', '1,026', '13,413', '1,013', '259,898', '24,646', '16,410', '953']\n"
     ]
    }
   ],
   "source": [
    "#scraping the Muted_Link And Star \n",
    "C=driver.find_elements(By.XPATH,'//a[@class=\"Link Link--muted d-inline-block mr-3\"]')\n",
    "for i in C:\n",
    "    if i.text is None :\n",
    "        Contributors.append(\"NAN\") \n",
    "    else:\n",
    "        Contributors.append(i.text)\n",
    "print(len(Contributors),Contributors)"
   ]
  },
  {
   "cell_type": "code",
   "execution_count": 31,
   "id": "2921b66e",
   "metadata": {},
   "outputs": [
    {
     "data": {
      "text/html": [
       "<div>\n",
       "<style scoped>\n",
       "    .dataframe tbody tr th:only-of-type {\n",
       "        vertical-align: middle;\n",
       "    }\n",
       "\n",
       "    .dataframe tbody tr th {\n",
       "        vertical-align: top;\n",
       "    }\n",
       "\n",
       "    .dataframe thead th {\n",
       "        text-align: right;\n",
       "    }\n",
       "</style>\n",
       "<table border=\"1\" class=\"dataframe\">\n",
       "  <thead>\n",
       "    <tr style=\"text-align: right;\">\n",
       "      <th></th>\n",
       "      <th>Title</th>\n",
       "      <th>description</th>\n",
       "      <th>Language</th>\n",
       "      <th>Conutrybuted</th>\n",
       "    </tr>\n",
       "  </thead>\n",
       "  <tbody>\n",
       "    <tr>\n",
       "      <th>0</th>\n",
       "      <td>KindXiaoming /</td>\n",
       "      <td>Kolmogorov Arnold Networks</td>\n",
       "      <td>Jupyter Notebook</td>\n",
       "      <td>7,246</td>\n",
       "    </tr>\n",
       "    <tr>\n",
       "      <th>1</th>\n",
       "      <td>KindXiaoming /</td>\n",
       "      <td>GUI Tool To Removes Ads From Various Places Ar...</td>\n",
       "      <td>C#</td>\n",
       "      <td>552</td>\n",
       "    </tr>\n",
       "    <tr>\n",
       "      <th>2</th>\n",
       "      <td>xM4ddy /</td>\n",
       "      <td>Implementing a ChatGPT-like LLM from scratch, ...</td>\n",
       "      <td>Jupyter Notebook</td>\n",
       "      <td>2,870</td>\n",
       "    </tr>\n",
       "    <tr>\n",
       "      <th>3</th>\n",
       "      <td>rasbt /</td>\n",
       "      <td>Close-Circuit Telegram Vision revolutionizes l...</td>\n",
       "      <td>JavaScript</td>\n",
       "      <td>77</td>\n",
       "    </tr>\n",
       "    <tr>\n",
       "      <th>4</th>\n",
       "      <td>IvanGlinkin /</td>\n",
       "      <td>LLM training in simple, raw C/CUDA</td>\n",
       "      <td>Cuda</td>\n",
       "      <td>14,924</td>\n",
       "    </tr>\n",
       "    <tr>\n",
       "      <th>5</th>\n",
       "      <td>karpathy /</td>\n",
       "      <td>An efficient pure-PyTorch implementation of Ko...</td>\n",
       "      <td>Python</td>\n",
       "      <td>1,328</td>\n",
       "    </tr>\n",
       "    <tr>\n",
       "      <th>6</th>\n",
       "      <td>Blealtan /</td>\n",
       "      <td>LM Studio in your terminal</td>\n",
       "      <td>TypeScript</td>\n",
       "      <td>809</td>\n",
       "    </tr>\n",
       "    <tr>\n",
       "      <th>7</th>\n",
       "      <td>lmstudio-ai /</td>\n",
       "      <td>Web-Scale Blockchain for fast, secure, scalabl...</td>\n",
       "      <td>Rust</td>\n",
       "      <td>102</td>\n",
       "    </tr>\n",
       "    <tr>\n",
       "      <th>8</th>\n",
       "      <td>solana-labs /</td>\n",
       "      <td>Like neofetch, but much faster because written...</td>\n",
       "      <td>C</td>\n",
       "      <td>18,177</td>\n",
       "    </tr>\n",
       "    <tr>\n",
       "      <th>9</th>\n",
       "      <td>fastfetch-cli /</td>\n",
       "      <td>Uncomplicated Observability for Python and bey...</td>\n",
       "      <td>Python</td>\n",
       "      <td>1,880</td>\n",
       "    </tr>\n",
       "    <tr>\n",
       "      <th>10</th>\n",
       "      <td>pydantic /</td>\n",
       "      <td>#1 Locally hosted web application that allows ...</td>\n",
       "      <td>Java</td>\n",
       "      <td>536</td>\n",
       "    </tr>\n",
       "    <tr>\n",
       "      <th>11</th>\n",
       "      <td>Stirling-Tools /</td>\n",
       "      <td>OpenUI let's you describe UI using your imagin...</td>\n",
       "      <td>TypeScript</td>\n",
       "      <td>39</td>\n",
       "    </tr>\n",
       "    <tr>\n",
       "      <th>12</th>\n",
       "      <td>wandb /</td>\n",
       "      <td>Private &amp; offline AI personal knowledge manage...</td>\n",
       "      <td>TypeScript</td>\n",
       "      <td>319</td>\n",
       "    </tr>\n",
       "    <tr>\n",
       "      <th>13</th>\n",
       "      <td>reorproject /</td>\n",
       "      <td>A resource to help you learn system design.</td>\n",
       "      <td>Jupyter Notebook</td>\n",
       "      <td>28</td>\n",
       "    </tr>\n",
       "    <tr>\n",
       "      <th>14</th>\n",
       "      <td>systemdesign42 /</td>\n",
       "      <td>Create Magic Story!</td>\n",
       "      <td>TypeScript</td>\n",
       "      <td>12,281</td>\n",
       "    </tr>\n",
       "    <tr>\n",
       "      <th>15</th>\n",
       "      <td>HVision-NKU /</td>\n",
       "      <td>Bringing large-language models and chat to web...</td>\n",
       "      <td>Rust</td>\n",
       "      <td>3,811</td>\n",
       "    </tr>\n",
       "    <tr>\n",
       "      <th>16</th>\n",
       "      <td>mlc-ai /</td>\n",
       "      <td>Minimalist ML framework for Rust</td>\n",
       "      <td>C++</td>\n",
       "      <td>4,981</td>\n",
       "    </tr>\n",
       "    <tr>\n",
       "      <th>17</th>\n",
       "      <td>huggingface /</td>\n",
       "      <td>《明日方舟》小助手，全日常一键长草！| A one-click tool for the d...</td>\n",
       "      <td>TypeScript</td>\n",
       "      <td>264</td>\n",
       "    </tr>\n",
       "    <tr>\n",
       "      <th>18</th>\n",
       "      <td>MaaAssistantArknights /</td>\n",
       "      <td>Horizon is a modern banking platform for every...</td>\n",
       "      <td>TypeScript</td>\n",
       "      <td>897</td>\n",
       "    </tr>\n",
       "    <tr>\n",
       "      <th>19</th>\n",
       "      <td>adrianhajdin /</td>\n",
       "      <td>AI-generated gene editing systems</td>\n",
       "      <td>Python</td>\n",
       "      <td>26</td>\n",
       "    </tr>\n",
       "    <tr>\n",
       "      <th>20</th>\n",
       "      <td>Profluent-AI /</td>\n",
       "      <td>Dify is an open-source LLM app development pla...</td>\n",
       "      <td>Rust</td>\n",
       "      <td>23,850</td>\n",
       "    </tr>\n",
       "  </tbody>\n",
       "</table>\n",
       "</div>"
      ],
      "text/plain": [
       "                      Title  \\\n",
       "0            KindXiaoming /   \n",
       "1            KindXiaoming /   \n",
       "2                  xM4ddy /   \n",
       "3                   rasbt /   \n",
       "4             IvanGlinkin /   \n",
       "5                karpathy /   \n",
       "6                Blealtan /   \n",
       "7             lmstudio-ai /   \n",
       "8             solana-labs /   \n",
       "9           fastfetch-cli /   \n",
       "10               pydantic /   \n",
       "11         Stirling-Tools /   \n",
       "12                  wandb /   \n",
       "13            reorproject /   \n",
       "14         systemdesign42 /   \n",
       "15            HVision-NKU /   \n",
       "16                 mlc-ai /   \n",
       "17            huggingface /   \n",
       "18  MaaAssistantArknights /   \n",
       "19           adrianhajdin /   \n",
       "20           Profluent-AI /   \n",
       "\n",
       "                                          description          Language  \\\n",
       "0                          Kolmogorov Arnold Networks  Jupyter Notebook   \n",
       "1   GUI Tool To Removes Ads From Various Places Ar...                C#   \n",
       "2   Implementing a ChatGPT-like LLM from scratch, ...  Jupyter Notebook   \n",
       "3   Close-Circuit Telegram Vision revolutionizes l...        JavaScript   \n",
       "4                  LLM training in simple, raw C/CUDA              Cuda   \n",
       "5   An efficient pure-PyTorch implementation of Ko...            Python   \n",
       "6                          LM Studio in your terminal        TypeScript   \n",
       "7   Web-Scale Blockchain for fast, secure, scalabl...              Rust   \n",
       "8   Like neofetch, but much faster because written...                 C   \n",
       "9   Uncomplicated Observability for Python and bey...            Python   \n",
       "10  #1 Locally hosted web application that allows ...              Java   \n",
       "11  OpenUI let's you describe UI using your imagin...        TypeScript   \n",
       "12  Private & offline AI personal knowledge manage...        TypeScript   \n",
       "13        A resource to help you learn system design.  Jupyter Notebook   \n",
       "14                                Create Magic Story!        TypeScript   \n",
       "15  Bringing large-language models and chat to web...              Rust   \n",
       "16                   Minimalist ML framework for Rust               C++   \n",
       "17  《明日方舟》小助手，全日常一键长草！| A one-click tool for the d...        TypeScript   \n",
       "18  Horizon is a modern banking platform for every...        TypeScript   \n",
       "19                  AI-generated gene editing systems            Python   \n",
       "20  Dify is an open-source LLM app development pla...              Rust   \n",
       "\n",
       "   Conutrybuted  \n",
       "0         7,246  \n",
       "1           552  \n",
       "2         2,870  \n",
       "3            77  \n",
       "4        14,924  \n",
       "5         1,328  \n",
       "6           809  \n",
       "7           102  \n",
       "8        18,177  \n",
       "9         1,880  \n",
       "10          536  \n",
       "11           39  \n",
       "12          319  \n",
       "13           28  \n",
       "14       12,281  \n",
       "15        3,811  \n",
       "16        4,981  \n",
       "17          264  \n",
       "18          897  \n",
       "19           26  \n",
       "20       23,850  "
      ]
     },
     "execution_count": 31,
     "metadata": {},
     "output_type": "execute_result"
    }
   ],
   "source": [
    "Trending_Repository=pd.DataFrame([])\n",
    "Trending_Repository['Title']=Repository_title[:21]\n",
    "Trending_Repository['description']=description[:21]\n",
    "Trending_Repository['Language']=Language[:21]\n",
    "Trending_Repository['Conutrybuted']=Contributors[:21]\n",
    "Trending_Repository"
   ]
  },
  {
   "cell_type": "code",
   "execution_count": null,
   "id": "4dfcdb12",
   "metadata": {},
   "outputs": [],
   "source": []
  },
  {
   "cell_type": "markdown",
   "id": "c1117365",
   "metadata": {},
   "source": [
    "# QUESTION.6"
   ]
  },
  {
   "cell_type": "code",
   "execution_count": null,
   "id": "cb2c906d",
   "metadata": {},
   "outputs": [],
   "source": []
  },
  {
   "cell_type": "code",
   "execution_count": 79,
   "id": "5e24b5fe",
   "metadata": {},
   "outputs": [],
   "source": [
    "driver = webdriver.Chrome()"
   ]
  },
  {
   "cell_type": "code",
   "execution_count": 80,
   "id": "c0df5e98",
   "metadata": {},
   "outputs": [],
   "source": [
    "Url = \"https://www.theguardian.com/news/datablog/2012/aug/09/best-selling-books-all-time-fifty-shades-grey-compare\""
   ]
  },
  {
   "cell_type": "code",
   "execution_count": 81,
   "id": "38d8ddc6",
   "metadata": {},
   "outputs": [],
   "source": [
    "driver.get(Url)"
   ]
  },
  {
   "cell_type": "code",
   "execution_count": 82,
   "id": "c87e39b8",
   "metadata": {},
   "outputs": [],
   "source": [
    "Book_name=[]\n",
    "Author_name=[]\n",
    "Volumes_sold=[]\n",
    "Publisher=[]\n",
    "Genre=[]"
   ]
  },
  {
   "cell_type": "code",
   "execution_count": 83,
   "id": "99e4d082",
   "metadata": {},
   "outputs": [
    {
     "name": "stdout",
     "output_type": "stream",
     "text": [
      "100 ['Da Vinci Code,The', 'Harry Potter and the Deathly Hallows', \"Harry Potter and the Philosopher's Stone\", 'Harry Potter and the Order of the Phoenix', 'Fifty Shades of Grey', 'Harry Potter and the Goblet of Fire', 'Harry Potter and the Chamber of Secrets', 'Harry Potter and the Prisoner of Azkaban', 'Angels and Demons', \"Harry Potter and the Half-blood Prince:Children's Edition\", 'Fifty Shades Darker', 'Twilight', 'Girl with the Dragon Tattoo,The:Millennium Trilogy', 'Fifty Shades Freed', 'Lost Symbol,The', 'New Moon', 'Deception Point', 'Eclipse', 'Lovely Bones,The', 'Curious Incident of the Dog in the Night-time,The', 'Digital Fortress', 'Short History of Nearly Everything,A', 'Girl Who Played with Fire,The:Millennium Trilogy', 'Breaking Dawn', 'Very Hungry Caterpillar,The:The Very Hungry Caterpillar', 'Gruffalo,The', \"Jamie's 30-Minute Meals\", 'Kite Runner,The', 'One Day', 'Thousand Splendid Suns,A', \"Girl Who Kicked the Hornets' Nest,The:Millennium Trilogy\", \"Time Traveler's Wife,The\", 'Atonement', \"Bridget Jones's Diary:A Novel\", 'World According to Clarkson,The', \"Captain Corelli's Mandolin\", 'Sound of Laughter,The', 'Life of Pi', 'Billy Connolly', 'Child Called It,A', \"Gruffalo's Child,The\", \"Angela's Ashes:A Memoir of a Childhood\", 'Birdsong', 'Northern Lights:His Dark Materials S.', 'Labyrinth', 'Harry Potter and the Half-blood Prince', 'Help,The', 'Man and Boy', 'Memoirs of a Geisha', \"No.1 Ladies' Detective Agency,The:No.1 Ladies' Detective Agency S.\", 'Island,The', 'PS, I Love You', 'You are What You Eat:The Plan That Will Change Your Life', 'Shadow of the Wind,The', 'Tales of Beedle the Bard,The', 'Broker,The', \"Dr. Atkins' New Diet Revolution:The No-hunger, Luxurious Weight Loss P\", 'Subtle Knife,The:His Dark Materials S.', 'Eats, Shoots and Leaves:The Zero Tolerance Approach to Punctuation', \"Delia's How to Cook:(Bk.1)\", 'Chocolat', 'Boy in the Striped Pyjamas,The', \"My Sister's Keeper\", 'Amber Spyglass,The:His Dark Materials S.', 'To Kill a Mockingbird', 'Men are from Mars, Women are from Venus:A Practical Guide for Improvin', 'Dear Fatty', 'Short History of Tractors in Ukrainian,A', 'Hannibal', 'Lord of the Rings,The', 'Stupid White Men:...and Other Sorry Excuses for the State of the Natio', 'Interpretation of Murder,The', 'Sharon Osbourne Extreme:My Autobiography', 'Alchemist,The:A Fable About Following Your Dream', \"At My Mother's Knee ...:and Other Low Joints\", 'Notes from a Small Island', 'Return of the Naked Chef,The', 'Bridget Jones: The Edge of Reason', \"Jamie's Italy\", 'I Can Make You Thin', 'Down Under', 'Summons,The', 'Small Island', 'Nigella Express', 'Brick Lane', \"Memory Keeper's Daughter,The\", 'Room on the Broom', 'About a Boy', 'My Booky Wook', 'God Delusion,The', '\"Beano\" Annual,The', 'White Teeth', 'House at Riverton,The', 'Book Thief,The', 'Nights of Rain and Stars', 'Ghost,The', 'Happy Days with the Naked Chef', 'Hunger Games,The:Hunger Games Trilogy', \"Lost Boy,The:A Foster Child's Search for the Love of a Family\", \"Jamie's Ministry of Food:Anyone Can Learn to Cook in 24 Hours\"]\n"
     ]
    }
   ],
   "source": [
    "#scraping the Book_name \n",
    "bname=driver.find_elements(By.XPATH,'/html/body/div/div[2]/div[2]/div/div[2]/div/table/tbody/tr/td[2]')\n",
    "for i in bname:\n",
    "    if i.text is None :\n",
    "        Book_name.append(\"--\") \n",
    "    else:\n",
    "        Book_name.append(i.text)\n",
    "print(len(Book_name),Book_name)"
   ]
  },
  {
   "cell_type": "code",
   "execution_count": 84,
   "id": "8180ff27",
   "metadata": {},
   "outputs": [
    {
     "name": "stdout",
     "output_type": "stream",
     "text": [
      "100 ['Brown, Dan', 'Rowling, J.K.', 'Rowling, J.K.', 'Rowling, J.K.', 'James, E. L.', 'Rowling, J.K.', 'Rowling, J.K.', 'Rowling, J.K.', 'Brown, Dan', 'Rowling, J.K.', 'James, E. L.', 'Meyer, Stephenie', 'Larsson, Stieg', 'James, E. L.', 'Brown, Dan', 'Meyer, Stephenie', 'Brown, Dan', 'Meyer, Stephenie', 'Sebold, Alice', 'Haddon, Mark', 'Brown, Dan', 'Bryson, Bill', 'Larsson, Stieg', 'Meyer, Stephenie', 'Carle, Eric', 'Donaldson, Julia', 'Oliver, Jamie', 'Hosseini, Khaled', 'Nicholls, David', 'Hosseini, Khaled', 'Larsson, Stieg', 'Niffenegger, Audrey', 'McEwan, Ian', 'Fielding, Helen', 'Clarkson, Jeremy', 'Bernieres, Louis de', 'Kay, Peter', 'Martel, Yann', 'Stephenson, Pamela', 'Pelzer, Dave', 'Donaldson, Julia', 'McCourt, Frank', 'Faulks, Sebastian', 'Pullman, Philip', 'Mosse, Kate', 'Rowling, J.K.', 'Stockett, Kathryn', 'Parsons, Tony', 'Golden, Arthur', 'McCall Smith, Alexander', 'Hislop, Victoria', 'Ahern, Cecelia', 'McKeith, Gillian', 'Zafon, Carlos Ruiz', 'Rowling, J.K.', 'Grisham, John', 'Atkins, Robert C.', 'Pullman, Philip', 'Truss, Lynne', 'Smith, Delia', 'Harris, Joanne', 'Boyne, John', 'Picoult, Jodi', 'Pullman, Philip', 'Lee, Harper', 'Gray, John', 'French, Dawn', 'Lewycka, Marina', 'Harris, Thomas', 'Tolkien, J. R. R.', 'Moore, Michael', 'Rubenfeld, Jed', 'Osbourne, Sharon', 'Coelho, Paulo', \"O'Grady, Paul\", 'Bryson, Bill', 'Oliver, Jamie', 'Fielding, Helen', 'Oliver, Jamie', 'McKenna, Paul', 'Bryson, Bill', 'Grisham, John', 'Levy, Andrea', 'Lawson, Nigella', 'Ali, Monica', 'Edwards, Kim', 'Donaldson, Julia', 'Hornby, Nick', 'Brand, Russell', 'Dawkins, Richard', '0', 'Smith, Zadie', 'Morton, Kate', 'Zusak, Markus', 'Binchy, Maeve', 'Harris, Robert', 'Oliver, Jamie', 'Collins, Suzanne', 'Pelzer, Dave', 'Oliver, Jamie']\n"
     ]
    }
   ],
   "source": [
    "#scraping the Author_name \n",
    "Auth=driver.find_elements(By.XPATH,'/html/body/div/div[2]/div[2]/div/div[2]/div/table/tbody/tr/td[3]')\n",
    "for i in Auth:\n",
    "    if i.text is None :\n",
    "        Author_name.append(\"--\") \n",
    "    else:\n",
    "        Author_name.append(i.text)\n",
    "print(len(Author_name),Author_name)"
   ]
  },
  {
   "cell_type": "code",
   "execution_count": 85,
   "id": "770e7f23",
   "metadata": {},
   "outputs": [
    {
     "name": "stdout",
     "output_type": "stream",
     "text": [
      "100 ['Crime, Thriller & Adventure', \"Children's Fiction\", \"Children's Fiction\", \"Children's Fiction\", 'Romance & Sagas', \"Children's Fiction\", \"Children's Fiction\", \"Children's Fiction\", 'Crime, Thriller & Adventure', \"Children's Fiction\", 'Romance & Sagas', 'Young Adult Fiction', 'Crime, Thriller & Adventure', 'Romance & Sagas', 'Crime, Thriller & Adventure', 'Young Adult Fiction', 'Crime, Thriller & Adventure', 'Young Adult Fiction', 'General & Literary Fiction', 'General & Literary Fiction', 'Crime, Thriller & Adventure', 'Popular Science', 'Crime, Thriller & Adventure', 'Young Adult Fiction', 'Picture Books', 'Picture Books', 'Food & Drink: General', 'General & Literary Fiction', 'General & Literary Fiction', 'General & Literary Fiction', 'Crime, Thriller & Adventure', 'General & Literary Fiction', 'General & Literary Fiction', 'General & Literary Fiction', 'Humour: Collections & General', 'General & Literary Fiction', 'Autobiography: General', 'General & Literary Fiction', 'Biography: The Arts', 'Autobiography: General', 'Picture Books', 'Autobiography: General', 'General & Literary Fiction', 'Young Adult Fiction', 'General & Literary Fiction', 'Science Fiction & Fantasy', 'General & Literary Fiction', 'General & Literary Fiction', 'General & Literary Fiction', 'Crime, Thriller & Adventure', 'General & Literary Fiction', 'General & Literary Fiction', 'Fitness & Diet', 'General & Literary Fiction', \"Children's Fiction\", 'Crime, Thriller & Adventure', 'Fitness & Diet', 'Young Adult Fiction', 'Usage & Writing Guides', 'Food & Drink: General', 'General & Literary Fiction', 'Young Adult Fiction', 'General & Literary Fiction', 'Young Adult Fiction', 'General & Literary Fiction', 'Popular Culture & Media: General Interest', 'Autobiography: The Arts', 'General & Literary Fiction', 'Crime, Thriller & Adventure', 'Science Fiction & Fantasy', 'Current Affairs & Issues', 'Crime, Thriller & Adventure', 'Autobiography: The Arts', 'General & Literary Fiction', 'Autobiography: The Arts', 'Travel Writing', 'Food & Drink: General', 'General & Literary Fiction', 'National & Regional Cuisine', 'Fitness & Diet', 'Travel Writing', 'Crime, Thriller & Adventure', 'General & Literary Fiction', 'Food & Drink: General', 'General & Literary Fiction', 'General & Literary Fiction', 'Picture Books', 'General & Literary Fiction', 'Autobiography: The Arts', 'Popular Science', \"Children's Annuals\", 'General & Literary Fiction', 'General & Literary Fiction', 'General & Literary Fiction', 'General & Literary Fiction', 'General & Literary Fiction', 'Food & Drink: General', 'Young Adult Fiction', 'Biography: General', 'Food & Drink: General']\n"
     ]
    }
   ],
   "source": [
    "#scraping the Genre \n",
    "gen=driver.find_elements(By.XPATH,'/html/body/div/div[2]/div[2]/div/div[2]/div/table/tbody/tr/td[6]')\n",
    "for i in gen:\n",
    "    if i.text is None :\n",
    "        Genre.append(\"--\") \n",
    "    else:\n",
    "        Genre.append(i.text)\n",
    "print(len(Genre),Genre)"
   ]
  },
  {
   "cell_type": "code",
   "execution_count": 86,
   "id": "8de0d53e",
   "metadata": {},
   "outputs": [
    {
     "name": "stdout",
     "output_type": "stream",
     "text": [
      "100 ['Transworld', 'Bloomsbury', 'Bloomsbury', 'Bloomsbury', 'Random House', 'Bloomsbury', 'Bloomsbury', 'Bloomsbury', 'Transworld', 'Bloomsbury', 'Random House', 'Little, Brown Book', 'Quercus', 'Random House', 'Transworld', 'Little, Brown Book', 'Transworld', 'Little, Brown Book', 'Pan Macmillan', 'Random House', 'Transworld', 'Transworld', 'Quercus', 'Little, Brown Book', 'Penguin', 'Pan Macmillan', 'Penguin', 'Bloomsbury', 'Hodder & Stoughton', 'Bloomsbury', 'Quercus', 'Random House', 'Random House', 'Pan Macmillan', 'Penguin', 'Random House', 'Random House', 'Canongate', 'HarperCollins', 'Orion', 'Pan Macmillan', 'HarperCollins', 'Random House', 'Scholastic Ltd.', 'Orion', 'Bloomsbury', 'Penguin', 'HarperCollins', 'Random House', 'Little, Brown Book', 'Headline', 'HarperCollins', 'Penguin', 'Orion', 'Bloomsbury', 'Random House', 'Random House', 'Scholastic Ltd.', 'Profile Books Group', 'Random House', 'Transworld', 'Random House Childrens Books G', 'Hodder & Stoughton', 'Scholastic Ltd.', 'Random House', 'HarperCollins', 'Random House', 'Penguin', 'Random House', 'HarperCollins', 'Penguin', 'Headline', 'Little, Brown Book', 'HarperCollins', 'Transworld', 'Transworld', 'Penguin', 'Pan Macmillan', 'Penguin', 'Transworld', 'Transworld', 'Random House', 'Headline', 'Random House', 'Transworld', 'Penguin', 'Pan Macmillan', 'Penguin', 'Hodder & Stoughton', 'Transworld', 'D.C. Thomson', 'Penguin', 'Pan Macmillan', 'Transworld', 'Orion', 'Random House', 'Penguin', 'Scholastic Ltd.', 'Orion', 'Penguin']\n"
     ]
    }
   ],
   "source": [
    "#scraping the Publisher \n",
    "pub=driver.find_elements(By.XPATH,'/html/body/div/div[2]/div[2]/div/div[2]/div/table/tbody/tr/td[5]')\n",
    "for i in pub:\n",
    "    if i.text is None :\n",
    "        Publisher.append(\"--\") \n",
    "    else:\n",
    "        Publisher.append(i.text)\n",
    "print(len(Publisher),Publisher)"
   ]
  },
  {
   "cell_type": "code",
   "execution_count": 87,
   "id": "0cc4f24e",
   "metadata": {},
   "outputs": [
    {
     "name": "stdout",
     "output_type": "stream",
     "text": [
      "100 ['5,094,805', '4,475,152', '4,200,654', '4,179,479', '3,758,936', '3,583,215', '3,484,047', '3,377,906', '3,193,946', '2,950,264', '2,479,784', '2,315,405', '2,233,570', '2,193,928', '2,183,031', '2,152,737', '2,062,145', '2,052,876', '2,005,598', '1,979,552', '1,928,900', '1,852,919', '1,814,784', '1,787,118', '1,783,535', '1,781,269', '1,743,266', '1,629,119', '1,616,068', '1,583,992', '1,555,135', '1,546,886', '1,539,428', '1,508,205', '1,489,403', '1,352,318', '1,310,207', '1,310,176', '1,231,957', '1,217,712', '1,208,711', '1,204,058', '1,184,967', '1,181,503', '1,181,093', '1,153,181', '1,132,336', '1,130,802', '1,126,337', '1,115,549', '1,108,328', '1,107,379', '1,104,403', '1,092,349', '1,090,847', '1,087,262', '1,054,196', '1,037,160', '1,023,688', '1,015,956', '1,009,873', '1,004,414', '1,003,780', '1,002,314', '998,213', '992,846', '986,753', '986,115', '970,509', '967,466', '963,353', '962,515', '959,496', '956,114', '945,640', '931,312', '925,425', '924,695', '906,968', '905,086', '890,847', '869,671', '869,659', '862,602', '856,540', '845,858', '842,535', '828,215', '820,563', '816,907', '816,585', '815,586', '814,370', '809,641', '808,900', '807,311', '794,201', '792,187', '791,507', '791,095']\n"
     ]
    }
   ],
   "source": [
    "#scraping the Volumes_sold \n",
    "vs=driver.find_elements(By.XPATH,'/html/body/div/div[2]/div[2]/div/div[2]/div/table/tbody/tr/td[4]')\n",
    "for i in vs:\n",
    "    if i.text is None :\n",
    "        Volumes_sold.append(\"--\") \n",
    "    else:\n",
    "        Volumes_sold.append(i.text)\n",
    "print(len(Volumes_sold),Volumes_sold)"
   ]
  },
  {
   "cell_type": "code",
   "execution_count": 88,
   "id": "66e82b41",
   "metadata": {},
   "outputs": [
    {
     "data": {
      "text/html": [
       "<div>\n",
       "<style scoped>\n",
       "    .dataframe tbody tr th:only-of-type {\n",
       "        vertical-align: middle;\n",
       "    }\n",
       "\n",
       "    .dataframe tbody tr th {\n",
       "        vertical-align: top;\n",
       "    }\n",
       "\n",
       "    .dataframe thead th {\n",
       "        text-align: right;\n",
       "    }\n",
       "</style>\n",
       "<table border=\"1\" class=\"dataframe\">\n",
       "  <thead>\n",
       "    <tr style=\"text-align: right;\">\n",
       "      <th></th>\n",
       "      <th>Book_name</th>\n",
       "      <th>Author_name</th>\n",
       "      <th>Genre</th>\n",
       "      <th>Publisher</th>\n",
       "      <th>Volumes_sold</th>\n",
       "    </tr>\n",
       "  </thead>\n",
       "  <tbody>\n",
       "    <tr>\n",
       "      <th>0</th>\n",
       "      <td>Da Vinci Code,The</td>\n",
       "      <td>Brown, Dan</td>\n",
       "      <td>Crime, Thriller &amp; Adventure</td>\n",
       "      <td>Transworld</td>\n",
       "      <td>5,094,805</td>\n",
       "    </tr>\n",
       "    <tr>\n",
       "      <th>1</th>\n",
       "      <td>Harry Potter and the Deathly Hallows</td>\n",
       "      <td>Rowling, J.K.</td>\n",
       "      <td>Children's Fiction</td>\n",
       "      <td>Bloomsbury</td>\n",
       "      <td>4,475,152</td>\n",
       "    </tr>\n",
       "    <tr>\n",
       "      <th>2</th>\n",
       "      <td>Harry Potter and the Philosopher's Stone</td>\n",
       "      <td>Rowling, J.K.</td>\n",
       "      <td>Children's Fiction</td>\n",
       "      <td>Bloomsbury</td>\n",
       "      <td>4,200,654</td>\n",
       "    </tr>\n",
       "    <tr>\n",
       "      <th>3</th>\n",
       "      <td>Harry Potter and the Order of the Phoenix</td>\n",
       "      <td>Rowling, J.K.</td>\n",
       "      <td>Children's Fiction</td>\n",
       "      <td>Bloomsbury</td>\n",
       "      <td>4,179,479</td>\n",
       "    </tr>\n",
       "    <tr>\n",
       "      <th>4</th>\n",
       "      <td>Fifty Shades of Grey</td>\n",
       "      <td>James, E. L.</td>\n",
       "      <td>Romance &amp; Sagas</td>\n",
       "      <td>Random House</td>\n",
       "      <td>3,758,936</td>\n",
       "    </tr>\n",
       "    <tr>\n",
       "      <th>...</th>\n",
       "      <td>...</td>\n",
       "      <td>...</td>\n",
       "      <td>...</td>\n",
       "      <td>...</td>\n",
       "      <td>...</td>\n",
       "    </tr>\n",
       "    <tr>\n",
       "      <th>95</th>\n",
       "      <td>Ghost,The</td>\n",
       "      <td>Harris, Robert</td>\n",
       "      <td>General &amp; Literary Fiction</td>\n",
       "      <td>Random House</td>\n",
       "      <td>807,311</td>\n",
       "    </tr>\n",
       "    <tr>\n",
       "      <th>96</th>\n",
       "      <td>Happy Days with the Naked Chef</td>\n",
       "      <td>Oliver, Jamie</td>\n",
       "      <td>Food &amp; Drink: General</td>\n",
       "      <td>Penguin</td>\n",
       "      <td>794,201</td>\n",
       "    </tr>\n",
       "    <tr>\n",
       "      <th>97</th>\n",
       "      <td>Hunger Games,The:Hunger Games Trilogy</td>\n",
       "      <td>Collins, Suzanne</td>\n",
       "      <td>Young Adult Fiction</td>\n",
       "      <td>Scholastic Ltd.</td>\n",
       "      <td>792,187</td>\n",
       "    </tr>\n",
       "    <tr>\n",
       "      <th>98</th>\n",
       "      <td>Lost Boy,The:A Foster Child's Search for the L...</td>\n",
       "      <td>Pelzer, Dave</td>\n",
       "      <td>Biography: General</td>\n",
       "      <td>Orion</td>\n",
       "      <td>791,507</td>\n",
       "    </tr>\n",
       "    <tr>\n",
       "      <th>99</th>\n",
       "      <td>Jamie's Ministry of Food:Anyone Can Learn to C...</td>\n",
       "      <td>Oliver, Jamie</td>\n",
       "      <td>Food &amp; Drink: General</td>\n",
       "      <td>Penguin</td>\n",
       "      <td>791,095</td>\n",
       "    </tr>\n",
       "  </tbody>\n",
       "</table>\n",
       "<p>100 rows × 5 columns</p>\n",
       "</div>"
      ],
      "text/plain": [
       "                                            Book_name       Author_name  \\\n",
       "0                                   Da Vinci Code,The        Brown, Dan   \n",
       "1                Harry Potter and the Deathly Hallows     Rowling, J.K.   \n",
       "2            Harry Potter and the Philosopher's Stone     Rowling, J.K.   \n",
       "3           Harry Potter and the Order of the Phoenix     Rowling, J.K.   \n",
       "4                                Fifty Shades of Grey      James, E. L.   \n",
       "..                                                ...               ...   \n",
       "95                                          Ghost,The    Harris, Robert   \n",
       "96                     Happy Days with the Naked Chef     Oliver, Jamie   \n",
       "97              Hunger Games,The:Hunger Games Trilogy  Collins, Suzanne   \n",
       "98  Lost Boy,The:A Foster Child's Search for the L...      Pelzer, Dave   \n",
       "99  Jamie's Ministry of Food:Anyone Can Learn to C...     Oliver, Jamie   \n",
       "\n",
       "                          Genre        Publisher Volumes_sold  \n",
       "0   Crime, Thriller & Adventure       Transworld    5,094,805  \n",
       "1            Children's Fiction       Bloomsbury    4,475,152  \n",
       "2            Children's Fiction       Bloomsbury    4,200,654  \n",
       "3            Children's Fiction       Bloomsbury    4,179,479  \n",
       "4               Romance & Sagas     Random House    3,758,936  \n",
       "..                          ...              ...          ...  \n",
       "95   General & Literary Fiction     Random House      807,311  \n",
       "96        Food & Drink: General          Penguin      794,201  \n",
       "97          Young Adult Fiction  Scholastic Ltd.      792,187  \n",
       "98           Biography: General            Orion      791,507  \n",
       "99        Food & Drink: General          Penguin      791,095  \n",
       "\n",
       "[100 rows x 5 columns]"
      ]
     },
     "execution_count": 88,
     "metadata": {},
     "output_type": "execute_result"
    }
   ],
   "source": [
    "Book=pd.DataFrame([])\n",
    "Book['Book_name']=Book_name\n",
    "Book['Author_name']=Author_name\n",
    "Book['Genre']=Genre\n",
    "Book['Publisher']=Publisher\n",
    "Book['Volumes_sold']=Volumes_sold\n",
    "Book"
   ]
  },
  {
   "cell_type": "code",
   "execution_count": null,
   "id": "1ee423b4",
   "metadata": {},
   "outputs": [],
   "source": []
  },
  {
   "cell_type": "markdown",
   "id": "92d186e6",
   "metadata": {},
   "source": [
    "# QUESTION.7"
   ]
  },
  {
   "cell_type": "code",
   "execution_count": 100,
   "id": "92a0711f",
   "metadata": {},
   "outputs": [],
   "source": [
    "driver = webdriver.Chrome()"
   ]
  },
  {
   "cell_type": "code",
   "execution_count": 101,
   "id": "55b56374",
   "metadata": {},
   "outputs": [],
   "source": [
    "Url=\"https://www.imdb.com/list/ls512407256/\""
   ]
  },
  {
   "cell_type": "code",
   "execution_count": 102,
   "id": "d70902be",
   "metadata": {},
   "outputs": [],
   "source": [
    "driver.get(Url)"
   ]
  },
  {
   "cell_type": "code",
   "execution_count": 103,
   "id": "71883507",
   "metadata": {},
   "outputs": [],
   "source": [
    "Name=[]\n",
    "Year_span=[]\n",
    "Genres=[]\n",
    "Run_time=[]\n",
    "Ratings=[]\n",
    "Votes=[]"
   ]
  },
  {
   "cell_type": "code",
   "execution_count": 104,
   "id": "e7750563",
   "metadata": {},
   "outputs": [
    {
     "name": "stdout",
     "output_type": "stream",
     "text": [
      "100 ['Game of Thrones', 'Stranger Things', 'The Walking Dead', '13 Reasons Why', 'The 100', 'Orange Is the New Black', 'Riverdale', \"Grey's Anatomy\", 'The Flash', 'Arrow', 'Money Heist', 'The Big Bang Theory', 'Black Mirror', 'Sherlock', 'Vikings', 'Pretty Little Liars', 'The Vampire Diaries', 'American Horror Story', 'Breaking Bad', 'Lucifer', 'Supernatural', 'Prison Break', 'How to Get Away with Murder', 'Teen Wolf', 'The Simpsons', 'Once Upon a Time', 'Narcos', 'Daredevil', 'Friends', 'How I Met Your Mother', 'Suits', 'Mr. Robot', 'The Originals', 'Supergirl', 'Gossip Girl', 'Sense8', 'Gotham', 'Westworld', 'Jessica Jones', 'Modern Family', 'Rick and Morty', 'Shadowhunters', 'The End of the F***ing World', 'House of Cards', 'Dark', 'Elite', 'Sex Education', 'Shameless', 'New Girl', 'Agents of S.H.I.E.L.D.', 'Game of Thrones', 'You', 'Stranger Things', 'Dexter', 'The Walking Dead', 'Fear the Walking Dead', '13 Reasons Why', 'Family Guy', 'The 100', 'The Blacklist', 'Orange Is the New Black', 'Lost', 'Riverdale', 'Peaky Blinders', \"Grey's Anatomy\", 'House', 'The Flash', 'Quantico', 'Arrow', 'Orphan Black', 'Money Heist', 'Homeland', 'The Big Bang Theory', 'Blindspot', 'Black Mirror', \"DC's Legends of Tomorrow\", 'Sherlock', \"The Handmaid's Tale\", 'Vikings', 'Chilling Adventures of Sabrina', 'Pretty Little Liars', 'The Good Doctor', 'The Vampire Diaries', 'Jane the Virgin', 'American Horror Story', 'Glee', 'Breaking Bad', 'South Park', 'Lucifer', 'Brooklyn Nine-Nine', 'Supernatural', 'Under the Dome', 'Prison Break', 'The Umbrella Academy', 'How to Get Away with Murder', 'True Detective', 'Teen Wolf', 'The OA', 'The Simpsons', 'Desperate Housewives']\n"
     ]
    }
   ],
   "source": [
    "#scraping the Name \n",
    "mname=driver.find_elements(By.XPATH,'//div[@class=\"lister-item-content\"]/h3/a')\n",
    "for i in mname:\n",
    "    if i.text is None :\n",
    "        Name.append(\"--\") \n",
    "    else:\n",
    "        Name.append(i.text)\n",
    "print(len(Name),Name)"
   ]
  },
  {
   "cell_type": "code",
   "execution_count": 105,
   "id": "dec4abb3",
   "metadata": {},
   "outputs": [
    {
     "name": "stdout",
     "output_type": "stream",
     "text": [
      "100 ['(2011–2019)', '(2016–2025)', '(2010–2022)', '(2017–2020)', '(2014–2020)', '(2013–2019)', '(2017–2023)', '(2005– )', '(2014–2023)', '(2012–2020)', '(2017–2021)', '(2007–2019)', '(2011– )', '(2010–2017)', '(2013–2020)', '(2010–2017)', '(2009–2017)', '(2011– )', '(2008–2013)', '(2016–2021)', '(2005–2020)', '(2005–2017)', '(2014–2020)', '(2011–2017)', '(1989– )', '(2011–2018)', '(2015–2017)', '(2015–2018)', '(1994–2004)', '(2005–2014)', '(2011–2019)', '(2015–2019)', '(2013–2018)', '(2015–2021)', '(2007–2012)', '(2015–2018)', '(2014–2019)', '(2016–2022)', '(2015–2019)', '(2009–2020)', '(2013– )', '(2016–2019)', '(2017–2019)', '(2013–2018)', '(2017–2020)', '(2018–2024)', '(2019–2023)', '(2011–2021)', '(2011–2018)', '(2013–2020)', '(2011–2019)', '(2018–2024)', '(2016–2025)', '(2006–2013)', '(2010–2022)', '(2015–2023)', '(2017–2020)', '(1999– )', '(2014–2020)', '(2013–2023)', '(2013–2019)', '(2004–2010)', '(2017–2023)', '(2013–2022)', '(2005– )', '(2004–2012)', '(2014–2023)', '(2015–2018)', '(2012–2020)', '(2013–2017)', '(2017–2021)', '(2011–2020)', '(2007–2019)', '(2015–2020)', '(2011– )', '(2016–2022)', '(2010–2017)', '(2017– )', '(2013–2020)', '(2018–2020)', '(2010–2017)', '(2017–2024)', '(2009–2017)', '(2014–2019)', '(2011– )', '(2009–2015)', '(2008–2013)', '(1997– )', '(2016–2021)', '(2013–2021)', '(2005–2020)', '(2013–2015)', '(2005–2017)', '(2019–2024)', '(2014–2020)', '(2014– )', '(2011–2017)', '(2016–2019)', '(1989– )', '(2004–2012)']\n"
     ]
    }
   ],
   "source": [
    "#scraping the Year_span \n",
    "ys=driver.find_elements(By.XPATH,'//span[@class=\"lister-item-year text-muted unbold\"]')\n",
    "for i in ys:\n",
    "    if i.text is None :\n",
    "        Year_span.append(\"--\") \n",
    "    else:\n",
    "        Year_span.append(i.text)\n",
    "print(len(Year_span),Year_span)"
   ]
  },
  {
   "cell_type": "code",
   "execution_count": 106,
   "id": "12bf51bd",
   "metadata": {},
   "outputs": [
    {
     "name": "stdout",
     "output_type": "stream",
     "text": [
      "100 ['Action, Adventure, Drama', 'Drama, Fantasy, Horror', 'Drama, Horror, Thriller', 'Drama, Mystery, Thriller', 'Drama, Mystery, Sci-Fi', 'Comedy, Crime, Drama', 'Crime, Drama, Mystery', 'Drama, Romance', 'Action, Adventure, Drama', 'Action, Adventure, Crime', 'Action, Crime, Drama', 'Comedy, Romance', 'Drama, Mystery, Sci-Fi', 'Crime, Drama, Mystery', 'Action, Adventure, Drama', 'Drama, Mystery, Romance', 'Drama, Fantasy, Horror', 'Drama, Horror, Sci-Fi', 'Crime, Drama, Thriller', 'Crime, Drama, Fantasy', 'Drama, Fantasy, Horror', 'Action, Crime, Drama', 'Crime, Drama, Mystery', 'Action, Drama, Fantasy', 'Animation, Comedy', 'Adventure, Fantasy, Romance', 'Biography, Crime, Drama', 'Action, Crime, Drama', 'Comedy, Romance', 'Comedy, Drama, Romance', 'Comedy, Drama', 'Crime, Drama, Thriller', 'Drama, Fantasy, Horror', 'Action, Adventure, Drama', 'Drama, Romance', 'Drama, Mystery, Sci-Fi', 'Action, Crime, Drama', 'Drama, Mystery, Sci-Fi', 'Action, Crime, Drama', 'Comedy, Drama, Romance', 'Animation, Adventure, Comedy', 'Action, Drama, Fantasy', 'Adventure, Comedy, Crime', 'Drama', 'Crime, Drama, Mystery', 'Crime, Drama, Thriller', 'Comedy, Drama, Romance', 'Comedy, Drama', 'Comedy, Romance', 'Action, Adventure, Drama', 'Action, Adventure, Drama', 'Crime, Drama, Romance', 'Drama, Fantasy, Horror', 'Crime, Drama, Mystery', 'Drama, Horror, Thriller', 'Drama, Horror, Sci-Fi', 'Drama, Mystery, Thriller', 'Animation, Comedy', 'Drama, Mystery, Sci-Fi', 'Crime, Drama, Mystery', 'Comedy, Crime, Drama', 'Adventure, Drama, Fantasy', 'Crime, Drama, Mystery', 'Crime, Drama', 'Drama, Romance', 'Drama, Mystery', 'Action, Adventure, Drama', 'Crime, Drama, Mystery', 'Action, Adventure, Crime', 'Drama, Sci-Fi, Thriller', 'Action, Crime, Drama', 'Crime, Drama, Mystery', 'Comedy, Romance', 'Action, Crime, Drama', 'Drama, Mystery, Sci-Fi', 'Action, Adventure, Drama', 'Crime, Drama, Mystery', 'Drama, Sci-Fi, Thriller', 'Action, Adventure, Drama', 'Drama, Fantasy, Horror', 'Drama, Mystery, Romance', 'Drama', 'Drama, Fantasy, Horror', 'Comedy', 'Drama, Horror, Sci-Fi', 'Comedy, Drama, Music', 'Crime, Drama, Thriller', 'Animation, Comedy', 'Crime, Drama, Fantasy', 'Comedy, Crime', 'Drama, Fantasy, Horror', 'Drama, Mystery, Sci-Fi', 'Action, Crime, Drama', 'Action, Adventure, Comedy', 'Crime, Drama, Mystery', 'Crime, Drama, Mystery', 'Action, Drama, Fantasy', 'Drama, Fantasy, Mystery', 'Animation, Comedy', 'Comedy, Drama, Mystery']\n"
     ]
    }
   ],
   "source": [
    "#scraping the Genres \n",
    "gnr=driver.find_elements(By.XPATH,'//p[@class=\"text-muted text-small\"]/span[5]')\n",
    "for i in gnr:\n",
    "    if i.text is None :\n",
    "        Genres.append(\"--\") \n",
    "    else:\n",
    "        Genres.append(i.text)\n",
    "print(len(Genres),Genres)"
   ]
  },
  {
   "cell_type": "code",
   "execution_count": 107,
   "id": "ce9cfa7e",
   "metadata": {},
   "outputs": [
    {
     "name": "stdout",
     "output_type": "stream",
     "text": [
      "100 ['60 min', '60 min', '45 min', '60 min', '43 min', '59 min', '45 min', '41 min', '43 min', '42 min', '60 min', '22 min', '60 min', '90 min', '45 min', '44 min', '43 min', '60 min', '45 min', '4,393 min', '44 min', '44 min', '43 min', '41 min', '22 min', '60 min', '50 min', '60 min', '22 min', '4,576 min', '44 min', '45 min', '45 min', '43 min', '42 min', '60 min', '42 min', '60 min', '56 min', '22 min', '23 min', '42 min', '25 min', '50 min', '60 min', '60 min', '60 min', '60 min', '22 min', '45 min', '60 min', '45 min', '60 min', '60 min', '45 min', '44 min', '60 min', '22 min', '43 min', '43 min', '59 min', '5,445 min', '45 min', '60 min', '41 min', '45 min', '43 min', '42 min', '42 min', '44 min', '60 min', '60 min', '22 min', '42 min', '60 min', '42 min', '90 min', '60 min', '45 min', '60 min', '44 min', '41 min', '43 min', '60 min', '60 min', '44 min', '45 min', '22 min', '4,393 min', '22 min', '44 min', '1,668 min', '44 min', '60 min', '43 min', '60 min', '41 min', '60 min', '22 min', '45 min']\n"
     ]
    }
   ],
   "source": [
    "#scraping the Run_time \n",
    "rt=driver.find_elements(By.XPATH,'//p[@class=\"text-muted text-small\"]/span[3]')\n",
    "for i in rt:\n",
    "    if i.text is None :\n",
    "        Run_time.append(\"--\") \n",
    "    else:\n",
    "        Run_time.append(i.text)\n",
    "print(len(Run_time),Run_time)"
   ]
  },
  {
   "cell_type": "code",
   "execution_count": 108,
   "id": "34114de8",
   "metadata": {},
   "outputs": [
    {
     "name": "stdout",
     "output_type": "stream",
     "text": [
      "100 ['9.2', '8.7', '8.1', '7.5', '7.6', '8', '6.5', '7.6', '7.5', '7.5', '8.2', '8.1', '8.7', '9.1', '8.5', '7.4', '7.7', '8', '9.5', '8.1', '8.4', '8.3', '8.1', '7.7', '8.7', '7.7', '8.8', '8.6', '8.9', '8.3', '8.4', '8.5', '8.3', '6.2', '7.5', '8.2', '7.8', '8.5', '7.9', '8.5', '9.1', '6.5', '8', '8.6', '8.7', '7.2', '8.3', '8.5', '7.8', '7.5', '9.2', '7.7', '8.7', '8.6', '8.1', '6.8', '7.5', '8.1', '7.6', '7.9', '8', '8.3', '6.5', '8.8', '7.6', '8.7', '7.5', '6.7', '7.5', '8.3', '8.2', '8.3', '8.1', '7.3', '8.7', '6.8', '9.1', '8.4', '8.5', '7.4', '7.4', '8', '7.7', '7.9', '8', '6.8', '9.5', '8.7', '8.1', '8.4', '8.4', '6.5', '8.3', '7.9', '8.1', '8.9', '7.7', '7.8', '8.7', '7.6']\n"
     ]
    }
   ],
   "source": [
    "#scraping the Ratings \n",
    "rate=driver.find_elements(By.XPATH,'//div[@class=\"ipl-rating-star small\"]/span[2]')\n",
    "for i in rate:\n",
    "    if i.text is None :\n",
    "        Ratings.append(\"--\") \n",
    "    else:\n",
    "        Ratings.append(i.text)\n",
    "print(len(Ratings),Ratings)"
   ]
  },
  {
   "cell_type": "code",
   "execution_count": 110,
   "id": "3dc9e3ec",
   "metadata": {},
   "outputs": [
    {
     "name": "stdout",
     "output_type": "stream",
     "text": [
      "100 ['2,287,486', '1,338,352', '1,083,313', '315,774', '276,529', '320,353', '155,282', '342,217', '368,385', '446,196', '532,826', '869,014', '640,810', '999,974', '583,690', '178,454', '350,131', '344,314', '2,139,887', '356,369', '483,637', '579,933', '166,827', '163,393', '436,312', '237,172', '470,837', '475,117', '1,089,209', '729,011', '479,631', '418,632', '147,984', '129,636', '193,584', '163,129', '240,848', '533,334', '226,890', '484,264', '602,377', '70,633', '220,377', '531,199', '445,017', '90,878', '351,892', '285,944', '245,717', '226,067', '2,287,486', '300,237', '1,338,352', '767,680', '1,083,313', '144,656', '315,774', '364,593', '276,529', '279,838', '320,353', '595,817', '155,282', '650,936', '342,217', '514,399', '368,385', '63,912', '446,196', '117,035', '532,826', '361,103', '869,014', '79,091', '640,810', '110,095', '999,974', '258,239', '583,690', '108,646', '178,454', '113,300', '350,131', '59,118', '344,314', '155,524', '2,139,887', '406,227', '356,369', '364,054', '483,637', '112,603', '579,933', '275,697', '166,827', '657,296', '163,393', '115,981', '436,312', '139,887']\n"
     ]
    }
   ],
   "source": [
    "#scraping the Votes \n",
    "v=driver.find_elements(By.XPATH,'//div[@class=\"lister-item-content\"]/p[4]/span[2]')\n",
    "for i in v:\n",
    "    if i.text is None :\n",
    "        Votes.append(\"--\") \n",
    "    else:\n",
    "        Votes.append(i.text)\n",
    "print(len(Votes),Votes)"
   ]
  },
  {
   "cell_type": "code",
   "execution_count": 111,
   "id": "b5e195f0",
   "metadata": {},
   "outputs": [
    {
     "data": {
      "text/html": [
       "<div>\n",
       "<style scoped>\n",
       "    .dataframe tbody tr th:only-of-type {\n",
       "        vertical-align: middle;\n",
       "    }\n",
       "\n",
       "    .dataframe tbody tr th {\n",
       "        vertical-align: top;\n",
       "    }\n",
       "\n",
       "    .dataframe thead th {\n",
       "        text-align: right;\n",
       "    }\n",
       "</style>\n",
       "<table border=\"1\" class=\"dataframe\">\n",
       "  <thead>\n",
       "    <tr style=\"text-align: right;\">\n",
       "      <th></th>\n",
       "      <th>Name</th>\n",
       "      <th>Year_span</th>\n",
       "      <th>Run_time</th>\n",
       "      <th>Genres</th>\n",
       "      <th>Ratings</th>\n",
       "      <th>Votes</th>\n",
       "    </tr>\n",
       "  </thead>\n",
       "  <tbody>\n",
       "    <tr>\n",
       "      <th>0</th>\n",
       "      <td>Game of Thrones</td>\n",
       "      <td>(2011–2019)</td>\n",
       "      <td>60 min</td>\n",
       "      <td>Action, Adventure, Drama</td>\n",
       "      <td>9.2</td>\n",
       "      <td>2,287,486</td>\n",
       "    </tr>\n",
       "    <tr>\n",
       "      <th>1</th>\n",
       "      <td>Stranger Things</td>\n",
       "      <td>(2016–2025)</td>\n",
       "      <td>60 min</td>\n",
       "      <td>Drama, Fantasy, Horror</td>\n",
       "      <td>8.7</td>\n",
       "      <td>1,338,352</td>\n",
       "    </tr>\n",
       "    <tr>\n",
       "      <th>2</th>\n",
       "      <td>The Walking Dead</td>\n",
       "      <td>(2010–2022)</td>\n",
       "      <td>45 min</td>\n",
       "      <td>Drama, Horror, Thriller</td>\n",
       "      <td>8.1</td>\n",
       "      <td>1,083,313</td>\n",
       "    </tr>\n",
       "    <tr>\n",
       "      <th>3</th>\n",
       "      <td>13 Reasons Why</td>\n",
       "      <td>(2017–2020)</td>\n",
       "      <td>60 min</td>\n",
       "      <td>Drama, Mystery, Thriller</td>\n",
       "      <td>7.5</td>\n",
       "      <td>315,774</td>\n",
       "    </tr>\n",
       "    <tr>\n",
       "      <th>4</th>\n",
       "      <td>The 100</td>\n",
       "      <td>(2014–2020)</td>\n",
       "      <td>43 min</td>\n",
       "      <td>Drama, Mystery, Sci-Fi</td>\n",
       "      <td>7.6</td>\n",
       "      <td>276,529</td>\n",
       "    </tr>\n",
       "    <tr>\n",
       "      <th>...</th>\n",
       "      <td>...</td>\n",
       "      <td>...</td>\n",
       "      <td>...</td>\n",
       "      <td>...</td>\n",
       "      <td>...</td>\n",
       "      <td>...</td>\n",
       "    </tr>\n",
       "    <tr>\n",
       "      <th>95</th>\n",
       "      <td>True Detective</td>\n",
       "      <td>(2014– )</td>\n",
       "      <td>60 min</td>\n",
       "      <td>Crime, Drama, Mystery</td>\n",
       "      <td>8.9</td>\n",
       "      <td>657,296</td>\n",
       "    </tr>\n",
       "    <tr>\n",
       "      <th>96</th>\n",
       "      <td>Teen Wolf</td>\n",
       "      <td>(2011–2017)</td>\n",
       "      <td>41 min</td>\n",
       "      <td>Action, Drama, Fantasy</td>\n",
       "      <td>7.7</td>\n",
       "      <td>163,393</td>\n",
       "    </tr>\n",
       "    <tr>\n",
       "      <th>97</th>\n",
       "      <td>The OA</td>\n",
       "      <td>(2016–2019)</td>\n",
       "      <td>60 min</td>\n",
       "      <td>Drama, Fantasy, Mystery</td>\n",
       "      <td>7.8</td>\n",
       "      <td>115,981</td>\n",
       "    </tr>\n",
       "    <tr>\n",
       "      <th>98</th>\n",
       "      <td>The Simpsons</td>\n",
       "      <td>(1989– )</td>\n",
       "      <td>22 min</td>\n",
       "      <td>Animation, Comedy</td>\n",
       "      <td>8.7</td>\n",
       "      <td>436,312</td>\n",
       "    </tr>\n",
       "    <tr>\n",
       "      <th>99</th>\n",
       "      <td>Desperate Housewives</td>\n",
       "      <td>(2004–2012)</td>\n",
       "      <td>45 min</td>\n",
       "      <td>Comedy, Drama, Mystery</td>\n",
       "      <td>7.6</td>\n",
       "      <td>139,887</td>\n",
       "    </tr>\n",
       "  </tbody>\n",
       "</table>\n",
       "<p>100 rows × 6 columns</p>\n",
       "</div>"
      ],
      "text/plain": [
       "                    Name    Year_span Run_time                    Genres  \\\n",
       "0        Game of Thrones  (2011–2019)   60 min  Action, Adventure, Drama   \n",
       "1        Stranger Things  (2016–2025)   60 min    Drama, Fantasy, Horror   \n",
       "2       The Walking Dead  (2010–2022)   45 min   Drama, Horror, Thriller   \n",
       "3         13 Reasons Why  (2017–2020)   60 min  Drama, Mystery, Thriller   \n",
       "4                The 100  (2014–2020)   43 min    Drama, Mystery, Sci-Fi   \n",
       "..                   ...          ...      ...                       ...   \n",
       "95        True Detective     (2014– )   60 min     Crime, Drama, Mystery   \n",
       "96             Teen Wolf  (2011–2017)   41 min    Action, Drama, Fantasy   \n",
       "97                The OA  (2016–2019)   60 min   Drama, Fantasy, Mystery   \n",
       "98          The Simpsons     (1989– )   22 min         Animation, Comedy   \n",
       "99  Desperate Housewives  (2004–2012)   45 min    Comedy, Drama, Mystery   \n",
       "\n",
       "   Ratings      Votes  \n",
       "0      9.2  2,287,486  \n",
       "1      8.7  1,338,352  \n",
       "2      8.1  1,083,313  \n",
       "3      7.5    315,774  \n",
       "4      7.6    276,529  \n",
       "..     ...        ...  \n",
       "95     8.9    657,296  \n",
       "96     7.7    163,393  \n",
       "97     7.8    115,981  \n",
       "98     8.7    436,312  \n",
       "99     7.6    139,887  \n",
       "\n",
       "[100 rows x 6 columns]"
      ]
     },
     "execution_count": 111,
     "metadata": {},
     "output_type": "execute_result"
    }
   ],
   "source": [
    "TV_Series=pd.DataFrame([])\n",
    "TV_Series['Name']=Name\n",
    "TV_Series['Year_span']=Year_span\n",
    "TV_Series['Run_time']=Run_time\n",
    "TV_Series['Genres']=Genres\n",
    "TV_Series['Ratings']=Ratings\n",
    "TV_Series['Votes']=Votes\n",
    "TV_Series"
   ]
  },
  {
   "cell_type": "code",
   "execution_count": null,
   "id": "9681f3d2",
   "metadata": {},
   "outputs": [],
   "source": []
  },
  {
   "cell_type": "markdown",
   "id": "5121857a",
   "metadata": {},
   "source": [
    "# QUESTION.3"
   ]
  },
  {
   "cell_type": "code",
   "execution_count": null,
   "id": "6411e3c3",
   "metadata": {},
   "outputs": [],
   "source": []
  },
  {
   "cell_type": "code",
   "execution_count": 50,
   "id": "b8b5f70e",
   "metadata": {},
   "outputs": [],
   "source": [
    "# Importing Libraries\n",
    "import selenium\n",
    "import pandas as pd\n",
    "import time\n",
    "from bs4 import BeautifulSoup\n",
    "\n",
    "# Importing selenium webdriver \n",
    "from selenium import webdriver\n",
    "\n",
    "# Importing required Exceptions which needs to handled\n",
    "from selenium.common.exceptions import StaleElementReferenceException, NoSuchElementException\n",
    "\n",
    "#Importing requests\n",
    "import requests\n",
    "\n",
    "# importing regex\n",
    "import re\n",
    "from selenium.webdriver.common.by import By"
   ]
  },
  {
   "cell_type": "code",
   "execution_count": 51,
   "id": "e0a36d2f",
   "metadata": {},
   "outputs": [],
   "source": [
    "from selenium.webdriver.support.ui import WebDriverWait\n",
    "from selenium.webdriver.support import expected_conditions as EC\n",
    "from selenium.common.exceptions import ElementNotInteractableException\n",
    "from selenium.common.exceptions import TimeoutException"
   ]
  },
  {
   "cell_type": "code",
   "execution_count": 52,
   "id": "df18d3fa",
   "metadata": {},
   "outputs": [],
   "source": [
    "driver = webdriver.Chrome()"
   ]
  },
  {
   "cell_type": "code",
   "execution_count": 53,
   "id": "f773657f",
   "metadata": {},
   "outputs": [],
   "source": [
    "Url =\" http://statisticstimes.com/\""
   ]
  },
  {
   "cell_type": "code",
   "execution_count": 54,
   "id": "782d95c6",
   "metadata": {},
   "outputs": [],
   "source": [
    "driver.get(Url)"
   ]
  },
  {
   "cell_type": "code",
   "execution_count": 55,
   "id": "2bc6a629",
   "metadata": {},
   "outputs": [],
   "source": [
    "Rank=[]\n",
    "State =[]\n",
    "GDP=[]\n",
    "GSDP_Current=[]\n",
    "Share=[]"
   ]
  },
  {
   "cell_type": "code",
   "execution_count": 56,
   "id": "dc350aa4",
   "metadata": {},
   "outputs": [],
   "source": [
    "economy = driver.find_element(By.XPATH,'//*[@id=\"top\"]/div[2]/div[2]/button')       # Locating page foe top videos by xpath\n",
    "economy.click()"
   ]
  },
  {
   "cell_type": "code",
   "execution_count": 57,
   "id": "9ff845e4",
   "metadata": {},
   "outputs": [
    {
     "ename": "ElementNotInteractableException",
     "evalue": "Message: element not interactable\n  (Session info: chrome=124.0.6367.119)\nStacktrace:\n\tGetHandleVerifier [0x00007FF7763A1502+60802]\n\t(No symbol) [0x00007FF77631AC02]\n\t(No symbol) [0x00007FF7761D7B13]\n\t(No symbol) [0x00007FF776228052]\n\t(No symbol) [0x00007FF77621AE8B]\n\t(No symbol) [0x00007FF77624AB7A]\n\t(No symbol) [0x00007FF77621A7C6]\n\t(No symbol) [0x00007FF77624AD90]\n\t(No symbol) [0x00007FF77626A224]\n\t(No symbol) [0x00007FF77624A923]\n\t(No symbol) [0x00007FF776218FEC]\n\t(No symbol) [0x00007FF776219C21]\n\tGetHandleVerifier [0x00007FF7766A411D+3217821]\n\tGetHandleVerifier [0x00007FF7766E60B7+3488055]\n\tGetHandleVerifier [0x00007FF7766DF03F+3459263]\n\tGetHandleVerifier [0x00007FF77645B846+823494]\n\t(No symbol) [0x00007FF776325F9F]\n\t(No symbol) [0x00007FF776320EC4]\n\t(No symbol) [0x00007FF776321052]\n\t(No symbol) [0x00007FF7763118A4]\n\tBaseThreadInitThunk [0x00007FF8E45E257D+29]\n\tRtlUserThreadStart [0x00007FF8E5F4AA48+40]\n",
     "output_type": "error",
     "traceback": [
      "\u001b[1;31m---------------------------------------------------------------------------\u001b[0m",
      "\u001b[1;31mElementNotInteractableException\u001b[0m           Traceback (most recent call last)",
      "Cell \u001b[1;32mIn[57], line 2\u001b[0m\n\u001b[0;32m      1\u001b[0m ind \u001b[38;5;241m=\u001b[39m driver\u001b[38;5;241m.\u001b[39mfind_element(By\u001b[38;5;241m.\u001b[39mXPATH,\u001b[38;5;124m'\u001b[39m\u001b[38;5;124m//*[@id=\u001b[39m\u001b[38;5;124m\"\u001b[39m\u001b[38;5;124mtop\u001b[39m\u001b[38;5;124m\"\u001b[39m\u001b[38;5;124m]/div[2]/div[2]/div/a[3]\u001b[39m\u001b[38;5;124m'\u001b[39m)       \u001b[38;5;66;03m# Locating page foe top videos by xpath\u001b[39;00m\n\u001b[1;32m----> 2\u001b[0m ind\u001b[38;5;241m.\u001b[39mclick()\n",
      "File \u001b[1;32m~\\anaconda3\\Lib\\site-packages\\selenium\\webdriver\\remote\\webelement.py:94\u001b[0m, in \u001b[0;36mWebElement.click\u001b[1;34m(self)\u001b[0m\n\u001b[0;32m     92\u001b[0m \u001b[38;5;28;01mdef\u001b[39;00m \u001b[38;5;21mclick\u001b[39m(\u001b[38;5;28mself\u001b[39m) \u001b[38;5;241m-\u001b[39m\u001b[38;5;241m>\u001b[39m \u001b[38;5;28;01mNone\u001b[39;00m:\n\u001b[0;32m     93\u001b[0m \u001b[38;5;250m    \u001b[39m\u001b[38;5;124;03m\"\"\"Clicks the element.\"\"\"\u001b[39;00m\n\u001b[1;32m---> 94\u001b[0m     \u001b[38;5;28mself\u001b[39m\u001b[38;5;241m.\u001b[39m_execute(Command\u001b[38;5;241m.\u001b[39mCLICK_ELEMENT)\n",
      "File \u001b[1;32m~\\anaconda3\\Lib\\site-packages\\selenium\\webdriver\\remote\\webelement.py:395\u001b[0m, in \u001b[0;36mWebElement._execute\u001b[1;34m(self, command, params)\u001b[0m\n\u001b[0;32m    393\u001b[0m     params \u001b[38;5;241m=\u001b[39m {}\n\u001b[0;32m    394\u001b[0m params[\u001b[38;5;124m\"\u001b[39m\u001b[38;5;124mid\u001b[39m\u001b[38;5;124m\"\u001b[39m] \u001b[38;5;241m=\u001b[39m \u001b[38;5;28mself\u001b[39m\u001b[38;5;241m.\u001b[39m_id\n\u001b[1;32m--> 395\u001b[0m \u001b[38;5;28;01mreturn\u001b[39;00m \u001b[38;5;28mself\u001b[39m\u001b[38;5;241m.\u001b[39m_parent\u001b[38;5;241m.\u001b[39mexecute(command, params)\n",
      "File \u001b[1;32m~\\anaconda3\\Lib\\site-packages\\selenium\\webdriver\\remote\\webdriver.py:347\u001b[0m, in \u001b[0;36mWebDriver.execute\u001b[1;34m(self, driver_command, params)\u001b[0m\n\u001b[0;32m    345\u001b[0m response \u001b[38;5;241m=\u001b[39m \u001b[38;5;28mself\u001b[39m\u001b[38;5;241m.\u001b[39mcommand_executor\u001b[38;5;241m.\u001b[39mexecute(driver_command, params)\n\u001b[0;32m    346\u001b[0m \u001b[38;5;28;01mif\u001b[39;00m response:\n\u001b[1;32m--> 347\u001b[0m     \u001b[38;5;28mself\u001b[39m\u001b[38;5;241m.\u001b[39merror_handler\u001b[38;5;241m.\u001b[39mcheck_response(response)\n\u001b[0;32m    348\u001b[0m     response[\u001b[38;5;124m\"\u001b[39m\u001b[38;5;124mvalue\u001b[39m\u001b[38;5;124m\"\u001b[39m] \u001b[38;5;241m=\u001b[39m \u001b[38;5;28mself\u001b[39m\u001b[38;5;241m.\u001b[39m_unwrap_value(response\u001b[38;5;241m.\u001b[39mget(\u001b[38;5;124m\"\u001b[39m\u001b[38;5;124mvalue\u001b[39m\u001b[38;5;124m\"\u001b[39m, \u001b[38;5;28;01mNone\u001b[39;00m))\n\u001b[0;32m    349\u001b[0m     \u001b[38;5;28;01mreturn\u001b[39;00m response\n",
      "File \u001b[1;32m~\\anaconda3\\Lib\\site-packages\\selenium\\webdriver\\remote\\errorhandler.py:229\u001b[0m, in \u001b[0;36mErrorHandler.check_response\u001b[1;34m(self, response)\u001b[0m\n\u001b[0;32m    227\u001b[0m         alert_text \u001b[38;5;241m=\u001b[39m value[\u001b[38;5;124m\"\u001b[39m\u001b[38;5;124malert\u001b[39m\u001b[38;5;124m\"\u001b[39m]\u001b[38;5;241m.\u001b[39mget(\u001b[38;5;124m\"\u001b[39m\u001b[38;5;124mtext\u001b[39m\u001b[38;5;124m\"\u001b[39m)\n\u001b[0;32m    228\u001b[0m     \u001b[38;5;28;01mraise\u001b[39;00m exception_class(message, screen, stacktrace, alert_text)  \u001b[38;5;66;03m# type: ignore[call-arg]  # mypy is not smart enough here\u001b[39;00m\n\u001b[1;32m--> 229\u001b[0m \u001b[38;5;28;01mraise\u001b[39;00m exception_class(message, screen, stacktrace)\n",
      "\u001b[1;31mElementNotInteractableException\u001b[0m: Message: element not interactable\n  (Session info: chrome=124.0.6367.119)\nStacktrace:\n\tGetHandleVerifier [0x00007FF7763A1502+60802]\n\t(No symbol) [0x00007FF77631AC02]\n\t(No symbol) [0x00007FF7761D7B13]\n\t(No symbol) [0x00007FF776228052]\n\t(No symbol) [0x00007FF77621AE8B]\n\t(No symbol) [0x00007FF77624AB7A]\n\t(No symbol) [0x00007FF77621A7C6]\n\t(No symbol) [0x00007FF77624AD90]\n\t(No symbol) [0x00007FF77626A224]\n\t(No symbol) [0x00007FF77624A923]\n\t(No symbol) [0x00007FF776218FEC]\n\t(No symbol) [0x00007FF776219C21]\n\tGetHandleVerifier [0x00007FF7766A411D+3217821]\n\tGetHandleVerifier [0x00007FF7766E60B7+3488055]\n\tGetHandleVerifier [0x00007FF7766DF03F+3459263]\n\tGetHandleVerifier [0x00007FF77645B846+823494]\n\t(No symbol) [0x00007FF776325F9F]\n\t(No symbol) [0x00007FF776320EC4]\n\t(No symbol) [0x00007FF776321052]\n\t(No symbol) [0x00007FF7763118A4]\n\tBaseThreadInitThunk [0x00007FF8E45E257D+29]\n\tRtlUserThreadStart [0x00007FF8E5F4AA48+40]\n"
     ]
    }
   ],
   "source": [
    "ind = driver.find_element(By.XPATH,'//*[@id=\"top\"]/div[2]/div[2]/div/a[3]')       # Locating page foe top videos by xpath\n",
    "ind.click()"
   ]
  },
  {
   "cell_type": "markdown",
   "id": "edc662da",
   "metadata": {},
   "source": [
    "# QUESTION.8"
   ]
  },
  {
   "cell_type": "code",
   "execution_count": 58,
   "id": "9251e9e0",
   "metadata": {},
   "outputs": [],
   "source": [
    "driver = webdriver.Chrome()"
   ]
  },
  {
   "cell_type": "code",
   "execution_count": 59,
   "id": "c8412b13",
   "metadata": {},
   "outputs": [],
   "source": [
    "Url =\"https://archive.ics.uci.edu/\""
   ]
  },
  {
   "cell_type": "code",
   "execution_count": 60,
   "id": "4ef94bc4",
   "metadata": {},
   "outputs": [],
   "source": [
    "driver.get(Url)"
   ]
  },
  {
   "cell_type": "code",
   "execution_count": 61,
   "id": "43b760f1",
   "metadata": {},
   "outputs": [],
   "source": [
    "Dataset_Name=[]\n",
    "Data_Type=[]\n",
    "Task=[]\n",
    "Attribute_Type=[]\n",
    "No_of_Instances=[]\n",
    "No_of_Attribute=[]\n",
    "Year=[]"
   ]
  },
  {
   "cell_type": "code",
   "execution_count": 62,
   "id": "1b37c17b",
   "metadata": {},
   "outputs": [],
   "source": [
    "search = driver.find_element(By.XPATH,'/html/body/div/div[1]/div[1]/header/div[2]')       # Locating page foe top videos by xpath\n",
    "search.click()"
   ]
  },
  {
   "cell_type": "code",
   "execution_count": 65,
   "id": "dbd521e6",
   "metadata": {},
   "outputs": [
    {
     "name": "stdout",
     "output_type": "stream",
     "text": [
      "12 ['Iris', 'Iris', 'Iris', 'Heart Disease', 'Dry Bean', 'Rice (Cammeo and Osmancik)', 'Adult', 'Breast Cancer Wisconsin (Diagnostic)', 'Raisin', 'Wine', 'Wine Quality', 'Diabetes']\n"
     ]
    }
   ],
   "source": [
    "#scraping the Dataset_Name \n",
    "dname=driver.find_elements(By.XPATH,'//a[@class=\"link-hover link text-xl font-semibold\"]')\n",
    "for i in dname:\n",
    "    if i.text is None :\n",
    "        Dataset_Name.append(\"--\") \n",
    "    else:\n",
    "        Dataset_Name.append(i.text)\n",
    "print(len(Dataset_Name),Dataset_Name)"
   ]
  },
  {
   "cell_type": "code",
   "execution_count": 67,
   "id": "12d4476a",
   "metadata": {},
   "outputs": [
    {
     "name": "stdout",
     "output_type": "stream",
     "text": [
      "2 ['Tabular', 'Tabular']\n"
     ]
    }
   ],
   "source": [
    "#scraping the Data_Type \n",
    "dtype=driver.find_elements(By.XPATH,'/html/body/div/div[1]/div[1]/main/div/div[2]/div[2]/div[1]/div/div[2]/div/div[2]/span')\n",
    "for i in dtype:\n",
    "    if i.text is None :\n",
    "        Data_Type.append(\"--\") \n",
    "    else:\n",
    "        Data_Type.append(i.text)\n",
    "print(len(Data_Type),Data_Type)"
   ]
  },
  {
   "cell_type": "code",
   "execution_count": null,
   "id": "aeef723a",
   "metadata": {},
   "outputs": [],
   "source": []
  },
  {
   "cell_type": "code",
   "execution_count": null,
   "id": "9cca9861",
   "metadata": {},
   "outputs": [],
   "source": [
    "Sir,I am not able to find the exact path of question no.5 and question no.8"
   ]
  },
  {
   "cell_type": "code",
   "execution_count": null,
   "id": "8fef4939",
   "metadata": {},
   "outputs": [],
   "source": []
  },
  {
   "cell_type": "code",
   "execution_count": null,
   "id": "df50d169",
   "metadata": {},
   "outputs": [],
   "source": []
  }
 ],
 "metadata": {
  "kernelspec": {
   "display_name": "Python 3 (ipykernel)",
   "language": "python",
   "name": "python3"
  },
  "language_info": {
   "codemirror_mode": {
    "name": "ipython",
    "version": 3
   },
   "file_extension": ".py",
   "mimetype": "text/x-python",
   "name": "python",
   "nbconvert_exporter": "python",
   "pygments_lexer": "ipython3",
   "version": "3.11.5"
  }
 },
 "nbformat": 4,
 "nbformat_minor": 5
}
