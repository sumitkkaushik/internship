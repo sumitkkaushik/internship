{
 "cells": [
  {
   "cell_type": "code",
   "execution_count": 1,
   "id": "4bc4a098",
   "metadata": {},
   "outputs": [
    {
     "name": "stdout",
     "output_type": "stream",
     "text": [
      "Requirement already satisfied: selenium in c:\\users\\sumit kaushik\\anaconda3\\lib\\site-packages (4.19.0)\n",
      "Requirement already satisfied: urllib3[socks]<3,>=1.26 in c:\\users\\sumit kaushik\\anaconda3\\lib\\site-packages (from selenium) (1.26.16)\n",
      "Requirement already satisfied: trio~=0.17 in c:\\users\\sumit kaushik\\anaconda3\\lib\\site-packages (from selenium) (0.25.0)\n",
      "Requirement already satisfied: trio-websocket~=0.9 in c:\\users\\sumit kaushik\\anaconda3\\lib\\site-packages (from selenium) (0.11.1)\n",
      "Requirement already satisfied: certifi>=2021.10.8 in c:\\users\\sumit kaushik\\anaconda3\\lib\\site-packages (from selenium) (2023.7.22)\n",
      "Requirement already satisfied: typing_extensions>=4.9.0 in c:\\users\\sumit kaushik\\anaconda3\\lib\\site-packages (from selenium) (4.10.0)\n",
      "Requirement already satisfied: attrs>=23.2.0 in c:\\users\\sumit kaushik\\anaconda3\\lib\\site-packages (from trio~=0.17->selenium) (23.2.0)\n",
      "Requirement already satisfied: sortedcontainers in c:\\users\\sumit kaushik\\anaconda3\\lib\\site-packages (from trio~=0.17->selenium) (2.4.0)\n",
      "Requirement already satisfied: idna in c:\\users\\sumit kaushik\\anaconda3\\lib\\site-packages (from trio~=0.17->selenium) (3.4)\n",
      "Requirement already satisfied: outcome in c:\\users\\sumit kaushik\\anaconda3\\lib\\site-packages (from trio~=0.17->selenium) (1.3.0.post0)\n",
      "Requirement already satisfied: sniffio>=1.3.0 in c:\\users\\sumit kaushik\\anaconda3\\lib\\site-packages (from trio~=0.17->selenium) (1.3.1)\n",
      "Requirement already satisfied: cffi>=1.14 in c:\\users\\sumit kaushik\\anaconda3\\lib\\site-packages (from trio~=0.17->selenium) (1.15.1)\n",
      "Requirement already satisfied: wsproto>=0.14 in c:\\users\\sumit kaushik\\anaconda3\\lib\\site-packages (from trio-websocket~=0.9->selenium) (1.2.0)\n",
      "Requirement already satisfied: PySocks!=1.5.7,<2.0,>=1.5.6 in c:\\users\\sumit kaushik\\anaconda3\\lib\\site-packages (from urllib3[socks]<3,>=1.26->selenium) (1.7.1)\n",
      "Requirement already satisfied: pycparser in c:\\users\\sumit kaushik\\anaconda3\\lib\\site-packages (from cffi>=1.14->trio~=0.17->selenium) (2.21)\n",
      "Requirement already satisfied: h11<1,>=0.9.0 in c:\\users\\sumit kaushik\\anaconda3\\lib\\site-packages (from wsproto>=0.14->trio-websocket~=0.9->selenium) (0.14.0)\n"
     ]
    }
   ],
   "source": [
    "!pip install selenium"
   ]
  },
  {
   "cell_type": "code",
   "execution_count": null,
   "id": "289d0f11",
   "metadata": {},
   "outputs": [],
   "source": []
  },
  {
   "cell_type": "code",
   "execution_count": 6,
   "id": "464f213d",
   "metadata": {},
   "outputs": [],
   "source": [
    "#import all the required libraries\n",
    "import pandas as pd\n",
    "import selenium\n",
    "from selenium import webdriver\n",
    "from selenium.common.exceptions import StaleElementReferenceException, NoSuchElementException\n",
    "import time\n",
    "import re\n",
    "import warnings\n",
    "warnings.filterwarnings('ignore')\n",
    "from selenium.webdriver.common.by import By"
   ]
  },
  {
   "cell_type": "markdown",
   "id": "62c39f7c",
   "metadata": {},
   "source": [
    "# Quetions 1 & 2"
   ]
  },
  {
   "cell_type": "code",
   "execution_count": 7,
   "id": "feefa5d4",
   "metadata": {},
   "outputs": [],
   "source": [
    "driver = webdriver.Chrome()"
   ]
  },
  {
   "cell_type": "code",
   "execution_count": 8,
   "id": "de87c709",
   "metadata": {},
   "outputs": [],
   "source": [
    "driver.get('https://www.amazon.in/')"
   ]
  },
  {
   "cell_type": "code",
   "execution_count": 9,
   "id": "1341ad82",
   "metadata": {},
   "outputs": [],
   "source": [
    "# Find the search bar using its XPath\n",
    "search_bar = driver.find_element(By.XPATH,'//*[@id=\"twotabsearchtextbox\"]')\n",
    "# Input keyword to search\n",
    "search_bar.send_keys('guitar')\n",
    "# Find the search button and click it\n",
    "search_button = driver.find_element(By.XPATH,'//*[@id=\"nav-search-submit-button\"]')\n",
    "search_button.click()\n"
   ]
  },
  {
   "cell_type": "code",
   "execution_count": 10,
   "id": "3daa9077",
   "metadata": {},
   "outputs": [],
   "source": [
    "productName=[]"
   ]
  },
  {
   "cell_type": "code",
   "execution_count": 11,
   "id": "844ffe52",
   "metadata": {},
   "outputs": [
    {
     "name": "stdout",
     "output_type": "stream",
     "text": [
      "65 ['Kadence rosewood Guitar Frontier Series, Electric Acoustic Black Guitar With EQ, Die Cast Keys, Set Of Strings, Strap, Picks And Bag (Black EQ, Electric Acoustic)', 'Kadence Frontier guitar with Online Guitar learning course , Wine Red Acoustic Guitar with Die Cast Keys, Set of Strings, Strap, Picks and Bag (Wine Red, Acoustic)', 'Kadence Slowhand Premium Jumbo Semi Acoustic Guitar with Heavy Padded Bag, guitar cable, Pro Capo (Black Spruce Wood)', 'Henrix 38C 38 Inch Cutaway Acoustic Guitar With Dual Action Truss Rod, Gigbag, Picks, String Set, String Winder, Strap, Polishing Cloth & Ebook - Black', 'Juârez Acoustic Guitar, 38 Inch Cutaway, 038C with Bag, Strings, Pick and Strap, Black (Acoustic Guitar Kit, Red Sunburst)', 'Juârez JRZ38C/WH 6 Strings Acoustic Guitar 38 Inch Cutaway, Right Handed, White with Bag, Strings, Picks and Strap', 'Juârez Lindenwood Acoustic Guitar, 38 Inches Cutaway, JRZ38C With Bag, Strings, Pick And Strap, Blue', 'Juârez Acoustic Guitar, 38 Inch Cutaway, 038C with Bag, Strings, Pick and Strap, Black (Acoustic Guitar Kit, ASH)', 'Juârez Acoustic Guitar, 38 Inch Cutaway, 038C with Bag, Strings, Pick and Strap, Black (Acoustic Guitar Kit, FUNKY)', 'Juârez Acoustic Guitar Kit, 38 Inch Cutaway, 038C with Bag, Strings, Pick and Strap, Black', 'Intern INT-38C Right hand Acoustic Guitar Kit, With Bag, Strings, Pick And Strap, Black, small', 'Yamaha F280 Acoustic Rosewood Guitar (Natural, Beige)', 'Juârez Acoustic Guitar, 38 Inch Cutaway, 038C with Bag, Strings, Pick and Strap, Black (Acoustic Guitar Kit, ZEBRA)', 'Juârez JRZ38C/VTS 6 Strings Acoustic Guitar 38 Inch Cutaway, Right Handed, Violet/Purple with Bag, Strings, Picks and Strap', 'Juârez Acoustic Guitar, 38 Inch Cutaway, 038C with Bag, Strings, Pick and Strap, Black (Acoustic Guitar Kit, BLUE SUNBURST)', 'Yamaha FSX80C Semi acoustic cutaway guitar (Black)', 'Henrix 38C 38 Inch Cutaway Acoustic Guitar With Dual Action Truss Rod, Gigbag, Picks, String Set, String Winder, Strap, Polishing Cloth & Ebook - Black', 'Revel 38 Inches Cutaway Design Acoustic Guitar with Carry bag and Plectrums. Great tone and Beginner/Learners standard size configuration for all age groups (Black)', 'Juârez Acoustic Guitar, 38 Inch Cutaway, 038C with Bag, Strings, Pick and Strap, Black (Acoustic Guitar Kit, SUNBURST)', 'Juârez Acoustic Guitar, 38 Inch Cutaway, 038C with Bag, Strings, Pick and Strap, Black (Acoustic Guitar Kit, NATURAL)', 'MOCKING BIRD 38c Acoustic Guitar for Beginners Musical Instruments For Adults premium kit wood curved cutaway design Guitar Accessories with string & 5 picks & bag for beige (Honey Brown)', 'BLUEBERRY D38 Truss Rod Lindenwood Acoustic Guitar Kit - 38 Inch (Blue)', 'BLUEBERRY B40, Acoustic Guitar Kit inbuilt Truss Rod, with Bag, Strap, One Pack Strings and Picks - 40 Inch (Sunburst)', 'Richtone B239C Natural Matt JF style cutaway Acoustic guitar', 'YAMAHA F310, 6-Strings Rose Wood Acoustic Guitar, Natural', 'Yamaha F280 Acoustic Guitar, Tobacco Brown Sunburst', 'Kadence Guitar Acoustica Series, Electric Acoustic Guitar, Ash Wood with Pickup and Inbuilt tuner (Ash Wood, Electro Acoustic) with bag.', 'Juarez Acoustic Guitar, 38 Inch Cutaway, JRZ38C/BKNA Black', 'Kadence rosewood Guitar Frontier Series, Electric Acoustic Black Guitar With EQ, Die Cast Keys, Set Of Strings, Strap, Picks And Bag (Black EQ, Electric Acoustic)', 'Intern 38C Acoustic Steel-string Guitar Premium White Cutaway Design with carry bag, strings, guitar strap and plectrums (INT-38C-WH)', 'Juarez JRZ-ST01 38 Inches Wood 6-String Electric Guitar, Right Handed, Full Black, With Case/Bag And Picks (Black)', 'Yamaha 22.8 Inches Merantiwood Classical Guitar C40//02 (Brown)', 'Kadence Frontier Acoustic Guitar 40\" with Learning Course, Die cast keys, with Combo (Bag,strap,strings And 3 picks) (Blue, Acoustic)', 'Juârez Acoustic Guitar, 38 Inch Cutaway, 038C with Bag, Strings, Pick and Strap, Black (41INCH KIT, Black)', 'YAMAHA FS80C BLACK CONCERT CUTAWAY GUITAR', 'Juarez Acoustic Guitar, 38 Inch Cutaway, JRZ38C/TBLSNA TRANSPARENT BLUE SUNBURST', 'Vault EA20 Guitar Kit with Learn to Play Ebook, Bag, Strings, Straps, Picks, String winder & Polishing Cloth - 40 inch Cutaway Acoustic Guitar - Natural', 'Juârez 39C/N Classical Guitar Full Size Deluxe Nylon Strings, Natural Gloss Finish', 'Medellin Acoustic Guitar (with guitar learning course) Neon Pink (Combo, Strings,Bag,Picks and guitar course)', 'BLUEBERRY B-38C, Acoustic Guitar Kit with Bag, Strap, One Pack Strings And 2 Picks - 38 Inch (Black)', 'Juârez Acoustic Guitar, 38 Inch Cutaway, JRZ38CT, Hippie Funky Design, with Bag, Picks, Strap & Extra String set', 'Yamaha FS80C 25 Incheses sprucewood The Ultimate Concert Body Cutaway Acoustic Guitar (Black) With Bajaao Gig-Bag', 'MOCKING BIRD 38c Acoustic Guitar for Beginners Musical Instruments For Adults premium kit wood curved cutaway design Guitar Accessories with string & 5 picks & bag for beige (Honey Brown)', 'Yamaha FS100C Acoustic Guitar, Black', 'Kadence Guitar Slowhand Series Premium Electric Acoustic Mahogany body Demi Cutaway Jumbo Guitar 41” Combo with Heavy Padded Bag, Instrument cable, Pro Capo, Picks, and String Set (Mahogany SH03)', 'Kadence Acoustica A06 34\" Ash wood Electric Acoustic Guitar, Rosewood fretboard, Travel Guitar Small Size for Kids and Adult with Pickup, Inbuilt tuner and bag (34\" Small Guitar)', 'Juarez Acoustic Guitar, [ LEFT HANDED] 38 Inch Cutaway, 38CL/BK with Bag, Strings, Pick and Strap, Black', 'Kadence Guitar Acoustica Series A05, Electric Acoustic Guitar, Zebra Wood with Pickup, Inbuilt tuner and Bag (Zebra Wood, Electro Acoustic)', 'Juârez Acoustic Guitar Kit Red, 38 Inch Cutaway, 038C with Bag, Strings, Pick and Strap, RED', 'Kadence A281 Professional Acoustic Rosewood guitar (Natural, Beige)', 'BLUEBERRY VIP-360, Acoustic Guitar Kit With Bag, Belt, String Set and 2 Picks - 36 Inch (Black)', 'BLUEBERRY, B-38C Acoustic Guitar Kit with Bag, Strap, One Pack Strings And 2 Picks - 38 Inch (Retro Brown)', 'YAMAHA FS80C NATURAL CONCERT CUTAWAY GUITAR', 'INTERN 41 inches Acoustic Guitar with truss rod. Includes carry bag, strings pack, strap & plectrums. Premium Wooden durable built, tonal stability & for all age-groups (Jamming Black).…', 'Kadence Frontier Semi Acoustic Jumbo Guitar 41\" with Learning Course, Die cast keys with Super Combo (Bag,strap,strings,capo And 3 picks) (Black, Electric Acoustic)', 'Ibanez Electric Guitar series GRGR221PAAQB', 'BLUEBERRY B-40, Acoustic Guitar Kit Inbuilt Truss Rod, with Bag, Belt, One Pack Strings And Picks - 40 Inch (Black)', 'Acoustic Guitar, 39 Inch Cutaway, 039C with Bag, Strings, Pick and Strap, Random Colour colors may be vary', 'BLUEBERRY D38, Truss Rod Acoustic Guitar Kit with Bag, String, Belt & Picks (Sunburst)', 'Kaspar 10C Lindenwood Acoustic guitar 38 Inches Cutaway guitar & Truss Rod Guitar for beginers & students (Black)', 'Kadence Slowhand Premium Jumbo Semi Acoustic Guitar with Heavy Padded Bag, guitar cable, Pro Capo (Black Spruce Wood)', 'Kadence rosewood Guitar Frontier Series, Electric Acoustic Black Guitar With EQ, Die Cast Keys, Set Of Strings, Strap, Picks And Bag (Black EQ, Electric Acoustic)', 'BLUEBERRY VIP-403, Truss Rod Acoustic Guitar Basswood With Bag, Belt, String Sets And 2 Picks - 40 Inch (Black)', '', '']\n"
     ]
    }
   ],
   "source": [
    "#scraping the Product_Name \n",
    "PName=driver.find_elements(By.XPATH,'//span[@class=\"a-size-base-plus a-color-base a-text-normal\"]')\n",
    "for i in PName:\n",
    "    if i.text is None :\n",
    "        productName.append(\"--\") \n",
    "    else:\n",
    "        productName.append(i.text)\n",
    "print(len(productName),productName)"
   ]
  },
  {
   "cell_type": "code",
   "execution_count": null,
   "id": "aa8d5430",
   "metadata": {},
   "outputs": [],
   "source": []
  },
  {
   "cell_type": "code",
   "execution_count": 12,
   "id": "55dd502c",
   "metadata": {},
   "outputs": [
    {
     "name": "stdout",
     "output_type": "stream",
     "text": [
      "Product urls of page 1 has been scraped.\n",
      "Product urls of page 2 has been scraped.\n",
      "Product urls of page 3 has been scraped.\n",
      "Product urls of page 4 has been scraped.\n"
     ]
    }
   ],
   "source": [
    "start_page = 0\n",
    "end_page = 3\n",
    "urls = []\n",
    "for page in range(start_page,end_page+1):\n",
    "    try:\n",
    "        page_urls = driver.find_elements(By.XPATH,'//a[@class=\"a-link-normal s-underline-text s-underline-link-text s-link-style a-text-normal\"]')\n",
    "        \n",
    "        # appending all the urls on current page to urls list\n",
    "        for url in page_urls:\n",
    "            url = url.get_attribute('href')     # Scraping the url from webelement\n",
    "            if url[0:4]=='http':                # Checking if the scraped data is a valid url or not\n",
    "                urls.append(url)                # Appending the url to urls list\n",
    "        print(\"Product urls of page {} has been scraped.\".format(page+1))\n",
    "        \n",
    "        # Moving to next page\n",
    "        nxt_button = driver.find_element(By.XPATH,'//a[@class=\"s-pagination-item s-pagination-next s-pagination-button s-pagination-separator\"]')      # Locating the next_button which is active\n",
    "        if nxt_button.text == 'Next→':                                            # Checking if the button located is next button\n",
    "            nxt_button.click()                                                    # Clicking the next button\n",
    "            time.sleep(5)                                                         # time delay of 5 seconds\n",
    "        # If the current active button is not next button, the we will check if the next button is inactive or not    \n",
    "        elif driver.find_element(By.XPATH,'//span[@class=\"s-pagination-item s-pagination-disabled\"]').text == 'Next→':    \n",
    "            print(\"No new pages exist. Breaking the loop\")  # Printing message and breakinf loop if we have reached the last page\n",
    "            break\n",
    "            \n",
    "    except StaleElementReferenceException as e:             # Handling StaleElement Exception   \n",
    "        print(\"Stale Exception\")\n",
    "        next_page = nxt_button.get_attribute('href')        # Extracting the url of next page\n",
    "        driver.get(next_page)                               # ReLoading the next page"
   ]
  },
  {
   "cell_type": "code",
   "execution_count": 13,
   "id": "623e7317",
   "metadata": {},
   "outputs": [],
   "source": [
    "prod_dict = {}\n",
    "prod_dict['Brand']=[]\n",
    "prod_dict['Name']=[]\n",
    "prod_dict['Price']=[]\n",
    "prod_dict['Return/Exchange']=[]\n",
    "prod_dict['Expected Delivery']=[] \n",
    "prod_dict['Availability']=[]\n",
    "prod_dict['URL']=[]"
   ]
  },
  {
   "cell_type": "code",
   "execution_count": 21,
   "id": "9e29f897",
   "metadata": {},
   "outputs": [
    {
     "name": "stdout",
     "output_type": "stream",
     "text": [
      "Scraping URL =  https://www.amazon.in/sspa/click?ie=UTF8&spc=MTo4MjY0MjIyMTk0MjIyMTExOjE3MTM2NzYzNjI6c3BfYXRmOjMwMDAxNTUzNzk3OTIzMjo6MDo6&url=%2FKadence-Frontier-Acoustic-Guitar-Strings%2Fdp%2FB078GTJP5Y%2Fref%3Dsr_1_1_sspa%3Fcrid%3DQ8DG54OMTRQP%26dib%3DeyJ2IjoiMSJ9.sKiWAQwvKMcgTtHqXgOVFD7jHk_6yw8lhmM4dCJGqglN5lcYwRPN5Cbj9MQ59VfU-X4AL4ngFv0QZpR8xdbDKwcICNTTTApzgW7lkYN087izCcIgZj8zjZdxy04VllVvGPdHpVLpWdZ3Yg8Gkuuv6nfE8DVt8KFuff7NTQO9boVbWBzkCjwEqgaSBbalwWFhntS_tDeoPcs73ceqKd8SdR1n1XONaohuHYffZHxVKjwSTzfjYai4ZwKQsMjFGU0GwO7bRO6J0VTz_8OxuzoWPaFPuyV61VEOu2vrypA9cqQ.8AZyDiPJnOt2n0wlLq1oizjsqDRPihTf6xG6VJm5_EI%26dib_tag%3Dse%26keywords%3Dguitar%26qid%3D1713676362%26sprefix%3D%252Caps%252C222%26sr%3D8-1-spons%26sp_csd%3Dd2lkZ2V0TmFtZT1zcF9hdGY%26psc%3D1\n",
      "Scraping URL =  https://www.amazon.in/sspa/click?ie=UTF8&spc=MTo4MjY0MjIyMTk0MjIyMTExOjE3MTM2NzYzNjI6c3BfYXRmOjIwMDk2NjA4NzUwNDk4OjowOjo&url=%2FKadence-Frontier-Acoustic-Guitar-Strings%2Fdp%2FB01GDZ46AA%2Fref%3Dsr_1_2_sspa%3Fcrid%3DQ8DG54OMTRQP%26dib%3DeyJ2IjoiMSJ9.sKiWAQwvKMcgTtHqXgOVFD7jHk_6yw8lhmM4dCJGqglN5lcYwRPN5Cbj9MQ59VfU-X4AL4ngFv0QZpR8xdbDKwcICNTTTApzgW7lkYN087izCcIgZj8zjZdxy04VllVvGPdHpVLpWdZ3Yg8Gkuuv6nfE8DVt8KFuff7NTQO9boVbWBzkCjwEqgaSBbalwWFhntS_tDeoPcs73ceqKd8SdR1n1XONaohuHYffZHxVKjwSTzfjYai4ZwKQsMjFGU0GwO7bRO6J0VTz_8OxuzoWPaFPuyV61VEOu2vrypA9cqQ.8AZyDiPJnOt2n0wlLq1oizjsqDRPihTf6xG6VJm5_EI%26dib_tag%3Dse%26keywords%3Dguitar%26qid%3D1713676362%26sprefix%3D%252Caps%252C222%26sr%3D8-2-spons%26sp_csd%3Dd2lkZ2V0TmFtZT1zcF9hdGY%26psc%3D1\n",
      "Scraping URL =  https://www.amazon.in/sspa/click?ie=UTF8&spc=MTo4MjY0MjIyMTk0MjIyMTExOjE3MTM2NzYzNjI6c3BfYXRmOjIwMDU3MTkzMDU2MjA0OjowOjo&url=%2FKadence-Slowhand-Premium-Acoustic-Instrument%2Fdp%2FB077SZ667X%2Fref%3Dsr_1_3_sspa%3Fcrid%3DQ8DG54OMTRQP%26dib%3DeyJ2IjoiMSJ9.sKiWAQwvKMcgTtHqXgOVFD7jHk_6yw8lhmM4dCJGqglN5lcYwRPN5Cbj9MQ59VfU-X4AL4ngFv0QZpR8xdbDKwcICNTTTApzgW7lkYN087izCcIgZj8zjZdxy04VllVvGPdHpVLpWdZ3Yg8Gkuuv6nfE8DVt8KFuff7NTQO9boVbWBzkCjwEqgaSBbalwWFhntS_tDeoPcs73ceqKd8SdR1n1XONaohuHYffZHxVKjwSTzfjYai4ZwKQsMjFGU0GwO7bRO6J0VTz_8OxuzoWPaFPuyV61VEOu2vrypA9cqQ.8AZyDiPJnOt2n0wlLq1oizjsqDRPihTf6xG6VJm5_EI%26dib_tag%3Dse%26keywords%3Dguitar%26qid%3D1713676362%26sprefix%3D%252Caps%252C222%26sr%3D8-3-spons%26sp_csd%3Dd2lkZ2V0TmFtZT1zcF9hdGY%26psc%3D1\n",
      "Scraping URL =  https://www.amazon.in/sspa/click?ie=UTF8&spc=MTo4MjY0MjIyMTk0MjIyMTExOjE3MTM2NzYzNjI6c3BfYXRmOjIwMDg4NDY1ODE5NDA0OjowOjo&url=%2FHenrix-Acoustic-Guitar-Die-cast-Dual-action%2Fdp%2FB07VNDW6QF%2Fref%3Dsr_1_4_sspa%3Fcrid%3DQ8DG54OMTRQP%26dib%3DeyJ2IjoiMSJ9.sKiWAQwvKMcgTtHqXgOVFD7jHk_6yw8lhmM4dCJGqglN5lcYwRPN5Cbj9MQ59VfU-X4AL4ngFv0QZpR8xdbDKwcICNTTTApzgW7lkYN087izCcIgZj8zjZdxy04VllVvGPdHpVLpWdZ3Yg8Gkuuv6nfE8DVt8KFuff7NTQO9boVbWBzkCjwEqgaSBbalwWFhntS_tDeoPcs73ceqKd8SdR1n1XONaohuHYffZHxVKjwSTzfjYai4ZwKQsMjFGU0GwO7bRO6J0VTz_8OxuzoWPaFPuyV61VEOu2vrypA9cqQ.8AZyDiPJnOt2n0wlLq1oizjsqDRPihTf6xG6VJm5_EI%26dib_tag%3Dse%26keywords%3Dguitar%26qid%3D1713676362%26sprefix%3D%252Caps%252C222%26sr%3D8-4-spons%26sp_csd%3Dd2lkZ2V0TmFtZT1zcF9hdGY%26psc%3D1\n"
     ]
    }
   ],
   "source": [
    "for url in urls[:4]:\n",
    "    driver.get(url)                                                        # Loading the webpage by url\n",
    "    print(\"Scraping URL = \", url)\n",
    "    #time.sleep(2)\n",
    "    \n",
    "    try:\n",
    "        brand = driver.find_element(By.XPATH,'//a[@id=\"bylineInfo\"]')      # Extracting Brand from xpath\n",
    "        prod_dict['Brand'].append(brand.text)\n",
    "    except NoSuchElementException:\n",
    "        prod_dict['Brand'].append('-')\n",
    "    \n",
    "    try:\n",
    "        name = driver.find_element(By.XPATH,'//span[@class=\"a-size-base po-break-word\"]')      # Extracting Name from xpath\n",
    "        prod_dict['Name'].append(name.text)\n",
    "    except NoSuchElementException:\n",
    "        prod_dict['Name'].append('-')\n",
    "    \n",
    "   \n",
    "    try:\n",
    "        price = driver.find_element(By.XPATH,'//span[@class=\"a-price-whole\"]')            # Extracting Price from xpath\n",
    "        prod_dict['Price'].append(price.text)\n",
    "    except NoSuchElementException:\n",
    "        prod_dict['Price'].append('-')\n",
    "    try:                                                                                     # Extracting Return/Exchange policy from xpath\n",
    "        ret = driver.find_element(By.XPATH,'//*[@id=\"RETURNS_POLICY\"]/span/div[2]/span')\n",
    "        prod_dict['Return/Exchange'].append(ret.text)\n",
    "    except NoSuchElementException:\n",
    "        prod_dict['Return/Exchange'].append('-')\n",
    "    try:\n",
    "        delivry = driver.find_element(By.XPATH,'//span[@class=\"a-text-bold\"]')         # Extracting Expected Delivery from xpath\n",
    "        prod_dict['Expected Delivery'].append(delivry.text)\n",
    "    except NoSuchElementException:\n",
    "        prod_dict['Expected Delivery'].append('-')\n",
    "    \n",
    "    try:\n",
    "        avl = driver.find_element(By.XPATH,'//span[@class=\"a-size-medium a-color-success\"]')                # Extracting Availability from xpath\n",
    "        prod_dict['Availability'].append(avl.text)\n",
    "    except NoSuchElementException:\n",
    "        prod_dict['Availability'].append('-')\n",
    "    \n",
    "   \n",
    "    prod_dict['URL'].append(url)                                                            # Saving url\n",
    "    time.sleep(2)"
   ]
  },
  {
   "cell_type": "code",
   "execution_count": 22,
   "id": "1c7372aa",
   "metadata": {},
   "outputs": [
    {
     "data": {
      "text/html": [
       "<div>\n",
       "<style scoped>\n",
       "    .dataframe tbody tr th:only-of-type {\n",
       "        vertical-align: middle;\n",
       "    }\n",
       "\n",
       "    .dataframe tbody tr th {\n",
       "        vertical-align: top;\n",
       "    }\n",
       "\n",
       "    .dataframe thead th {\n",
       "        text-align: right;\n",
       "    }\n",
       "</style>\n",
       "<table border=\"1\" class=\"dataframe\">\n",
       "  <thead>\n",
       "    <tr style=\"text-align: right;\">\n",
       "      <th></th>\n",
       "      <th>Brand</th>\n",
       "      <th>Name</th>\n",
       "      <th>Price</th>\n",
       "      <th>Return/Exchange</th>\n",
       "      <th>Expected Delivery</th>\n",
       "      <th>Availability</th>\n",
       "      <th>URL</th>\n",
       "    </tr>\n",
       "  </thead>\n",
       "  <tbody>\n",
       "    <tr>\n",
       "      <th>0</th>\n",
       "      <td>Visit the Kadence Store</td>\n",
       "      <td>-</td>\n",
       "      <td>4,899</td>\n",
       "      <td>Free Delivery</td>\n",
       "      <td>-</td>\n",
       "      <td>In stock</td>\n",
       "      <td>https://www.amazon.in/sspa/click?ie=UTF8&amp;spc=M...</td>\n",
       "    </tr>\n",
       "    <tr>\n",
       "      <th>1</th>\n",
       "      <td>Visit the Kadence Store</td>\n",
       "      <td>-</td>\n",
       "      <td>4,799</td>\n",
       "      <td>Free Delivery</td>\n",
       "      <td>-</td>\n",
       "      <td>In stock</td>\n",
       "      <td>https://www.amazon.in/sspa/click?ie=UTF8&amp;spc=M...</td>\n",
       "    </tr>\n",
       "    <tr>\n",
       "      <th>2</th>\n",
       "      <td>Visit the Kadence Store</td>\n",
       "      <td>-</td>\n",
       "      <td>9,999</td>\n",
       "      <td>Free Delivery</td>\n",
       "      <td>-</td>\n",
       "      <td>In stock</td>\n",
       "      <td>https://www.amazon.in/sspa/click?ie=UTF8&amp;spc=M...</td>\n",
       "    </tr>\n",
       "    <tr>\n",
       "      <th>3</th>\n",
       "      <td>Visit the Henrix Store</td>\n",
       "      <td>-</td>\n",
       "      <td>3,199</td>\n",
       "      <td>Free Delivery</td>\n",
       "      <td>-</td>\n",
       "      <td>In stock</td>\n",
       "      <td>https://www.amazon.in/sspa/click?ie=UTF8&amp;spc=M...</td>\n",
       "    </tr>\n",
       "    <tr>\n",
       "      <th>4</th>\n",
       "      <td>Visit the Kadence Store</td>\n",
       "      <td>Kadence rosewood Guitar Frontier Series, Elect...</td>\n",
       "      <td>4,899</td>\n",
       "      <td>Free Delivery</td>\n",
       "      <td>Tuesday, 23 April</td>\n",
       "      <td>In stock</td>\n",
       "      <td>https://www.amazon.in/sspa/click?ie=UTF8&amp;spc=M...</td>\n",
       "    </tr>\n",
       "    <tr>\n",
       "      <th>5</th>\n",
       "      <td>Visit the Kadence Store</td>\n",
       "      <td>Kadence Frontier guitar with Online Guitar lea...</td>\n",
       "      <td>4,799</td>\n",
       "      <td>Free Delivery</td>\n",
       "      <td>Tuesday, 23 April</td>\n",
       "      <td>In stock</td>\n",
       "      <td>https://www.amazon.in/sspa/click?ie=UTF8&amp;spc=M...</td>\n",
       "    </tr>\n",
       "    <tr>\n",
       "      <th>6</th>\n",
       "      <td>Visit the Kadence Store</td>\n",
       "      <td>Kadence Slowhand Premium Jumbo Semi Acoustic G...</td>\n",
       "      <td>9,999</td>\n",
       "      <td>Free Delivery</td>\n",
       "      <td>Tuesday, 23 April</td>\n",
       "      <td>In stock</td>\n",
       "      <td>https://www.amazon.in/sspa/click?ie=UTF8&amp;spc=M...</td>\n",
       "    </tr>\n",
       "    <tr>\n",
       "      <th>7</th>\n",
       "      <td>Visit the Henrix Store</td>\n",
       "      <td>Henrix 38C 38 Inch Cutaway Acoustic Guitar Wit...</td>\n",
       "      <td>3,199</td>\n",
       "      <td>Free Delivery</td>\n",
       "      <td>Thursday, 25 April</td>\n",
       "      <td>In stock</td>\n",
       "      <td>https://www.amazon.in/sspa/click?ie=UTF8&amp;spc=M...</td>\n",
       "    </tr>\n",
       "    <tr>\n",
       "      <th>8</th>\n",
       "      <td>Visit the Kadence Store</td>\n",
       "      <td>Kadence</td>\n",
       "      <td>4,899</td>\n",
       "      <td>Free Delivery</td>\n",
       "      <td>Tuesday, 23 April</td>\n",
       "      <td>In stock</td>\n",
       "      <td>https://www.amazon.in/sspa/click?ie=UTF8&amp;spc=M...</td>\n",
       "    </tr>\n",
       "    <tr>\n",
       "      <th>9</th>\n",
       "      <td>Visit the Kadence Store</td>\n",
       "      <td>Kadence</td>\n",
       "      <td>4,799</td>\n",
       "      <td>Free Delivery</td>\n",
       "      <td>Tuesday, 23 April</td>\n",
       "      <td>In stock</td>\n",
       "      <td>https://www.amazon.in/sspa/click?ie=UTF8&amp;spc=M...</td>\n",
       "    </tr>\n",
       "    <tr>\n",
       "      <th>10</th>\n",
       "      <td>Visit the Kadence Store</td>\n",
       "      <td>Kadence</td>\n",
       "      <td>9,999</td>\n",
       "      <td>Free Delivery</td>\n",
       "      <td>Tuesday, 23 April</td>\n",
       "      <td>In stock</td>\n",
       "      <td>https://www.amazon.in/sspa/click?ie=UTF8&amp;spc=M...</td>\n",
       "    </tr>\n",
       "    <tr>\n",
       "      <th>11</th>\n",
       "      <td>Visit the Henrix Store</td>\n",
       "      <td>Henrix</td>\n",
       "      <td>3,199</td>\n",
       "      <td>Free Delivery</td>\n",
       "      <td>Thursday, 25 April</td>\n",
       "      <td>In stock</td>\n",
       "      <td>https://www.amazon.in/sspa/click?ie=UTF8&amp;spc=M...</td>\n",
       "    </tr>\n",
       "    <tr>\n",
       "      <th>12</th>\n",
       "      <td>Visit the Kadence Store</td>\n",
       "      <td>Kadence</td>\n",
       "      <td>4,899</td>\n",
       "      <td>7 days Replacement</td>\n",
       "      <td>Tuesday, 23 April</td>\n",
       "      <td>In stock</td>\n",
       "      <td>https://www.amazon.in/sspa/click?ie=UTF8&amp;spc=M...</td>\n",
       "    </tr>\n",
       "    <tr>\n",
       "      <th>13</th>\n",
       "      <td>Visit the Kadence Store</td>\n",
       "      <td>Kadence</td>\n",
       "      <td>4,799</td>\n",
       "      <td>7 days Replacement</td>\n",
       "      <td>Tuesday, 23 April</td>\n",
       "      <td>In stock</td>\n",
       "      <td>https://www.amazon.in/sspa/click?ie=UTF8&amp;spc=M...</td>\n",
       "    </tr>\n",
       "    <tr>\n",
       "      <th>14</th>\n",
       "      <td>Visit the Kadence Store</td>\n",
       "      <td>Kadence</td>\n",
       "      <td>9,999</td>\n",
       "      <td>7 days Replacement</td>\n",
       "      <td>Tuesday, 23 April</td>\n",
       "      <td>In stock</td>\n",
       "      <td>https://www.amazon.in/sspa/click?ie=UTF8&amp;spc=M...</td>\n",
       "    </tr>\n",
       "    <tr>\n",
       "      <th>15</th>\n",
       "      <td>Visit the Henrix Store</td>\n",
       "      <td>Henrix</td>\n",
       "      <td>3,199</td>\n",
       "      <td>7 days Replacement</td>\n",
       "      <td>Thursday, 25 April</td>\n",
       "      <td>In stock</td>\n",
       "      <td>https://www.amazon.in/sspa/click?ie=UTF8&amp;spc=M...</td>\n",
       "    </tr>\n",
       "  </tbody>\n",
       "</table>\n",
       "</div>"
      ],
      "text/plain": [
       "                      Brand  \\\n",
       "0   Visit the Kadence Store   \n",
       "1   Visit the Kadence Store   \n",
       "2   Visit the Kadence Store   \n",
       "3    Visit the Henrix Store   \n",
       "4   Visit the Kadence Store   \n",
       "5   Visit the Kadence Store   \n",
       "6   Visit the Kadence Store   \n",
       "7    Visit the Henrix Store   \n",
       "8   Visit the Kadence Store   \n",
       "9   Visit the Kadence Store   \n",
       "10  Visit the Kadence Store   \n",
       "11   Visit the Henrix Store   \n",
       "12  Visit the Kadence Store   \n",
       "13  Visit the Kadence Store   \n",
       "14  Visit the Kadence Store   \n",
       "15   Visit the Henrix Store   \n",
       "\n",
       "                                                 Name  Price  \\\n",
       "0                                                   -  4,899   \n",
       "1                                                   -  4,799   \n",
       "2                                                   -  9,999   \n",
       "3                                                   -  3,199   \n",
       "4   Kadence rosewood Guitar Frontier Series, Elect...  4,899   \n",
       "5   Kadence Frontier guitar with Online Guitar lea...  4,799   \n",
       "6   Kadence Slowhand Premium Jumbo Semi Acoustic G...  9,999   \n",
       "7   Henrix 38C 38 Inch Cutaway Acoustic Guitar Wit...  3,199   \n",
       "8                                             Kadence  4,899   \n",
       "9                                             Kadence  4,799   \n",
       "10                                            Kadence  9,999   \n",
       "11                                             Henrix  3,199   \n",
       "12                                            Kadence  4,899   \n",
       "13                                            Kadence  4,799   \n",
       "14                                            Kadence  9,999   \n",
       "15                                             Henrix  3,199   \n",
       "\n",
       "       Return/Exchange   Expected Delivery Availability  \\\n",
       "0        Free Delivery                   -     In stock   \n",
       "1        Free Delivery                   -     In stock   \n",
       "2        Free Delivery                   -     In stock   \n",
       "3        Free Delivery                   -     In stock   \n",
       "4        Free Delivery   Tuesday, 23 April     In stock   \n",
       "5        Free Delivery   Tuesday, 23 April     In stock   \n",
       "6        Free Delivery   Tuesday, 23 April     In stock   \n",
       "7        Free Delivery  Thursday, 25 April     In stock   \n",
       "8        Free Delivery   Tuesday, 23 April     In stock   \n",
       "9        Free Delivery   Tuesday, 23 April     In stock   \n",
       "10       Free Delivery   Tuesday, 23 April     In stock   \n",
       "11       Free Delivery  Thursday, 25 April     In stock   \n",
       "12  7 days Replacement   Tuesday, 23 April     In stock   \n",
       "13  7 days Replacement   Tuesday, 23 April     In stock   \n",
       "14  7 days Replacement   Tuesday, 23 April     In stock   \n",
       "15  7 days Replacement  Thursday, 25 April     In stock   \n",
       "\n",
       "                                                  URL  \n",
       "0   https://www.amazon.in/sspa/click?ie=UTF8&spc=M...  \n",
       "1   https://www.amazon.in/sspa/click?ie=UTF8&spc=M...  \n",
       "2   https://www.amazon.in/sspa/click?ie=UTF8&spc=M...  \n",
       "3   https://www.amazon.in/sspa/click?ie=UTF8&spc=M...  \n",
       "4   https://www.amazon.in/sspa/click?ie=UTF8&spc=M...  \n",
       "5   https://www.amazon.in/sspa/click?ie=UTF8&spc=M...  \n",
       "6   https://www.amazon.in/sspa/click?ie=UTF8&spc=M...  \n",
       "7   https://www.amazon.in/sspa/click?ie=UTF8&spc=M...  \n",
       "8   https://www.amazon.in/sspa/click?ie=UTF8&spc=M...  \n",
       "9   https://www.amazon.in/sspa/click?ie=UTF8&spc=M...  \n",
       "10  https://www.amazon.in/sspa/click?ie=UTF8&spc=M...  \n",
       "11  https://www.amazon.in/sspa/click?ie=UTF8&spc=M...  \n",
       "12  https://www.amazon.in/sspa/click?ie=UTF8&spc=M...  \n",
       "13  https://www.amazon.in/sspa/click?ie=UTF8&spc=M...  \n",
       "14  https://www.amazon.in/sspa/click?ie=UTF8&spc=M...  \n",
       "15  https://www.amazon.in/sspa/click?ie=UTF8&spc=M...  "
      ]
     },
     "execution_count": 22,
     "metadata": {},
     "output_type": "execute_result"
    }
   ],
   "source": [
    "prod_df = pd.DataFrame.from_dict(prod_dict)\n",
    "prod_df\n"
   ]
  },
  {
   "cell_type": "code",
   "execution_count": null,
   "id": "56218b20",
   "metadata": {},
   "outputs": [],
   "source": []
  },
  {
   "cell_type": "markdown",
   "id": "96c7ae56",
   "metadata": {},
   "source": [
    "# Question.3\n"
   ]
  },
  {
   "cell_type": "code",
   "execution_count": 24,
   "id": "9125e240",
   "metadata": {},
   "outputs": [],
   "source": [
    "driver = webdriver.Chrome()"
   ]
  },
  {
   "cell_type": "code",
   "execution_count": 25,
   "id": "507dfeb1",
   "metadata": {},
   "outputs": [],
   "source": [
    "driver.get('https://images.google.com/')"
   ]
  },
  {
   "cell_type": "code",
   "execution_count": 27,
   "id": "721f6263",
   "metadata": {},
   "outputs": [],
   "source": [
    "search_bar = driver.find_element(By.XPATH,'//*[@id=\"APjFqb\"]')    # Finding the search bar using it's xpath\n",
    "search_bar.send_keys(\"fruits\")       # Inputing \"banana\" keyword to search rock images\n",
    "search_button = driver.find_element(By.XPATH,'//span[@class=\"z1asCe MZy1Rb\"]')    # Finding the xpath of search button\n",
    "search_button.click()        # Clicking the search button"
   ]
  },
  {
   "cell_type": "code",
   "execution_count": 28,
   "id": "2c2a0b5d",
   "metadata": {},
   "outputs": [
    {
     "name": "stdout",
     "output_type": "stream",
     "text": [
      "start scrolling to generate more images on the page...\n"
     ]
    }
   ],
   "source": [
    "print(\"start scrolling to generate more images on the page...\")\n",
    "# 500 time we scroll down by 1000 in order to generate more images on the website\n",
    "for _ in range(500):\n",
    "    driver.execute_script(\"window.scrollBy(0,1000)\")"
   ]
  },
  {
   "cell_type": "code",
   "execution_count": 36,
   "id": "68cdf831",
   "metadata": {},
   "outputs": [],
   "source": [
    " images = driver.find_elements(By.XPATH,'//img[@class=\"YQ4gaf\"]')"
   ]
  },
  {
   "cell_type": "code",
   "execution_count": 37,
   "id": "c5a480dd",
   "metadata": {},
   "outputs": [
    {
     "data": {
      "text/plain": [
       "378"
      ]
     },
     "execution_count": 37,
     "metadata": {},
     "output_type": "execute_result"
    }
   ],
   "source": [
    "img_urls = []\n",
    "img_data = []\n",
    "for image in images:\n",
    "    source= image.get_attribute('src')\n",
    "    if source is not None:\n",
    "        if(source[0:4] == 'http'):\n",
    "            img_urls.append(source)\n",
    "len(img_urls)"
   ]
  },
  {
   "cell_type": "code",
   "execution_count": 39,
   "id": "e257cad4",
   "metadata": {},
   "outputs": [],
   "source": [
    "import requests\n"
   ]
  },
  {
   "cell_type": "code",
   "execution_count": 47,
   "id": "4c4e4182",
   "metadata": {},
   "outputs": [
    {
     "name": "stdout",
     "output_type": "stream",
     "text": [
      "Downloading 0 of 100 images\n",
      "Downloading 1 of 100 images\n",
      "Downloading 2 of 100 images\n",
      "Downloading 3 of 100 images\n",
      "Downloading 4 of 100 images\n",
      "Downloading 5 of 100 images\n",
      "Downloading 6 of 100 images\n",
      "Downloading 7 of 100 images\n",
      "Downloading 8 of 100 images\n",
      "Downloading 9 of 100 images\n",
      "Downloading 10 of 100 images\n",
      "Downloading 11 of 100 images\n",
      "Downloading 12 of 100 images\n",
      "Downloading 13 of 100 images\n",
      "Downloading 14 of 100 images\n",
      "Downloading 15 of 100 images\n",
      "Downloading 16 of 100 images\n",
      "Downloading 17 of 100 images\n",
      "Downloading 18 of 100 images\n",
      "Downloading 19 of 100 images\n",
      "Downloading 20 of 100 images\n",
      "Downloading 21 of 100 images\n",
      "Downloading 22 of 100 images\n",
      "Downloading 23 of 100 images\n",
      "Downloading 24 of 100 images\n",
      "Downloading 25 of 100 images\n",
      "Downloading 26 of 100 images\n",
      "Downloading 27 of 100 images\n",
      "Downloading 28 of 100 images\n",
      "Downloading 29 of 100 images\n",
      "Downloading 30 of 100 images\n",
      "Downloading 31 of 100 images\n",
      "Downloading 32 of 100 images\n",
      "Downloading 33 of 100 images\n",
      "Downloading 34 of 100 images\n",
      "Downloading 35 of 100 images\n",
      "Downloading 36 of 100 images\n",
      "Downloading 37 of 100 images\n",
      "Downloading 38 of 100 images\n",
      "Downloading 39 of 100 images\n",
      "Downloading 40 of 100 images\n",
      "Downloading 41 of 100 images\n",
      "Downloading 42 of 100 images\n",
      "Downloading 43 of 100 images\n",
      "Downloading 44 of 100 images\n",
      "Downloading 45 of 100 images\n",
      "Downloading 46 of 100 images\n",
      "Downloading 47 of 100 images\n",
      "Downloading 48 of 100 images\n",
      "Downloading 49 of 100 images\n",
      "Downloading 50 of 100 images\n",
      "Downloading 51 of 100 images\n",
      "Downloading 52 of 100 images\n",
      "Downloading 53 of 100 images\n",
      "Downloading 54 of 100 images\n",
      "Downloading 55 of 100 images\n",
      "Downloading 56 of 100 images\n",
      "Downloading 57 of 100 images\n",
      "Downloading 58 of 100 images\n",
      "Downloading 59 of 100 images\n",
      "Downloading 60 of 100 images\n",
      "Downloading 61 of 100 images\n",
      "Downloading 62 of 100 images\n",
      "Downloading 63 of 100 images\n",
      "Downloading 64 of 100 images\n",
      "Downloading 65 of 100 images\n",
      "Downloading 66 of 100 images\n",
      "Downloading 67 of 100 images\n",
      "Downloading 68 of 100 images\n",
      "Downloading 69 of 100 images\n",
      "Downloading 70 of 100 images\n",
      "Downloading 71 of 100 images\n",
      "Downloading 72 of 100 images\n",
      "Downloading 73 of 100 images\n",
      "Downloading 74 of 100 images\n",
      "Downloading 75 of 100 images\n",
      "Downloading 76 of 100 images\n",
      "Downloading 77 of 100 images\n",
      "Downloading 78 of 100 images\n",
      "Downloading 79 of 100 images\n",
      "Downloading 80 of 100 images\n",
      "Downloading 81 of 100 images\n",
      "Downloading 82 of 100 images\n",
      "Downloading 83 of 100 images\n",
      "Downloading 84 of 100 images\n",
      "Downloading 85 of 100 images\n",
      "Downloading 86 of 100 images\n",
      "Downloading 87 of 100 images\n",
      "Downloading 88 of 100 images\n",
      "Downloading 89 of 100 images\n",
      "Downloading 90 of 100 images\n",
      "Downloading 91 of 100 images\n",
      "Downloading 92 of 100 images\n",
      "Downloading 93 of 100 images\n",
      "Downloading 94 of 100 images\n",
      "Downloading 95 of 100 images\n",
      "Downloading 96 of 100 images\n",
      "Downloading 97 of 100 images\n",
      "Downloading 98 of 100 images\n",
      "Downloading 99 of 100 images\n"
     ]
    }
   ],
   "source": [
    "for i in range(len(img_urls)):\n",
    "    if i >= 100:\n",
    "        break\n",
    "    print(\"Downloading {0} of {1} images\" .format(i, 100))\n",
    "    response= requests.get(img_urls[i])\n",
    "    file = open(\"C:\\\\Users\\\\Sumit Kaushik\\\\OneDrive\\\\img\"+str(i)+\".jpg\", \"wb\")\n",
    "    file.write(response.content)\n",
    "    \n",
    "\n"
   ]
  },
  {
   "cell_type": "code",
   "execution_count": null,
   "id": "009c4652",
   "metadata": {},
   "outputs": [],
   "source": []
  },
  {
   "cell_type": "markdown",
   "id": "01425073",
   "metadata": {},
   "source": [
    "# Question.4"
   ]
  },
  {
   "cell_type": "code",
   "execution_count": 48,
   "id": "facf66db",
   "metadata": {},
   "outputs": [],
   "source": [
    "driver = webdriver.Chrome()"
   ]
  },
  {
   "cell_type": "code",
   "execution_count": 49,
   "id": "00870762",
   "metadata": {},
   "outputs": [],
   "source": [
    "url4=\"https://www.flipkart.com/search?q=smartphone&otracker=search&otracker1=search&marketplace=FLIPKART&as-show=on&as=off\"\n",
    "driver.get(url4)"
   ]
  },
  {
   "cell_type": "code",
   "execution_count": 50,
   "id": "df1de91c",
   "metadata": {},
   "outputs": [],
   "source": [
    "Brand_Name=[]\n",
    "Colour=[]\n",
    "Storage_RAM_ROM=[]\n",
    "P_F_Camera=[]\n",
    "Display_size_Resolution=[]\n",
    "ProcessorAndCores=[]\n",
    "Battery=[]\n",
    "Price=[]\n",
    "Product_URL=[]"
   ]
  },
  {
   "cell_type": "code",
   "execution_count": 52,
   "id": "8cc2d003",
   "metadata": {},
   "outputs": [
    {
     "name": "stdout",
     "output_type": "stream",
     "text": [
      "24 ['vivo T3x 5G (Celestial Green, 128 GB)', 'Motorola G34 5G (Ice Blue, 128 GB)', 'Motorola G34 5G (Charcoal Black, 128 GB)', 'Motorola G34 5G (Ocean Green, 128 GB)', 'MOTOROLA g24 Power (Ink blue, 128 GB)', 'REDMI 13C (Stardust Black, 128 GB)', 'POCO M6 Pro 5G (Power Black, 128 GB)', 'MOTOROLA g24 Power (Ink blue, 128 GB)', 'SAMSUNG Galaxy F14 5G (B.A.E. Purple, 128 GB)', 'POCO M6 Pro 5G (Forest Green, 128 GB)', 'MOTOROLA G04 (Sea Green, 128 GB)', 'POCO M6 5G - Locked with Airtel Prepaid (Polaris Green, 128 GB)', 'MOTOROLA g24 Power (Glacier Blue, 128 GB)', 'REDMI 13C (Starshine Green, 128 GB)', 'MOTOROLA G04 (Sea Green, 64 GB)', 'POCO M6 Pro 5G (Forest Green, 128 GB)', 'POCO M6 Pro 5G (Power Black, 128 GB)', 'POCO C65 (Pastel Blue, 128 GB)', 'Motorola g54 5G (Pearl Blue, 128 GB)', 'Motorola Edge 40 Neo (Soothing Sea, 256 GB)', 'OnePlus Nord CE 3 Lite 5G (Chromatic Gray, 256 GB)', 'Motorola G34 5G (Ocean Green, 128 GB)', 'MOTOROLA G04 (Satin Blue, 64 GB)', 'OnePlus Nord CE 3 Lite 5G (Chromatic Gray, 128 GB)']\n"
     ]
    }
   ],
   "source": [
    "#scraping the Brand_Name \n",
    "BName=driver.find_elements(By.XPATH,'//div[@class=\"KzDlHZ\"]')\n",
    "for i in BName:\n",
    "    if i.text is None :\n",
    "        Brand_Name.append(\"--\") \n",
    "    else:\n",
    "        Brand_Name.append(i.text)\n",
    "print(len(Brand_Name),Brand_Name)"
   ]
  },
  {
   "cell_type": "code",
   "execution_count": 53,
   "id": "c27a28cd",
   "metadata": {},
   "outputs": [
    {
     "name": "stdout",
     "output_type": "stream",
     "text": [
      "24 ['4 GB RAM | 128 GB ROM | Expandable Upto 1 TB', '8 GB RAM | 128 GB ROM', '8 GB RAM | 128 GB ROM', '8 GB RAM | 128 GB ROM', '8 GB RAM | 128 GB ROM | Expandable Upto 1 TB', '4 GB RAM | 128 GB ROM | Expandable Upto 1 TB', '4 GB RAM | 128 GB ROM | Expandable Upto 1 TB', '4 GB RAM | 128 GB ROM | Expandable Upto 1 TB', '6 GB RAM | 128 GB ROM | Expandable Upto 1 TB', '4 GB RAM | 128 GB ROM | Expandable Upto 1 TB', '8 GB RAM | 128 GB ROM | Expandable Upto 1 TB', '4 GB RAM | 128 GB ROM | Expandable Upto 1 TB', '8 GB RAM | 128 GB ROM | Expandable Upto 1 TB', '4 GB RAM | 128 GB ROM | Expandable Upto 1 TB', '4 GB RAM | 64 GB ROM | Expandable Upto 1 TB', '6 GB RAM | 128 GB ROM | Expandable Upto 1 TB', '6 GB RAM | 128 GB ROM | Expandable Upto 1 TB', '6 GB RAM | 128 GB ROM | Expandable Upto 1 TB', '8 GB RAM | 128 GB ROM | Expandable Upto 1 TB', '12 GB RAM | 256 GB ROM', '8 GB RAM | 256 GB ROM', '4 GB RAM | 128 GB ROM', '4 GB RAM | 64 GB ROM | Expandable Upto 1 TB', '8 GB RAM | 128 GB ROM']\n"
     ]
    }
   ],
   "source": [
    "#scraping the Storage_RAM_ROM \n",
    "ram=driver.find_elements(By.XPATH,'//ul[@class=\"G4BRas\"]//li[1]')\n",
    "for i in ram:\n",
    "    if i.text is None :\n",
    "        Storage_RAM_ROM.append(\"--\") \n",
    "    else:\n",
    "        Storage_RAM_ROM.append(i.text)\n",
    "print(len(Storage_RAM_ROM),Storage_RAM_ROM)"
   ]
  },
  {
   "cell_type": "code",
   "execution_count": 54,
   "id": "4942ca61",
   "metadata": {},
   "outputs": [
    {
     "name": "stdout",
     "output_type": "stream",
     "text": [
      "24 ['50MP + 2MP | 8MP Front Camera', '50MP + 2MP | 16MP Front Camera', '50MP + 2MP | 16MP Front Camera', '50MP + 2MP | 16MP Front Camera', '50MP + 2MP | 16MP Front Camera', '50MP Rear Camera | 8MP Front Camera', '50MP + 2MP | 8MP Front Camera', '50MP + 2MP | 16MP Front Camera', '50MP + 2MP | 13MP Front Camera', '50MP + 2MP | 8MP Front Camera', '16MP Rear Camera | 5MP Front Camera', '50MP Rear Camera | 5MP Front Camera', '50MP + 2MP | 16MP Front Camera', '50MP Rear Camera | 8MP Front Camera', '16MP Rear Camera | 5MP Front Camera', '50MP + 2MP | 8MP Front Camera', '50MP + 2MP | 8MP Front Camera', '50MP + AI Lens + 2MP | 8MP Front Camera', '50MP (OIS) + 8MP | 16MP Front Camera', '50MP + 13MP | 32MP Front Camera', '108MP Rear Camera', '50MP + 2MP | 16MP Front Camera', '16MP Rear Camera | 5MP Front Camera', '108MP Rear Camera']\n"
     ]
    }
   ],
   "source": [
    "#scraping the P_F_Camera \n",
    "PC=driver.find_elements(By.XPATH,'//ul[@class=\"G4BRas\"]//li[3]')\n",
    "for i in PC:\n",
    "    if i.text is None :\n",
    "        P_F_Camera.append(\"--\") \n",
    "    else:\n",
    "        P_F_Camera.append(i.text)\n",
    "print(len(P_F_Camera),P_F_Camera)"
   ]
  },
  {
   "cell_type": "code",
   "execution_count": 55,
   "id": "f83f80ae",
   "metadata": {},
   "outputs": [
    {
     "name": "stdout",
     "output_type": "stream",
     "text": [
      "24 ['17.07 cm (6.72 inch) Full HD+ Display', '16.51 cm (6.5 inch) HD+ Display', '16.51 cm (6.5 inch) HD+ Display', '16.51 cm (6.5 inch) HD+ Display', '16.76 cm (6.6 inch) HD+ Display', '17.12 cm (6.74 inch) HD+ Display', '17.25 cm (6.79 inch) Full HD+ Display', '16.76 cm (6.6 inch) HD+ Display', '16.76 cm (6.6 inch) Full HD+ Display', '17.25 cm (6.79 inch) Full HD+ Display', '16.76 cm (6.6 inch) HD+ Display', '17.12 cm (6.74 inch) HD+ Display', '16.76 cm (6.6 inch) HD+ Display', '17.12 cm (6.74 inch) HD+ Display', '16.76 cm (6.6 inch) HD+ Display', '17.25 cm (6.79 inch) Full HD+ Display', '17.25 cm (6.79 inch) Full HD+ Display', '17.12 cm (6.74 inch) HD+ Display', '16.51 cm (6.5 inch) Full HD+ Display', '16.64 cm (6.55 inch) Full HD+ Display', '17.07 cm (6.72 inch) Display', '16.51 cm (6.5 inch) HD+ Display', '16.76 cm (6.6 inch) HD+ Display', '17.07 cm (6.72 inch) Display']\n"
     ]
    }
   ],
   "source": [
    "#scraping the Display_size_Resolution \n",
    "DS=driver.find_elements(By.XPATH,'//ul[@class=\"G4BRas\"]//li[2]')\n",
    "for i in DS:\n",
    "    if i.text is None :\n",
    "        Display_size_Resolution.append(\"--\") \n",
    "    else:\n",
    "        Display_size_Resolution.append(i.text)\n",
    "print(len(Display_size_Resolution),Display_size_Resolution)"
   ]
  },
  {
   "cell_type": "code",
   "execution_count": 56,
   "id": "fd069e13",
   "metadata": {},
   "outputs": [
    {
     "name": "stdout",
     "output_type": "stream",
     "text": [
      "24 ['6 Gen 1 Processor', 'Snapdragon 695 5G Processor', 'Snapdragon 695 5G Processor', 'Snapdragon 695 5G Processor', 'Helio G85 Processor', 'Helio G85 Processor', 'Snapdragon 4 Gen 2 Processor', 'Helio G85 Processor', 'Exynos 1330, Octa Core Processor', 'Snapdragon 4 Gen 2 Processor', 'Unisoc T606 Processor', 'Mediatek Dimensity 6100+ Processor', 'Helio G85 Processor', 'Helio G85 Processor', 'Unisoc T606 Processor', 'Snapdragon 4 Gen 2 Processor', 'Snapdragon 4 Gen 2 Processor', 'Helio G85 Processor', 'Dimensity 7020 Processor', 'Dimensity 7030 Processor', 'Domestic Warranty of 12 months on phone & 6 months on accessories', 'Snapdragon 695 5G Processor', 'Unisoc T606 Processor', 'Domestic Warranty of 12 months on phone & 6 months on accessories']\n"
     ]
    }
   ],
   "source": [
    "#scraping the ProcessorAndCores \n",
    "P=driver.find_elements(By.XPATH,'//ul[@class=\"G4BRas\"]//li[5]')\n",
    "for i in P:\n",
    "    if i.text is None :\n",
    "        ProcessorAndCores.append(\"--\") \n",
    "    else:\n",
    "        ProcessorAndCores.append(i.text)\n",
    "print(len(ProcessorAndCores),ProcessorAndCores)"
   ]
  },
  {
   "cell_type": "code",
   "execution_count": 57,
   "id": "72df175f",
   "metadata": {},
   "outputs": [
    {
     "name": "stdout",
     "output_type": "stream",
     "text": [
      "24 ['6000 mAh Battery', '5000 mAh Battery', '5000 mAh Battery', '5000 mAh Battery', '6000 mAh Battery', '5000 mAh Battery', '5000 mAh Battery', '6000 mAh Battery', '6000 mAh Battery', '5000 mAh Battery', '5000 mAh Battery', '5000 mAh Battery', '6000 mAh Battery', '5000 mAh Battery', '5000 mAh Battery', '5000 mAh Battery', '5000 mAh Battery', '5000 mAh Battery', '6000 mAh Battery', '5000 mAh Battery', '5000 mAh Battery', '5000 mAh Battery', '5000 mAh Battery', '5000 mAh Battery']\n"
     ]
    }
   ],
   "source": [
    "#scraping the Battery \n",
    "B=driver.find_elements(By.XPATH,'//ul[@class=\"G4BRas\"]//li[4]')\n",
    "for i in B:\n",
    "    if i.text is None :\n",
    "        Battery.append(\"--\") \n",
    "    else:\n",
    "        Battery.append(i.text)\n",
    "print(len(Battery),Battery)"
   ]
  },
  {
   "cell_type": "code",
   "execution_count": 59,
   "id": "a6d8f044",
   "metadata": {},
   "outputs": [
    {
     "name": "stdout",
     "output_type": "stream",
     "text": [
      "24 ['₹13,499', '₹11,999', '₹11,999', '₹11,999', '₹8,999', '₹7,699', '₹9,999', '₹7,999', '₹10,490', '₹9,999', '₹7,999', '₹8,599', '₹8,999', '₹7,699', '₹6,999', '₹10,999', '₹10,999', '₹7,999', '₹14,999', '₹24,999', '₹19,406', '₹10,999', '₹6,999', '₹17,399']\n"
     ]
    }
   ],
   "source": [
    "#scraping the Price \n",
    "price=driver.find_elements(By.XPATH,'//div[@class=\"Nx9bqj _4b5DiR\"]')\n",
    "for i in price:\n",
    "    if i.text is None :\n",
    "        Price.append(\"--\") \n",
    "    else:\n",
    "        Price.append(i.text)\n",
    "print(len(Price),Price)"
   ]
  },
  {
   "cell_type": "code",
   "execution_count": 60,
   "id": "c064ed57",
   "metadata": {},
   "outputs": [
    {
     "data": {
      "text/html": [
       "<div>\n",
       "<style scoped>\n",
       "    .dataframe tbody tr th:only-of-type {\n",
       "        vertical-align: middle;\n",
       "    }\n",
       "\n",
       "    .dataframe tbody tr th {\n",
       "        vertical-align: top;\n",
       "    }\n",
       "\n",
       "    .dataframe thead th {\n",
       "        text-align: right;\n",
       "    }\n",
       "</style>\n",
       "<table border=\"1\" class=\"dataframe\">\n",
       "  <thead>\n",
       "    <tr style=\"text-align: right;\">\n",
       "      <th></th>\n",
       "      <th>Brand_Name</th>\n",
       "      <th>Storage_RAM_ROM</th>\n",
       "      <th>Amount P_F_Camera</th>\n",
       "      <th>Display_size_Resolution</th>\n",
       "      <th>ProcessorAndCores</th>\n",
       "      <th>Battery</th>\n",
       "      <th>Price</th>\n",
       "    </tr>\n",
       "  </thead>\n",
       "  <tbody>\n",
       "    <tr>\n",
       "      <th>0</th>\n",
       "      <td>vivo T3x 5G (Celestial Green, 128 GB)</td>\n",
       "      <td>4 GB RAM | 128 GB ROM | Expandable Upto 1 TB</td>\n",
       "      <td>50MP + 2MP | 8MP Front Camera</td>\n",
       "      <td>17.07 cm (6.72 inch) Full HD+ Display</td>\n",
       "      <td>6 Gen 1 Processor</td>\n",
       "      <td>6000 mAh Battery</td>\n",
       "      <td>₹13,499</td>\n",
       "    </tr>\n",
       "    <tr>\n",
       "      <th>1</th>\n",
       "      <td>Motorola G34 5G (Ice Blue, 128 GB)</td>\n",
       "      <td>8 GB RAM | 128 GB ROM</td>\n",
       "      <td>50MP + 2MP | 16MP Front Camera</td>\n",
       "      <td>16.51 cm (6.5 inch) HD+ Display</td>\n",
       "      <td>Snapdragon 695 5G Processor</td>\n",
       "      <td>5000 mAh Battery</td>\n",
       "      <td>₹11,999</td>\n",
       "    </tr>\n",
       "    <tr>\n",
       "      <th>2</th>\n",
       "      <td>Motorola G34 5G (Charcoal Black, 128 GB)</td>\n",
       "      <td>8 GB RAM | 128 GB ROM</td>\n",
       "      <td>50MP + 2MP | 16MP Front Camera</td>\n",
       "      <td>16.51 cm (6.5 inch) HD+ Display</td>\n",
       "      <td>Snapdragon 695 5G Processor</td>\n",
       "      <td>5000 mAh Battery</td>\n",
       "      <td>₹11,999</td>\n",
       "    </tr>\n",
       "    <tr>\n",
       "      <th>3</th>\n",
       "      <td>Motorola G34 5G (Ocean Green, 128 GB)</td>\n",
       "      <td>8 GB RAM | 128 GB ROM</td>\n",
       "      <td>50MP + 2MP | 16MP Front Camera</td>\n",
       "      <td>16.51 cm (6.5 inch) HD+ Display</td>\n",
       "      <td>Snapdragon 695 5G Processor</td>\n",
       "      <td>5000 mAh Battery</td>\n",
       "      <td>₹11,999</td>\n",
       "    </tr>\n",
       "    <tr>\n",
       "      <th>4</th>\n",
       "      <td>MOTOROLA g24 Power (Ink blue, 128 GB)</td>\n",
       "      <td>8 GB RAM | 128 GB ROM | Expandable Upto 1 TB</td>\n",
       "      <td>50MP + 2MP | 16MP Front Camera</td>\n",
       "      <td>16.76 cm (6.6 inch) HD+ Display</td>\n",
       "      <td>Helio G85 Processor</td>\n",
       "      <td>6000 mAh Battery</td>\n",
       "      <td>₹8,999</td>\n",
       "    </tr>\n",
       "    <tr>\n",
       "      <th>5</th>\n",
       "      <td>REDMI 13C (Stardust Black, 128 GB)</td>\n",
       "      <td>4 GB RAM | 128 GB ROM | Expandable Upto 1 TB</td>\n",
       "      <td>50MP Rear Camera | 8MP Front Camera</td>\n",
       "      <td>17.12 cm (6.74 inch) HD+ Display</td>\n",
       "      <td>Helio G85 Processor</td>\n",
       "      <td>5000 mAh Battery</td>\n",
       "      <td>₹7,699</td>\n",
       "    </tr>\n",
       "    <tr>\n",
       "      <th>6</th>\n",
       "      <td>POCO M6 Pro 5G (Power Black, 128 GB)</td>\n",
       "      <td>4 GB RAM | 128 GB ROM | Expandable Upto 1 TB</td>\n",
       "      <td>50MP + 2MP | 8MP Front Camera</td>\n",
       "      <td>17.25 cm (6.79 inch) Full HD+ Display</td>\n",
       "      <td>Snapdragon 4 Gen 2 Processor</td>\n",
       "      <td>5000 mAh Battery</td>\n",
       "      <td>₹9,999</td>\n",
       "    </tr>\n",
       "    <tr>\n",
       "      <th>7</th>\n",
       "      <td>MOTOROLA g24 Power (Ink blue, 128 GB)</td>\n",
       "      <td>4 GB RAM | 128 GB ROM | Expandable Upto 1 TB</td>\n",
       "      <td>50MP + 2MP | 16MP Front Camera</td>\n",
       "      <td>16.76 cm (6.6 inch) HD+ Display</td>\n",
       "      <td>Helio G85 Processor</td>\n",
       "      <td>6000 mAh Battery</td>\n",
       "      <td>₹7,999</td>\n",
       "    </tr>\n",
       "    <tr>\n",
       "      <th>8</th>\n",
       "      <td>SAMSUNG Galaxy F14 5G (B.A.E. Purple, 128 GB)</td>\n",
       "      <td>6 GB RAM | 128 GB ROM | Expandable Upto 1 TB</td>\n",
       "      <td>50MP + 2MP | 13MP Front Camera</td>\n",
       "      <td>16.76 cm (6.6 inch) Full HD+ Display</td>\n",
       "      <td>Exynos 1330, Octa Core Processor</td>\n",
       "      <td>6000 mAh Battery</td>\n",
       "      <td>₹10,490</td>\n",
       "    </tr>\n",
       "    <tr>\n",
       "      <th>9</th>\n",
       "      <td>POCO M6 Pro 5G (Forest Green, 128 GB)</td>\n",
       "      <td>4 GB RAM | 128 GB ROM | Expandable Upto 1 TB</td>\n",
       "      <td>50MP + 2MP | 8MP Front Camera</td>\n",
       "      <td>17.25 cm (6.79 inch) Full HD+ Display</td>\n",
       "      <td>Snapdragon 4 Gen 2 Processor</td>\n",
       "      <td>5000 mAh Battery</td>\n",
       "      <td>₹9,999</td>\n",
       "    </tr>\n",
       "    <tr>\n",
       "      <th>10</th>\n",
       "      <td>MOTOROLA G04 (Sea Green, 128 GB)</td>\n",
       "      <td>8 GB RAM | 128 GB ROM | Expandable Upto 1 TB</td>\n",
       "      <td>16MP Rear Camera | 5MP Front Camera</td>\n",
       "      <td>16.76 cm (6.6 inch) HD+ Display</td>\n",
       "      <td>Unisoc T606 Processor</td>\n",
       "      <td>5000 mAh Battery</td>\n",
       "      <td>₹7,999</td>\n",
       "    </tr>\n",
       "    <tr>\n",
       "      <th>11</th>\n",
       "      <td>POCO M6 5G - Locked with Airtel Prepaid (Polar...</td>\n",
       "      <td>4 GB RAM | 128 GB ROM | Expandable Upto 1 TB</td>\n",
       "      <td>50MP Rear Camera | 5MP Front Camera</td>\n",
       "      <td>17.12 cm (6.74 inch) HD+ Display</td>\n",
       "      <td>Mediatek Dimensity 6100+ Processor</td>\n",
       "      <td>5000 mAh Battery</td>\n",
       "      <td>₹8,599</td>\n",
       "    </tr>\n",
       "    <tr>\n",
       "      <th>12</th>\n",
       "      <td>MOTOROLA g24 Power (Glacier Blue, 128 GB)</td>\n",
       "      <td>8 GB RAM | 128 GB ROM | Expandable Upto 1 TB</td>\n",
       "      <td>50MP + 2MP | 16MP Front Camera</td>\n",
       "      <td>16.76 cm (6.6 inch) HD+ Display</td>\n",
       "      <td>Helio G85 Processor</td>\n",
       "      <td>6000 mAh Battery</td>\n",
       "      <td>₹8,999</td>\n",
       "    </tr>\n",
       "    <tr>\n",
       "      <th>13</th>\n",
       "      <td>REDMI 13C (Starshine Green, 128 GB)</td>\n",
       "      <td>4 GB RAM | 128 GB ROM | Expandable Upto 1 TB</td>\n",
       "      <td>50MP Rear Camera | 8MP Front Camera</td>\n",
       "      <td>17.12 cm (6.74 inch) HD+ Display</td>\n",
       "      <td>Helio G85 Processor</td>\n",
       "      <td>5000 mAh Battery</td>\n",
       "      <td>₹7,699</td>\n",
       "    </tr>\n",
       "    <tr>\n",
       "      <th>14</th>\n",
       "      <td>MOTOROLA G04 (Sea Green, 64 GB)</td>\n",
       "      <td>4 GB RAM | 64 GB ROM | Expandable Upto 1 TB</td>\n",
       "      <td>16MP Rear Camera | 5MP Front Camera</td>\n",
       "      <td>16.76 cm (6.6 inch) HD+ Display</td>\n",
       "      <td>Unisoc T606 Processor</td>\n",
       "      <td>5000 mAh Battery</td>\n",
       "      <td>₹6,999</td>\n",
       "    </tr>\n",
       "    <tr>\n",
       "      <th>15</th>\n",
       "      <td>POCO M6 Pro 5G (Forest Green, 128 GB)</td>\n",
       "      <td>6 GB RAM | 128 GB ROM | Expandable Upto 1 TB</td>\n",
       "      <td>50MP + 2MP | 8MP Front Camera</td>\n",
       "      <td>17.25 cm (6.79 inch) Full HD+ Display</td>\n",
       "      <td>Snapdragon 4 Gen 2 Processor</td>\n",
       "      <td>5000 mAh Battery</td>\n",
       "      <td>₹10,999</td>\n",
       "    </tr>\n",
       "    <tr>\n",
       "      <th>16</th>\n",
       "      <td>POCO M6 Pro 5G (Power Black, 128 GB)</td>\n",
       "      <td>6 GB RAM | 128 GB ROM | Expandable Upto 1 TB</td>\n",
       "      <td>50MP + 2MP | 8MP Front Camera</td>\n",
       "      <td>17.25 cm (6.79 inch) Full HD+ Display</td>\n",
       "      <td>Snapdragon 4 Gen 2 Processor</td>\n",
       "      <td>5000 mAh Battery</td>\n",
       "      <td>₹10,999</td>\n",
       "    </tr>\n",
       "    <tr>\n",
       "      <th>17</th>\n",
       "      <td>POCO C65 (Pastel Blue, 128 GB)</td>\n",
       "      <td>6 GB RAM | 128 GB ROM | Expandable Upto 1 TB</td>\n",
       "      <td>50MP + AI Lens + 2MP | 8MP Front Camera</td>\n",
       "      <td>17.12 cm (6.74 inch) HD+ Display</td>\n",
       "      <td>Helio G85 Processor</td>\n",
       "      <td>5000 mAh Battery</td>\n",
       "      <td>₹7,999</td>\n",
       "    </tr>\n",
       "    <tr>\n",
       "      <th>18</th>\n",
       "      <td>Motorola g54 5G (Pearl Blue, 128 GB)</td>\n",
       "      <td>8 GB RAM | 128 GB ROM | Expandable Upto 1 TB</td>\n",
       "      <td>50MP (OIS) + 8MP | 16MP Front Camera</td>\n",
       "      <td>16.51 cm (6.5 inch) Full HD+ Display</td>\n",
       "      <td>Dimensity 7020 Processor</td>\n",
       "      <td>6000 mAh Battery</td>\n",
       "      <td>₹14,999</td>\n",
       "    </tr>\n",
       "    <tr>\n",
       "      <th>19</th>\n",
       "      <td>Motorola Edge 40 Neo (Soothing Sea, 256 GB)</td>\n",
       "      <td>12 GB RAM | 256 GB ROM</td>\n",
       "      <td>50MP + 13MP | 32MP Front Camera</td>\n",
       "      <td>16.64 cm (6.55 inch) Full HD+ Display</td>\n",
       "      <td>Dimensity 7030 Processor</td>\n",
       "      <td>5000 mAh Battery</td>\n",
       "      <td>₹24,999</td>\n",
       "    </tr>\n",
       "    <tr>\n",
       "      <th>20</th>\n",
       "      <td>OnePlus Nord CE 3 Lite 5G (Chromatic Gray, 256...</td>\n",
       "      <td>8 GB RAM | 256 GB ROM</td>\n",
       "      <td>108MP Rear Camera</td>\n",
       "      <td>17.07 cm (6.72 inch) Display</td>\n",
       "      <td>Domestic Warranty of 12 months on phone &amp; 6 mo...</td>\n",
       "      <td>5000 mAh Battery</td>\n",
       "      <td>₹19,406</td>\n",
       "    </tr>\n",
       "    <tr>\n",
       "      <th>21</th>\n",
       "      <td>Motorola G34 5G (Ocean Green, 128 GB)</td>\n",
       "      <td>4 GB RAM | 128 GB ROM</td>\n",
       "      <td>50MP + 2MP | 16MP Front Camera</td>\n",
       "      <td>16.51 cm (6.5 inch) HD+ Display</td>\n",
       "      <td>Snapdragon 695 5G Processor</td>\n",
       "      <td>5000 mAh Battery</td>\n",
       "      <td>₹10,999</td>\n",
       "    </tr>\n",
       "    <tr>\n",
       "      <th>22</th>\n",
       "      <td>MOTOROLA G04 (Satin Blue, 64 GB)</td>\n",
       "      <td>4 GB RAM | 64 GB ROM | Expandable Upto 1 TB</td>\n",
       "      <td>16MP Rear Camera | 5MP Front Camera</td>\n",
       "      <td>16.76 cm (6.6 inch) HD+ Display</td>\n",
       "      <td>Unisoc T606 Processor</td>\n",
       "      <td>5000 mAh Battery</td>\n",
       "      <td>₹6,999</td>\n",
       "    </tr>\n",
       "    <tr>\n",
       "      <th>23</th>\n",
       "      <td>OnePlus Nord CE 3 Lite 5G (Chromatic Gray, 128...</td>\n",
       "      <td>8 GB RAM | 128 GB ROM</td>\n",
       "      <td>108MP Rear Camera</td>\n",
       "      <td>17.07 cm (6.72 inch) Display</td>\n",
       "      <td>Domestic Warranty of 12 months on phone &amp; 6 mo...</td>\n",
       "      <td>5000 mAh Battery</td>\n",
       "      <td>₹17,399</td>\n",
       "    </tr>\n",
       "  </tbody>\n",
       "</table>\n",
       "</div>"
      ],
      "text/plain": [
       "                                           Brand_Name  \\\n",
       "0               vivo T3x 5G (Celestial Green, 128 GB)   \n",
       "1                  Motorola G34 5G (Ice Blue, 128 GB)   \n",
       "2            Motorola G34 5G (Charcoal Black, 128 GB)   \n",
       "3               Motorola G34 5G (Ocean Green, 128 GB)   \n",
       "4               MOTOROLA g24 Power (Ink blue, 128 GB)   \n",
       "5                  REDMI 13C (Stardust Black, 128 GB)   \n",
       "6                POCO M6 Pro 5G (Power Black, 128 GB)   \n",
       "7               MOTOROLA g24 Power (Ink blue, 128 GB)   \n",
       "8       SAMSUNG Galaxy F14 5G (B.A.E. Purple, 128 GB)   \n",
       "9               POCO M6 Pro 5G (Forest Green, 128 GB)   \n",
       "10                   MOTOROLA G04 (Sea Green, 128 GB)   \n",
       "11  POCO M6 5G - Locked with Airtel Prepaid (Polar...   \n",
       "12          MOTOROLA g24 Power (Glacier Blue, 128 GB)   \n",
       "13                REDMI 13C (Starshine Green, 128 GB)   \n",
       "14                    MOTOROLA G04 (Sea Green, 64 GB)   \n",
       "15              POCO M6 Pro 5G (Forest Green, 128 GB)   \n",
       "16               POCO M6 Pro 5G (Power Black, 128 GB)   \n",
       "17                     POCO C65 (Pastel Blue, 128 GB)   \n",
       "18               Motorola g54 5G (Pearl Blue, 128 GB)   \n",
       "19        Motorola Edge 40 Neo (Soothing Sea, 256 GB)   \n",
       "20  OnePlus Nord CE 3 Lite 5G (Chromatic Gray, 256...   \n",
       "21              Motorola G34 5G (Ocean Green, 128 GB)   \n",
       "22                   MOTOROLA G04 (Satin Blue, 64 GB)   \n",
       "23  OnePlus Nord CE 3 Lite 5G (Chromatic Gray, 128...   \n",
       "\n",
       "                                 Storage_RAM_ROM  \\\n",
       "0   4 GB RAM | 128 GB ROM | Expandable Upto 1 TB   \n",
       "1                          8 GB RAM | 128 GB ROM   \n",
       "2                          8 GB RAM | 128 GB ROM   \n",
       "3                          8 GB RAM | 128 GB ROM   \n",
       "4   8 GB RAM | 128 GB ROM | Expandable Upto 1 TB   \n",
       "5   4 GB RAM | 128 GB ROM | Expandable Upto 1 TB   \n",
       "6   4 GB RAM | 128 GB ROM | Expandable Upto 1 TB   \n",
       "7   4 GB RAM | 128 GB ROM | Expandable Upto 1 TB   \n",
       "8   6 GB RAM | 128 GB ROM | Expandable Upto 1 TB   \n",
       "9   4 GB RAM | 128 GB ROM | Expandable Upto 1 TB   \n",
       "10  8 GB RAM | 128 GB ROM | Expandable Upto 1 TB   \n",
       "11  4 GB RAM | 128 GB ROM | Expandable Upto 1 TB   \n",
       "12  8 GB RAM | 128 GB ROM | Expandable Upto 1 TB   \n",
       "13  4 GB RAM | 128 GB ROM | Expandable Upto 1 TB   \n",
       "14   4 GB RAM | 64 GB ROM | Expandable Upto 1 TB   \n",
       "15  6 GB RAM | 128 GB ROM | Expandable Upto 1 TB   \n",
       "16  6 GB RAM | 128 GB ROM | Expandable Upto 1 TB   \n",
       "17  6 GB RAM | 128 GB ROM | Expandable Upto 1 TB   \n",
       "18  8 GB RAM | 128 GB ROM | Expandable Upto 1 TB   \n",
       "19                        12 GB RAM | 256 GB ROM   \n",
       "20                         8 GB RAM | 256 GB ROM   \n",
       "21                         4 GB RAM | 128 GB ROM   \n",
       "22   4 GB RAM | 64 GB ROM | Expandable Upto 1 TB   \n",
       "23                         8 GB RAM | 128 GB ROM   \n",
       "\n",
       "                          Amount P_F_Camera  \\\n",
       "0             50MP + 2MP | 8MP Front Camera   \n",
       "1            50MP + 2MP | 16MP Front Camera   \n",
       "2            50MP + 2MP | 16MP Front Camera   \n",
       "3            50MP + 2MP | 16MP Front Camera   \n",
       "4            50MP + 2MP | 16MP Front Camera   \n",
       "5       50MP Rear Camera | 8MP Front Camera   \n",
       "6             50MP + 2MP | 8MP Front Camera   \n",
       "7            50MP + 2MP | 16MP Front Camera   \n",
       "8            50MP + 2MP | 13MP Front Camera   \n",
       "9             50MP + 2MP | 8MP Front Camera   \n",
       "10      16MP Rear Camera | 5MP Front Camera   \n",
       "11      50MP Rear Camera | 5MP Front Camera   \n",
       "12           50MP + 2MP | 16MP Front Camera   \n",
       "13      50MP Rear Camera | 8MP Front Camera   \n",
       "14      16MP Rear Camera | 5MP Front Camera   \n",
       "15            50MP + 2MP | 8MP Front Camera   \n",
       "16            50MP + 2MP | 8MP Front Camera   \n",
       "17  50MP + AI Lens + 2MP | 8MP Front Camera   \n",
       "18     50MP (OIS) + 8MP | 16MP Front Camera   \n",
       "19          50MP + 13MP | 32MP Front Camera   \n",
       "20                        108MP Rear Camera   \n",
       "21           50MP + 2MP | 16MP Front Camera   \n",
       "22      16MP Rear Camera | 5MP Front Camera   \n",
       "23                        108MP Rear Camera   \n",
       "\n",
       "                  Display_size_Resolution  \\\n",
       "0   17.07 cm (6.72 inch) Full HD+ Display   \n",
       "1         16.51 cm (6.5 inch) HD+ Display   \n",
       "2         16.51 cm (6.5 inch) HD+ Display   \n",
       "3         16.51 cm (6.5 inch) HD+ Display   \n",
       "4         16.76 cm (6.6 inch) HD+ Display   \n",
       "5        17.12 cm (6.74 inch) HD+ Display   \n",
       "6   17.25 cm (6.79 inch) Full HD+ Display   \n",
       "7         16.76 cm (6.6 inch) HD+ Display   \n",
       "8    16.76 cm (6.6 inch) Full HD+ Display   \n",
       "9   17.25 cm (6.79 inch) Full HD+ Display   \n",
       "10        16.76 cm (6.6 inch) HD+ Display   \n",
       "11       17.12 cm (6.74 inch) HD+ Display   \n",
       "12        16.76 cm (6.6 inch) HD+ Display   \n",
       "13       17.12 cm (6.74 inch) HD+ Display   \n",
       "14        16.76 cm (6.6 inch) HD+ Display   \n",
       "15  17.25 cm (6.79 inch) Full HD+ Display   \n",
       "16  17.25 cm (6.79 inch) Full HD+ Display   \n",
       "17       17.12 cm (6.74 inch) HD+ Display   \n",
       "18   16.51 cm (6.5 inch) Full HD+ Display   \n",
       "19  16.64 cm (6.55 inch) Full HD+ Display   \n",
       "20           17.07 cm (6.72 inch) Display   \n",
       "21        16.51 cm (6.5 inch) HD+ Display   \n",
       "22        16.76 cm (6.6 inch) HD+ Display   \n",
       "23           17.07 cm (6.72 inch) Display   \n",
       "\n",
       "                                    ProcessorAndCores           Battery  \\\n",
       "0                                   6 Gen 1 Processor  6000 mAh Battery   \n",
       "1                         Snapdragon 695 5G Processor  5000 mAh Battery   \n",
       "2                         Snapdragon 695 5G Processor  5000 mAh Battery   \n",
       "3                         Snapdragon 695 5G Processor  5000 mAh Battery   \n",
       "4                                 Helio G85 Processor  6000 mAh Battery   \n",
       "5                                 Helio G85 Processor  5000 mAh Battery   \n",
       "6                        Snapdragon 4 Gen 2 Processor  5000 mAh Battery   \n",
       "7                                 Helio G85 Processor  6000 mAh Battery   \n",
       "8                    Exynos 1330, Octa Core Processor  6000 mAh Battery   \n",
       "9                        Snapdragon 4 Gen 2 Processor  5000 mAh Battery   \n",
       "10                              Unisoc T606 Processor  5000 mAh Battery   \n",
       "11                 Mediatek Dimensity 6100+ Processor  5000 mAh Battery   \n",
       "12                                Helio G85 Processor  6000 mAh Battery   \n",
       "13                                Helio G85 Processor  5000 mAh Battery   \n",
       "14                              Unisoc T606 Processor  5000 mAh Battery   \n",
       "15                       Snapdragon 4 Gen 2 Processor  5000 mAh Battery   \n",
       "16                       Snapdragon 4 Gen 2 Processor  5000 mAh Battery   \n",
       "17                                Helio G85 Processor  5000 mAh Battery   \n",
       "18                           Dimensity 7020 Processor  6000 mAh Battery   \n",
       "19                           Dimensity 7030 Processor  5000 mAh Battery   \n",
       "20  Domestic Warranty of 12 months on phone & 6 mo...  5000 mAh Battery   \n",
       "21                        Snapdragon 695 5G Processor  5000 mAh Battery   \n",
       "22                              Unisoc T606 Processor  5000 mAh Battery   \n",
       "23  Domestic Warranty of 12 months on phone & 6 mo...  5000 mAh Battery   \n",
       "\n",
       "      Price  \n",
       "0   ₹13,499  \n",
       "1   ₹11,999  \n",
       "2   ₹11,999  \n",
       "3   ₹11,999  \n",
       "4    ₹8,999  \n",
       "5    ₹7,699  \n",
       "6    ₹9,999  \n",
       "7    ₹7,999  \n",
       "8   ₹10,490  \n",
       "9    ₹9,999  \n",
       "10   ₹7,999  \n",
       "11   ₹8,599  \n",
       "12   ₹8,999  \n",
       "13   ₹7,699  \n",
       "14   ₹6,999  \n",
       "15  ₹10,999  \n",
       "16  ₹10,999  \n",
       "17   ₹7,999  \n",
       "18  ₹14,999  \n",
       "19  ₹24,999  \n",
       "20  ₹19,406  \n",
       "21  ₹10,999  \n",
       "22   ₹6,999  \n",
       "23  ₹17,399  "
      ]
     },
     "execution_count": 60,
     "metadata": {},
     "output_type": "execute_result"
    }
   ],
   "source": [
    "FlipKart=pd.DataFrame([])\n",
    "FlipKart['Brand_Name']=Brand_Name\n",
    "FlipKart['Storage_RAM_ROM']=Storage_RAM_ROM\n",
    "FlipKart['Amount P_F_Camera']=P_F_Camera\n",
    "FlipKart['Display_size_Resolution']=Display_size_Resolution\n",
    "FlipKart['ProcessorAndCores']=ProcessorAndCores\n",
    "FlipKart['Battery']=Battery\n",
    "FlipKart['Price']=Price\n",
    "\n",
    "FlipKart"
   ]
  },
  {
   "cell_type": "code",
   "execution_count": null,
   "id": "69e589cf",
   "metadata": {},
   "outputs": [],
   "source": []
  },
  {
   "cell_type": "markdown",
   "id": "38606cb8",
   "metadata": {},
   "source": [
    "# Question.5"
   ]
  },
  {
   "cell_type": "code",
   "execution_count": 8,
   "id": "af1bd5c5",
   "metadata": {},
   "outputs": [],
   "source": [
    "#import all the required libraries\n",
    "import pandas as pd\n",
    "import selenium\n",
    "from selenium import webdriver\n",
    "from selenium.common.exceptions import StaleElementReferenceException, NoSuchElementException\n",
    "import time\n",
    "import re\n",
    "import warnings\n",
    "warnings.filterwarnings('ignore')\n",
    "from selenium.webdriver.common.by import By"
   ]
  },
  {
   "cell_type": "code",
   "execution_count": 9,
   "id": "801d1243",
   "metadata": {},
   "outputs": [],
   "source": [
    "driver = webdriver.Chrome()"
   ]
  },
  {
   "cell_type": "code",
   "execution_count": 10,
   "id": "560ee591",
   "metadata": {},
   "outputs": [
    {
     "name": "stdout",
     "output_type": "stream",
     "text": [
      "Enter City Name : delhi\n",
      "URL Extracted:  https://www.google.co.in/maps/place/Delhi/@27.1381927,80.8593041,7z/data=!4m6!3m5!1s0x390cfd5b347eb62d:0x37205b715389640!8m2!3d28.7040592!4d77.1024902!16zL20vMDlmMDc?entry=ttu\n",
      "Latitude = 27.1381927, Longitude = 80.8593041\n"
     ]
    }
   ],
   "source": [
    "# opening google maps\n",
    "driver.get(\"https://www.google.co.in/maps\")\n",
    "time.sleep(3)\n",
    "\n",
    "city = input('Enter City Name : ')                                         # Enter city to be searched\n",
    "search = driver.find_element(By.XPATH,'//input[@class=\"searchboxinput xiQnY\"]')                       # locating search bar\n",
    "search.clear()                                                             # clearing search bar\n",
    "time.sleep(2)\n",
    "search.send_keys(city)                                                     # entering values in search bar\n",
    "button = driver.find_element(By.XPATH,'//span[@class=\"google-symbols\"]')               # locating search button\n",
    "button.click()                                                             # clicking search button\n",
    "time.sleep(3)\n",
    "\n",
    "try:\n",
    "    url_string = driver.current_url\n",
    "    print(\"URL Extracted: \", url_string)\n",
    "    lat_lng = re.findall(r'@(.*)data',url_string)\n",
    "    if len(lat_lng):\n",
    "        lat_lng_list = lat_lng[0].split(\",\")\n",
    "        if len(lat_lng_list)>=2:\n",
    "            lat = lat_lng_list[0]\n",
    "            lng = lat_lng_list[1]\n",
    "        print(\"Latitude = {}, Longitude = {}\".format(lat, lng))\n",
    "\n",
    "except Exception as e:\n",
    "        print(\"Error: \", str(e))"
   ]
  },
  {
   "cell_type": "code",
   "execution_count": null,
   "id": "6b8fd55d",
   "metadata": {},
   "outputs": [],
   "source": []
  },
  {
   "cell_type": "markdown",
   "id": "a061401b",
   "metadata": {},
   "source": [
    "# Question.6"
   ]
  },
  {
   "cell_type": "code",
   "execution_count": 11,
   "id": "ea40c569",
   "metadata": {},
   "outputs": [],
   "source": [
    "driver = webdriver.Chrome()"
   ]
  },
  {
   "cell_type": "code",
   "execution_count": 12,
   "id": "ba9355de",
   "metadata": {},
   "outputs": [],
   "source": [
    "url=\"https://www.digit.in/top-products/best-gaming-laptops-40.html\""
   ]
  },
  {
   "cell_type": "code",
   "execution_count": 13,
   "id": "9a73fbfb",
   "metadata": {},
   "outputs": [],
   "source": [
    "driver.get(url)"
   ]
  },
  {
   "cell_type": "code",
   "execution_count": 14,
   "id": "edfaad2c",
   "metadata": {},
   "outputs": [],
   "source": [
    "Brands=[]\n",
    "Products_Description=[]\n",
    "Specification=[]\n",
    "Price=[]"
   ]
  },
  {
   "cell_type": "code",
   "execution_count": 18,
   "id": "e90db6f1",
   "metadata": {},
   "outputs": [
    {
     "data": {
      "text/plain": [
       "10"
      ]
     },
     "execution_count": 18,
     "metadata": {},
     "output_type": "execute_result"
    }
   ],
   "source": [
    "br=driver.find_elements(By.XPATH,'//h3[@class=\"font130 mt0 mb10 mobilesblockdisplay \"]')\n",
    "len(br)"
   ]
  },
  {
   "cell_type": "code",
   "execution_count": 19,
   "id": "04148f52",
   "metadata": {},
   "outputs": [
    {
     "data": {
      "text/plain": [
       "['MSI Titan GT77 HX 13VI-092IN 13th Gen Core i9-13980HX',\n",
       " 'ASUS ROG Strix SCAR 16 G634JYR-RA001WS',\n",
       " 'MSI Raider GE78HX 13VI-087IN 13th Gen Core i9-13980HX',\n",
       " 'ASUS ROG Strix SCAR 18 G834JY-N6056WS',\n",
       " 'Lenovo Legion Pro 7i',\n",
       " 'OMEN by HP 17-ck2004TX',\n",
       " 'Dell Alienware M18 R1',\n",
       " 'Dell Alienware X16 R1 (2023)',\n",
       " 'MSI Raider GE67HX 12UHS-057IN 12th Gen Core i9-12900HX',\n",
       " 'Acer Predator Helios 16']"
      ]
     },
     "execution_count": 19,
     "metadata": {},
     "output_type": "execute_result"
    }
   ],
   "source": [
    "for i in br:\n",
    "   \n",
    "    Brands.append(str(i.text).replace(\"\\n\",\"\"))\n",
    "Brands"
   ]
  },
  {
   "cell_type": "code",
   "execution_count": 27,
   "id": "f8a5521e",
   "metadata": {},
   "outputs": [
    {
     "data": {
      "text/plain": [
       "9"
      ]
     },
     "execution_count": 27,
     "metadata": {},
     "output_type": "execute_result"
    }
   ],
   "source": [
    "sp=driver.find_elements(By.XPATH,'//div[@class=\"cegg-no-top-margin cegg-list-logo-title\"]')\n",
    "len(sp)"
   ]
  },
  {
   "cell_type": "code",
   "execution_count": 28,
   "id": "95d280e3",
   "metadata": {},
   "outputs": [
    {
     "data": {
      "text/plain": [
       "['MSI Titan GT77 HX, Intel 13th Gen. i9-13980HX, 44CM FHD 144Hz Mini LED, HDR 1000 Gaming Laptop...',\n",
       " 'ASUS ROG Strix Scar 16, Intel® Core™ i9 14900HX 14th Gen, 16\"(40.64cm) 2.5K QHD+240Hz, Gaming...',\n",
       " 'MSI Raider GE78HX, Intel 13th Gen. i9-13980HX, 43CM QHD+ 240Hz Gaming Laptop (64GB/2TB NVMe...',\n",
       " 'ASUS ROG Strix Scar 18 (2023), Intel Core i9 13th Gen, 18\" (45.72 cm) QHD+ 240Hz/3ms, 16GB RTX...',\n",
       " 'Lenovo Legion Pro 7i 16\" QHD+ 500nits Gaming Laptop 240Hz Intel Core i9-13900HX 16GB RAM 1TB SSD...',\n",
       " 'HP OMEN Gaming Laptop, 13th Gen Intel Core i9-13900HX, 12GB RTX 4080 GPU, 17.3-inch (43.9 cm),...',\n",
       " 'Dell Alienware X16 R1 Gaming, Intel Core i9-13900HK/32GB/1TB SSD/NVIDIA RTX 4080 12GB GDDR6/16.0\"...',\n",
       " 'MSI Raider GE67HX, Intel 12th Gen. i9-12900HX, 40CM QHD OLED 240Hz Gaming Laptop (32GB/2TB NVMe...',\n",
       " 'Acer Predator Helios 16 Gaming Laptop (Intel Core i9 13900HX/32 GB Ram/1 TB SSD/RTX 4080...',\n",
       " 'Key SpecificationsOperating System (WithWindows 11 HomeDisplay Size (In Inches)17.3Processor Model Name13th Gen Intel Core I9-13980HXStorage Drive Capacity4 TB',\n",
       " 'Operating System (WithWindows 11 HomeDisplay Size (In Inches)17.3Processor Model Name13th Gen Intel Core I9-13980HXStorage Drive Capacity4 TB',\n",
       " 'MSI Titan GT77 HX, Intel 13th Gen. i9-13980HX, 44CM FHD 144Hz Mini LED, HDR 1000 Gaming Laptop...',\n",
       " 'ASUS ROG Strix Scar 16, Intel® Core™ i9 14900HX 14th Gen, 16\"(40.64cm) 2.5K QHD+240Hz, Gaming...',\n",
       " 'MSI Raider GE78HX, Intel 13th Gen. i9-13980HX, 43CM QHD+ 240Hz Gaming Laptop (64GB/2TB NVMe...',\n",
       " 'ASUS ROG Strix Scar 18 (2023), Intel Core i9 13th Gen, 18\" (45.72 cm) QHD+ 240Hz/3ms, 16GB RTX...',\n",
       " 'Lenovo Legion Pro 7i 16\" QHD+ 500nits Gaming Laptop 240Hz Intel Core i9-13900HX 16GB RAM 1TB SSD...',\n",
       " 'HP OMEN Gaming Laptop, 13th Gen Intel Core i9-13900HX, 12GB RTX 4080 GPU, 17.3-inch (43.9 cm),...',\n",
       " 'Dell Alienware X16 R1 Gaming, Intel Core i9-13900HK/32GB/1TB SSD/NVIDIA RTX 4080 12GB GDDR6/16.0\"...',\n",
       " 'MSI Raider GE67HX, Intel 12th Gen. i9-12900HX, 40CM QHD OLED 240Hz Gaming Laptop (32GB/2TB NVMe...',\n",
       " 'Acer Predator Helios 16 Gaming Laptop (Intel Core i9 13900HX/32 GB Ram/1 TB SSD/RTX 4080...']"
      ]
     },
     "execution_count": 28,
     "metadata": {},
     "output_type": "execute_result"
    }
   ],
   "source": [
    "for i in sp:\n",
    "   \n",
    "    Specification.append(str(i.text).replace(\"\\n\",\"\"))\n",
    "Specification"
   ]
  },
  {
   "cell_type": "code",
   "execution_count": 38,
   "id": "c3a7b2a7",
   "metadata": {},
   "outputs": [
    {
     "data": {
      "text/plain": [
       "9"
      ]
     },
     "execution_count": 38,
     "metadata": {},
     "output_type": "execute_result"
    }
   ],
   "source": [
    "des=driver.find_elements(By.XPATH,'//div[@class=\"egg-container cegg-list-withlogos\"]')\n",
    "len(des)"
   ]
  },
  {
   "cell_type": "code",
   "execution_count": 39,
   "id": "f2d21c02",
   "metadata": {},
   "outputs": [
    {
     "data": {
      "text/plain": [
       "['Not very far behind the Titan you have the ASUS ROG Strix SCAR 16. This gaming laptop is powered by the newer 14th gen Intel Core i9-14900HX, which has the same number of cores as the 13980HX, but slightly faster clock speeds. This laptop also features a NVIDIA GeForce RTX 4090 Laptop GPU with 16GB of VRAM. It has a 16-inch QHD+ (2560 x 1600, WQXGA) ROG Nebula HDR Display with a Mini LED Panel and a 240Hz refresh rate. This is one of the best gaming laptop displays we’ve tested to date, with 100 per cent sRGB and DCI-P3 coverage. The laptop comes with 32GB DDR5 RAM, which is expandable up to 64GB. It has a 2TB PCIe 4.0 NVMe M.2 Performance SSD for storage. The laptop includes a variety of I/O ports, including HDMI 2.1, USB 3.2 Gen 2 Type-A and Type-C, 2.5G LAN port, and Thunderbolt 4.',\n",
       " 'Not very far behind the Titan you have the ASUS ROG Strix SCAR 16. This gaming laptop is powered by the newer 14th gen Intel Core i9-14900HX, which has the same number of cores as the 13980HX, but slightly faster clock speeds. This laptop also features a NVIDIA GeForce RTX 4090 Laptop GPU with 16GB of VRAM. It has a 16-inch QHD+ (2560 x 1600, WQXGA) ROG Nebula HDR Display with a Mini LED Panel and a 240Hz refresh rate. This is one of the best gaming laptop displays we’ve tested to date, with 100 per cent sRGB and DCI-P3 coverage. The laptop comes with 32GB DDR5 RAM, which is expandable up to 64GB. It has a 2TB PCIe 4.0 NVMe M.2 Performance SSD for storage. The laptop includes a variety of I/O ports, including HDMI 2.1, USB 3.2 Gen 2 Type-A and Type-C, 2.5G LAN port, and Thunderbolt 4.',\n",
       " 'MSI Titan GT77 HX, Intel 13th Gen. i9-13980HX, 44CM FHD 144Hz Mini LED, HDR 1000 Gaming Laptop...out of stockBuy NowAmazon.in',\n",
       " 'ASUS ROG Strix Scar 16, Intel® Core™ i9 14900HX 14th Gen, 16\"(40.64cm) 2.5K QHD+240Hz, Gaming...Rs. 329,990Rs. 395,990in stockBuy NowAmazon.in',\n",
       " 'MSI Raider GE78HX, Intel 13th Gen. i9-13980HX, 43CM QHD+ 240Hz Gaming Laptop (64GB/2TB NVMe...out of stockBuy NowAmazon.in',\n",
       " 'ASUS ROG Strix Scar 18 (2023), Intel Core i9 13th Gen, 18\" (45.72 cm) QHD+ 240Hz/3ms, 16GB RTX...out of stockBuy NowAmazon.in',\n",
       " 'Lenovo Legion Pro 7i 16\" QHD+ 500nits Gaming Laptop 240Hz Intel Core i9-13900HX 16GB RAM 1TB SSD...out of stockBuy NowAmazon.in',\n",
       " 'HP OMEN Gaming Laptop, 13th Gen Intel Core i9-13900HX, 12GB RTX 4080 GPU, 17.3-inch (43.9 cm),...Rs. 249,990Rs. 303,501in stockBuy NowAmazon.in',\n",
       " 'Dell Alienware X16 R1 Gaming, Intel Core i9-13900HK/32GB/1TB SSD/NVIDIA RTX 4080 12GB GDDR6/16.0\"...Rs. 386,490Rs. 462,707in stockBuy NowAmazon.in',\n",
       " 'MSI Raider GE67HX, Intel 12th Gen. i9-12900HX, 40CM QHD OLED 240Hz Gaming Laptop (32GB/2TB NVMe...out of stockBuy NowAmazon.in',\n",
       " 'Acer Predator Helios 16 Gaming Laptop (Intel Core i9 13900HX/32 GB Ram/1 TB SSD/RTX 4080...Rs. 247,990Rs. 299,999in stockBuy NowAmazon.in']"
      ]
     },
     "execution_count": 39,
     "metadata": {},
     "output_type": "execute_result"
    }
   ],
   "source": [
    "for i in des:\n",
    "   \n",
    "    Products_Description.append(str(i.text).replace(\"\\n\",\"\"))\n",
    "Products_Description"
   ]
  },
  {
   "cell_type": "code",
   "execution_count": 41,
   "id": "3226d320",
   "metadata": {},
   "outputs": [
    {
     "data": {
      "text/plain": [
       "4"
      ]
     },
     "execution_count": 41,
     "metadata": {},
     "output_type": "execute_result"
    }
   ],
   "source": [
    "pri=driver.find_elements(By.XPATH,'//div[@class=\"cegg-price cegg-price-color cegg-price-instock\"]')\n",
    "len(pri)"
   ]
  },
  {
   "cell_type": "code",
   "execution_count": 42,
   "id": "b0380b9d",
   "metadata": {},
   "outputs": [
    {
     "data": {
      "text/plain": [
       "['Rs. 329,990', 'Rs. 249,990', 'Rs. 386,490', 'Rs. 247,990']"
      ]
     },
     "execution_count": 42,
     "metadata": {},
     "output_type": "execute_result"
    }
   ],
   "source": [
    "for i in pri:\n",
    "   \n",
    "    Price.append(str(i.text).replace(\"\\n\",\"\"))\n",
    "Price"
   ]
  },
  {
   "cell_type": "code",
   "execution_count": 45,
   "id": "b0a698ea",
   "metadata": {},
   "outputs": [
    {
     "data": {
      "text/html": [
       "<div>\n",
       "<style scoped>\n",
       "    .dataframe tbody tr th:only-of-type {\n",
       "        vertical-align: middle;\n",
       "    }\n",
       "\n",
       "    .dataframe tbody tr th {\n",
       "        vertical-align: top;\n",
       "    }\n",
       "\n",
       "    .dataframe thead th {\n",
       "        text-align: right;\n",
       "    }\n",
       "</style>\n",
       "<table border=\"1\" class=\"dataframe\">\n",
       "  <thead>\n",
       "    <tr style=\"text-align: right;\">\n",
       "      <th></th>\n",
       "      <th>Brands</th>\n",
       "      <th>Price</th>\n",
       "      <th>Specification</th>\n",
       "      <th>Description</th>\n",
       "    </tr>\n",
       "  </thead>\n",
       "  <tbody>\n",
       "    <tr>\n",
       "      <th>0</th>\n",
       "      <td>MSI Titan GT77 HX 13VI-092IN 13th Gen Core i9-...</td>\n",
       "      <td>Rs. 329,990</td>\n",
       "      <td>MSI Titan GT77 HX, Intel 13th Gen. i9-13980HX,...</td>\n",
       "      <td>Not very far behind the Titan you have the ASU...</td>\n",
       "    </tr>\n",
       "    <tr>\n",
       "      <th>1</th>\n",
       "      <td>ASUS ROG Strix SCAR 16 G634JYR-RA001WS</td>\n",
       "      <td>Rs. 249,990</td>\n",
       "      <td>ASUS ROG Strix Scar 16, Intel® Core™ i9 14900H...</td>\n",
       "      <td>Not very far behind the Titan you have the ASU...</td>\n",
       "    </tr>\n",
       "    <tr>\n",
       "      <th>2</th>\n",
       "      <td>MSI Raider GE78HX 13VI-087IN 13th Gen Core i9-...</td>\n",
       "      <td>Rs. 386,490</td>\n",
       "      <td>MSI Raider GE78HX, Intel 13th Gen. i9-13980HX,...</td>\n",
       "      <td>MSI Titan GT77 HX, Intel 13th Gen. i9-13980HX,...</td>\n",
       "    </tr>\n",
       "    <tr>\n",
       "      <th>3</th>\n",
       "      <td>ASUS ROG Strix SCAR 18 G834JY-N6056WS</td>\n",
       "      <td>Rs. 247,990</td>\n",
       "      <td>ASUS ROG Strix Scar 18 (2023), Intel Core i9 1...</td>\n",
       "      <td>ASUS ROG Strix Scar 16, Intel® Core™ i9 14900H...</td>\n",
       "    </tr>\n",
       "  </tbody>\n",
       "</table>\n",
       "</div>"
      ],
      "text/plain": [
       "                                              Brands        Price  \\\n",
       "0  MSI Titan GT77 HX 13VI-092IN 13th Gen Core i9-...  Rs. 329,990   \n",
       "1             ASUS ROG Strix SCAR 16 G634JYR-RA001WS  Rs. 249,990   \n",
       "2  MSI Raider GE78HX 13VI-087IN 13th Gen Core i9-...  Rs. 386,490   \n",
       "3              ASUS ROG Strix SCAR 18 G834JY-N6056WS  Rs. 247,990   \n",
       "\n",
       "                                       Specification  \\\n",
       "0  MSI Titan GT77 HX, Intel 13th Gen. i9-13980HX,...   \n",
       "1  ASUS ROG Strix Scar 16, Intel® Core™ i9 14900H...   \n",
       "2  MSI Raider GE78HX, Intel 13th Gen. i9-13980HX,...   \n",
       "3  ASUS ROG Strix Scar 18 (2023), Intel Core i9 1...   \n",
       "\n",
       "                                         Description  \n",
       "0  Not very far behind the Titan you have the ASU...  \n",
       "1  Not very far behind the Titan you have the ASU...  \n",
       "2  MSI Titan GT77 HX, Intel 13th Gen. i9-13980HX,...  \n",
       "3  ASUS ROG Strix Scar 16, Intel® Core™ i9 14900H...  "
      ]
     },
     "execution_count": 45,
     "metadata": {},
     "output_type": "execute_result"
    }
   ],
   "source": [
    "digit_lap=pd.DataFrame([])\n",
    "digit_lap['Brands']=Brands[0:4]\n",
    "digit_lap['Price']=Price[0:4]\n",
    "digit_lap['Specification']=Specification[0:4]\n",
    "digit_lap['Description']=Products_Description[0:4]\n",
    "digit_lap"
   ]
  },
  {
   "cell_type": "code",
   "execution_count": null,
   "id": "781405f3",
   "metadata": {},
   "outputs": [],
   "source": []
  },
  {
   "cell_type": "markdown",
   "id": "0b91e197",
   "metadata": {},
   "source": [
    "# Question.7"
   ]
  },
  {
   "cell_type": "code",
   "execution_count": null,
   "id": "2fb79b01",
   "metadata": {},
   "outputs": [],
   "source": []
  },
  {
   "cell_type": "code",
   "execution_count": 46,
   "id": "5af10d6b",
   "metadata": {},
   "outputs": [],
   "source": [
    "driver = webdriver.Chrome()"
   ]
  },
  {
   "cell_type": "code",
   "execution_count": 51,
   "id": "d379f42f",
   "metadata": {},
   "outputs": [],
   "source": [
    "url=\"https://www.forbes.com/the details for all billionaires\""
   ]
  },
  {
   "cell_type": "code",
   "execution_count": 52,
   "id": "ac2fe6f7",
   "metadata": {},
   "outputs": [],
   "source": [
    "driver.get(url)"
   ]
  },
  {
   "cell_type": "code",
   "execution_count": 81,
   "id": "f85725e3",
   "metadata": {},
   "outputs": [],
   "source": [
    "ranks=[]\n",
    "names=[]\n"
   ]
  },
  {
   "cell_type": "code",
   "execution_count": 82,
   "id": "a314565b",
   "metadata": {},
   "outputs": [
    {
     "data": {
      "text/plain": [
       "[]"
      ]
     },
     "execution_count": 82,
     "metadata": {},
     "output_type": "execute_result"
    }
   ],
   "source": [
    "# scraping rank from the given page\n",
    "rank_tags=driver.find_elements(By.XPATH,'//div[@class=\"Table_rank__X4MKf\"]/div')\n",
    "for i in rank_tags:\n",
    "    rank=i.text\n",
    "    ranks.append(rank)\n",
    "rank[:10]\n",
    "\n",
    "# scraping name from the given page \n",
    "name_tags=driver.find_elements(By.XPATH,'//div[@class=\"Table_personName__Bus2E\"]')\n",
    "for i in name_tags:\n",
    "    name=i.text\n",
    "    names.append(name)    \n",
    "name[:10]\n",
    "\n",
    " "
   ]
  },
  {
   "cell_type": "code",
   "execution_count": 79,
   "id": "def1b3f7",
   "metadata": {},
   "outputs": [
    {
     "name": "stdout",
     "output_type": "stream",
     "text": [
      "0 0\n"
     ]
    }
   ],
   "source": [
    "print(len(rank[:10]),len(name[:10]))"
   ]
  },
  {
   "cell_type": "code",
   "execution_count": 80,
   "id": "6dbf54fb",
   "metadata": {},
   "outputs": [
    {
     "data": {
      "text/html": [
       "<div>\n",
       "<style scoped>\n",
       "    .dataframe tbody tr th:only-of-type {\n",
       "        vertical-align: middle;\n",
       "    }\n",
       "\n",
       "    .dataframe tbody tr th {\n",
       "        vertical-align: top;\n",
       "    }\n",
       "\n",
       "    .dataframe thead th {\n",
       "        text-align: right;\n",
       "    }\n",
       "</style>\n",
       "<table border=\"1\" class=\"dataframe\">\n",
       "  <thead>\n",
       "    <tr style=\"text-align: right;\">\n",
       "      <th></th>\n",
       "      <th>Rank</th>\n",
       "      <th>Name</th>\n",
       "    </tr>\n",
       "  </thead>\n",
       "  <tbody>\n",
       "  </tbody>\n",
       "</table>\n",
       "</div>"
      ],
      "text/plain": [
       "Empty DataFrame\n",
       "Columns: [Rank, Name]\n",
       "Index: []"
      ]
     },
     "execution_count": 80,
     "metadata": {},
     "output_type": "execute_result"
    }
   ],
   "source": [
    "import pandas as pd\n",
    "df=pd.DataFrame({'Rank':rank[:10],'Name':name[:10]})\n",
    "df"
   ]
  },
  {
   "cell_type": "markdown",
   "id": "97571a5c",
   "metadata": {},
   "source": [
    "# Question.8"
   ]
  },
  {
   "cell_type": "code",
   "execution_count": 93,
   "id": "ef7e64a4",
   "metadata": {},
   "outputs": [],
   "source": [
    "from selenium import webdriver\n",
    "import time\n",
    "# Let's now import all the required libraries.\n",
    "import selenium\n",
    "import pandas as pd\n",
    "from selenium import webdriver\n",
    "import warnings\n",
    "warnings.filterwarnings('ignore')\n",
    "from selenium.webdriver.common.by import By"
   ]
  },
  {
   "cell_type": "code",
   "execution_count": 94,
   "id": "c0c3db44",
   "metadata": {},
   "outputs": [],
   "source": [
    "# Set up the WebDriver\n",
    "driver = webdriver.Chrome()"
   ]
  },
  {
   "cell_type": "code",
   "execution_count": 95,
   "id": "c775adc5",
   "metadata": {},
   "outputs": [],
   "source": [
    "# Open the YouTube video\n",
    "video_url = 'https://www.youtube.com/watch?v=your_video_id'  # Replace with the URL of the YouTube video\n",
    "driver.get(video_url)"
   ]
  },
  {
   "cell_type": "code",
   "execution_count": 96,
   "id": "98f2f4fe",
   "metadata": {},
   "outputs": [],
   "source": [
    "# Scroll to load comments\n",
    "scroll_pause_time = 2  # Adjust the pause time as needed\n",
    "scrolls = 10  # Adjust the number of scrolls as needed\n"
   ]
  },
  {
   "cell_type": "code",
   "execution_count": 97,
   "id": "f0367bfb",
   "metadata": {},
   "outputs": [],
   "source": [
    "for _ in range(scrolls):\n",
    "    driver.execute_script(\"window.scrollTo(0, document.documentElement.scrollHeight);\")\n",
    "    time.sleep(scroll_pause_time)\n"
   ]
  },
  {
   "cell_type": "code",
   "execution_count": 98,
   "id": "06d65f76",
   "metadata": {},
   "outputs": [],
   "source": [
    "# Extract comments, upvotes, and time\n",
    "comments = driver.find_elements(By.XPATH,'//span[@class=\"style-scope yt-formatted-string\"]')\n",
    "upvotes = driver.find_elements(By.XPATH,'//div[@class=\"yt-spec-touch-feedback-shape__fill\"]')\n",
    "times = driver.find_elements(By.XPATH,'//span[@class=\"bold style-scope yt-formatted-string\"]')"
   ]
  },
  {
   "cell_type": "code",
   "execution_count": 99,
   "id": "134d1d74",
   "metadata": {},
   "outputs": [],
   "source": [
    "# Store the extracted data\n",
    "extracted_data = []\n",
    "for comment, upvote, time in zip(comments, upvotes, times):\n",
    "    extracted_data.append({\n",
    "    'comment': comment.text,\n",
    "    'upvote': upvote.text,\n",
    "    'time': time.text\n",
    "  }) "
   ]
  },
  {
   "cell_type": "code",
   "execution_count": 100,
   "id": "a521a788",
   "metadata": {},
   "outputs": [],
   "source": [
    "# Close the WebDriver\n",
    "driver.quit()\n"
   ]
  },
  {
   "cell_type": "code",
   "execution_count": 101,
   "id": "32c5b596",
   "metadata": {},
   "outputs": [
    {
     "name": "stdout",
     "output_type": "stream",
     "text": [
      "{'comment': '', 'upvote': '', 'time': '27M views'}\n",
      "{'comment': '', 'upvote': '', 'time': '  '}\n",
      "{'comment': '', 'upvote': '', 'time': '4 months ago'}\n",
      "{'comment': '', 'upvote': '', 'time': '  '}\n",
      "{'comment': 'balaji pasheme', 'upvote': '', 'time': ''}\n",
      "{'comment': ' · ', 'upvote': '', 'time': ''}\n",
      "{'comment': 'Playlist', 'upvote': '', 'time': ''}\n",
      "{'comment': 'Vanshika Rajvanshi', 'upvote': '', 'time': ''}\n",
      "{'comment': ' · ', 'upvote': '', 'time': ''}\n",
      "{'comment': 'Playlist', 'upvote': '', 'time': ''}\n",
      "{'comment': '19,238', 'upvote': '', 'time': ''}\n",
      "{'comment': 'Comments', 'upvote': '', 'time': ''}\n",
      "{'comment': '', 'upvote': '', 'time': ''}\n",
      "{'comment': '', 'upvote': '', 'time': ''}\n",
      "{'comment': '', 'upvote': '', 'time': ''}\n",
      "{'comment': '', 'upvote': '', 'time': ''}\n",
      "{'comment': '', 'upvote': '', 'time': ''}\n",
      "{'comment': '', 'upvote': '', 'time': ''}\n",
      "{'comment': '', 'upvote': '', 'time': ''}\n",
      "{'comment': '', 'upvote': '', 'time': ''}\n",
      "{'comment': '', 'upvote': '', 'time': ''}\n",
      "{'comment': '', 'upvote': '', 'time': ''}\n",
      "{'comment': '', 'upvote': '', 'time': ''}\n",
      "{'comment': '', 'upvote': '', 'time': ''}\n",
      "{'comment': '', 'upvote': '', 'time': ''}\n",
      "{'comment': '', 'upvote': '', 'time': ''}\n",
      "{'comment': '', 'upvote': '', 'time': ''}\n",
      "{'comment': '', 'upvote': '', 'time': ''}\n",
      "{'comment': '', 'upvote': '', 'time': ''}\n",
      "{'comment': '', 'upvote': '', 'time': ''}\n",
      "{'comment': '', 'upvote': '', 'time': ''}\n",
      "{'comment': '', 'upvote': '', 'time': ''}\n",
      "{'comment': '', 'upvote': '', 'time': ''}\n",
      "{'comment': '', 'upvote': '', 'time': ''}\n",
      "{'comment': '', 'upvote': '', 'time': ''}\n",
      "{'comment': '', 'upvote': '', 'time': ''}\n",
      "{'comment': '', 'upvote': '', 'time': ''}\n",
      "{'comment': '', 'upvote': '', 'time': ''}\n",
      "{'comment': '', 'upvote': '', 'time': ''}\n",
      "{'comment': '', 'upvote': '', 'time': ''}\n",
      "{'comment': '', 'upvote': '', 'time': ''}\n",
      "{'comment': '', 'upvote': '', 'time': ''}\n",
      "{'comment': '', 'upvote': '', 'time': ''}\n",
      "{'comment': '', 'upvote': '', 'time': ''}\n",
      "{'comment': '', 'upvote': '', 'time': ''}\n",
      "{'comment': '', 'upvote': '', 'time': ''}\n",
      "{'comment': '', 'upvote': '', 'time': ''}\n",
      "{'comment': '', 'upvote': '', 'time': ''}\n",
      "{'comment': '', 'upvote': '', 'time': ''}\n",
      "{'comment': '', 'upvote': '', 'time': ''}\n",
      "{'comment': '', 'upvote': '', 'time': ''}\n",
      "{'comment': '', 'upvote': '', 'time': ''}\n",
      "{'comment': '', 'upvote': '', 'time': ''}\n",
      "{'comment': '', 'upvote': '', 'time': ''}\n",
      "{'comment': '', 'upvote': '', 'time': ''}\n",
      "{'comment': '', 'upvote': '', 'time': ''}\n",
      "{'comment': '', 'upvote': '', 'time': ''}\n",
      "{'comment': '', 'upvote': '', 'time': ''}\n",
      "{'comment': '', 'upvote': '', 'time': ''}\n",
      "{'comment': '', 'upvote': '', 'time': ''}\n",
      "{'comment': '', 'upvote': '', 'time': ''}\n",
      "{'comment': '', 'upvote': '', 'time': ''}\n",
      "{'comment': '', 'upvote': '', 'time': ''}\n",
      "{'comment': '', 'upvote': '', 'time': ''}\n",
      "{'comment': '', 'upvote': '', 'time': ''}\n",
      "{'comment': '', 'upvote': '', 'time': ''}\n",
      "{'comment': '', 'upvote': '', 'time': ''}\n",
      "{'comment': '', 'upvote': '', 'time': ''}\n",
      "{'comment': '', 'upvote': '', 'time': ''}\n",
      "{'comment': '', 'upvote': '', 'time': ''}\n",
      "{'comment': '', 'upvote': '', 'time': ''}\n",
      "{'comment': '', 'upvote': '', 'time': ''}\n",
      "{'comment': '', 'upvote': '', 'time': ''}\n",
      "{'comment': '', 'upvote': '', 'time': ''}\n",
      "{'comment': '', 'upvote': '', 'time': ''}\n",
      "{'comment': '', 'upvote': '', 'time': ''}\n",
      "{'comment': '', 'upvote': '', 'time': ''}\n",
      "{'comment': '', 'upvote': '', 'time': ''}\n",
      "{'comment': '', 'upvote': '', 'time': ''}\n",
      "{'comment': '', 'upvote': '', 'time': ''}\n",
      "{'comment': '', 'upvote': '', 'time': ''}\n",
      "{'comment': '', 'upvote': '', 'time': ''}\n",
      "{'comment': '', 'upvote': '', 'time': ''}\n",
      "{'comment': '', 'upvote': '', 'time': ''}\n",
      "{'comment': '', 'upvote': '', 'time': ''}\n",
      "{'comment': '', 'upvote': '', 'time': ''}\n",
      "{'comment': '', 'upvote': '', 'time': ''}\n",
      "{'comment': '', 'upvote': '', 'time': ''}\n",
      "{'comment': '', 'upvote': '', 'time': ''}\n",
      "{'comment': '', 'upvote': '', 'time': ''}\n",
      "{'comment': '', 'upvote': '', 'time': ''}\n",
      "{'comment': '', 'upvote': '', 'time': ''}\n",
      "{'comment': '', 'upvote': '', 'time': ''}\n",
      "{'comment': '', 'upvote': '', 'time': ''}\n",
      "{'comment': '', 'upvote': '', 'time': ''}\n",
      "{'comment': '', 'upvote': '', 'time': ''}\n",
      "{'comment': '', 'upvote': '', 'time': ''}\n",
      "{'comment': '', 'upvote': '', 'time': ''}\n",
      "{'comment': '', 'upvote': '', 'time': ''}\n",
      "{'comment': '', 'upvote': '', 'time': ''}\n",
      "{'comment': '', 'upvote': '', 'time': ''}\n",
      "{'comment': '', 'upvote': '', 'time': ''}\n",
      "{'comment': '', 'upvote': '', 'time': ''}\n",
      "{'comment': '', 'upvote': '', 'time': ''}\n",
      "{'comment': '', 'upvote': '', 'time': ''}\n",
      "{'comment': '', 'upvote': '', 'time': ''}\n",
      "{'comment': '', 'upvote': '', 'time': ''}\n",
      "{'comment': '', 'upvote': '', 'time': ''}\n",
      "{'comment': '', 'upvote': '', 'time': ''}\n",
      "{'comment': '', 'upvote': '', 'time': ''}\n",
      "{'comment': '', 'upvote': '', 'time': ''}\n",
      "{'comment': '', 'upvote': '', 'time': ''}\n",
      "{'comment': '', 'upvote': '', 'time': ''}\n",
      "{'comment': '', 'upvote': '', 'time': ''}\n",
      "{'comment': '', 'upvote': '', 'time': ''}\n",
      "{'comment': '', 'upvote': '', 'time': ''}\n",
      "{'comment': '', 'upvote': '', 'time': ''}\n",
      "{'comment': '', 'upvote': '', 'time': ''}\n",
      "{'comment': '', 'upvote': '', 'time': ''}\n",
      "{'comment': '', 'upvote': '', 'time': ''}\n",
      "{'comment': '', 'upvote': '', 'time': ''}\n",
      "{'comment': '', 'upvote': '', 'time': ''}\n",
      "{'comment': '', 'upvote': '', 'time': ''}\n",
      "{'comment': '', 'upvote': '', 'time': ''}\n",
      "{'comment': '', 'upvote': '', 'time': ''}\n",
      "{'comment': '', 'upvote': '', 'time': ''}\n",
      "{'comment': '', 'upvote': '', 'time': ''}\n",
      "{'comment': '', 'upvote': '', 'time': ''}\n",
      "{'comment': '', 'upvote': '', 'time': ''}\n",
      "{'comment': '', 'upvote': '', 'time': ''}\n",
      "{'comment': '', 'upvote': '', 'time': ''}\n",
      "{'comment': '', 'upvote': '', 'time': ''}\n",
      "{'comment': '', 'upvote': '', 'time': ''}\n",
      "{'comment': '', 'upvote': '', 'time': ''}\n",
      "{'comment': '', 'upvote': '', 'time': ''}\n",
      "{'comment': '', 'upvote': '', 'time': ''}\n",
      "{'comment': '', 'upvote': '', 'time': ''}\n",
      "{'comment': '', 'upvote': '', 'time': ''}\n",
      "{'comment': '', 'upvote': '', 'time': ''}\n",
      "{'comment': '', 'upvote': '', 'time': ''}\n",
      "{'comment': '', 'upvote': '', 'time': ''}\n",
      "{'comment': '', 'upvote': '', 'time': ''}\n",
      "{'comment': '', 'upvote': '', 'time': ''}\n",
      "{'comment': '', 'upvote': '', 'time': ''}\n",
      "{'comment': '', 'upvote': '', 'time': ''}\n",
      "{'comment': '', 'upvote': '', 'time': ''}\n",
      "{'comment': '', 'upvote': '', 'time': ''}\n",
      "{'comment': '', 'upvote': '', 'time': ''}\n",
      "{'comment': '', 'upvote': '', 'time': ''}\n",
      "{'comment': '', 'upvote': '', 'time': ''}\n",
      "{'comment': '', 'upvote': '', 'time': ''}\n",
      "{'comment': '', 'upvote': '', 'time': ''}\n",
      "{'comment': '', 'upvote': '', 'time': ''}\n",
      "{'comment': '', 'upvote': '', 'time': ''}\n",
      "{'comment': '', 'upvote': '', 'time': ''}\n",
      "{'comment': '', 'upvote': '', 'time': ''}\n",
      "{'comment': '', 'upvote': '', 'time': ''}\n",
      "{'comment': '', 'upvote': '', 'time': ''}\n",
      "{'comment': '', 'upvote': '', 'time': ''}\n",
      "{'comment': '', 'upvote': '', 'time': ''}\n",
      "{'comment': '', 'upvote': '', 'time': ''}\n",
      "{'comment': '', 'upvote': '', 'time': ''}\n",
      "{'comment': '', 'upvote': '', 'time': ''}\n"
     ]
    }
   ],
   "source": [
    "# Print the extracted data\n",
    "for data in extracted_data:\n",
    "    print(data)"
   ]
  },
  {
   "cell_type": "code",
   "execution_count": null,
   "id": "3ad1078c",
   "metadata": {},
   "outputs": [],
   "source": []
  },
  {
   "cell_type": "markdown",
   "id": "54596b95",
   "metadata": {},
   "source": [
    "# Question.9"
   ]
  },
  {
   "cell_type": "code",
   "execution_count": 102,
   "id": "c31c990c",
   "metadata": {},
   "outputs": [],
   "source": [
    "driver = webdriver.Chrome()"
   ]
  },
  {
   "cell_type": "code",
   "execution_count": 103,
   "id": "6c7d0981",
   "metadata": {},
   "outputs": [],
   "source": [
    "url='https://www.hostelworld.com/'"
   ]
  },
  {
   "cell_type": "code",
   "execution_count": 104,
   "id": "10d535de",
   "metadata": {},
   "outputs": [],
   "source": [
    "driver.get(url)"
   ]
  },
  {
   "cell_type": "code",
   "execution_count": 118,
   "id": "54c6ca6c",
   "metadata": {},
   "outputs": [],
   "source": [
    "hostel_names=[]\n",
    "distancecity_centre=[]\n",
    "ratings=[]\n",
    "total_reviews=[]\n",
    "privates_price=[]\n",
    "dorms_price=[]\n",
    "facilities=[]\n",
    "property_description=[]\n"
   ]
  },
  {
   "cell_type": "code",
   "execution_count": 120,
   "id": "ee1fc673",
   "metadata": {},
   "outputs": [
    {
     "ename": "WebDriverException",
     "evalue": "Message: disconnected: not connected to DevTools\n  (failed to check if window was closed: disconnected: not connected to DevTools)\n  (Session info: chrome=123.0.6312.124)\nStacktrace:\n\tGetHandleVerifier [0x00007FF761787032+63090]\n\t(No symbol) [0x00007FF7616F2C82]\n\t(No symbol) [0x00007FF76158EC65]\n\t(No symbol) [0x00007FF76157C31B]\n\t(No symbol) [0x00007FF76157BEC0]\n\t(No symbol) [0x00007FF761590EC1]\n\t(No symbol) [0x00007FF761612AE9]\n\t(No symbol) [0x00007FF7615F6D83]\n\t(No symbol) [0x00007FF7615C83A8]\n\t(No symbol) [0x00007FF7615C9441]\n\tGetHandleVerifier [0x00007FF761B825AD+4238317]\n\tGetHandleVerifier [0x00007FF761BBF70D+4488525]\n\tGetHandleVerifier [0x00007FF761BB79EF+4456495]\n\tGetHandleVerifier [0x00007FF761860576+953270]\n\t(No symbol) [0x00007FF7616FE54F]\n\t(No symbol) [0x00007FF7616F9224]\n\t(No symbol) [0x00007FF7616F935B]\n\t(No symbol) [0x00007FF7616E9B94]\n\tBaseThreadInitThunk [0x00007FFA7999257D+29]\n\tRtlUserThreadStart [0x00007FFA7B48AA48+40]\n",
     "output_type": "error",
     "traceback": [
      "\u001b[1;31m---------------------------------------------------------------------------\u001b[0m",
      "\u001b[1;31mWebDriverException\u001b[0m                        Traceback (most recent call last)",
      "Cell \u001b[1;32mIn[120], line 2\u001b[0m\n\u001b[0;32m      1\u001b[0m \u001b[38;5;28;01mfor\u001b[39;00m i \u001b[38;5;129;01min\u001b[39;00m \u001b[38;5;28mrange\u001b[39m(\u001b[38;5;241m3\u001b[39m):\n\u001b[1;32m----> 2\u001b[0m    hostel_names\u001b[38;5;241m=\u001b[39mdriver\u001b[38;5;241m.\u001b[39mfind_elements(By\u001b[38;5;241m.\u001b[39mXPATH,\u001b[38;5;124m'\u001b[39m\u001b[38;5;124m//div[@class=\u001b[39m\u001b[38;5;124m\"\u001b[39m\u001b[38;5;124mproperty-name\u001b[39m\u001b[38;5;124m\"\u001b[39m\u001b[38;5;124m]\u001b[39m\u001b[38;5;124m'\u001b[39m)\n\u001b[0;32m      3\u001b[0m    distancecity_centre\u001b[38;5;241m=\u001b[39mdriver\u001b[38;5;241m.\u001b[39mfind_elements(By\u001b[38;5;241m.\u001b[39mXPATH,\u001b[38;5;124m'\u001b[39m\u001b[38;5;124m//span[@class=\u001b[39m\u001b[38;5;124m\"\u001b[39m\u001b[38;5;124mdistance-description\u001b[39m\u001b[38;5;124m\"\u001b[39m\u001b[38;5;124m]\u001b[39m\u001b[38;5;124m'\u001b[39m)\n\u001b[0;32m      4\u001b[0m    ratings\u001b[38;5;241m=\u001b[39mdriver\u001b[38;5;241m.\u001b[39mfind_elements(By\u001b[38;5;241m.\u001b[39mXPATH,\u001b[38;5;124m'\u001b[39m\u001b[38;5;124m//span[@class=\u001b[39m\u001b[38;5;124m\"\u001b[39m\u001b[38;5;124mnumber\u001b[39m\u001b[38;5;124m\"\u001b[39m\u001b[38;5;124m]\u001b[39m\u001b[38;5;124m'\u001b[39m)\n",
      "File \u001b[1;32m~\\anaconda3\\Lib\\site-packages\\selenium\\webdriver\\remote\\webdriver.py:771\u001b[0m, in \u001b[0;36mWebDriver.find_elements\u001b[1;34m(self, by, value)\u001b[0m\n\u001b[0;32m    767\u001b[0m     value \u001b[38;5;241m=\u001b[39m \u001b[38;5;124mf\u001b[39m\u001b[38;5;124m'\u001b[39m\u001b[38;5;124m[name=\u001b[39m\u001b[38;5;124m\"\u001b[39m\u001b[38;5;132;01m{\u001b[39;00mvalue\u001b[38;5;132;01m}\u001b[39;00m\u001b[38;5;124m\"\u001b[39m\u001b[38;5;124m]\u001b[39m\u001b[38;5;124m'\u001b[39m\n\u001b[0;32m    769\u001b[0m \u001b[38;5;66;03m# Return empty list if driver returns null\u001b[39;00m\n\u001b[0;32m    770\u001b[0m \u001b[38;5;66;03m# See https://github.com/SeleniumHQ/selenium/issues/4555\u001b[39;00m\n\u001b[1;32m--> 771\u001b[0m \u001b[38;5;28;01mreturn\u001b[39;00m \u001b[38;5;28mself\u001b[39m\u001b[38;5;241m.\u001b[39mexecute(Command\u001b[38;5;241m.\u001b[39mFIND_ELEMENTS, {\u001b[38;5;124m\"\u001b[39m\u001b[38;5;124musing\u001b[39m\u001b[38;5;124m\"\u001b[39m: by, \u001b[38;5;124m\"\u001b[39m\u001b[38;5;124mvalue\u001b[39m\u001b[38;5;124m\"\u001b[39m: value})[\u001b[38;5;124m\"\u001b[39m\u001b[38;5;124mvalue\u001b[39m\u001b[38;5;124m\"\u001b[39m] \u001b[38;5;129;01mor\u001b[39;00m []\n",
      "File \u001b[1;32m~\\anaconda3\\Lib\\site-packages\\selenium\\webdriver\\remote\\webdriver.py:347\u001b[0m, in \u001b[0;36mWebDriver.execute\u001b[1;34m(self, driver_command, params)\u001b[0m\n\u001b[0;32m    345\u001b[0m response \u001b[38;5;241m=\u001b[39m \u001b[38;5;28mself\u001b[39m\u001b[38;5;241m.\u001b[39mcommand_executor\u001b[38;5;241m.\u001b[39mexecute(driver_command, params)\n\u001b[0;32m    346\u001b[0m \u001b[38;5;28;01mif\u001b[39;00m response:\n\u001b[1;32m--> 347\u001b[0m     \u001b[38;5;28mself\u001b[39m\u001b[38;5;241m.\u001b[39merror_handler\u001b[38;5;241m.\u001b[39mcheck_response(response)\n\u001b[0;32m    348\u001b[0m     response[\u001b[38;5;124m\"\u001b[39m\u001b[38;5;124mvalue\u001b[39m\u001b[38;5;124m\"\u001b[39m] \u001b[38;5;241m=\u001b[39m \u001b[38;5;28mself\u001b[39m\u001b[38;5;241m.\u001b[39m_unwrap_value(response\u001b[38;5;241m.\u001b[39mget(\u001b[38;5;124m\"\u001b[39m\u001b[38;5;124mvalue\u001b[39m\u001b[38;5;124m\"\u001b[39m, \u001b[38;5;28;01mNone\u001b[39;00m))\n\u001b[0;32m    349\u001b[0m     \u001b[38;5;28;01mreturn\u001b[39;00m response\n",
      "File \u001b[1;32m~\\anaconda3\\Lib\\site-packages\\selenium\\webdriver\\remote\\errorhandler.py:229\u001b[0m, in \u001b[0;36mErrorHandler.check_response\u001b[1;34m(self, response)\u001b[0m\n\u001b[0;32m    227\u001b[0m         alert_text \u001b[38;5;241m=\u001b[39m value[\u001b[38;5;124m\"\u001b[39m\u001b[38;5;124malert\u001b[39m\u001b[38;5;124m\"\u001b[39m]\u001b[38;5;241m.\u001b[39mget(\u001b[38;5;124m\"\u001b[39m\u001b[38;5;124mtext\u001b[39m\u001b[38;5;124m\"\u001b[39m)\n\u001b[0;32m    228\u001b[0m     \u001b[38;5;28;01mraise\u001b[39;00m exception_class(message, screen, stacktrace, alert_text)  \u001b[38;5;66;03m# type: ignore[call-arg]  # mypy is not smart enough here\u001b[39;00m\n\u001b[1;32m--> 229\u001b[0m \u001b[38;5;28;01mraise\u001b[39;00m exception_class(message, screen, stacktrace)\n",
      "\u001b[1;31mWebDriverException\u001b[0m: Message: disconnected: not connected to DevTools\n  (failed to check if window was closed: disconnected: not connected to DevTools)\n  (Session info: chrome=123.0.6312.124)\nStacktrace:\n\tGetHandleVerifier [0x00007FF761787032+63090]\n\t(No symbol) [0x00007FF7616F2C82]\n\t(No symbol) [0x00007FF76158EC65]\n\t(No symbol) [0x00007FF76157C31B]\n\t(No symbol) [0x00007FF76157BEC0]\n\t(No symbol) [0x00007FF761590EC1]\n\t(No symbol) [0x00007FF761612AE9]\n\t(No symbol) [0x00007FF7615F6D83]\n\t(No symbol) [0x00007FF7615C83A8]\n\t(No symbol) [0x00007FF7615C9441]\n\tGetHandleVerifier [0x00007FF761B825AD+4238317]\n\tGetHandleVerifier [0x00007FF761BBF70D+4488525]\n\tGetHandleVerifier [0x00007FF761BB79EF+4456495]\n\tGetHandleVerifier [0x00007FF761860576+953270]\n\t(No symbol) [0x00007FF7616FE54F]\n\t(No symbol) [0x00007FF7616F9224]\n\t(No symbol) [0x00007FF7616F935B]\n\t(No symbol) [0x00007FF7616E9B94]\n\tBaseThreadInitThunk [0x00007FFA7999257D+29]\n\tRtlUserThreadStart [0x00007FFA7B48AA48+40]\n"
     ]
    }
   ],
   "source": [
    " for i in range(3):\n",
    "    hostel_names=driver.find_elements(By.XPATH,'//div[@class=\"property-name\"]')\n",
    "    distancecity_centre=driver.find_elements(By.XPATH,'//span[@class=\"distance-description\"]')\n",
    "    ratings=driver.find_elements(By.XPATH,'//span[@class=\"number\"]')\n",
    "    \n",
    "    for j  in hostel_name:\n",
    "        hostel_name.append(j.text)\n",
    "    \n",
    "    for k in distancecity_centr:\n",
    "        distancecity_centr.append(k.text)\n",
    "    for l in ratings:\n",
    "        ratings.append(l.text)\n",
    "     "
   ]
  },
  {
   "cell_type": "code",
   "execution_count": null,
   "id": "3a7d6393",
   "metadata": {},
   "outputs": [],
   "source": []
  }
 ],
 "metadata": {
  "kernelspec": {
   "display_name": "Python 3 (ipykernel)",
   "language": "python",
   "name": "python3"
  },
  "language_info": {
   "codemirror_mode": {
    "name": "ipython",
    "version": 3
   },
   "file_extension": ".py",
   "mimetype": "text/x-python",
   "name": "python",
   "nbconvert_exporter": "python",
   "pygments_lexer": "ipython3",
   "version": "3.11.5"
  }
 },
 "nbformat": 4,
 "nbformat_minor": 5
}
