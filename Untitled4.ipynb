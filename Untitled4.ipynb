{
 "cells": [
  {
   "cell_type": "markdown",
   "id": "546b0603",
   "metadata": {},
   "source": [
    "Q.1"
   ]
  },
  {
   "cell_type": "code",
   "execution_count": 1,
   "id": "b01aac56",
   "metadata": {},
   "outputs": [],
   "source": [
    "import re\n",
    "\n",
    "def contains_only_allowed_characters(input_string):\n",
    "    pattern = re.compile(r'^[a-zA-Z0-9]+$')\n",
    "    if pattern.match(input_string):\n",
    "        return True\n",
    "    else:\n",
    "        return False"
   ]
  },
  {
   "cell_type": "markdown",
   "id": "fa0f9a67",
   "metadata": {},
   "source": [
    "Q.2"
   ]
  },
  {
   "cell_type": "code",
   "execution_count": 2,
   "id": "2c360173",
   "metadata": {},
   "outputs": [],
   "source": [
    "pattern = re.compile(r'ab*')\n"
   ]
  },
  {
   "cell_type": "markdown",
   "id": "98042268",
   "metadata": {},
   "source": [
    "Q.3\n"
   ]
  },
  {
   "cell_type": "code",
   "execution_count": 3,
   "id": "5d456fd4",
   "metadata": {},
   "outputs": [],
   "source": [
    "pattern = re.compile(r'ab+')\n"
   ]
  },
  {
   "cell_type": "markdown",
   "id": "33cdfdae",
   "metadata": {},
   "source": [
    "Q.4\n"
   ]
  },
  {
   "cell_type": "code",
   "execution_count": 4,
   "id": "a746bed5",
   "metadata": {},
   "outputs": [],
   "source": [
    "pattern = re.compile(r'ab?')"
   ]
  },
  {
   "cell_type": "markdown",
   "id": "1b0921a2",
   "metadata": {},
   "source": [
    "Q.5"
   ]
  },
  {
   "cell_type": "code",
   "execution_count": 5,
   "id": "1c06ebfb",
   "metadata": {},
   "outputs": [],
   "source": [
    "pattern = re.compile(r'ab{3}')"
   ]
  },
  {
   "cell_type": "markdown",
   "id": "d1209676",
   "metadata": {},
   "source": [
    "Q.6"
   ]
  },
  {
   "cell_type": "code",
   "execution_count": 6,
   "id": "81885d44",
   "metadata": {},
   "outputs": [],
   "source": [
    "pattern = re.compile(r'ab{2,3}')"
   ]
  },
  {
   "cell_type": "markdown",
   "id": "f1fbb3df",
   "metadata": {},
   "source": [
    "Q.7"
   ]
  },
  {
   "cell_type": "code",
   "execution_count": 7,
   "id": "7a4abd40",
   "metadata": {},
   "outputs": [],
   "source": [
    "def match_pattern(input_string):\n",
    "    pattern = re.compile(r'^a.*b$')\n",
    "    if pattern.match(input_string):\n",
    "        return True\n",
    "    else:\n",
    "        return False"
   ]
  },
  {
   "cell_type": "markdown",
   "id": "0941ad96",
   "metadata": {},
   "source": [
    "Q.8"
   ]
  },
  {
   "cell_type": "code",
   "execution_count": 8,
   "id": "61b2d765",
   "metadata": {},
   "outputs": [],
   "source": [
    "def match_word_beginning(input_string):\n",
    "    pattern = re.compile(r'^\\w+')\n",
    "    if pattern.match(input_string):\n",
    "        return True\n",
    "    else:\n",
    "        return False"
   ]
  },
  {
   "cell_type": "markdown",
   "id": "c8847ef5",
   "metadata": {},
   "source": [
    "Q.9"
   ]
  },
  {
   "cell_type": "code",
   "execution_count": 9,
   "id": "f0a5ee27",
   "metadata": {},
   "outputs": [],
   "source": [
    "def match_word_end(input_string):\n",
    "    pattern = re.compile(r'\\w+$')\n",
    "    if pattern.search(input_string):\n",
    "        return True\n",
    "    else:\n",
    "        return False"
   ]
  },
  {
   "cell_type": "markdown",
   "id": "f45f3534",
   "metadata": {},
   "source": [
    "Q.10"
   ]
  },
  {
   "cell_type": "code",
   "execution_count": 10,
   "id": "349b0b7c",
   "metadata": {},
   "outputs": [],
   "source": [
    "def find_four_digit_words(input_string):\n",
    "    pattern = re.compile(r'\\b\\d{4}\\b')\n",
    "    return pattern.findall(input_string)\n"
   ]
  },
  {
   "cell_type": "code",
   "execution_count": 11,
   "id": "ff0a02b5",
   "metadata": {},
   "outputs": [
    {
     "name": "stdout",
     "output_type": "stream",
     "text": [
      "Expected output: ['0132', '1458', '2725']\n"
     ]
    }
   ],
   "source": [
    "sample_text = '01 0132 231875 1458 301 2725.'\n",
    "result = find_four_digit_words(sample_text)\n",
    "print(\"Expected output:\", result)"
   ]
  },
  {
   "cell_type": "code",
   "execution_count": null,
   "id": "1ecfb631",
   "metadata": {},
   "outputs": [],
   "source": []
  }
 ],
 "metadata": {
  "kernelspec": {
   "display_name": "Python 3 (ipykernel)",
   "language": "python",
   "name": "python3"
  },
  "language_info": {
   "codemirror_mode": {
    "name": "ipython",
    "version": 3
   },
   "file_extension": ".py",
   "mimetype": "text/x-python",
   "name": "python",
   "nbconvert_exporter": "python",
   "pygments_lexer": "ipython3",
   "version": "3.11.5"
  }
 },
 "nbformat": 4,
 "nbformat_minor": 5
}
