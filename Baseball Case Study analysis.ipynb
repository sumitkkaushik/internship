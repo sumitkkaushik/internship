{
 "cells": [
  {
   "cell_type": "markdown",
   "id": "666525a9",
   "metadata": {},
   "source": [
    "# Importing Libraries & Data"
   ]
  },
  {
   "cell_type": "code",
   "execution_count": 2,
   "id": "560473eb",
   "metadata": {},
   "outputs": [
    {
     "name": "stdout",
     "output_type": "stream",
     "text": [
      "Requirement already satisfied: scikit-learn in c:\\users\\sumit kaushik\\anaconda3\\lib\\site-packages (1.5.1)\n",
      "Requirement already satisfied: numpy>=1.19.5 in c:\\users\\sumit kaushik\\anaconda3\\lib\\site-packages (from scikit-learn) (1.24.3)\n",
      "Requirement already satisfied: scipy>=1.6.0 in c:\\users\\sumit kaushik\\anaconda3\\lib\\site-packages (from scikit-learn) (1.11.1)\n",
      "Requirement already satisfied: joblib>=1.2.0 in c:\\users\\sumit kaushik\\anaconda3\\lib\\site-packages (from scikit-learn) (1.2.0)\n",
      "Requirement already satisfied: threadpoolctl>=3.1.0 in c:\\users\\sumit kaushik\\anaconda3\\lib\\site-packages (from scikit-learn) (3.5.0)\n",
      "Note: you may need to restart the kernel to use updated packages.\n"
     ]
    }
   ],
   "source": [
    "pip install --upgrade scikit-learn"
   ]
  },
  {
   "cell_type": "code",
   "execution_count": 4,
   "id": "388e8d38",
   "metadata": {},
   "outputs": [],
   "source": [
    "from sklearn.preprocessing import OneHotEncoder"
   ]
  },
  {
   "cell_type": "code",
   "execution_count": 5,
   "id": "5e9b019f",
   "metadata": {},
   "outputs": [
    {
     "data": {
      "text/plain": [
       "('encoding', OneHotEncoder(handle_unknown='ignore'))"
      ]
     },
     "execution_count": 5,
     "metadata": {},
     "output_type": "execute_result"
    }
   ],
   "source": [
    "(\"encoding\", OneHotEncoder(handle_unknown=\"ignore\"))\n"
   ]
  },
  {
   "cell_type": "code",
   "execution_count": 6,
   "id": "001fb7e8",
   "metadata": {},
   "outputs": [],
   "source": [
    "import numpy as np\n",
    "import pandas as pd\n",
    "import matplotlib.pylab as plt\n",
    "import seaborn as sns\n",
    "\n",
    "from sklearn import preprocessing\n",
    "from sklearn import metrics\n",
    "from sklearn.model_selection import train_test_split\n",
    "from scipy.stats import zscore\n",
    "import warnings\n",
    "warnings.filterwarnings('ignore')"
   ]
  },
  {
   "cell_type": "code",
   "execution_count": 7,
   "id": "e2053f03",
   "metadata": {},
   "outputs": [
    {
     "ename": "TypeError",
     "evalue": "OneHotEncoder.__init__() got an unexpected keyword argument 'sparse'",
     "output_type": "error",
     "traceback": [
      "\u001b[1;31m---------------------------------------------------------------------------\u001b[0m",
      "\u001b[1;31mTypeError\u001b[0m                                 Traceback (most recent call last)",
      "Cell \u001b[1;32mIn[7], line 2\u001b[0m\n\u001b[0;32m      1\u001b[0m \u001b[38;5;28;01mimport\u001b[39;00m \u001b[38;5;21;01mlazypredict\u001b[39;00m\n\u001b[1;32m----> 2\u001b[0m \u001b[38;5;28;01mfrom\u001b[39;00m \u001b[38;5;21;01mlazypredict\u001b[39;00m\u001b[38;5;21;01m.\u001b[39;00m\u001b[38;5;21;01mSupervised\u001b[39;00m \u001b[38;5;28;01mimport\u001b[39;00m LazyRegressor\n",
      "File \u001b[1;32m~\\anaconda3\\Lib\\site-packages\\lazypredict\\Supervised.py:98\u001b[0m\n\u001b[0;32m     89\u001b[0m \u001b[38;5;66;03m# CLASSIFIERS.append(('CatBoostClassifier',catboost.CatBoostClassifier))\u001b[39;00m\n\u001b[0;32m     91\u001b[0m numeric_transformer \u001b[38;5;241m=\u001b[39m Pipeline(\n\u001b[0;32m     92\u001b[0m     steps\u001b[38;5;241m=\u001b[39m[(\u001b[38;5;124m\"\u001b[39m\u001b[38;5;124mimputer\u001b[39m\u001b[38;5;124m\"\u001b[39m, SimpleImputer(strategy\u001b[38;5;241m=\u001b[39m\u001b[38;5;124m\"\u001b[39m\u001b[38;5;124mmean\u001b[39m\u001b[38;5;124m\"\u001b[39m)), (\u001b[38;5;124m\"\u001b[39m\u001b[38;5;124mscaler\u001b[39m\u001b[38;5;124m\"\u001b[39m, StandardScaler())]\n\u001b[0;32m     93\u001b[0m )\n\u001b[0;32m     95\u001b[0m categorical_transformer_low \u001b[38;5;241m=\u001b[39m Pipeline(\n\u001b[0;32m     96\u001b[0m     steps\u001b[38;5;241m=\u001b[39m[\n\u001b[0;32m     97\u001b[0m         (\u001b[38;5;124m\"\u001b[39m\u001b[38;5;124mimputer\u001b[39m\u001b[38;5;124m\"\u001b[39m, SimpleImputer(strategy\u001b[38;5;241m=\u001b[39m\u001b[38;5;124m\"\u001b[39m\u001b[38;5;124mconstant\u001b[39m\u001b[38;5;124m\"\u001b[39m, fill_value\u001b[38;5;241m=\u001b[39m\u001b[38;5;124m\"\u001b[39m\u001b[38;5;124mmissing\u001b[39m\u001b[38;5;124m\"\u001b[39m)),\n\u001b[1;32m---> 98\u001b[0m         (\u001b[38;5;124m\"\u001b[39m\u001b[38;5;124mencoding\u001b[39m\u001b[38;5;124m\"\u001b[39m, OneHotEncoder(handle_unknown\u001b[38;5;241m=\u001b[39m\u001b[38;5;124m\"\u001b[39m\u001b[38;5;124mignore\u001b[39m\u001b[38;5;124m\"\u001b[39m, sparse\u001b[38;5;241m=\u001b[39m\u001b[38;5;28;01mFalse\u001b[39;00m)),\n\u001b[0;32m     99\u001b[0m     ]\n\u001b[0;32m    100\u001b[0m )\n\u001b[0;32m    102\u001b[0m categorical_transformer_high \u001b[38;5;241m=\u001b[39m Pipeline(\n\u001b[0;32m    103\u001b[0m     steps\u001b[38;5;241m=\u001b[39m[\n\u001b[0;32m    104\u001b[0m         (\u001b[38;5;124m\"\u001b[39m\u001b[38;5;124mimputer\u001b[39m\u001b[38;5;124m\"\u001b[39m, SimpleImputer(strategy\u001b[38;5;241m=\u001b[39m\u001b[38;5;124m\"\u001b[39m\u001b[38;5;124mconstant\u001b[39m\u001b[38;5;124m\"\u001b[39m, fill_value\u001b[38;5;241m=\u001b[39m\u001b[38;5;124m\"\u001b[39m\u001b[38;5;124mmissing\u001b[39m\u001b[38;5;124m\"\u001b[39m)),\n\u001b[1;32m   (...)\u001b[0m\n\u001b[0;32m    107\u001b[0m     ]\n\u001b[0;32m    108\u001b[0m )\n\u001b[0;32m    111\u001b[0m \u001b[38;5;66;03m# Helper function\u001b[39;00m\n",
      "\u001b[1;31mTypeError\u001b[0m: OneHotEncoder.__init__() got an unexpected keyword argument 'sparse'"
     ]
    }
   ],
   "source": [
    "import lazypredict\n",
    "from lazypredict.Supervised import LazyRegressor"
   ]
  },
  {
   "cell_type": "code",
   "execution_count": 8,
   "id": "d98241f7",
   "metadata": {},
   "outputs": [],
   "source": [
    "df = pd.read_csv(\"https://raw.githubusercontent.com/datacamp/courses-introduction-to-python/master/datasets/baseball.csv\")\n"
   ]
  },
  {
   "cell_type": "code",
   "execution_count": 9,
   "id": "028dc705",
   "metadata": {},
   "outputs": [
    {
     "data": {
      "text/html": [
       "<div>\n",
       "<style scoped>\n",
       "    .dataframe tbody tr th:only-of-type {\n",
       "        vertical-align: middle;\n",
       "    }\n",
       "\n",
       "    .dataframe tbody tr th {\n",
       "        vertical-align: top;\n",
       "    }\n",
       "\n",
       "    .dataframe thead th {\n",
       "        text-align: right;\n",
       "    }\n",
       "</style>\n",
       "<table border=\"1\" class=\"dataframe\">\n",
       "  <thead>\n",
       "    <tr style=\"text-align: right;\">\n",
       "      <th></th>\n",
       "      <th>Name</th>\n",
       "      <th>Team</th>\n",
       "      <th>Position</th>\n",
       "      <th>Height</th>\n",
       "      <th>Weight</th>\n",
       "      <th>Age</th>\n",
       "      <th>PosCategory</th>\n",
       "    </tr>\n",
       "  </thead>\n",
       "  <tbody>\n",
       "    <tr>\n",
       "      <th>0</th>\n",
       "      <td>Adam_Donachie</td>\n",
       "      <td>BAL</td>\n",
       "      <td>Catcher</td>\n",
       "      <td>74</td>\n",
       "      <td>180</td>\n",
       "      <td>22.99</td>\n",
       "      <td>Catcher</td>\n",
       "    </tr>\n",
       "    <tr>\n",
       "      <th>1</th>\n",
       "      <td>Paul_Bako</td>\n",
       "      <td>BAL</td>\n",
       "      <td>Catcher</td>\n",
       "      <td>74</td>\n",
       "      <td>215</td>\n",
       "      <td>34.69</td>\n",
       "      <td>Catcher</td>\n",
       "    </tr>\n",
       "    <tr>\n",
       "      <th>2</th>\n",
       "      <td>Ramon_Hernandez</td>\n",
       "      <td>BAL</td>\n",
       "      <td>Catcher</td>\n",
       "      <td>72</td>\n",
       "      <td>210</td>\n",
       "      <td>30.78</td>\n",
       "      <td>Catcher</td>\n",
       "    </tr>\n",
       "    <tr>\n",
       "      <th>3</th>\n",
       "      <td>Kevin_Millar</td>\n",
       "      <td>BAL</td>\n",
       "      <td>First_Baseman</td>\n",
       "      <td>72</td>\n",
       "      <td>210</td>\n",
       "      <td>35.43</td>\n",
       "      <td>Infielder</td>\n",
       "    </tr>\n",
       "    <tr>\n",
       "      <th>4</th>\n",
       "      <td>Chris_Gomez</td>\n",
       "      <td>BAL</td>\n",
       "      <td>First_Baseman</td>\n",
       "      <td>73</td>\n",
       "      <td>188</td>\n",
       "      <td>35.71</td>\n",
       "      <td>Infielder</td>\n",
       "    </tr>\n",
       "  </tbody>\n",
       "</table>\n",
       "</div>"
      ],
      "text/plain": [
       "              Name Team       Position  Height  Weight   Age PosCategory\n",
       "0    Adam_Donachie  BAL        Catcher      74     180 22.99     Catcher\n",
       "1        Paul_Bako  BAL        Catcher      74     215 34.69     Catcher\n",
       "2  Ramon_Hernandez  BAL        Catcher      72     210 30.78     Catcher\n",
       "3     Kevin_Millar  BAL  First_Baseman      72     210 35.43   Infielder\n",
       "4      Chris_Gomez  BAL  First_Baseman      73     188 35.71   Infielder"
      ]
     },
     "execution_count": 9,
     "metadata": {},
     "output_type": "execute_result"
    }
   ],
   "source": [
    "df.head()"
   ]
  },
  {
   "cell_type": "code",
   "execution_count": 10,
   "id": "bcbe9d2b",
   "metadata": {},
   "outputs": [
    {
     "name": "stdout",
     "output_type": "stream",
     "text": [
      "<class 'pandas.core.frame.DataFrame'>\n",
      "RangeIndex: 1015 entries, 0 to 1014\n",
      "Data columns (total 7 columns):\n",
      " #   Column       Non-Null Count  Dtype  \n",
      "---  ------       --------------  -----  \n",
      " 0   Name         1015 non-null   object \n",
      " 1   Team         1015 non-null   object \n",
      " 2   Position     1015 non-null   object \n",
      " 3   Height       1015 non-null   int64  \n",
      " 4   Weight       1015 non-null   int64  \n",
      " 5   Age          1015 non-null   float64\n",
      " 6   PosCategory  1015 non-null   object \n",
      "dtypes: float64(1), int64(2), object(4)\n",
      "memory usage: 55.6+ KB\n"
     ]
    }
   ],
   "source": [
    "df.info()"
   ]
  },
  {
   "cell_type": "code",
   "execution_count": 11,
   "id": "b1aa6da7",
   "metadata": {},
   "outputs": [
    {
     "data": {
      "text/html": [
       "<div>\n",
       "<style scoped>\n",
       "    .dataframe tbody tr th:only-of-type {\n",
       "        vertical-align: middle;\n",
       "    }\n",
       "\n",
       "    .dataframe tbody tr th {\n",
       "        vertical-align: top;\n",
       "    }\n",
       "\n",
       "    .dataframe thead th {\n",
       "        text-align: right;\n",
       "    }\n",
       "</style>\n",
       "<table border=\"1\" class=\"dataframe\">\n",
       "  <thead>\n",
       "    <tr style=\"text-align: right;\">\n",
       "      <th></th>\n",
       "      <th>Height</th>\n",
       "      <th>Weight</th>\n",
       "      <th>Age</th>\n",
       "    </tr>\n",
       "  </thead>\n",
       "  <tbody>\n",
       "    <tr>\n",
       "      <th>count</th>\n",
       "      <td>1015.00</td>\n",
       "      <td>1015.00</td>\n",
       "      <td>1015.00</td>\n",
       "    </tr>\n",
       "    <tr>\n",
       "      <th>mean</th>\n",
       "      <td>73.69</td>\n",
       "      <td>201.35</td>\n",
       "      <td>28.71</td>\n",
       "    </tr>\n",
       "    <tr>\n",
       "      <th>std</th>\n",
       "      <td>2.31</td>\n",
       "      <td>20.82</td>\n",
       "      <td>4.31</td>\n",
       "    </tr>\n",
       "    <tr>\n",
       "      <th>min</th>\n",
       "      <td>67.00</td>\n",
       "      <td>150.00</td>\n",
       "      <td>20.90</td>\n",
       "    </tr>\n",
       "    <tr>\n",
       "      <th>25%</th>\n",
       "      <td>72.00</td>\n",
       "      <td>186.00</td>\n",
       "      <td>25.41</td>\n",
       "    </tr>\n",
       "    <tr>\n",
       "      <th>50%</th>\n",
       "      <td>74.00</td>\n",
       "      <td>200.00</td>\n",
       "      <td>27.90</td>\n",
       "    </tr>\n",
       "    <tr>\n",
       "      <th>75%</th>\n",
       "      <td>75.00</td>\n",
       "      <td>215.00</td>\n",
       "      <td>31.19</td>\n",
       "    </tr>\n",
       "    <tr>\n",
       "      <th>max</th>\n",
       "      <td>83.00</td>\n",
       "      <td>290.00</td>\n",
       "      <td>48.52</td>\n",
       "    </tr>\n",
       "  </tbody>\n",
       "</table>\n",
       "</div>"
      ],
      "text/plain": [
       "       Height  Weight     Age\n",
       "count 1015.00 1015.00 1015.00\n",
       "mean    73.69  201.35   28.71\n",
       "std      2.31   20.82    4.31\n",
       "min     67.00  150.00   20.90\n",
       "25%     72.00  186.00   25.41\n",
       "50%     74.00  200.00   27.90\n",
       "75%     75.00  215.00   31.19\n",
       "max     83.00  290.00   48.52"
      ]
     },
     "execution_count": 11,
     "metadata": {},
     "output_type": "execute_result"
    }
   ],
   "source": [
    "df.describe()"
   ]
  },
  {
   "cell_type": "code",
   "execution_count": 12,
   "id": "366290c0",
   "metadata": {},
   "outputs": [
    {
     "name": "stdout",
     "output_type": "stream",
     "text": [
      "<class 'pandas.core.frame.DataFrame'>\n",
      "RangeIndex: 1015 entries, 0 to 1014\n",
      "Data columns (total 7 columns):\n",
      " #   Column       Non-Null Count  Dtype  \n",
      "---  ------       --------------  -----  \n",
      " 0   Name         1015 non-null   object \n",
      " 1   Team         1015 non-null   object \n",
      " 2   Position     1015 non-null   object \n",
      " 3   Height       1015 non-null   int64  \n",
      " 4   Weight       1015 non-null   int64  \n",
      " 5   Age          1015 non-null   float64\n",
      " 6   PosCategory  1015 non-null   object \n",
      "dtypes: float64(1), int64(2), object(4)\n",
      "memory usage: 55.6+ KB\n"
     ]
    }
   ],
   "source": [
    "df.info()"
   ]
  },
  {
   "cell_type": "code",
   "execution_count": 13,
   "id": "2d802b90",
   "metadata": {},
   "outputs": [
    {
     "data": {
      "image/png": "[encoded data removed]",
      "text/plain": [
       "<Figure size 1500x1500 with 4 Axes>"
      ]
     },
     "metadata": {},
     "output_type": "display_data"
    }
   ],
   "source": [
    "df.hist(bins=8,figsize=(15,15));"
   ]
  },
  {
   "cell_type": "code",
   "execution_count": 14,
   "id": "bca0c3f0",
   "metadata": {},
   "outputs": [
    {
     "data": {
      "image/png": "[encoded data removed]",
      "text/plain": [
       "<Figure size 1000x1000 with 18 Axes>"
      ]
     },
     "metadata": {},
     "output_type": "display_data"
    }
   ],
   "source": [
    "df.plot(kind='box',subplots=True,layout=(6,3),figsize=(10,10));"
   ]
  },
  {
   "cell_type": "code",
   "execution_count": 15,
   "id": "17de0a08",
   "metadata": {},
   "outputs": [
    {
     "data": {
      "image/png": "[encoded data removed]",
      "text/plain": [
       "<Figure size 1500x1000 with 2 Axes>"
      ]
     },
     "metadata": {},
     "output_type": "display_data"
    }
   ],
   "source": [
    "plt.figure(figsize=(15,10))\n",
    "sns.heatmap(df.corr(numeric_only=True), annot=True);"
   ]
  },
  {
   "cell_type": "code",
   "execution_count": 16,
   "id": "cd25952f",
   "metadata": {},
   "outputs": [],
   "source": [
    "# Assigning Feature & Target Data\n",
    "\n",
    "x = df.drop(['Height'], axis=1)\n",
    "y = df[['Height']]"
   ]
  },
  {
   "cell_type": "code",
   "execution_count": 17,
   "id": "9f12a242",
   "metadata": {},
   "outputs": [
    {
     "data": {
      "text/html": [
       "<div>\n",
       "<style scoped>\n",
       "    .dataframe tbody tr th:only-of-type {\n",
       "        vertical-align: middle;\n",
       "    }\n",
       "\n",
       "    .dataframe tbody tr th {\n",
       "        vertical-align: top;\n",
       "    }\n",
       "\n",
       "    .dataframe thead th {\n",
       "        text-align: right;\n",
       "    }\n",
       "</style>\n",
       "<table border=\"1\" class=\"dataframe\">\n",
       "  <thead>\n",
       "    <tr style=\"text-align: right;\">\n",
       "      <th></th>\n",
       "      <th>Height</th>\n",
       "      <th>Weight</th>\n",
       "      <th>Age</th>\n",
       "    </tr>\n",
       "  </thead>\n",
       "  <tbody>\n",
       "    <tr>\n",
       "      <th>count</th>\n",
       "      <td>1015.00</td>\n",
       "      <td>1015.00</td>\n",
       "      <td>1015.00</td>\n",
       "    </tr>\n",
       "    <tr>\n",
       "      <th>mean</th>\n",
       "      <td>73.69</td>\n",
       "      <td>201.35</td>\n",
       "      <td>28.71</td>\n",
       "    </tr>\n",
       "    <tr>\n",
       "      <th>std</th>\n",
       "      <td>2.31</td>\n",
       "      <td>20.82</td>\n",
       "      <td>4.31</td>\n",
       "    </tr>\n",
       "    <tr>\n",
       "      <th>min</th>\n",
       "      <td>67.00</td>\n",
       "      <td>150.00</td>\n",
       "      <td>20.90</td>\n",
       "    </tr>\n",
       "    <tr>\n",
       "      <th>25%</th>\n",
       "      <td>72.00</td>\n",
       "      <td>186.00</td>\n",
       "      <td>25.41</td>\n",
       "    </tr>\n",
       "    <tr>\n",
       "      <th>50%</th>\n",
       "      <td>74.00</td>\n",
       "      <td>200.00</td>\n",
       "      <td>27.90</td>\n",
       "    </tr>\n",
       "    <tr>\n",
       "      <th>75%</th>\n",
       "      <td>75.00</td>\n",
       "      <td>215.00</td>\n",
       "      <td>31.19</td>\n",
       "    </tr>\n",
       "    <tr>\n",
       "      <th>max</th>\n",
       "      <td>83.00</td>\n",
       "      <td>290.00</td>\n",
       "      <td>48.52</td>\n",
       "    </tr>\n",
       "  </tbody>\n",
       "</table>\n",
       "</div>"
      ],
      "text/plain": [
       "       Height  Weight     Age\n",
       "count 1015.00 1015.00 1015.00\n",
       "mean    73.69  201.35   28.71\n",
       "std      2.31   20.82    4.31\n",
       "min     67.00  150.00   20.90\n",
       "25%     72.00  186.00   25.41\n",
       "50%     74.00  200.00   27.90\n",
       "75%     75.00  215.00   31.19\n",
       "max     83.00  290.00   48.52"
      ]
     },
     "execution_count": 17,
     "metadata": {},
     "output_type": "execute_result"
    }
   ],
   "source": [
    "df.describe()"
   ]
  },
  {
   "cell_type": "code",
   "execution_count": 18,
   "id": "46bbf875",
   "metadata": {},
   "outputs": [],
   "source": [
    "xtrain,xtest,ytrain,ytest = train_test_split(x,y,test_size = .25, random_state = 39)"
   ]
  },
  {
   "cell_type": "code",
   "execution_count": 19,
   "id": "3b9b3854",
   "metadata": {},
   "outputs": [
    {
     "ename": "NameError",
     "evalue": "name 'LazyRegressor' is not defined",
     "output_type": "error",
     "traceback": [
      "\u001b[1;31m---------------------------------------------------------------------------\u001b[0m",
      "\u001b[1;31mNameError\u001b[0m                                 Traceback (most recent call last)",
      "Cell \u001b[1;32mIn[19], line 1\u001b[0m\n\u001b[1;32m----> 1\u001b[0m reg \u001b[38;5;241m=\u001b[39m LazyRegressor(verbose\u001b[38;5;241m=\u001b[39m\u001b[38;5;241m0\u001b[39m, ignore_warnings\u001b[38;5;241m=\u001b[39m\u001b[38;5;28;01mFalse\u001b[39;00m, custom_metric\u001b[38;5;241m=\u001b[39m\u001b[38;5;28;01mNone\u001b[39;00m)\n\u001b[0;32m      2\u001b[0m reg_models, predictions \u001b[38;5;241m=\u001b[39m reg\u001b[38;5;241m.\u001b[39mfit(xtrain, xtest, ytrain, ytest)\n\u001b[0;32m      3\u001b[0m \u001b[38;5;28mprint\u001b[39m(reg_models)\n",
      "\u001b[1;31mNameError\u001b[0m: name 'LazyRegressor' is not defined"
     ]
    }
   ],
   "source": [
    "reg = LazyRegressor(verbose=0, ignore_warnings=False, custom_metric=None)\n",
    "reg_models, predictions = reg.fit(xtrain, xtest, ytrain, ytest)\n",
    "print(reg_models)"
   ]
  },
  {
   "cell_type": "code",
   "execution_count": 20,
   "id": "f4518537",
   "metadata": {},
   "outputs": [],
   "source": [
    "from sklearn.linear_model import Ridge\n",
    "r_clf = Ridge(random_state = 39)"
   ]
  },
  {
   "cell_type": "code",
   "execution_count": 26,
   "id": "74f6cf0c",
   "metadata": {},
   "outputs": [
    {
     "ename": "ValueError",
     "evalue": "could not convert string to float: 'John_Maine'",
     "output_type": "error",
     "traceback": [
      "\u001b[1;31m---------------------------------------------------------------------------\u001b[0m",
      "\u001b[1;31mValueError\u001b[0m                                Traceback (most recent call last)",
      "\u001b[1;32m~\\AppData\\Local\\Temp\\ipykernel_9776\\619742957.py\u001b[0m in \u001b[0;36m?\u001b[1;34m()\u001b[0m\n\u001b[1;32m----> 1\u001b[1;33m \u001b[0mr_clf\u001b[0m\u001b[1;33m.\u001b[0m\u001b[0mfit\u001b[0m\u001b[1;33m(\u001b[0m\u001b[0mxtrain\u001b[0m\u001b[1;33m,\u001b[0m\u001b[0mytrain\u001b[0m\u001b[1;33m)\u001b[0m\u001b[1;33m\u001b[0m\u001b[1;33m\u001b[0m\u001b[0m\n\u001b[0m",
      "\u001b[1;32m~\\anaconda3\\Lib\\site-packages\\sklearn\\base.py\u001b[0m in \u001b[0;36m?\u001b[1;34m(estimator, *args, **kwargs)\u001b[0m\n\u001b[0;32m   1469\u001b[0m                 skip_parameter_validation=(\n\u001b[0;32m   1470\u001b[0m                     \u001b[0mprefer_skip_nested_validation\u001b[0m \u001b[1;32mor\u001b[0m \u001b[0mglobal_skip_validation\u001b[0m\u001b[1;33m\u001b[0m\u001b[1;33m\u001b[0m\u001b[0m\n\u001b[0;32m   1471\u001b[0m                 )\n\u001b[0;32m   1472\u001b[0m             ):\n\u001b[1;32m-> 1473\u001b[1;33m                 \u001b[1;32mreturn\u001b[0m \u001b[0mfit_method\u001b[0m\u001b[1;33m(\u001b[0m\u001b[0mestimator\u001b[0m\u001b[1;33m,\u001b[0m \u001b[1;33m*\u001b[0m\u001b[0margs\u001b[0m\u001b[1;33m,\u001b[0m \u001b[1;33m**\u001b[0m\u001b[0mkwargs\u001b[0m\u001b[1;33m)\u001b[0m\u001b[1;33m\u001b[0m\u001b[1;33m\u001b[0m\u001b[0m\n\u001b[0m",
      "\u001b[1;32m~\\anaconda3\\Lib\\site-packages\\sklearn\\linear_model\\_ridge.py\u001b[0m in \u001b[0;36m?\u001b[1;34m(self, X, y, sample_weight)\u001b[0m\n\u001b[0;32m   1238\u001b[0m             \u001b[0mFitted\u001b[0m \u001b[0mestimator\u001b[0m\u001b[1;33m.\u001b[0m\u001b[1;33m\u001b[0m\u001b[1;33m\u001b[0m\u001b[0m\n\u001b[0;32m   1239\u001b[0m         \"\"\"\n\u001b[0;32m   1240\u001b[0m         \u001b[0m_accept_sparse\u001b[0m \u001b[1;33m=\u001b[0m \u001b[0m_get_valid_accept_sparse\u001b[0m\u001b[1;33m(\u001b[0m\u001b[0msparse\u001b[0m\u001b[1;33m.\u001b[0m\u001b[0missparse\u001b[0m\u001b[1;33m(\u001b[0m\u001b[0mX\u001b[0m\u001b[1;33m)\u001b[0m\u001b[1;33m,\u001b[0m \u001b[0mself\u001b[0m\u001b[1;33m.\u001b[0m\u001b[0msolver\u001b[0m\u001b[1;33m)\u001b[0m\u001b[1;33m\u001b[0m\u001b[1;33m\u001b[0m\u001b[0m\n\u001b[0;32m   1241\u001b[0m         \u001b[0mxp\u001b[0m\u001b[1;33m,\u001b[0m \u001b[0m_\u001b[0m \u001b[1;33m=\u001b[0m \u001b[0mget_namespace\u001b[0m\u001b[1;33m(\u001b[0m\u001b[0mX\u001b[0m\u001b[1;33m,\u001b[0m \u001b[0my\u001b[0m\u001b[1;33m,\u001b[0m \u001b[0msample_weight\u001b[0m\u001b[1;33m)\u001b[0m\u001b[1;33m\u001b[0m\u001b[1;33m\u001b[0m\u001b[0m\n\u001b[1;32m-> 1242\u001b[1;33m         X, y = self._validate_data(\n\u001b[0m\u001b[0;32m   1243\u001b[0m             \u001b[0mX\u001b[0m\u001b[1;33m,\u001b[0m\u001b[1;33m\u001b[0m\u001b[1;33m\u001b[0m\u001b[0m\n\u001b[0;32m   1244\u001b[0m             \u001b[0my\u001b[0m\u001b[1;33m,\u001b[0m\u001b[1;33m\u001b[0m\u001b[1;33m\u001b[0m\u001b[0m\n\u001b[0;32m   1245\u001b[0m             \u001b[0maccept_sparse\u001b[0m\u001b[1;33m=\u001b[0m\u001b[0m_accept_sparse\u001b[0m\u001b[1;33m,\u001b[0m\u001b[1;33m\u001b[0m\u001b[1;33m\u001b[0m\u001b[0m\n",
      "\u001b[1;32m~\\anaconda3\\Lib\\site-packages\\sklearn\\base.py\u001b[0m in \u001b[0;36m?\u001b[1;34m(self, X, y, reset, validate_separately, cast_to_ndarray, **check_params)\u001b[0m\n\u001b[0;32m    646\u001b[0m                 \u001b[1;32mif\u001b[0m \u001b[1;34m\"estimator\"\u001b[0m \u001b[1;32mnot\u001b[0m \u001b[1;32min\u001b[0m \u001b[0mcheck_y_params\u001b[0m\u001b[1;33m:\u001b[0m\u001b[1;33m\u001b[0m\u001b[1;33m\u001b[0m\u001b[0m\n\u001b[0;32m    647\u001b[0m                     \u001b[0mcheck_y_params\u001b[0m \u001b[1;33m=\u001b[0m \u001b[1;33m{\u001b[0m\u001b[1;33m**\u001b[0m\u001b[0mdefault_check_params\u001b[0m\u001b[1;33m,\u001b[0m \u001b[1;33m**\u001b[0m\u001b[0mcheck_y_params\u001b[0m\u001b[1;33m}\u001b[0m\u001b[1;33m\u001b[0m\u001b[1;33m\u001b[0m\u001b[0m\n\u001b[0;32m    648\u001b[0m                 \u001b[0my\u001b[0m \u001b[1;33m=\u001b[0m \u001b[0mcheck_array\u001b[0m\u001b[1;33m(\u001b[0m\u001b[0my\u001b[0m\u001b[1;33m,\u001b[0m \u001b[0minput_name\u001b[0m\u001b[1;33m=\u001b[0m\u001b[1;34m\"y\"\u001b[0m\u001b[1;33m,\u001b[0m \u001b[1;33m**\u001b[0m\u001b[0mcheck_y_params\u001b[0m\u001b[1;33m)\u001b[0m\u001b[1;33m\u001b[0m\u001b[1;33m\u001b[0m\u001b[0m\n\u001b[0;32m    649\u001b[0m             \u001b[1;32melse\u001b[0m\u001b[1;33m:\u001b[0m\u001b[1;33m\u001b[0m\u001b[1;33m\u001b[0m\u001b[0m\n\u001b[1;32m--> 650\u001b[1;33m                 \u001b[0mX\u001b[0m\u001b[1;33m,\u001b[0m \u001b[0my\u001b[0m \u001b[1;33m=\u001b[0m \u001b[0mcheck_X_y\u001b[0m\u001b[1;33m(\u001b[0m\u001b[0mX\u001b[0m\u001b[1;33m,\u001b[0m \u001b[0my\u001b[0m\u001b[1;33m,\u001b[0m \u001b[1;33m**\u001b[0m\u001b[0mcheck_params\u001b[0m\u001b[1;33m)\u001b[0m\u001b[1;33m\u001b[0m\u001b[1;33m\u001b[0m\u001b[0m\n\u001b[0m\u001b[0;32m    651\u001b[0m             \u001b[0mout\u001b[0m \u001b[1;33m=\u001b[0m \u001b[0mX\u001b[0m\u001b[1;33m,\u001b[0m \u001b[0my\u001b[0m\u001b[1;33m\u001b[0m\u001b[1;33m\u001b[0m\u001b[0m\n\u001b[0;32m    652\u001b[0m \u001b[1;33m\u001b[0m\u001b[0m\n\u001b[0;32m    653\u001b[0m         \u001b[1;32mif\u001b[0m \u001b[1;32mnot\u001b[0m \u001b[0mno_val_X\u001b[0m \u001b[1;32mand\u001b[0m \u001b[0mcheck_params\u001b[0m\u001b[1;33m.\u001b[0m\u001b[0mget\u001b[0m\u001b[1;33m(\u001b[0m\u001b[1;34m\"ensure_2d\"\u001b[0m\u001b[1;33m,\u001b[0m \u001b[1;32mTrue\u001b[0m\u001b[1;33m)\u001b[0m\u001b[1;33m:\u001b[0m\u001b[1;33m\u001b[0m\u001b[1;33m\u001b[0m\u001b[0m\n",
      "\u001b[1;32m~\\anaconda3\\Lib\\site-packages\\sklearn\\utils\\validation.py\u001b[0m in \u001b[0;36m?\u001b[1;34m(X, y, accept_sparse, accept_large_sparse, dtype, order, copy, force_writeable, force_all_finite, ensure_2d, allow_nd, multi_output, ensure_min_samples, ensure_min_features, y_numeric, estimator)\u001b[0m\n\u001b[0;32m   1297\u001b[0m         raise ValueError(\n\u001b[0;32m   1298\u001b[0m             \u001b[1;34mf\"{estimator_name} requires y to be passed, but the target y is None\"\u001b[0m\u001b[1;33m\u001b[0m\u001b[1;33m\u001b[0m\u001b[0m\n\u001b[0;32m   1299\u001b[0m         )\n\u001b[0;32m   1300\u001b[0m \u001b[1;33m\u001b[0m\u001b[0m\n\u001b[1;32m-> 1301\u001b[1;33m     X = check_array(\n\u001b[0m\u001b[0;32m   1302\u001b[0m         \u001b[0mX\u001b[0m\u001b[1;33m,\u001b[0m\u001b[1;33m\u001b[0m\u001b[1;33m\u001b[0m\u001b[0m\n\u001b[0;32m   1303\u001b[0m         \u001b[0maccept_sparse\u001b[0m\u001b[1;33m=\u001b[0m\u001b[0maccept_sparse\u001b[0m\u001b[1;33m,\u001b[0m\u001b[1;33m\u001b[0m\u001b[1;33m\u001b[0m\u001b[0m\n\u001b[0;32m   1304\u001b[0m         \u001b[0maccept_large_sparse\u001b[0m\u001b[1;33m=\u001b[0m\u001b[0maccept_large_sparse\u001b[0m\u001b[1;33m,\u001b[0m\u001b[1;33m\u001b[0m\u001b[1;33m\u001b[0m\u001b[0m\n",
      "\u001b[1;32m~\\anaconda3\\Lib\\site-packages\\sklearn\\utils\\validation.py\u001b[0m in \u001b[0;36m?\u001b[1;34m(array, accept_sparse, accept_large_sparse, dtype, order, copy, force_writeable, force_all_finite, ensure_2d, allow_nd, ensure_min_samples, ensure_min_features, estimator, input_name)\u001b[0m\n\u001b[0;32m   1009\u001b[0m                         )\n\u001b[0;32m   1010\u001b[0m                     \u001b[0marray\u001b[0m \u001b[1;33m=\u001b[0m \u001b[0mxp\u001b[0m\u001b[1;33m.\u001b[0m\u001b[0mastype\u001b[0m\u001b[1;33m(\u001b[0m\u001b[0marray\u001b[0m\u001b[1;33m,\u001b[0m \u001b[0mdtype\u001b[0m\u001b[1;33m,\u001b[0m \u001b[0mcopy\u001b[0m\u001b[1;33m=\u001b[0m\u001b[1;32mFalse\u001b[0m\u001b[1;33m)\u001b[0m\u001b[1;33m\u001b[0m\u001b[1;33m\u001b[0m\u001b[0m\n\u001b[0;32m   1011\u001b[0m                 \u001b[1;32melse\u001b[0m\u001b[1;33m:\u001b[0m\u001b[1;33m\u001b[0m\u001b[1;33m\u001b[0m\u001b[0m\n\u001b[0;32m   1012\u001b[0m                     \u001b[0marray\u001b[0m \u001b[1;33m=\u001b[0m \u001b[0m_asarray_with_order\u001b[0m\u001b[1;33m(\u001b[0m\u001b[0marray\u001b[0m\u001b[1;33m,\u001b[0m \u001b[0morder\u001b[0m\u001b[1;33m=\u001b[0m\u001b[0morder\u001b[0m\u001b[1;33m,\u001b[0m \u001b[0mdtype\u001b[0m\u001b[1;33m=\u001b[0m\u001b[0mdtype\u001b[0m\u001b[1;33m,\u001b[0m \u001b[0mxp\u001b[0m\u001b[1;33m=\u001b[0m\u001b[0mxp\u001b[0m\u001b[1;33m)\u001b[0m\u001b[1;33m\u001b[0m\u001b[1;33m\u001b[0m\u001b[0m\n\u001b[1;32m-> 1013\u001b[1;33m             \u001b[1;32mexcept\u001b[0m \u001b[0mComplexWarning\u001b[0m \u001b[1;32mas\u001b[0m \u001b[0mcomplex_warning\u001b[0m\u001b[1;33m:\u001b[0m\u001b[1;33m\u001b[0m\u001b[1;33m\u001b[0m\u001b[0m\n\u001b[0m\u001b[0;32m   1014\u001b[0m                 raise ValueError(\n\u001b[0;32m   1015\u001b[0m                     \u001b[1;34m\"Complex data not supported\\n{}\\n\"\u001b[0m\u001b[1;33m.\u001b[0m\u001b[0mformat\u001b[0m\u001b[1;33m(\u001b[0m\u001b[0marray\u001b[0m\u001b[1;33m)\u001b[0m\u001b[1;33m\u001b[0m\u001b[1;33m\u001b[0m\u001b[0m\n\u001b[0;32m   1016\u001b[0m                 ) from complex_warning\n",
      "\u001b[1;32m~\\anaconda3\\Lib\\site-packages\\sklearn\\utils\\_array_api.py\u001b[0m in \u001b[0;36m?\u001b[1;34m(array, dtype, order, copy, xp, device)\u001b[0m\n\u001b[0;32m    747\u001b[0m         \u001b[1;31m# Use NumPy API to support order\u001b[0m\u001b[1;33m\u001b[0m\u001b[1;33m\u001b[0m\u001b[0m\n\u001b[0;32m    748\u001b[0m         \u001b[1;32mif\u001b[0m \u001b[0mcopy\u001b[0m \u001b[1;32mis\u001b[0m \u001b[1;32mTrue\u001b[0m\u001b[1;33m:\u001b[0m\u001b[1;33m\u001b[0m\u001b[1;33m\u001b[0m\u001b[0m\n\u001b[0;32m    749\u001b[0m             \u001b[0marray\u001b[0m \u001b[1;33m=\u001b[0m \u001b[0mnumpy\u001b[0m\u001b[1;33m.\u001b[0m\u001b[0marray\u001b[0m\u001b[1;33m(\u001b[0m\u001b[0marray\u001b[0m\u001b[1;33m,\u001b[0m \u001b[0morder\u001b[0m\u001b[1;33m=\u001b[0m\u001b[0morder\u001b[0m\u001b[1;33m,\u001b[0m \u001b[0mdtype\u001b[0m\u001b[1;33m=\u001b[0m\u001b[0mdtype\u001b[0m\u001b[1;33m)\u001b[0m\u001b[1;33m\u001b[0m\u001b[1;33m\u001b[0m\u001b[0m\n\u001b[0;32m    750\u001b[0m         \u001b[1;32melse\u001b[0m\u001b[1;33m:\u001b[0m\u001b[1;33m\u001b[0m\u001b[1;33m\u001b[0m\u001b[0m\n\u001b[1;32m--> 751\u001b[1;33m             \u001b[0marray\u001b[0m \u001b[1;33m=\u001b[0m \u001b[0mnumpy\u001b[0m\u001b[1;33m.\u001b[0m\u001b[0masarray\u001b[0m\u001b[1;33m(\u001b[0m\u001b[0marray\u001b[0m\u001b[1;33m,\u001b[0m \u001b[0morder\u001b[0m\u001b[1;33m=\u001b[0m\u001b[0morder\u001b[0m\u001b[1;33m,\u001b[0m \u001b[0mdtype\u001b[0m\u001b[1;33m=\u001b[0m\u001b[0mdtype\u001b[0m\u001b[1;33m)\u001b[0m\u001b[1;33m\u001b[0m\u001b[1;33m\u001b[0m\u001b[0m\n\u001b[0m\u001b[0;32m    752\u001b[0m \u001b[1;33m\u001b[0m\u001b[0m\n\u001b[0;32m    753\u001b[0m         \u001b[1;31m# At this point array is a NumPy ndarray. We convert it to an array\u001b[0m\u001b[1;33m\u001b[0m\u001b[1;33m\u001b[0m\u001b[0m\n\u001b[0;32m    754\u001b[0m         \u001b[1;31m# container that is consistent with the input's namespace.\u001b[0m\u001b[1;33m\u001b[0m\u001b[1;33m\u001b[0m\u001b[0m\n",
      "\u001b[1;32m~\\anaconda3\\Lib\\site-packages\\pandas\\core\\generic.py\u001b[0m in \u001b[0;36m?\u001b[1;34m(self, dtype, copy)\u001b[0m\n\u001b[0;32m   2149\u001b[0m     def __array__(\n\u001b[0;32m   2150\u001b[0m         \u001b[0mself\u001b[0m\u001b[1;33m,\u001b[0m \u001b[0mdtype\u001b[0m\u001b[1;33m:\u001b[0m \u001b[0mnpt\u001b[0m\u001b[1;33m.\u001b[0m\u001b[0mDTypeLike\u001b[0m \u001b[1;33m|\u001b[0m \u001b[1;32mNone\u001b[0m \u001b[1;33m=\u001b[0m \u001b[1;32mNone\u001b[0m\u001b[1;33m,\u001b[0m \u001b[0mcopy\u001b[0m\u001b[1;33m:\u001b[0m \u001b[0mbool_t\u001b[0m \u001b[1;33m|\u001b[0m \u001b[1;32mNone\u001b[0m \u001b[1;33m=\u001b[0m \u001b[1;32mNone\u001b[0m\u001b[1;33m\u001b[0m\u001b[1;33m\u001b[0m\u001b[0m\n\u001b[0;32m   2151\u001b[0m     ) -> np.ndarray:\n\u001b[0;32m   2152\u001b[0m         \u001b[0mvalues\u001b[0m \u001b[1;33m=\u001b[0m \u001b[0mself\u001b[0m\u001b[1;33m.\u001b[0m\u001b[0m_values\u001b[0m\u001b[1;33m\u001b[0m\u001b[1;33m\u001b[0m\u001b[0m\n\u001b[1;32m-> 2153\u001b[1;33m         \u001b[0marr\u001b[0m \u001b[1;33m=\u001b[0m \u001b[0mnp\u001b[0m\u001b[1;33m.\u001b[0m\u001b[0masarray\u001b[0m\u001b[1;33m(\u001b[0m\u001b[0mvalues\u001b[0m\u001b[1;33m,\u001b[0m \u001b[0mdtype\u001b[0m\u001b[1;33m=\u001b[0m\u001b[0mdtype\u001b[0m\u001b[1;33m)\u001b[0m\u001b[1;33m\u001b[0m\u001b[1;33m\u001b[0m\u001b[0m\n\u001b[0m\u001b[0;32m   2154\u001b[0m         if (\n\u001b[0;32m   2155\u001b[0m             \u001b[0mastype_is_view\u001b[0m\u001b[1;33m(\u001b[0m\u001b[0mvalues\u001b[0m\u001b[1;33m.\u001b[0m\u001b[0mdtype\u001b[0m\u001b[1;33m,\u001b[0m \u001b[0marr\u001b[0m\u001b[1;33m.\u001b[0m\u001b[0mdtype\u001b[0m\u001b[1;33m)\u001b[0m\u001b[1;33m\u001b[0m\u001b[1;33m\u001b[0m\u001b[0m\n\u001b[0;32m   2156\u001b[0m             \u001b[1;32mand\u001b[0m \u001b[0musing_copy_on_write\u001b[0m\u001b[1;33m(\u001b[0m\u001b[1;33m)\u001b[0m\u001b[1;33m\u001b[0m\u001b[1;33m\u001b[0m\u001b[0m\n",
      "\u001b[1;31mValueError\u001b[0m: could not convert string to float: 'John_Maine'"
     ]
    }
   ],
   "source": [
    "r_clf.fit(xtrain,ytrain)"
   ]
  },
  {
   "cell_type": "code",
   "execution_count": 22,
   "id": "409fadb2",
   "metadata": {},
   "outputs": [],
   "source": [
    "from sklearn.linear_model import Ridge\n",
    "from sklearn.model_selection import GridSearchCV\n",
    "\n",
    "grid_param = {'alpha':[0.0001,0.001,0.01,0.1,1,10], \n",
    "              'fit_intercept': [True,False], \n",
    "              'copy_X': [True , False], \n",
    "              'tol':[0.0001,0.001,0.01,0.1,1,10]}"
   ]
  },
  {
   "cell_type": "code",
   "execution_count": 23,
   "id": "95d5dc8f",
   "metadata": {},
   "outputs": [],
   "source": [
    "grid_search = GridSearchCV(estimator=r_clf, param_grid=grid_param, cv=2, verbose=3)"
   ]
  },
  {
   "cell_type": "code",
   "execution_count": 24,
   "id": "5b4d53c1",
   "metadata": {},
   "outputs": [
    {
     "name": "stdout",
     "output_type": "stream",
     "text": [
      "Fitting 2 folds for each of 144 candidates, totalling 288 fits\n",
      "[CV 1/2] END alpha=0.0001, copy_X=True, fit_intercept=True, tol=0.0001;, score=nan total time=   0.0s\n",
      "[CV 2/2] END alpha=0.0001, copy_X=True, fit_intercept=True, tol=0.0001;, score=nan total time=   0.0s\n",
      "[CV 1/2] END alpha=0.0001, copy_X=True, fit_intercept=True, tol=0.001;, score=nan total time=   0.0s\n",
      "[CV 2/2] END alpha=0.0001, copy_X=True, fit_intercept=True, tol=0.001;, score=nan total time=   0.0s\n",
      "[CV 1/2] END alpha=0.0001, copy_X=True, fit_intercept=True, tol=0.01;, score=nan total time=   0.0s\n",
      "[CV 2/2] END alpha=0.0001, copy_X=True, fit_intercept=True, tol=0.01;, score=nan total time=   0.0s\n",
      "[CV 1/2] END alpha=0.0001, copy_X=True, fit_intercept=True, tol=0.1;, score=nan total time=   0.0s\n",
      "[CV 2/2] END alpha=0.0001, copy_X=True, fit_intercept=True, tol=0.1;, score=nan total time=   0.0s\n",
      "[CV 1/2] END alpha=0.0001, copy_X=True, fit_intercept=True, tol=1;, score=nan total time=   0.0s\n",
      "[CV 2/2] END alpha=0.0001, copy_X=True, fit_intercept=True, tol=1;, score=nan total time=   0.0s\n",
      "[CV 1/2] END alpha=0.0001, copy_X=True, fit_intercept=True, tol=10;, score=nan total time=   0.0s\n",
      "[CV 2/2] END alpha=0.0001, copy_X=True, fit_intercept=True, tol=10;, score=nan total time=   0.0s\n",
      "[CV 1/2] END alpha=0.0001, copy_X=True, fit_intercept=False, tol=0.0001;, score=nan total time=   0.0s\n",
      "[CV 2/2] END alpha=0.0001, copy_X=True, fit_intercept=False, tol=0.0001;, score=nan total time=   0.0s\n",
      "[CV 1/2] END alpha=0.0001, copy_X=True, fit_intercept=False, tol=0.001;, score=nan total time=   0.0s\n",
      "[CV 2/2] END alpha=0.0001, copy_X=True, fit_intercept=False, tol=0.001;, score=nan total time=   0.0s\n",
      "[CV 1/2] END alpha=0.0001, copy_X=True, fit_intercept=False, tol=0.01;, score=nan total time=   0.0s\n",
      "[CV 2/2] END alpha=0.0001, copy_X=True, fit_intercept=False, tol=0.01;, score=nan total time=   0.0s\n",
      "[CV 1/2] END alpha=0.0001, copy_X=True, fit_intercept=False, tol=0.1;, score=nan total time=   0.0s\n",
      "[CV 2/2] END alpha=0.0001, copy_X=True, fit_intercept=False, tol=0.1;, score=nan total time=   0.0s\n",
      "[CV 1/2] END alpha=0.0001, copy_X=True, fit_intercept=False, tol=1;, score=nan total time=   0.0s\n",
      "[CV 2/2] END alpha=0.0001, copy_X=True, fit_intercept=False, tol=1;, score=nan total time=   0.0s\n",
      "[CV 1/2] END alpha=0.0001, copy_X=True, fit_intercept=False, tol=10;, score=nan total time=   0.0s\n",
      "[CV 2/2] END alpha=0.0001, copy_X=True, fit_intercept=False, tol=10;, score=nan total time=   0.0s\n",
      "[CV 1/2] END alpha=0.0001, copy_X=False, fit_intercept=True, tol=0.0001;, score=nan total time=   0.0s\n",
      "[CV 2/2] END alpha=0.0001, copy_X=False, fit_intercept=True, tol=0.0001;, score=nan total time=   0.0s\n",
      "[CV 1/2] END alpha=0.0001, copy_X=False, fit_intercept=True, tol=0.001;, score=nan total time=   0.0s\n",
      "[CV 2/2] END alpha=0.0001, copy_X=False, fit_intercept=True, tol=0.001;, score=nan total time=   0.0s\n",
      "[CV 1/2] END alpha=0.0001, copy_X=False, fit_intercept=True, tol=0.01;, score=nan total time=   0.0s\n",
      "[CV 2/2] END alpha=0.0001, copy_X=False, fit_intercept=True, tol=0.01;, score=nan total time=   0.0s\n",
      "[CV 1/2] END alpha=0.0001, copy_X=False, fit_intercept=True, tol=0.1;, score=nan total time=   0.0s\n",
      "[CV 2/2] END alpha=0.0001, copy_X=False, fit_intercept=True, tol=0.1;, score=nan total time=   0.0s\n",
      "[CV 1/2] END alpha=0.0001, copy_X=False, fit_intercept=True, tol=1;, score=nan total time=   0.0s\n",
      "[CV 2/2] END alpha=0.0001, copy_X=False, fit_intercept=True, tol=1;, score=nan total time=   0.0s\n",
      "[CV 1/2] END alpha=0.0001, copy_X=False, fit_intercept=True, tol=10;, score=nan total time=   0.0s\n",
      "[CV 2/2] END alpha=0.0001, copy_X=False, fit_intercept=True, tol=10;, score=nan total time=   0.0s\n",
      "[CV 1/2] END alpha=0.0001, copy_X=False, fit_intercept=False, tol=0.0001;, score=nan total time=   0.0s\n",
      "[CV 2/2] END alpha=0.0001, copy_X=False, fit_intercept=False, tol=0.0001;, score=nan total time=   0.0s\n",
      "[CV 1/2] END alpha=0.0001, copy_X=False, fit_intercept=False, tol=0.001;, score=nan total time=   0.0s\n",
      "[CV 2/2] END alpha=0.0001, copy_X=False, fit_intercept=False, tol=0.001;, score=nan total time=   0.0s\n",
      "[CV 1/2] END alpha=0.0001, copy_X=False, fit_intercept=False, tol=0.01;, score=nan total time=   0.0s\n",
      "[CV 2/2] END alpha=0.0001, copy_X=False, fit_intercept=False, tol=0.01;, score=nan total time=   0.0s\n",
      "[CV 1/2] END alpha=0.0001, copy_X=False, fit_intercept=False, tol=0.1;, score=nan total time=   0.0s\n",
      "[CV 2/2] END alpha=0.0001, copy_X=False, fit_intercept=False, tol=0.1;, score=nan total time=   0.0s\n",
      "[CV 1/2] END alpha=0.0001, copy_X=False, fit_intercept=False, tol=1;, score=nan total time=   0.0s\n",
      "[CV 2/2] END alpha=0.0001, copy_X=False, fit_intercept=False, tol=1;, score=nan total time=   0.0s\n",
      "[CV 1/2] END alpha=0.0001, copy_X=False, fit_intercept=False, tol=10;, score=nan total time=   0.0s\n",
      "[CV 2/2] END alpha=0.0001, copy_X=False, fit_intercept=False, tol=10;, score=nan total time=   0.0s\n",
      "[CV 1/2] END alpha=0.001, copy_X=True, fit_intercept=True, tol=0.0001;, score=nan total time=   0.0s\n",
      "[CV 2/2] END alpha=0.001, copy_X=True, fit_intercept=True, tol=0.0001;, score=nan total time=   0.0s\n",
      "[CV 1/2] END alpha=0.001, copy_X=True, fit_intercept=True, tol=0.001;, score=nan total time=   0.0s\n",
      "[CV 2/2] END alpha=0.001, copy_X=True, fit_intercept=True, tol=0.001;, score=nan total time=   0.0s\n",
      "[CV 1/2] END alpha=0.001, copy_X=True, fit_intercept=True, tol=0.01;, score=nan total time=   0.0s\n",
      "[CV 2/2] END alpha=0.001, copy_X=True, fit_intercept=True, tol=0.01;, score=nan total time=   0.0s\n",
      "[CV 1/2] END alpha=0.001, copy_X=True, fit_intercept=True, tol=0.1;, score=nan total time=   0.0s\n",
      "[CV 2/2] END alpha=0.001, copy_X=True, fit_intercept=True, tol=0.1;, score=nan total time=   0.0s\n",
      "[CV 1/2] END alpha=0.001, copy_X=True, fit_intercept=True, tol=1;, score=nan total time=   0.0s\n",
      "[CV 2/2] END alpha=0.001, copy_X=True, fit_intercept=True, tol=1;, score=nan total time=   0.0s\n",
      "[CV 1/2] END alpha=0.001, copy_X=True, fit_intercept=True, tol=10;, score=nan total time=   0.0s\n",
      "[CV 2/2] END alpha=0.001, copy_X=True, fit_intercept=True, tol=10;, score=nan total time=   0.0s\n",
      "[CV 1/2] END alpha=0.001, copy_X=True, fit_intercept=False, tol=0.0001;, score=nan total time=   0.0s\n",
      "[CV 2/2] END alpha=0.001, copy_X=True, fit_intercept=False, tol=0.0001;, score=nan total time=   0.0s\n",
      "[CV 1/2] END alpha=0.001, copy_X=True, fit_intercept=False, tol=0.001;, score=nan total time=   0.0s\n",
      "[CV 2/2] END alpha=0.001, copy_X=True, fit_intercept=False, tol=0.001;, score=nan total time=   0.0s\n",
      "[CV 1/2] END alpha=0.001, copy_X=True, fit_intercept=False, tol=0.01;, score=nan total time=   0.0s\n",
      "[CV 2/2] END alpha=0.001, copy_X=True, fit_intercept=False, tol=0.01;, score=nan total time=   0.0s\n",
      "[CV 1/2] END alpha=0.001, copy_X=True, fit_intercept=False, tol=0.1;, score=nan total time=   0.0s\n",
      "[CV 2/2] END alpha=0.001, copy_X=True, fit_intercept=False, tol=0.1;, score=nan total time=   0.0s\n",
      "[CV 1/2] END alpha=0.001, copy_X=True, fit_intercept=False, tol=1;, score=nan total time=   0.0s\n",
      "[CV 2/2] END alpha=0.001, copy_X=True, fit_intercept=False, tol=1;, score=nan total time=   0.0s\n",
      "[CV 1/2] END alpha=0.001, copy_X=True, fit_intercept=False, tol=10;, score=nan total time=   0.0s\n",
      "[CV 2/2] END alpha=0.001, copy_X=True, fit_intercept=False, tol=10;, score=nan total time=   0.0s\n",
      "[CV 1/2] END alpha=0.001, copy_X=False, fit_intercept=True, tol=0.0001;, score=nan total time=   0.0s\n",
      "[CV 2/2] END alpha=0.001, copy_X=False, fit_intercept=True, tol=0.0001;, score=nan total time=   0.0s\n",
      "[CV 1/2] END alpha=0.001, copy_X=False, fit_intercept=True, tol=0.001;, score=nan total time=   0.0s\n",
      "[CV 2/2] END alpha=0.001, copy_X=False, fit_intercept=True, tol=0.001;, score=nan total time=   0.0s\n",
      "[CV 1/2] END alpha=0.001, copy_X=False, fit_intercept=True, tol=0.01;, score=nan total time=   0.0s\n",
      "[CV 2/2] END alpha=0.001, copy_X=False, fit_intercept=True, tol=0.01;, score=nan total time=   0.0s\n",
      "[CV 1/2] END alpha=0.001, copy_X=False, fit_intercept=True, tol=0.1;, score=nan total time=   0.0s\n",
      "[CV 2/2] END alpha=0.001, copy_X=False, fit_intercept=True, tol=0.1;, score=nan total time=   0.0s\n",
      "[CV 1/2] END alpha=0.001, copy_X=False, fit_intercept=True, tol=1;, score=nan total time=   0.0s\n",
      "[CV 2/2] END alpha=0.001, copy_X=False, fit_intercept=True, tol=1;, score=nan total time=   0.0s\n",
      "[CV 1/2] END alpha=0.001, copy_X=False, fit_intercept=True, tol=10;, score=nan total time=   0.0s\n",
      "[CV 2/2] END alpha=0.001, copy_X=False, fit_intercept=True, tol=10;, score=nan total time=   0.0s\n",
      "[CV 1/2] END alpha=0.001, copy_X=False, fit_intercept=False, tol=0.0001;, score=nan total time=   0.0s\n",
      "[CV 2/2] END alpha=0.001, copy_X=False, fit_intercept=False, tol=0.0001;, score=nan total time=   0.0s\n",
      "[CV 1/2] END alpha=0.001, copy_X=False, fit_intercept=False, tol=0.001;, score=nan total time=   0.0s\n",
      "[CV 2/2] END alpha=0.001, copy_X=False, fit_intercept=False, tol=0.001;, score=nan total time=   0.0s\n",
      "[CV 1/2] END alpha=0.001, copy_X=False, fit_intercept=False, tol=0.01;, score=nan total time=   0.0s\n",
      "[CV 2/2] END alpha=0.001, copy_X=False, fit_intercept=False, tol=0.01;, score=nan total time=   0.0s\n",
      "[CV 1/2] END alpha=0.001, copy_X=False, fit_intercept=False, tol=0.1;, score=nan total time=   0.0s\n",
      "[CV 2/2] END alpha=0.001, copy_X=False, fit_intercept=False, tol=0.1;, score=nan total time=   0.0s\n",
      "[CV 1/2] END alpha=0.001, copy_X=False, fit_intercept=False, tol=1;, score=nan total time=   0.0s\n",
      "[CV 2/2] END alpha=0.001, copy_X=False, fit_intercept=False, tol=1;, score=nan total time=   0.0s\n",
      "[CV 1/2] END alpha=0.001, copy_X=False, fit_intercept=False, tol=10;, score=nan total time=   0.0s\n",
      "[CV 2/2] END alpha=0.001, copy_X=False, fit_intercept=False, tol=10;, score=nan total time=   0.0s\n",
      "[CV 1/2] END alpha=0.01, copy_X=True, fit_intercept=True, tol=0.0001;, score=nan total time=   0.0s\n",
      "[CV 2/2] END alpha=0.01, copy_X=True, fit_intercept=True, tol=0.0001;, score=nan total time=   0.0s\n",
      "[CV 1/2] END alpha=0.01, copy_X=True, fit_intercept=True, tol=0.001;, score=nan total time=   0.0s\n",
      "[CV 2/2] END alpha=0.01, copy_X=True, fit_intercept=True, tol=0.001;, score=nan total time=   0.0s\n",
      "[CV 1/2] END alpha=0.01, copy_X=True, fit_intercept=True, tol=0.01;, score=nan total time=   0.0s\n",
      "[CV 2/2] END alpha=0.01, copy_X=True, fit_intercept=True, tol=0.01;, score=nan total time=   0.0s\n",
      "[CV 1/2] END alpha=0.01, copy_X=True, fit_intercept=True, tol=0.1;, score=nan total time=   0.0s\n",
      "[CV 2/2] END alpha=0.01, copy_X=True, fit_intercept=True, tol=0.1;, score=nan total time=   0.0s\n",
      "[CV 1/2] END alpha=0.01, copy_X=True, fit_intercept=True, tol=1;, score=nan total time=   0.0s\n",
      "[CV 2/2] END alpha=0.01, copy_X=True, fit_intercept=True, tol=1;, score=nan total time=   0.0s\n",
      "[CV 1/2] END alpha=0.01, copy_X=True, fit_intercept=True, tol=10;, score=nan total time=   0.0s\n",
      "[CV 2/2] END alpha=0.01, copy_X=True, fit_intercept=True, tol=10;, score=nan total time=   0.0s\n",
      "[CV 1/2] END alpha=0.01, copy_X=True, fit_intercept=False, tol=0.0001;, score=nan total time=   0.0s\n",
      "[CV 2/2] END alpha=0.01, copy_X=True, fit_intercept=False, tol=0.0001;, score=nan total time=   0.0s\n",
      "[CV 1/2] END alpha=0.01, copy_X=True, fit_intercept=False, tol=0.001;, score=nan total time=   0.0s\n",
      "[CV 2/2] END alpha=0.01, copy_X=True, fit_intercept=False, tol=0.001;, score=nan total time=   0.0s\n",
      "[CV 1/2] END alpha=0.01, copy_X=True, fit_intercept=False, tol=0.01;, score=nan total time=   0.0s\n",
      "[CV 2/2] END alpha=0.01, copy_X=True, fit_intercept=False, tol=0.01;, score=nan total time=   0.0s\n",
      "[CV 1/2] END alpha=0.01, copy_X=True, fit_intercept=False, tol=0.1;, score=nan total time=   0.0s\n",
      "[CV 2/2] END alpha=0.01, copy_X=True, fit_intercept=False, tol=0.1;, score=nan total time=   0.0s\n",
      "[CV 1/2] END alpha=0.01, copy_X=True, fit_intercept=False, tol=1;, score=nan total time=   0.0s\n",
      "[CV 2/2] END alpha=0.01, copy_X=True, fit_intercept=False, tol=1;, score=nan total time=   0.0s\n",
      "[CV 1/2] END alpha=0.01, copy_X=True, fit_intercept=False, tol=10;, score=nan total time=   0.0s\n",
      "[CV 2/2] END alpha=0.01, copy_X=True, fit_intercept=False, tol=10;, score=nan total time=   0.0s\n",
      "[CV 1/2] END alpha=0.01, copy_X=False, fit_intercept=True, tol=0.0001;, score=nan total time=   0.0s\n",
      "[CV 2/2] END alpha=0.01, copy_X=False, fit_intercept=True, tol=0.0001;, score=nan total time=   0.0s\n",
      "[CV 1/2] END alpha=0.01, copy_X=False, fit_intercept=True, tol=0.001;, score=nan total time=   0.0s\n",
      "[CV 2/2] END alpha=0.01, copy_X=False, fit_intercept=True, tol=0.001;, score=nan total time=   0.0s\n",
      "[CV 1/2] END alpha=0.01, copy_X=False, fit_intercept=True, tol=0.01;, score=nan total time=   0.0s\n",
      "[CV 2/2] END alpha=0.01, copy_X=False, fit_intercept=True, tol=0.01;, score=nan total time=   0.0s\n",
      "[CV 1/2] END alpha=0.01, copy_X=False, fit_intercept=True, tol=0.1;, score=nan total time=   0.0s\n",
      "[CV 2/2] END alpha=0.01, copy_X=False, fit_intercept=True, tol=0.1;, score=nan total time=   0.0s\n",
      "[CV 1/2] END alpha=0.01, copy_X=False, fit_intercept=True, tol=1;, score=nan total time=   0.0s\n",
      "[CV 2/2] END alpha=0.01, copy_X=False, fit_intercept=True, tol=1;, score=nan total time=   0.0s\n",
      "[CV 1/2] END alpha=0.01, copy_X=False, fit_intercept=True, tol=10;, score=nan total time=   0.0s\n",
      "[CV 2/2] END alpha=0.01, copy_X=False, fit_intercept=True, tol=10;, score=nan total time=   0.0s\n",
      "[CV 1/2] END alpha=0.01, copy_X=False, fit_intercept=False, tol=0.0001;, score=nan total time=   0.0s\n",
      "[CV 2/2] END alpha=0.01, copy_X=False, fit_intercept=False, tol=0.0001;, score=nan total time=   0.0s\n",
      "[CV 1/2] END alpha=0.01, copy_X=False, fit_intercept=False, tol=0.001;, score=nan total time=   0.0s\n",
      "[CV 2/2] END alpha=0.01, copy_X=False, fit_intercept=False, tol=0.001;, score=nan total time=   0.0s\n",
      "[CV 1/2] END alpha=0.01, copy_X=False, fit_intercept=False, tol=0.01;, score=nan total time=   0.0s\n",
      "[CV 2/2] END alpha=0.01, copy_X=False, fit_intercept=False, tol=0.01;, score=nan total time=   0.0s\n",
      "[CV 1/2] END alpha=0.01, copy_X=False, fit_intercept=False, tol=0.1;, score=nan total time=   0.0s\n",
      "[CV 2/2] END alpha=0.01, copy_X=False, fit_intercept=False, tol=0.1;, score=nan total time=   0.0s\n",
      "[CV 1/2] END alpha=0.01, copy_X=False, fit_intercept=False, tol=1;, score=nan total time=   0.0s\n",
      "[CV 2/2] END alpha=0.01, copy_X=False, fit_intercept=False, tol=1;, score=nan total time=   0.0s\n",
      "[CV 1/2] END alpha=0.01, copy_X=False, fit_intercept=False, tol=10;, score=nan total time=   0.0s\n",
      "[CV 2/2] END alpha=0.01, copy_X=False, fit_intercept=False, tol=10;, score=nan total time=   0.0s\n",
      "[CV 1/2] END alpha=0.1, copy_X=True, fit_intercept=True, tol=0.0001;, score=nan total time=   0.0s\n",
      "[CV 2/2] END alpha=0.1, copy_X=True, fit_intercept=True, tol=0.0001;, score=nan total time=   0.0s\n",
      "[CV 1/2] END alpha=0.1, copy_X=True, fit_intercept=True, tol=0.001;, score=nan total time=   0.0s\n",
      "[CV 2/2] END alpha=0.1, copy_X=True, fit_intercept=True, tol=0.001;, score=nan total time=   0.0s\n",
      "[CV 1/2] END alpha=0.1, copy_X=True, fit_intercept=True, tol=0.01;, score=nan total time=   0.0s\n",
      "[CV 2/2] END alpha=0.1, copy_X=True, fit_intercept=True, tol=0.01;, score=nan total time=   0.0s\n",
      "[CV 1/2] END alpha=0.1, copy_X=True, fit_intercept=True, tol=0.1;, score=nan total time=   0.0s\n",
      "[CV 2/2] END alpha=0.1, copy_X=True, fit_intercept=True, tol=0.1;, score=nan total time=   0.0s\n",
      "[CV 1/2] END alpha=0.1, copy_X=True, fit_intercept=True, tol=1;, score=nan total time=   0.0s\n",
      "[CV 2/2] END alpha=0.1, copy_X=True, fit_intercept=True, tol=1;, score=nan total time=   0.0s\n",
      "[CV 1/2] END alpha=0.1, copy_X=True, fit_intercept=True, tol=10;, score=nan total time=   0.0s\n",
      "[CV 2/2] END alpha=0.1, copy_X=True, fit_intercept=True, tol=10;, score=nan total time=   0.0s\n",
      "[CV 1/2] END alpha=0.1, copy_X=True, fit_intercept=False, tol=0.0001;, score=nan total time=   0.0s\n",
      "[CV 2/2] END alpha=0.1, copy_X=True, fit_intercept=False, tol=0.0001;, score=nan total time=   0.0s\n",
      "[CV 1/2] END alpha=0.1, copy_X=True, fit_intercept=False, tol=0.001;, score=nan total time=   0.0s\n",
      "[CV 2/2] END alpha=0.1, copy_X=True, fit_intercept=False, tol=0.001;, score=nan total time=   0.0s\n",
      "[CV 1/2] END alpha=0.1, copy_X=True, fit_intercept=False, tol=0.01;, score=nan total time=   0.0s\n",
      "[CV 2/2] END alpha=0.1, copy_X=True, fit_intercept=False, tol=0.01;, score=nan total time=   0.0s\n",
      "[CV 1/2] END alpha=0.1, copy_X=True, fit_intercept=False, tol=0.1;, score=nan total time=   0.0s\n",
      "[CV 2/2] END alpha=0.1, copy_X=True, fit_intercept=False, tol=0.1;, score=nan total time=   0.0s\n",
      "[CV 1/2] END alpha=0.1, copy_X=True, fit_intercept=False, tol=1;, score=nan total time=   0.0s\n",
      "[CV 2/2] END alpha=0.1, copy_X=True, fit_intercept=False, tol=1;, score=nan total time=   0.0s\n",
      "[CV 1/2] END alpha=0.1, copy_X=True, fit_intercept=False, tol=10;, score=nan total time=   0.0s\n",
      "[CV 2/2] END alpha=0.1, copy_X=True, fit_intercept=False, tol=10;, score=nan total time=   0.0s\n",
      "[CV 1/2] END alpha=0.1, copy_X=False, fit_intercept=True, tol=0.0001;, score=nan total time=   0.0s\n",
      "[CV 2/2] END alpha=0.1, copy_X=False, fit_intercept=True, tol=0.0001;, score=nan total time=   0.0s\n",
      "[CV 1/2] END alpha=0.1, copy_X=False, fit_intercept=True, tol=0.001;, score=nan total time=   0.0s\n",
      "[CV 2/2] END alpha=0.1, copy_X=False, fit_intercept=True, tol=0.001;, score=nan total time=   0.0s\n",
      "[CV 1/2] END alpha=0.1, copy_X=False, fit_intercept=True, tol=0.01;, score=nan total time=   0.0s\n",
      "[CV 2/2] END alpha=0.1, copy_X=False, fit_intercept=True, tol=0.01;, score=nan total time=   0.0s\n",
      "[CV 1/2] END alpha=0.1, copy_X=False, fit_intercept=True, tol=0.1;, score=nan total time=   0.0s\n",
      "[CV 2/2] END alpha=0.1, copy_X=False, fit_intercept=True, tol=0.1;, score=nan total time=   0.0s\n",
      "[CV 1/2] END alpha=0.1, copy_X=False, fit_intercept=True, tol=1;, score=nan total time=   0.0s\n",
      "[CV 2/2] END alpha=0.1, copy_X=False, fit_intercept=True, tol=1;, score=nan total time=   0.0s\n",
      "[CV 1/2] END alpha=0.1, copy_X=False, fit_intercept=True, tol=10;, score=nan total time=   0.0s\n",
      "[CV 2/2] END alpha=0.1, copy_X=False, fit_intercept=True, tol=10;, score=nan total time=   0.0s\n",
      "[CV 1/2] END alpha=0.1, copy_X=False, fit_intercept=False, tol=0.0001;, score=nan total time=   0.0s\n",
      "[CV 2/2] END alpha=0.1, copy_X=False, fit_intercept=False, tol=0.0001;, score=nan total time=   0.0s\n",
      "[CV 1/2] END alpha=0.1, copy_X=False, fit_intercept=False, tol=0.001;, score=nan total time=   0.0s\n",
      "[CV 2/2] END alpha=0.1, copy_X=False, fit_intercept=False, tol=0.001;, score=nan total time=   0.0s\n",
      "[CV 1/2] END alpha=0.1, copy_X=False, fit_intercept=False, tol=0.01;, score=nan total time=   0.0s\n",
      "[CV 2/2] END alpha=0.1, copy_X=False, fit_intercept=False, tol=0.01;, score=nan total time=   0.0s\n",
      "[CV 1/2] END alpha=0.1, copy_X=False, fit_intercept=False, tol=0.1;, score=nan total time=   0.0s\n",
      "[CV 2/2] END alpha=0.1, copy_X=False, fit_intercept=False, tol=0.1;, score=nan total time=   0.0s\n",
      "[CV 1/2] END alpha=0.1, copy_X=False, fit_intercept=False, tol=1;, score=nan total time=   0.0s\n",
      "[CV 2/2] END alpha=0.1, copy_X=False, fit_intercept=False, tol=1;, score=nan total time=   0.0s\n",
      "[CV 1/2] END alpha=0.1, copy_X=False, fit_intercept=False, tol=10;, score=nan total time=   0.0s\n",
      "[CV 2/2] END alpha=0.1, copy_X=False, fit_intercept=False, tol=10;, score=nan total time=   0.0s\n",
      "[CV 1/2] END alpha=1, copy_X=True, fit_intercept=True, tol=0.0001;, score=nan total time=   0.0s\n",
      "[CV 2/2] END alpha=1, copy_X=True, fit_intercept=True, tol=0.0001;, score=nan total time=   0.0s\n",
      "[CV 1/2] END alpha=1, copy_X=True, fit_intercept=True, tol=0.001;, score=nan total time=   0.0s\n",
      "[CV 2/2] END alpha=1, copy_X=True, fit_intercept=True, tol=0.001;, score=nan total time=   0.0s\n",
      "[CV 1/2] END alpha=1, copy_X=True, fit_intercept=True, tol=0.01;, score=nan total time=   0.0s\n",
      "[CV 2/2] END alpha=1, copy_X=True, fit_intercept=True, tol=0.01;, score=nan total time=   0.0s\n",
      "[CV 1/2] END alpha=1, copy_X=True, fit_intercept=True, tol=0.1;, score=nan total time=   0.0s\n",
      "[CV 2/2] END alpha=1, copy_X=True, fit_intercept=True, tol=0.1;, score=nan total time=   0.0s\n",
      "[CV 1/2] END alpha=1, copy_X=True, fit_intercept=True, tol=1;, score=nan total time=   0.0s\n",
      "[CV 2/2] END alpha=1, copy_X=True, fit_intercept=True, tol=1;, score=nan total time=   0.0s\n",
      "[CV 1/2] END alpha=1, copy_X=True, fit_intercept=True, tol=10;, score=nan total time=   0.0s\n",
      "[CV 2/2] END alpha=1, copy_X=True, fit_intercept=True, tol=10;, score=nan total time=   0.0s\n",
      "[CV 1/2] END alpha=1, copy_X=True, fit_intercept=False, tol=0.0001;, score=nan total time=   0.0s\n",
      "[CV 2/2] END alpha=1, copy_X=True, fit_intercept=False, tol=0.0001;, score=nan total time=   0.0s\n",
      "[CV 1/2] END alpha=1, copy_X=True, fit_intercept=False, tol=0.001;, score=nan total time=   0.0s\n",
      "[CV 2/2] END alpha=1, copy_X=True, fit_intercept=False, tol=0.001;, score=nan total time=   0.0s\n",
      "[CV 1/2] END alpha=1, copy_X=True, fit_intercept=False, tol=0.01;, score=nan total time=   0.0s\n",
      "[CV 2/2] END alpha=1, copy_X=True, fit_intercept=False, tol=0.01;, score=nan total time=   0.0s\n",
      "[CV 1/2] END alpha=1, copy_X=True, fit_intercept=False, tol=0.1;, score=nan total time=   0.0s\n",
      "[CV 2/2] END alpha=1, copy_X=True, fit_intercept=False, tol=0.1;, score=nan total time=   0.0s\n",
      "[CV 1/2] END alpha=1, copy_X=True, fit_intercept=False, tol=1;, score=nan total time=   0.0s\n",
      "[CV 2/2] END alpha=1, copy_X=True, fit_intercept=False, tol=1;, score=nan total time=   0.0s\n",
      "[CV 1/2] END alpha=1, copy_X=True, fit_intercept=False, tol=10;, score=nan total time=   0.0s\n",
      "[CV 2/2] END alpha=1, copy_X=True, fit_intercept=False, tol=10;, score=nan total time=   0.0s\n",
      "[CV 1/2] END alpha=1, copy_X=False, fit_intercept=True, tol=0.0001;, score=nan total time=   0.0s\n",
      "[CV 2/2] END alpha=1, copy_X=False, fit_intercept=True, tol=0.0001;, score=nan total time=   0.0s\n",
      "[CV 1/2] END alpha=1, copy_X=False, fit_intercept=True, tol=0.001;, score=nan total time=   0.0s\n",
      "[CV 2/2] END alpha=1, copy_X=False, fit_intercept=True, tol=0.001;, score=nan total time=   0.0s\n",
      "[CV 1/2] END alpha=1, copy_X=False, fit_intercept=True, tol=0.01;, score=nan total time=   0.0s\n",
      "[CV 2/2] END alpha=1, copy_X=False, fit_intercept=True, tol=0.01;, score=nan total time=   0.0s\n",
      "[CV 1/2] END alpha=1, copy_X=False, fit_intercept=True, tol=0.1;, score=nan total time=   0.0s\n",
      "[CV 2/2] END alpha=1, copy_X=False, fit_intercept=True, tol=0.1;, score=nan total time=   0.0s\n",
      "[CV 1/2] END alpha=1, copy_X=False, fit_intercept=True, tol=1;, score=nan total time=   0.0s\n",
      "[CV 2/2] END alpha=1, copy_X=False, fit_intercept=True, tol=1;, score=nan total time=   0.0s\n",
      "[CV 1/2] END alpha=1, copy_X=False, fit_intercept=True, tol=10;, score=nan total time=   0.0s\n",
      "[CV 2/2] END alpha=1, copy_X=False, fit_intercept=True, tol=10;, score=nan total time=   0.0s\n",
      "[CV 1/2] END alpha=1, copy_X=False, fit_intercept=False, tol=0.0001;, score=nan total time=   0.0s\n",
      "[CV 2/2] END alpha=1, copy_X=False, fit_intercept=False, tol=0.0001;, score=nan total time=   0.0s\n",
      "[CV 1/2] END alpha=1, copy_X=False, fit_intercept=False, tol=0.001;, score=nan total time=   0.0s\n",
      "[CV 2/2] END alpha=1, copy_X=False, fit_intercept=False, tol=0.001;, score=nan total time=   0.0s\n",
      "[CV 1/2] END alpha=1, copy_X=False, fit_intercept=False, tol=0.01;, score=nan total time=   0.0s\n",
      "[CV 2/2] END alpha=1, copy_X=False, fit_intercept=False, tol=0.01;, score=nan total time=   0.0s\n",
      "[CV 1/2] END alpha=1, copy_X=False, fit_intercept=False, tol=0.1;, score=nan total time=   0.0s\n",
      "[CV 2/2] END alpha=1, copy_X=False, fit_intercept=False, tol=0.1;, score=nan total time=   0.0s\n",
      "[CV 1/2] END alpha=1, copy_X=False, fit_intercept=False, tol=1;, score=nan total time=   0.0s\n",
      "[CV 2/2] END alpha=1, copy_X=False, fit_intercept=False, tol=1;, score=nan total time=   0.0s\n",
      "[CV 1/2] END alpha=1, copy_X=False, fit_intercept=False, tol=10;, score=nan total time=   0.0s\n",
      "[CV 2/2] END alpha=1, copy_X=False, fit_intercept=False, tol=10;, score=nan total time=   0.0s\n",
      "[CV 1/2] END alpha=10, copy_X=True, fit_intercept=True, tol=0.0001;, score=nan total time=   0.0s\n",
      "[CV 2/2] END alpha=10, copy_X=True, fit_intercept=True, tol=0.0001;, score=nan total time=   0.0s\n",
      "[CV 1/2] END alpha=10, copy_X=True, fit_intercept=True, tol=0.001;, score=nan total time=   0.0s\n",
      "[CV 2/2] END alpha=10, copy_X=True, fit_intercept=True, tol=0.001;, score=nan total time=   0.0s\n",
      "[CV 1/2] END alpha=10, copy_X=True, fit_intercept=True, tol=0.01;, score=nan total time=   0.0s\n",
      "[CV 2/2] END alpha=10, copy_X=True, fit_intercept=True, tol=0.01;, score=nan total time=   0.0s\n",
      "[CV 1/2] END alpha=10, copy_X=True, fit_intercept=True, tol=0.1;, score=nan total time=   0.0s\n",
      "[CV 2/2] END alpha=10, copy_X=True, fit_intercept=True, tol=0.1;, score=nan total time=   0.0s\n",
      "[CV 1/2] END alpha=10, copy_X=True, fit_intercept=True, tol=1;, score=nan total time=   0.0s\n",
      "[CV 2/2] END alpha=10, copy_X=True, fit_intercept=True, tol=1;, score=nan total time=   0.0s\n",
      "[CV 1/2] END alpha=10, copy_X=True, fit_intercept=True, tol=10;, score=nan total time=   0.0s\n",
      "[CV 2/2] END alpha=10, copy_X=True, fit_intercept=True, tol=10;, score=nan total time=   0.0s\n",
      "[CV 1/2] END alpha=10, copy_X=True, fit_intercept=False, tol=0.0001;, score=nan total time=   0.0s\n",
      "[CV 2/2] END alpha=10, copy_X=True, fit_intercept=False, tol=0.0001;, score=nan total time=   0.0s\n",
      "[CV 1/2] END alpha=10, copy_X=True, fit_intercept=False, tol=0.001;, score=nan total time=   0.0s\n",
      "[CV 2/2] END alpha=10, copy_X=True, fit_intercept=False, tol=0.001;, score=nan total time=   0.0s\n",
      "[CV 1/2] END alpha=10, copy_X=True, fit_intercept=False, tol=0.01;, score=nan total time=   0.0s\n",
      "[CV 2/2] END alpha=10, copy_X=True, fit_intercept=False, tol=0.01;, score=nan total time=   0.0s\n",
      "[CV 1/2] END alpha=10, copy_X=True, fit_intercept=False, tol=0.1;, score=nan total time=   0.0s\n",
      "[CV 2/2] END alpha=10, copy_X=True, fit_intercept=False, tol=0.1;, score=nan total time=   0.0s\n",
      "[CV 1/2] END alpha=10, copy_X=True, fit_intercept=False, tol=1;, score=nan total time=   0.0s\n",
      "[CV 2/2] END alpha=10, copy_X=True, fit_intercept=False, tol=1;, score=nan total time=   0.0s\n",
      "[CV 1/2] END alpha=10, copy_X=True, fit_intercept=False, tol=10;, score=nan total time=   0.0s\n",
      "[CV 2/2] END alpha=10, copy_X=True, fit_intercept=False, tol=10;, score=nan total time=   0.0s\n",
      "[CV 1/2] END alpha=10, copy_X=False, fit_intercept=True, tol=0.0001;, score=nan total time=   0.0s\n",
      "[CV 2/2] END alpha=10, copy_X=False, fit_intercept=True, tol=0.0001;, score=nan total time=   0.0s\n",
      "[CV 1/2] END alpha=10, copy_X=False, fit_intercept=True, tol=0.001;, score=nan total time=   0.0s\n",
      "[CV 2/2] END alpha=10, copy_X=False, fit_intercept=True, tol=0.001;, score=nan total time=   0.0s\n",
      "[CV 1/2] END alpha=10, copy_X=False, fit_intercept=True, tol=0.01;, score=nan total time=   0.0s\n",
      "[CV 2/2] END alpha=10, copy_X=False, fit_intercept=True, tol=0.01;, score=nan total time=   0.0s\n",
      "[CV 1/2] END alpha=10, copy_X=False, fit_intercept=True, tol=0.1;, score=nan total time=   0.0s\n",
      "[CV 2/2] END alpha=10, copy_X=False, fit_intercept=True, tol=0.1;, score=nan total time=   0.0s\n",
      "[CV 1/2] END alpha=10, copy_X=False, fit_intercept=True, tol=1;, score=nan total time=   0.0s\n",
      "[CV 2/2] END alpha=10, copy_X=False, fit_intercept=True, tol=1;, score=nan total time=   0.0s\n",
      "[CV 1/2] END alpha=10, copy_X=False, fit_intercept=True, tol=10;, score=nan total time=   0.0s\n",
      "[CV 2/2] END alpha=10, copy_X=False, fit_intercept=True, tol=10;, score=nan total time=   0.0s\n",
      "[CV 1/2] END alpha=10, copy_X=False, fit_intercept=False, tol=0.0001;, score=nan total time=   0.0s\n",
      "[CV 2/2] END alpha=10, copy_X=False, fit_intercept=False, tol=0.0001;, score=nan total time=   0.0s\n",
      "[CV 1/2] END alpha=10, copy_X=False, fit_intercept=False, tol=0.001;, score=nan total time=   0.0s\n",
      "[CV 2/2] END alpha=10, copy_X=False, fit_intercept=False, tol=0.001;, score=nan total time=   0.0s\n",
      "[CV 1/2] END alpha=10, copy_X=False, fit_intercept=False, tol=0.01;, score=nan total time=   0.0s\n",
      "[CV 2/2] END alpha=10, copy_X=False, fit_intercept=False, tol=0.01;, score=nan total time=   0.0s\n",
      "[CV 1/2] END alpha=10, copy_X=False, fit_intercept=False, tol=0.1;, score=nan total time=   0.0s\n",
      "[CV 2/2] END alpha=10, copy_X=False, fit_intercept=False, tol=0.1;, score=nan total time=   0.0s\n",
      "[CV 1/2] END alpha=10, copy_X=False, fit_intercept=False, tol=1;, score=nan total time=   0.0s\n",
      "[CV 2/2] END alpha=10, copy_X=False, fit_intercept=False, tol=1;, score=nan total time=   0.0s\n",
      "[CV 1/2] END alpha=10, copy_X=False, fit_intercept=False, tol=10;, score=nan total time=   0.0s\n",
      "[CV 2/2] END alpha=10, copy_X=False, fit_intercept=False, tol=10;, score=nan total time=   0.0s\n"
     ]
    },
    {
     "ename": "ValueError",
     "evalue": "\nAll the 288 fits failed.\nIt is very likely that your model is misconfigured.\nYou can try to debug the error by setting error_score='raise'.\n\nBelow are more details about the failures:\n--------------------------------------------------------------------------------\n144 fits failed with the following error:\nTraceback (most recent call last):\n  File \"C:\\Users\\Sumit Kaushik\\anaconda3\\Lib\\site-packages\\sklearn\\model_selection\\_validation.py\", line 888, in _fit_and_score\n    estimator.fit(X_train, y_train, **fit_params)\n  File \"C:\\Users\\Sumit Kaushik\\anaconda3\\Lib\\site-packages\\sklearn\\base.py\", line 1473, in wrapper\n    return fit_method(estimator, *args, **kwargs)\n           ^^^^^^^^^^^^^^^^^^^^^^^^^^^^^^^^^^^^^^\n  File \"C:\\Users\\Sumit Kaushik\\anaconda3\\Lib\\site-packages\\sklearn\\linear_model\\_ridge.py\", line 1242, in fit\n    X, y = self._validate_data(\n           ^^^^^^^^^^^^^^^^^^^^\n  File \"C:\\Users\\Sumit Kaushik\\anaconda3\\Lib\\site-packages\\sklearn\\base.py\", line 650, in _validate_data\n    X, y = check_X_y(X, y, **check_params)\n           ^^^^^^^^^^^^^^^^^^^^^^^^^^^^^^^\n  File \"C:\\Users\\Sumit Kaushik\\anaconda3\\Lib\\site-packages\\sklearn\\utils\\validation.py\", line 1301, in check_X_y\n    X = check_array(\n        ^^^^^^^^^^^^\n  File \"C:\\Users\\Sumit Kaushik\\anaconda3\\Lib\\site-packages\\sklearn\\utils\\validation.py\", line 1012, in check_array\n    array = _asarray_with_order(array, order=order, dtype=dtype, xp=xp)\n            ^^^^^^^^^^^^^^^^^^^^^^^^^^^^^^^^^^^^^^^^^^^^^^^^^^^^^^^^^^^\n  File \"C:\\Users\\Sumit Kaushik\\anaconda3\\Lib\\site-packages\\sklearn\\utils\\_array_api.py\", line 751, in _asarray_with_order\n    array = numpy.asarray(array, order=order, dtype=dtype)\n            ^^^^^^^^^^^^^^^^^^^^^^^^^^^^^^^^^^^^^^^^^^^^^^\n  File \"C:\\Users\\Sumit Kaushik\\anaconda3\\Lib\\site-packages\\pandas\\core\\generic.py\", line 2153, in __array__\n    arr = np.asarray(values, dtype=dtype)\n          ^^^^^^^^^^^^^^^^^^^^^^^^^^^^^^^\nValueError: could not convert string to float: 'Shawn_Chacon'\n\n--------------------------------------------------------------------------------\n144 fits failed with the following error:\nTraceback (most recent call last):\n  File \"C:\\Users\\Sumit Kaushik\\anaconda3\\Lib\\site-packages\\sklearn\\model_selection\\_validation.py\", line 888, in _fit_and_score\n    estimator.fit(X_train, y_train, **fit_params)\n  File \"C:\\Users\\Sumit Kaushik\\anaconda3\\Lib\\site-packages\\sklearn\\base.py\", line 1473, in wrapper\n    return fit_method(estimator, *args, **kwargs)\n           ^^^^^^^^^^^^^^^^^^^^^^^^^^^^^^^^^^^^^^\n  File \"C:\\Users\\Sumit Kaushik\\anaconda3\\Lib\\site-packages\\sklearn\\linear_model\\_ridge.py\", line 1242, in fit\n    X, y = self._validate_data(\n           ^^^^^^^^^^^^^^^^^^^^\n  File \"C:\\Users\\Sumit Kaushik\\anaconda3\\Lib\\site-packages\\sklearn\\base.py\", line 650, in _validate_data\n    X, y = check_X_y(X, y, **check_params)\n           ^^^^^^^^^^^^^^^^^^^^^^^^^^^^^^^\n  File \"C:\\Users\\Sumit Kaushik\\anaconda3\\Lib\\site-packages\\sklearn\\utils\\validation.py\", line 1301, in check_X_y\n    X = check_array(\n        ^^^^^^^^^^^^\n  File \"C:\\Users\\Sumit Kaushik\\anaconda3\\Lib\\site-packages\\sklearn\\utils\\validation.py\", line 1012, in check_array\n    array = _asarray_with_order(array, order=order, dtype=dtype, xp=xp)\n            ^^^^^^^^^^^^^^^^^^^^^^^^^^^^^^^^^^^^^^^^^^^^^^^^^^^^^^^^^^^\n  File \"C:\\Users\\Sumit Kaushik\\anaconda3\\Lib\\site-packages\\sklearn\\utils\\_array_api.py\", line 751, in _asarray_with_order\n    array = numpy.asarray(array, order=order, dtype=dtype)\n            ^^^^^^^^^^^^^^^^^^^^^^^^^^^^^^^^^^^^^^^^^^^^^^\n  File \"C:\\Users\\Sumit Kaushik\\anaconda3\\Lib\\site-packages\\pandas\\core\\generic.py\", line 2153, in __array__\n    arr = np.asarray(values, dtype=dtype)\n          ^^^^^^^^^^^^^^^^^^^^^^^^^^^^^^^\nValueError: could not convert string to float: 'John_Maine'\n",
     "output_type": "error",
     "traceback": [
      "\u001b[1;31m---------------------------------------------------------------------------\u001b[0m",
      "\u001b[1;31mValueError\u001b[0m                                Traceback (most recent call last)",
      "Cell \u001b[1;32mIn[24], line 1\u001b[0m\n\u001b[1;32m----> 1\u001b[0m grid_search\u001b[38;5;241m.\u001b[39mfit(xtrain,ytrain)\n",
      "File \u001b[1;32m~\\anaconda3\\Lib\\site-packages\\sklearn\\base.py:1473\u001b[0m, in \u001b[0;36m_fit_context.<locals>.decorator.<locals>.wrapper\u001b[1;34m(estimator, *args, **kwargs)\u001b[0m\n\u001b[0;32m   1466\u001b[0m     estimator\u001b[38;5;241m.\u001b[39m_validate_params()\n\u001b[0;32m   1468\u001b[0m \u001b[38;5;28;01mwith\u001b[39;00m config_context(\n\u001b[0;32m   1469\u001b[0m     skip_parameter_validation\u001b[38;5;241m=\u001b[39m(\n\u001b[0;32m   1470\u001b[0m         prefer_skip_nested_validation \u001b[38;5;129;01mor\u001b[39;00m global_skip_validation\n\u001b[0;32m   1471\u001b[0m     )\n\u001b[0;32m   1472\u001b[0m ):\n\u001b[1;32m-> 1473\u001b[0m     \u001b[38;5;28;01mreturn\u001b[39;00m fit_method(estimator, \u001b[38;5;241m*\u001b[39margs, \u001b[38;5;241m*\u001b[39m\u001b[38;5;241m*\u001b[39mkwargs)\n",
      "File \u001b[1;32m~\\anaconda3\\Lib\\site-packages\\sklearn\\model_selection\\_search.py:1018\u001b[0m, in \u001b[0;36mBaseSearchCV.fit\u001b[1;34m(self, X, y, **params)\u001b[0m\n\u001b[0;32m   1012\u001b[0m     results \u001b[38;5;241m=\u001b[39m \u001b[38;5;28mself\u001b[39m\u001b[38;5;241m.\u001b[39m_format_results(\n\u001b[0;32m   1013\u001b[0m         all_candidate_params, n_splits, all_out, all_more_results\n\u001b[0;32m   1014\u001b[0m     )\n\u001b[0;32m   1016\u001b[0m     \u001b[38;5;28;01mreturn\u001b[39;00m results\n\u001b[1;32m-> 1018\u001b[0m \u001b[38;5;28mself\u001b[39m\u001b[38;5;241m.\u001b[39m_run_search(evaluate_candidates)\n\u001b[0;32m   1020\u001b[0m \u001b[38;5;66;03m# multimetric is determined here because in the case of a callable\u001b[39;00m\n\u001b[0;32m   1021\u001b[0m \u001b[38;5;66;03m# self.scoring the return type is only known after calling\u001b[39;00m\n\u001b[0;32m   1022\u001b[0m first_test_score \u001b[38;5;241m=\u001b[39m all_out[\u001b[38;5;241m0\u001b[39m][\u001b[38;5;124m\"\u001b[39m\u001b[38;5;124mtest_scores\u001b[39m\u001b[38;5;124m\"\u001b[39m]\n",
      "File \u001b[1;32m~\\anaconda3\\Lib\\site-packages\\sklearn\\model_selection\\_search.py:1572\u001b[0m, in \u001b[0;36mGridSearchCV._run_search\u001b[1;34m(self, evaluate_candidates)\u001b[0m\n\u001b[0;32m   1570\u001b[0m \u001b[38;5;28;01mdef\u001b[39;00m \u001b[38;5;21m_run_search\u001b[39m(\u001b[38;5;28mself\u001b[39m, evaluate_candidates):\n\u001b[0;32m   1571\u001b[0m \u001b[38;5;250m    \u001b[39m\u001b[38;5;124;03m\"\"\"Search all candidates in param_grid\"\"\"\u001b[39;00m\n\u001b[1;32m-> 1572\u001b[0m     evaluate_candidates(ParameterGrid(\u001b[38;5;28mself\u001b[39m\u001b[38;5;241m.\u001b[39mparam_grid))\n",
      "File \u001b[1;32m~\\anaconda3\\Lib\\site-packages\\sklearn\\model_selection\\_search.py:995\u001b[0m, in \u001b[0;36mBaseSearchCV.fit.<locals>.evaluate_candidates\u001b[1;34m(candidate_params, cv, more_results)\u001b[0m\n\u001b[0;32m    988\u001b[0m \u001b[38;5;28;01melif\u001b[39;00m \u001b[38;5;28mlen\u001b[39m(out) \u001b[38;5;241m!=\u001b[39m n_candidates \u001b[38;5;241m*\u001b[39m n_splits:\n\u001b[0;32m    989\u001b[0m     \u001b[38;5;28;01mraise\u001b[39;00m \u001b[38;5;167;01mValueError\u001b[39;00m(\n\u001b[0;32m    990\u001b[0m         \u001b[38;5;124m\"\u001b[39m\u001b[38;5;124mcv.split and cv.get_n_splits returned \u001b[39m\u001b[38;5;124m\"\u001b[39m\n\u001b[0;32m    991\u001b[0m         \u001b[38;5;124m\"\u001b[39m\u001b[38;5;124minconsistent results. Expected \u001b[39m\u001b[38;5;132;01m{}\u001b[39;00m\u001b[38;5;124m \u001b[39m\u001b[38;5;124m\"\u001b[39m\n\u001b[0;32m    992\u001b[0m         \u001b[38;5;124m\"\u001b[39m\u001b[38;5;124msplits, got \u001b[39m\u001b[38;5;132;01m{}\u001b[39;00m\u001b[38;5;124m\"\u001b[39m\u001b[38;5;241m.\u001b[39mformat(n_splits, \u001b[38;5;28mlen\u001b[39m(out) \u001b[38;5;241m/\u001b[39m\u001b[38;5;241m/\u001b[39m n_candidates)\n\u001b[0;32m    993\u001b[0m     )\n\u001b[1;32m--> 995\u001b[0m _warn_or_raise_about_fit_failures(out, \u001b[38;5;28mself\u001b[39m\u001b[38;5;241m.\u001b[39merror_score)\n\u001b[0;32m    997\u001b[0m \u001b[38;5;66;03m# For callable self.scoring, the return type is only know after\u001b[39;00m\n\u001b[0;32m    998\u001b[0m \u001b[38;5;66;03m# calling. If the return type is a dictionary, the error scores\u001b[39;00m\n\u001b[0;32m    999\u001b[0m \u001b[38;5;66;03m# can now be inserted with the correct key. The type checking\u001b[39;00m\n\u001b[0;32m   1000\u001b[0m \u001b[38;5;66;03m# of out will be done in `_insert_error_scores`.\u001b[39;00m\n\u001b[0;32m   1001\u001b[0m \u001b[38;5;28;01mif\u001b[39;00m \u001b[38;5;28mcallable\u001b[39m(\u001b[38;5;28mself\u001b[39m\u001b[38;5;241m.\u001b[39mscoring):\n",
      "File \u001b[1;32m~\\anaconda3\\Lib\\site-packages\\sklearn\\model_selection\\_validation.py:529\u001b[0m, in \u001b[0;36m_warn_or_raise_about_fit_failures\u001b[1;34m(results, error_score)\u001b[0m\n\u001b[0;32m    522\u001b[0m \u001b[38;5;28;01mif\u001b[39;00m num_failed_fits \u001b[38;5;241m==\u001b[39m num_fits:\n\u001b[0;32m    523\u001b[0m     all_fits_failed_message \u001b[38;5;241m=\u001b[39m (\n\u001b[0;32m    524\u001b[0m         \u001b[38;5;124mf\u001b[39m\u001b[38;5;124m\"\u001b[39m\u001b[38;5;130;01m\\n\u001b[39;00m\u001b[38;5;124mAll the \u001b[39m\u001b[38;5;132;01m{\u001b[39;00mnum_fits\u001b[38;5;132;01m}\u001b[39;00m\u001b[38;5;124m fits failed.\u001b[39m\u001b[38;5;130;01m\\n\u001b[39;00m\u001b[38;5;124m\"\u001b[39m\n\u001b[0;32m    525\u001b[0m         \u001b[38;5;124m\"\u001b[39m\u001b[38;5;124mIt is very likely that your model is misconfigured.\u001b[39m\u001b[38;5;130;01m\\n\u001b[39;00m\u001b[38;5;124m\"\u001b[39m\n\u001b[0;32m    526\u001b[0m         \u001b[38;5;124m\"\u001b[39m\u001b[38;5;124mYou can try to debug the error by setting error_score=\u001b[39m\u001b[38;5;124m'\u001b[39m\u001b[38;5;124mraise\u001b[39m\u001b[38;5;124m'\u001b[39m\u001b[38;5;124m.\u001b[39m\u001b[38;5;130;01m\\n\u001b[39;00m\u001b[38;5;130;01m\\n\u001b[39;00m\u001b[38;5;124m\"\u001b[39m\n\u001b[0;32m    527\u001b[0m         \u001b[38;5;124mf\u001b[39m\u001b[38;5;124m\"\u001b[39m\u001b[38;5;124mBelow are more details about the failures:\u001b[39m\u001b[38;5;130;01m\\n\u001b[39;00m\u001b[38;5;132;01m{\u001b[39;00mfit_errors_summary\u001b[38;5;132;01m}\u001b[39;00m\u001b[38;5;124m\"\u001b[39m\n\u001b[0;32m    528\u001b[0m     )\n\u001b[1;32m--> 529\u001b[0m     \u001b[38;5;28;01mraise\u001b[39;00m \u001b[38;5;167;01mValueError\u001b[39;00m(all_fits_failed_message)\n\u001b[0;32m    531\u001b[0m \u001b[38;5;28;01melse\u001b[39;00m:\n\u001b[0;32m    532\u001b[0m     some_fits_failed_message \u001b[38;5;241m=\u001b[39m (\n\u001b[0;32m    533\u001b[0m         \u001b[38;5;124mf\u001b[39m\u001b[38;5;124m\"\u001b[39m\u001b[38;5;130;01m\\n\u001b[39;00m\u001b[38;5;132;01m{\u001b[39;00mnum_failed_fits\u001b[38;5;132;01m}\u001b[39;00m\u001b[38;5;124m fits failed out of a total of \u001b[39m\u001b[38;5;132;01m{\u001b[39;00mnum_fits\u001b[38;5;132;01m}\u001b[39;00m\u001b[38;5;124m.\u001b[39m\u001b[38;5;130;01m\\n\u001b[39;00m\u001b[38;5;124m\"\u001b[39m\n\u001b[0;32m    534\u001b[0m         \u001b[38;5;124m\"\u001b[39m\u001b[38;5;124mThe score on these train-test partitions for these parameters\u001b[39m\u001b[38;5;124m\"\u001b[39m\n\u001b[1;32m   (...)\u001b[0m\n\u001b[0;32m    538\u001b[0m         \u001b[38;5;124mf\u001b[39m\u001b[38;5;124m\"\u001b[39m\u001b[38;5;124mBelow are more details about the failures:\u001b[39m\u001b[38;5;130;01m\\n\u001b[39;00m\u001b[38;5;132;01m{\u001b[39;00mfit_errors_summary\u001b[38;5;132;01m}\u001b[39;00m\u001b[38;5;124m\"\u001b[39m\n\u001b[0;32m    539\u001b[0m     )\n",
      "\u001b[1;31mValueError\u001b[0m: \nAll the 288 fits failed.\nIt is very likely that your model is misconfigured.\nYou can try to debug the error by setting error_score='raise'.\n\nBelow are more details about the failures:\n--------------------------------------------------------------------------------\n144 fits failed with the following error:\nTraceback (most recent call last):\n  File \"C:\\Users\\Sumit Kaushik\\anaconda3\\Lib\\site-packages\\sklearn\\model_selection\\_validation.py\", line 888, in _fit_and_score\n    estimator.fit(X_train, y_train, **fit_params)\n  File \"C:\\Users\\Sumit Kaushik\\anaconda3\\Lib\\site-packages\\sklearn\\base.py\", line 1473, in wrapper\n    return fit_method(estimator, *args, **kwargs)\n           ^^^^^^^^^^^^^^^^^^^^^^^^^^^^^^^^^^^^^^\n  File \"C:\\Users\\Sumit Kaushik\\anaconda3\\Lib\\site-packages\\sklearn\\linear_model\\_ridge.py\", line 1242, in fit\n    X, y = self._validate_data(\n           ^^^^^^^^^^^^^^^^^^^^\n  File \"C:\\Users\\Sumit Kaushik\\anaconda3\\Lib\\site-packages\\sklearn\\base.py\", line 650, in _validate_data\n    X, y = check_X_y(X, y, **check_params)\n           ^^^^^^^^^^^^^^^^^^^^^^^^^^^^^^^\n  File \"C:\\Users\\Sumit Kaushik\\anaconda3\\Lib\\site-packages\\sklearn\\utils\\validation.py\", line 1301, in check_X_y\n    X = check_array(\n        ^^^^^^^^^^^^\n  File \"C:\\Users\\Sumit Kaushik\\anaconda3\\Lib\\site-packages\\sklearn\\utils\\validation.py\", line 1012, in check_array\n    array = _asarray_with_order(array, order=order, dtype=dtype, xp=xp)\n            ^^^^^^^^^^^^^^^^^^^^^^^^^^^^^^^^^^^^^^^^^^^^^^^^^^^^^^^^^^^\n  File \"C:\\Users\\Sumit Kaushik\\anaconda3\\Lib\\site-packages\\sklearn\\utils\\_array_api.py\", line 751, in _asarray_with_order\n    array = numpy.asarray(array, order=order, dtype=dtype)\n            ^^^^^^^^^^^^^^^^^^^^^^^^^^^^^^^^^^^^^^^^^^^^^^\n  File \"C:\\Users\\Sumit Kaushik\\anaconda3\\Lib\\site-packages\\pandas\\core\\generic.py\", line 2153, in __array__\n    arr = np.asarray(values, dtype=dtype)\n          ^^^^^^^^^^^^^^^^^^^^^^^^^^^^^^^\nValueError: could not convert string to float: 'Shawn_Chacon'\n\n--------------------------------------------------------------------------------\n144 fits failed with the following error:\nTraceback (most recent call last):\n  File \"C:\\Users\\Sumit Kaushik\\anaconda3\\Lib\\site-packages\\sklearn\\model_selection\\_validation.py\", line 888, in _fit_and_score\n    estimator.fit(X_train, y_train, **fit_params)\n  File \"C:\\Users\\Sumit Kaushik\\anaconda3\\Lib\\site-packages\\sklearn\\base.py\", line 1473, in wrapper\n    return fit_method(estimator, *args, **kwargs)\n           ^^^^^^^^^^^^^^^^^^^^^^^^^^^^^^^^^^^^^^\n  File \"C:\\Users\\Sumit Kaushik\\anaconda3\\Lib\\site-packages\\sklearn\\linear_model\\_ridge.py\", line 1242, in fit\n    X, y = self._validate_data(\n           ^^^^^^^^^^^^^^^^^^^^\n  File \"C:\\Users\\Sumit Kaushik\\anaconda3\\Lib\\site-packages\\sklearn\\base.py\", line 650, in _validate_data\n    X, y = check_X_y(X, y, **check_params)\n           ^^^^^^^^^^^^^^^^^^^^^^^^^^^^^^^\n  File \"C:\\Users\\Sumit Kaushik\\anaconda3\\Lib\\site-packages\\sklearn\\utils\\validation.py\", line 1301, in check_X_y\n    X = check_array(\n        ^^^^^^^^^^^^\n  File \"C:\\Users\\Sumit Kaushik\\anaconda3\\Lib\\site-packages\\sklearn\\utils\\validation.py\", line 1012, in check_array\n    array = _asarray_with_order(array, order=order, dtype=dtype, xp=xp)\n            ^^^^^^^^^^^^^^^^^^^^^^^^^^^^^^^^^^^^^^^^^^^^^^^^^^^^^^^^^^^\n  File \"C:\\Users\\Sumit Kaushik\\anaconda3\\Lib\\site-packages\\sklearn\\utils\\_array_api.py\", line 751, in _asarray_with_order\n    array = numpy.asarray(array, order=order, dtype=dtype)\n            ^^^^^^^^^^^^^^^^^^^^^^^^^^^^^^^^^^^^^^^^^^^^^^\n  File \"C:\\Users\\Sumit Kaushik\\anaconda3\\Lib\\site-packages\\pandas\\core\\generic.py\", line 2153, in __array__\n    arr = np.asarray(values, dtype=dtype)\n          ^^^^^^^^^^^^^^^^^^^^^^^^^^^^^^^\nValueError: could not convert string to float: 'John_Maine'\n"
     ]
    }
   ],
   "source": [
    "grid_search.fit(xtrain,ytrain)"
   ]
  },
  {
   "cell_type": "code",
   "execution_count": 25,
   "id": "3a1add53",
   "metadata": {},
   "outputs": [
    {
     "ename": "AttributeError",
     "evalue": "'GridSearchCV' object has no attribute 'best_params_'",
     "output_type": "error",
     "traceback": [
      "\u001b[1;31m---------------------------------------------------------------------------\u001b[0m",
      "\u001b[1;31mAttributeError\u001b[0m                            Traceback (most recent call last)",
      "Cell \u001b[1;32mIn[25], line 1\u001b[0m\n\u001b[1;32m----> 1\u001b[0m grid_search\u001b[38;5;241m.\u001b[39mbest_params_\n",
      "\u001b[1;31mAttributeError\u001b[0m: 'GridSearchCV' object has no attribute 'best_params_'"
     ]
    }
   ],
   "source": [
    "grid_search.best_params_"
   ]
  },
  {
   "cell_type": "code",
   "execution_count": 27,
   "id": "f157c02f",
   "metadata": {},
   "outputs": [
    {
     "ename": "ValueError",
     "evalue": "could not convert string to float: 'John_Maine'",
     "output_type": "error",
     "traceback": [
      "\u001b[1;31m---------------------------------------------------------------------------\u001b[0m",
      "\u001b[1;31mValueError\u001b[0m                                Traceback (most recent call last)",
      "\u001b[1;32m~\\AppData\\Local\\Temp\\ipykernel_9776\\4183127670.py\u001b[0m in \u001b[0;36m?\u001b[1;34m()\u001b[0m\n\u001b[0;32m      1\u001b[0m \u001b[0mFinal_model\u001b[0m \u001b[1;33m=\u001b[0m \u001b[0mRidge\u001b[0m\u001b[1;33m(\u001b[0m\u001b[0malpha\u001b[0m\u001b[1;33m=\u001b[0m\u001b[1;36m10\u001b[0m\u001b[1;33m,\u001b[0m \u001b[0mcopy_X\u001b[0m\u001b[1;33m=\u001b[0m\u001b[1;32mTrue\u001b[0m\u001b[1;33m,\u001b[0m \u001b[0mfit_intercept\u001b[0m\u001b[1;33m=\u001b[0m\u001b[1;32mTrue\u001b[0m\u001b[1;33m,\u001b[0m \u001b[0mtol\u001b[0m\u001b[1;33m=\u001b[0m\u001b[1;36m0.0001\u001b[0m\u001b[1;33m)\u001b[0m\u001b[1;33m\u001b[0m\u001b[1;33m\u001b[0m\u001b[0m\n\u001b[1;32m----> 2\u001b[1;33m \u001b[0mFinal_model\u001b[0m\u001b[1;33m.\u001b[0m\u001b[0mfit\u001b[0m\u001b[1;33m(\u001b[0m\u001b[0mxtrain\u001b[0m\u001b[1;33m,\u001b[0m \u001b[0mytrain\u001b[0m\u001b[1;33m)\u001b[0m\u001b[1;33m\u001b[0m\u001b[1;33m\u001b[0m\u001b[0m\n\u001b[0m",
      "\u001b[1;32m~\\anaconda3\\Lib\\site-packages\\sklearn\\base.py\u001b[0m in \u001b[0;36m?\u001b[1;34m(estimator, *args, **kwargs)\u001b[0m\n\u001b[0;32m   1469\u001b[0m                 skip_parameter_validation=(\n\u001b[0;32m   1470\u001b[0m                     \u001b[0mprefer_skip_nested_validation\u001b[0m \u001b[1;32mor\u001b[0m \u001b[0mglobal_skip_validation\u001b[0m\u001b[1;33m\u001b[0m\u001b[1;33m\u001b[0m\u001b[0m\n\u001b[0;32m   1471\u001b[0m                 )\n\u001b[0;32m   1472\u001b[0m             ):\n\u001b[1;32m-> 1473\u001b[1;33m                 \u001b[1;32mreturn\u001b[0m \u001b[0mfit_method\u001b[0m\u001b[1;33m(\u001b[0m\u001b[0mestimator\u001b[0m\u001b[1;33m,\u001b[0m \u001b[1;33m*\u001b[0m\u001b[0margs\u001b[0m\u001b[1;33m,\u001b[0m \u001b[1;33m**\u001b[0m\u001b[0mkwargs\u001b[0m\u001b[1;33m)\u001b[0m\u001b[1;33m\u001b[0m\u001b[1;33m\u001b[0m\u001b[0m\n\u001b[0m",
      "\u001b[1;32m~\\anaconda3\\Lib\\site-packages\\sklearn\\linear_model\\_ridge.py\u001b[0m in \u001b[0;36m?\u001b[1;34m(self, X, y, sample_weight)\u001b[0m\n\u001b[0;32m   1238\u001b[0m             \u001b[0mFitted\u001b[0m \u001b[0mestimator\u001b[0m\u001b[1;33m.\u001b[0m\u001b[1;33m\u001b[0m\u001b[1;33m\u001b[0m\u001b[0m\n\u001b[0;32m   1239\u001b[0m         \"\"\"\n\u001b[0;32m   1240\u001b[0m         \u001b[0m_accept_sparse\u001b[0m \u001b[1;33m=\u001b[0m \u001b[0m_get_valid_accept_sparse\u001b[0m\u001b[1;33m(\u001b[0m\u001b[0msparse\u001b[0m\u001b[1;33m.\u001b[0m\u001b[0missparse\u001b[0m\u001b[1;33m(\u001b[0m\u001b[0mX\u001b[0m\u001b[1;33m)\u001b[0m\u001b[1;33m,\u001b[0m \u001b[0mself\u001b[0m\u001b[1;33m.\u001b[0m\u001b[0msolver\u001b[0m\u001b[1;33m)\u001b[0m\u001b[1;33m\u001b[0m\u001b[1;33m\u001b[0m\u001b[0m\n\u001b[0;32m   1241\u001b[0m         \u001b[0mxp\u001b[0m\u001b[1;33m,\u001b[0m \u001b[0m_\u001b[0m \u001b[1;33m=\u001b[0m \u001b[0mget_namespace\u001b[0m\u001b[1;33m(\u001b[0m\u001b[0mX\u001b[0m\u001b[1;33m,\u001b[0m \u001b[0my\u001b[0m\u001b[1;33m,\u001b[0m \u001b[0msample_weight\u001b[0m\u001b[1;33m)\u001b[0m\u001b[1;33m\u001b[0m\u001b[1;33m\u001b[0m\u001b[0m\n\u001b[1;32m-> 1242\u001b[1;33m         X, y = self._validate_data(\n\u001b[0m\u001b[0;32m   1243\u001b[0m             \u001b[0mX\u001b[0m\u001b[1;33m,\u001b[0m\u001b[1;33m\u001b[0m\u001b[1;33m\u001b[0m\u001b[0m\n\u001b[0;32m   1244\u001b[0m             \u001b[0my\u001b[0m\u001b[1;33m,\u001b[0m\u001b[1;33m\u001b[0m\u001b[1;33m\u001b[0m\u001b[0m\n\u001b[0;32m   1245\u001b[0m             \u001b[0maccept_sparse\u001b[0m\u001b[1;33m=\u001b[0m\u001b[0m_accept_sparse\u001b[0m\u001b[1;33m,\u001b[0m\u001b[1;33m\u001b[0m\u001b[1;33m\u001b[0m\u001b[0m\n",
      "\u001b[1;32m~\\anaconda3\\Lib\\site-packages\\sklearn\\base.py\u001b[0m in \u001b[0;36m?\u001b[1;34m(self, X, y, reset, validate_separately, cast_to_ndarray, **check_params)\u001b[0m\n\u001b[0;32m    646\u001b[0m                 \u001b[1;32mif\u001b[0m \u001b[1;34m\"estimator\"\u001b[0m \u001b[1;32mnot\u001b[0m \u001b[1;32min\u001b[0m \u001b[0mcheck_y_params\u001b[0m\u001b[1;33m:\u001b[0m\u001b[1;33m\u001b[0m\u001b[1;33m\u001b[0m\u001b[0m\n\u001b[0;32m    647\u001b[0m                     \u001b[0mcheck_y_params\u001b[0m \u001b[1;33m=\u001b[0m \u001b[1;33m{\u001b[0m\u001b[1;33m**\u001b[0m\u001b[0mdefault_check_params\u001b[0m\u001b[1;33m,\u001b[0m \u001b[1;33m**\u001b[0m\u001b[0mcheck_y_params\u001b[0m\u001b[1;33m}\u001b[0m\u001b[1;33m\u001b[0m\u001b[1;33m\u001b[0m\u001b[0m\n\u001b[0;32m    648\u001b[0m                 \u001b[0my\u001b[0m \u001b[1;33m=\u001b[0m \u001b[0mcheck_array\u001b[0m\u001b[1;33m(\u001b[0m\u001b[0my\u001b[0m\u001b[1;33m,\u001b[0m \u001b[0minput_name\u001b[0m\u001b[1;33m=\u001b[0m\u001b[1;34m\"y\"\u001b[0m\u001b[1;33m,\u001b[0m \u001b[1;33m**\u001b[0m\u001b[0mcheck_y_params\u001b[0m\u001b[1;33m)\u001b[0m\u001b[1;33m\u001b[0m\u001b[1;33m\u001b[0m\u001b[0m\n\u001b[0;32m    649\u001b[0m             \u001b[1;32melse\u001b[0m\u001b[1;33m:\u001b[0m\u001b[1;33m\u001b[0m\u001b[1;33m\u001b[0m\u001b[0m\n\u001b[1;32m--> 650\u001b[1;33m                 \u001b[0mX\u001b[0m\u001b[1;33m,\u001b[0m \u001b[0my\u001b[0m \u001b[1;33m=\u001b[0m \u001b[0mcheck_X_y\u001b[0m\u001b[1;33m(\u001b[0m\u001b[0mX\u001b[0m\u001b[1;33m,\u001b[0m \u001b[0my\u001b[0m\u001b[1;33m,\u001b[0m \u001b[1;33m**\u001b[0m\u001b[0mcheck_params\u001b[0m\u001b[1;33m)\u001b[0m\u001b[1;33m\u001b[0m\u001b[1;33m\u001b[0m\u001b[0m\n\u001b[0m\u001b[0;32m    651\u001b[0m             \u001b[0mout\u001b[0m \u001b[1;33m=\u001b[0m \u001b[0mX\u001b[0m\u001b[1;33m,\u001b[0m \u001b[0my\u001b[0m\u001b[1;33m\u001b[0m\u001b[1;33m\u001b[0m\u001b[0m\n\u001b[0;32m    652\u001b[0m \u001b[1;33m\u001b[0m\u001b[0m\n\u001b[0;32m    653\u001b[0m         \u001b[1;32mif\u001b[0m \u001b[1;32mnot\u001b[0m \u001b[0mno_val_X\u001b[0m \u001b[1;32mand\u001b[0m \u001b[0mcheck_params\u001b[0m\u001b[1;33m.\u001b[0m\u001b[0mget\u001b[0m\u001b[1;33m(\u001b[0m\u001b[1;34m\"ensure_2d\"\u001b[0m\u001b[1;33m,\u001b[0m \u001b[1;32mTrue\u001b[0m\u001b[1;33m)\u001b[0m\u001b[1;33m:\u001b[0m\u001b[1;33m\u001b[0m\u001b[1;33m\u001b[0m\u001b[0m\n",
      "\u001b[1;32m~\\anaconda3\\Lib\\site-packages\\sklearn\\utils\\validation.py\u001b[0m in \u001b[0;36m?\u001b[1;34m(X, y, accept_sparse, accept_large_sparse, dtype, order, copy, force_writeable, force_all_finite, ensure_2d, allow_nd, multi_output, ensure_min_samples, ensure_min_features, y_numeric, estimator)\u001b[0m\n\u001b[0;32m   1297\u001b[0m         raise ValueError(\n\u001b[0;32m   1298\u001b[0m             \u001b[1;34mf\"{estimator_name} requires y to be passed, but the target y is None\"\u001b[0m\u001b[1;33m\u001b[0m\u001b[1;33m\u001b[0m\u001b[0m\n\u001b[0;32m   1299\u001b[0m         )\n\u001b[0;32m   1300\u001b[0m \u001b[1;33m\u001b[0m\u001b[0m\n\u001b[1;32m-> 1301\u001b[1;33m     X = check_array(\n\u001b[0m\u001b[0;32m   1302\u001b[0m         \u001b[0mX\u001b[0m\u001b[1;33m,\u001b[0m\u001b[1;33m\u001b[0m\u001b[1;33m\u001b[0m\u001b[0m\n\u001b[0;32m   1303\u001b[0m         \u001b[0maccept_sparse\u001b[0m\u001b[1;33m=\u001b[0m\u001b[0maccept_sparse\u001b[0m\u001b[1;33m,\u001b[0m\u001b[1;33m\u001b[0m\u001b[1;33m\u001b[0m\u001b[0m\n\u001b[0;32m   1304\u001b[0m         \u001b[0maccept_large_sparse\u001b[0m\u001b[1;33m=\u001b[0m\u001b[0maccept_large_sparse\u001b[0m\u001b[1;33m,\u001b[0m\u001b[1;33m\u001b[0m\u001b[1;33m\u001b[0m\u001b[0m\n",
      "\u001b[1;32m~\\anaconda3\\Lib\\site-packages\\sklearn\\utils\\validation.py\u001b[0m in \u001b[0;36m?\u001b[1;34m(array, accept_sparse, accept_large_sparse, dtype, order, copy, force_writeable, force_all_finite, ensure_2d, allow_nd, ensure_min_samples, ensure_min_features, estimator, input_name)\u001b[0m\n\u001b[0;32m   1009\u001b[0m                         )\n\u001b[0;32m   1010\u001b[0m                     \u001b[0marray\u001b[0m \u001b[1;33m=\u001b[0m \u001b[0mxp\u001b[0m\u001b[1;33m.\u001b[0m\u001b[0mastype\u001b[0m\u001b[1;33m(\u001b[0m\u001b[0marray\u001b[0m\u001b[1;33m,\u001b[0m \u001b[0mdtype\u001b[0m\u001b[1;33m,\u001b[0m \u001b[0mcopy\u001b[0m\u001b[1;33m=\u001b[0m\u001b[1;32mFalse\u001b[0m\u001b[1;33m)\u001b[0m\u001b[1;33m\u001b[0m\u001b[1;33m\u001b[0m\u001b[0m\n\u001b[0;32m   1011\u001b[0m                 \u001b[1;32melse\u001b[0m\u001b[1;33m:\u001b[0m\u001b[1;33m\u001b[0m\u001b[1;33m\u001b[0m\u001b[0m\n\u001b[0;32m   1012\u001b[0m                     \u001b[0marray\u001b[0m \u001b[1;33m=\u001b[0m \u001b[0m_asarray_with_order\u001b[0m\u001b[1;33m(\u001b[0m\u001b[0marray\u001b[0m\u001b[1;33m,\u001b[0m \u001b[0morder\u001b[0m\u001b[1;33m=\u001b[0m\u001b[0morder\u001b[0m\u001b[1;33m,\u001b[0m \u001b[0mdtype\u001b[0m\u001b[1;33m=\u001b[0m\u001b[0mdtype\u001b[0m\u001b[1;33m,\u001b[0m \u001b[0mxp\u001b[0m\u001b[1;33m=\u001b[0m\u001b[0mxp\u001b[0m\u001b[1;33m)\u001b[0m\u001b[1;33m\u001b[0m\u001b[1;33m\u001b[0m\u001b[0m\n\u001b[1;32m-> 1013\u001b[1;33m             \u001b[1;32mexcept\u001b[0m \u001b[0mComplexWarning\u001b[0m \u001b[1;32mas\u001b[0m \u001b[0mcomplex_warning\u001b[0m\u001b[1;33m:\u001b[0m\u001b[1;33m\u001b[0m\u001b[1;33m\u001b[0m\u001b[0m\n\u001b[0m\u001b[0;32m   1014\u001b[0m                 raise ValueError(\n\u001b[0;32m   1015\u001b[0m                     \u001b[1;34m\"Complex data not supported\\n{}\\n\"\u001b[0m\u001b[1;33m.\u001b[0m\u001b[0mformat\u001b[0m\u001b[1;33m(\u001b[0m\u001b[0marray\u001b[0m\u001b[1;33m)\u001b[0m\u001b[1;33m\u001b[0m\u001b[1;33m\u001b[0m\u001b[0m\n\u001b[0;32m   1016\u001b[0m                 ) from complex_warning\n",
      "\u001b[1;32m~\\anaconda3\\Lib\\site-packages\\sklearn\\utils\\_array_api.py\u001b[0m in \u001b[0;36m?\u001b[1;34m(array, dtype, order, copy, xp, device)\u001b[0m\n\u001b[0;32m    747\u001b[0m         \u001b[1;31m# Use NumPy API to support order\u001b[0m\u001b[1;33m\u001b[0m\u001b[1;33m\u001b[0m\u001b[0m\n\u001b[0;32m    748\u001b[0m         \u001b[1;32mif\u001b[0m \u001b[0mcopy\u001b[0m \u001b[1;32mis\u001b[0m \u001b[1;32mTrue\u001b[0m\u001b[1;33m:\u001b[0m\u001b[1;33m\u001b[0m\u001b[1;33m\u001b[0m\u001b[0m\n\u001b[0;32m    749\u001b[0m             \u001b[0marray\u001b[0m \u001b[1;33m=\u001b[0m \u001b[0mnumpy\u001b[0m\u001b[1;33m.\u001b[0m\u001b[0marray\u001b[0m\u001b[1;33m(\u001b[0m\u001b[0marray\u001b[0m\u001b[1;33m,\u001b[0m \u001b[0morder\u001b[0m\u001b[1;33m=\u001b[0m\u001b[0morder\u001b[0m\u001b[1;33m,\u001b[0m \u001b[0mdtype\u001b[0m\u001b[1;33m=\u001b[0m\u001b[0mdtype\u001b[0m\u001b[1;33m)\u001b[0m\u001b[1;33m\u001b[0m\u001b[1;33m\u001b[0m\u001b[0m\n\u001b[0;32m    750\u001b[0m         \u001b[1;32melse\u001b[0m\u001b[1;33m:\u001b[0m\u001b[1;33m\u001b[0m\u001b[1;33m\u001b[0m\u001b[0m\n\u001b[1;32m--> 751\u001b[1;33m             \u001b[0marray\u001b[0m \u001b[1;33m=\u001b[0m \u001b[0mnumpy\u001b[0m\u001b[1;33m.\u001b[0m\u001b[0masarray\u001b[0m\u001b[1;33m(\u001b[0m\u001b[0marray\u001b[0m\u001b[1;33m,\u001b[0m \u001b[0morder\u001b[0m\u001b[1;33m=\u001b[0m\u001b[0morder\u001b[0m\u001b[1;33m,\u001b[0m \u001b[0mdtype\u001b[0m\u001b[1;33m=\u001b[0m\u001b[0mdtype\u001b[0m\u001b[1;33m)\u001b[0m\u001b[1;33m\u001b[0m\u001b[1;33m\u001b[0m\u001b[0m\n\u001b[0m\u001b[0;32m    752\u001b[0m \u001b[1;33m\u001b[0m\u001b[0m\n\u001b[0;32m    753\u001b[0m         \u001b[1;31m# At this point array is a NumPy ndarray. We convert it to an array\u001b[0m\u001b[1;33m\u001b[0m\u001b[1;33m\u001b[0m\u001b[0m\n\u001b[0;32m    754\u001b[0m         \u001b[1;31m# container that is consistent with the input's namespace.\u001b[0m\u001b[1;33m\u001b[0m\u001b[1;33m\u001b[0m\u001b[0m\n",
      "\u001b[1;32m~\\anaconda3\\Lib\\site-packages\\pandas\\core\\generic.py\u001b[0m in \u001b[0;36m?\u001b[1;34m(self, dtype, copy)\u001b[0m\n\u001b[0;32m   2149\u001b[0m     def __array__(\n\u001b[0;32m   2150\u001b[0m         \u001b[0mself\u001b[0m\u001b[1;33m,\u001b[0m \u001b[0mdtype\u001b[0m\u001b[1;33m:\u001b[0m \u001b[0mnpt\u001b[0m\u001b[1;33m.\u001b[0m\u001b[0mDTypeLike\u001b[0m \u001b[1;33m|\u001b[0m \u001b[1;32mNone\u001b[0m \u001b[1;33m=\u001b[0m \u001b[1;32mNone\u001b[0m\u001b[1;33m,\u001b[0m \u001b[0mcopy\u001b[0m\u001b[1;33m:\u001b[0m \u001b[0mbool_t\u001b[0m \u001b[1;33m|\u001b[0m \u001b[1;32mNone\u001b[0m \u001b[1;33m=\u001b[0m \u001b[1;32mNone\u001b[0m\u001b[1;33m\u001b[0m\u001b[1;33m\u001b[0m\u001b[0m\n\u001b[0;32m   2151\u001b[0m     ) -> np.ndarray:\n\u001b[0;32m   2152\u001b[0m         \u001b[0mvalues\u001b[0m \u001b[1;33m=\u001b[0m \u001b[0mself\u001b[0m\u001b[1;33m.\u001b[0m\u001b[0m_values\u001b[0m\u001b[1;33m\u001b[0m\u001b[1;33m\u001b[0m\u001b[0m\n\u001b[1;32m-> 2153\u001b[1;33m         \u001b[0marr\u001b[0m \u001b[1;33m=\u001b[0m \u001b[0mnp\u001b[0m\u001b[1;33m.\u001b[0m\u001b[0masarray\u001b[0m\u001b[1;33m(\u001b[0m\u001b[0mvalues\u001b[0m\u001b[1;33m,\u001b[0m \u001b[0mdtype\u001b[0m\u001b[1;33m=\u001b[0m\u001b[0mdtype\u001b[0m\u001b[1;33m)\u001b[0m\u001b[1;33m\u001b[0m\u001b[1;33m\u001b[0m\u001b[0m\n\u001b[0m\u001b[0;32m   2154\u001b[0m         if (\n\u001b[0;32m   2155\u001b[0m             \u001b[0mastype_is_view\u001b[0m\u001b[1;33m(\u001b[0m\u001b[0mvalues\u001b[0m\u001b[1;33m.\u001b[0m\u001b[0mdtype\u001b[0m\u001b[1;33m,\u001b[0m \u001b[0marr\u001b[0m\u001b[1;33m.\u001b[0m\u001b[0mdtype\u001b[0m\u001b[1;33m)\u001b[0m\u001b[1;33m\u001b[0m\u001b[1;33m\u001b[0m\u001b[0m\n\u001b[0;32m   2156\u001b[0m             \u001b[1;32mand\u001b[0m \u001b[0musing_copy_on_write\u001b[0m\u001b[1;33m(\u001b[0m\u001b[1;33m)\u001b[0m\u001b[1;33m\u001b[0m\u001b[1;33m\u001b[0m\u001b[0m\n",
      "\u001b[1;31mValueError\u001b[0m: could not convert string to float: 'John_Maine'"
     ]
    }
   ],
   "source": [
    "Final_model = Ridge(alpha=10, copy_X=True, fit_intercept=True, tol=0.0001)\n",
    "Final_model.fit(xtrain, ytrain)"
   ]
  },
  {
   "cell_type": "code",
   "execution_count": 28,
   "id": "573ed3fb",
   "metadata": {},
   "outputs": [
    {
     "ename": "ValueError",
     "evalue": "could not convert string to float: 'Jeremy_Reed'",
     "output_type": "error",
     "traceback": [
      "\u001b[1;31m---------------------------------------------------------------------------\u001b[0m",
      "\u001b[1;31mValueError\u001b[0m                                Traceback (most recent call last)",
      "\u001b[1;32m~\\AppData\\Local\\Temp\\ipykernel_9776\\722832855.py\u001b[0m in \u001b[0;36m?\u001b[1;34m()\u001b[0m\n\u001b[0;32m      1\u001b[0m \u001b[1;32mfrom\u001b[0m \u001b[0msklearn\u001b[0m\u001b[1;33m.\u001b[0m\u001b[0mmetrics\u001b[0m \u001b[1;32mimport\u001b[0m \u001b[0mr2_score\u001b[0m\u001b[1;33m\u001b[0m\u001b[1;33m\u001b[0m\u001b[0m\n\u001b[0;32m      2\u001b[0m \u001b[1;33m\u001b[0m\u001b[0m\n\u001b[1;32m----> 3\u001b[1;33m \u001b[0mrd_pred\u001b[0m\u001b[1;33m=\u001b[0m \u001b[0mFinal_model\u001b[0m\u001b[1;33m.\u001b[0m\u001b[0mpredict\u001b[0m\u001b[1;33m(\u001b[0m\u001b[0mxtest\u001b[0m\u001b[1;33m)\u001b[0m\u001b[1;33m\u001b[0m\u001b[1;33m\u001b[0m\u001b[0m\n\u001b[0m\u001b[0;32m      4\u001b[0m \u001b[0mr2s\u001b[0m\u001b[1;33m=\u001b[0m\u001b[0mr2_score\u001b[0m\u001b[1;33m(\u001b[0m\u001b[0mytest\u001b[0m\u001b[1;33m,\u001b[0m \u001b[0mrd_pred\u001b[0m\u001b[1;33m)\u001b[0m\u001b[1;33m\u001b[0m\u001b[1;33m\u001b[0m\u001b[0m\n\u001b[0;32m      5\u001b[0m \u001b[0mprint\u001b[0m\u001b[1;33m(\u001b[0m\u001b[1;34m'r2 score: '\u001b[0m\u001b[1;33m,\u001b[0m \u001b[0mr2s\u001b[0m\u001b[1;33m*\u001b[0m\u001b[1;36m100\u001b[0m\u001b[1;33m)\u001b[0m\u001b[1;33m\u001b[0m\u001b[1;33m\u001b[0m\u001b[0m\n",
      "\u001b[1;32m~\\anaconda3\\Lib\\site-packages\\sklearn\\linear_model\\_base.py\u001b[0m in \u001b[0;36m?\u001b[1;34m(self, X)\u001b[0m\n\u001b[0;32m    302\u001b[0m         \u001b[1;33m-\u001b[0m\u001b[1;33m-\u001b[0m\u001b[1;33m-\u001b[0m\u001b[1;33m-\u001b[0m\u001b[1;33m-\u001b[0m\u001b[1;33m-\u001b[0m\u001b[1;33m-\u001b[0m\u001b[1;33m\u001b[0m\u001b[1;33m\u001b[0m\u001b[0m\n\u001b[0;32m    303\u001b[0m         \u001b[0mC\u001b[0m \u001b[1;33m:\u001b[0m \u001b[0marray\u001b[0m\u001b[1;33m,\u001b[0m \u001b[0mshape\u001b[0m \u001b[1;33m(\u001b[0m\u001b[0mn_samples\u001b[0m\u001b[1;33m,\u001b[0m\u001b[1;33m)\u001b[0m\u001b[1;33m\u001b[0m\u001b[1;33m\u001b[0m\u001b[0m\n\u001b[0;32m    304\u001b[0m             \u001b[0mReturns\u001b[0m \u001b[0mpredicted\u001b[0m \u001b[0mvalues\u001b[0m\u001b[1;33m.\u001b[0m\u001b[1;33m\u001b[0m\u001b[1;33m\u001b[0m\u001b[0m\n\u001b[0;32m    305\u001b[0m         \"\"\"\n\u001b[1;32m--> 306\u001b[1;33m         \u001b[1;32mreturn\u001b[0m \u001b[0mself\u001b[0m\u001b[1;33m.\u001b[0m\u001b[0m_decision_function\u001b[0m\u001b[1;33m(\u001b[0m\u001b[0mX\u001b[0m\u001b[1;33m)\u001b[0m\u001b[1;33m\u001b[0m\u001b[1;33m\u001b[0m\u001b[0m\n\u001b[0m",
      "\u001b[1;32m~\\anaconda3\\Lib\\site-packages\\sklearn\\linear_model\\_base.py\u001b[0m in \u001b[0;36m?\u001b[1;34m(self, X)\u001b[0m\n\u001b[0;32m    282\u001b[0m     \u001b[1;32mdef\u001b[0m \u001b[0m_decision_function\u001b[0m\u001b[1;33m(\u001b[0m\u001b[0mself\u001b[0m\u001b[1;33m,\u001b[0m \u001b[0mX\u001b[0m\u001b[1;33m)\u001b[0m\u001b[1;33m:\u001b[0m\u001b[1;33m\u001b[0m\u001b[1;33m\u001b[0m\u001b[0m\n\u001b[0;32m    283\u001b[0m         \u001b[0mcheck_is_fitted\u001b[0m\u001b[1;33m(\u001b[0m\u001b[0mself\u001b[0m\u001b[1;33m)\u001b[0m\u001b[1;33m\u001b[0m\u001b[1;33m\u001b[0m\u001b[0m\n\u001b[0;32m    284\u001b[0m \u001b[1;33m\u001b[0m\u001b[0m\n\u001b[1;32m--> 285\u001b[1;33m         \u001b[0mX\u001b[0m \u001b[1;33m=\u001b[0m \u001b[0mself\u001b[0m\u001b[1;33m.\u001b[0m\u001b[0m_validate_data\u001b[0m\u001b[1;33m(\u001b[0m\u001b[0mX\u001b[0m\u001b[1;33m,\u001b[0m \u001b[0maccept_sparse\u001b[0m\u001b[1;33m=\u001b[0m\u001b[1;33m[\u001b[0m\u001b[1;34m\"csr\"\u001b[0m\u001b[1;33m,\u001b[0m \u001b[1;34m\"csc\"\u001b[0m\u001b[1;33m,\u001b[0m \u001b[1;34m\"coo\"\u001b[0m\u001b[1;33m]\u001b[0m\u001b[1;33m,\u001b[0m \u001b[0mreset\u001b[0m\u001b[1;33m=\u001b[0m\u001b[1;32mFalse\u001b[0m\u001b[1;33m)\u001b[0m\u001b[1;33m\u001b[0m\u001b[1;33m\u001b[0m\u001b[0m\n\u001b[0m\u001b[0;32m    286\u001b[0m         \u001b[0mcoef_\u001b[0m \u001b[1;33m=\u001b[0m \u001b[0mself\u001b[0m\u001b[1;33m.\u001b[0m\u001b[0mcoef_\u001b[0m\u001b[1;33m\u001b[0m\u001b[1;33m\u001b[0m\u001b[0m\n\u001b[0;32m    287\u001b[0m         \u001b[1;32mif\u001b[0m \u001b[0mcoef_\u001b[0m\u001b[1;33m.\u001b[0m\u001b[0mndim\u001b[0m \u001b[1;33m==\u001b[0m \u001b[1;36m1\u001b[0m\u001b[1;33m:\u001b[0m\u001b[1;33m\u001b[0m\u001b[1;33m\u001b[0m\u001b[0m\n\u001b[0;32m    288\u001b[0m             \u001b[1;32mreturn\u001b[0m \u001b[0mX\u001b[0m \u001b[1;33m@\u001b[0m \u001b[0mcoef_\u001b[0m \u001b[1;33m+\u001b[0m \u001b[0mself\u001b[0m\u001b[1;33m.\u001b[0m\u001b[0mintercept_\u001b[0m\u001b[1;33m\u001b[0m\u001b[1;33m\u001b[0m\u001b[0m\n",
      "\u001b[1;32m~\\anaconda3\\Lib\\site-packages\\sklearn\\base.py\u001b[0m in \u001b[0;36m?\u001b[1;34m(self, X, y, reset, validate_separately, cast_to_ndarray, **check_params)\u001b[0m\n\u001b[0;32m    629\u001b[0m                 \u001b[0mout\u001b[0m \u001b[1;33m=\u001b[0m \u001b[0my\u001b[0m\u001b[1;33m\u001b[0m\u001b[1;33m\u001b[0m\u001b[0m\n\u001b[0;32m    630\u001b[0m             \u001b[1;32melse\u001b[0m\u001b[1;33m:\u001b[0m\u001b[1;33m\u001b[0m\u001b[1;33m\u001b[0m\u001b[0m\n\u001b[0;32m    631\u001b[0m                 \u001b[0mout\u001b[0m \u001b[1;33m=\u001b[0m \u001b[0mX\u001b[0m\u001b[1;33m,\u001b[0m \u001b[0my\u001b[0m\u001b[1;33m\u001b[0m\u001b[1;33m\u001b[0m\u001b[0m\n\u001b[0;32m    632\u001b[0m         \u001b[1;32melif\u001b[0m \u001b[1;32mnot\u001b[0m \u001b[0mno_val_X\u001b[0m \u001b[1;32mand\u001b[0m \u001b[0mno_val_y\u001b[0m\u001b[1;33m:\u001b[0m\u001b[1;33m\u001b[0m\u001b[1;33m\u001b[0m\u001b[0m\n\u001b[1;32m--> 633\u001b[1;33m             \u001b[0mout\u001b[0m \u001b[1;33m=\u001b[0m \u001b[0mcheck_array\u001b[0m\u001b[1;33m(\u001b[0m\u001b[0mX\u001b[0m\u001b[1;33m,\u001b[0m \u001b[0minput_name\u001b[0m\u001b[1;33m=\u001b[0m\u001b[1;34m\"X\"\u001b[0m\u001b[1;33m,\u001b[0m \u001b[1;33m**\u001b[0m\u001b[0mcheck_params\u001b[0m\u001b[1;33m)\u001b[0m\u001b[1;33m\u001b[0m\u001b[1;33m\u001b[0m\u001b[0m\n\u001b[0m\u001b[0;32m    634\u001b[0m         \u001b[1;32melif\u001b[0m \u001b[0mno_val_X\u001b[0m \u001b[1;32mand\u001b[0m \u001b[1;32mnot\u001b[0m \u001b[0mno_val_y\u001b[0m\u001b[1;33m:\u001b[0m\u001b[1;33m\u001b[0m\u001b[1;33m\u001b[0m\u001b[0m\n\u001b[0;32m    635\u001b[0m             \u001b[0mout\u001b[0m \u001b[1;33m=\u001b[0m \u001b[0m_check_y\u001b[0m\u001b[1;33m(\u001b[0m\u001b[0my\u001b[0m\u001b[1;33m,\u001b[0m \u001b[1;33m**\u001b[0m\u001b[0mcheck_params\u001b[0m\u001b[1;33m)\u001b[0m\u001b[1;33m\u001b[0m\u001b[1;33m\u001b[0m\u001b[0m\n\u001b[0;32m    636\u001b[0m         \u001b[1;32melse\u001b[0m\u001b[1;33m:\u001b[0m\u001b[1;33m\u001b[0m\u001b[1;33m\u001b[0m\u001b[0m\n",
      "\u001b[1;32m~\\anaconda3\\Lib\\site-packages\\sklearn\\utils\\validation.py\u001b[0m in \u001b[0;36m?\u001b[1;34m(array, accept_sparse, accept_large_sparse, dtype, order, copy, force_writeable, force_all_finite, ensure_2d, allow_nd, ensure_min_samples, ensure_min_features, estimator, input_name)\u001b[0m\n\u001b[0;32m   1009\u001b[0m                         )\n\u001b[0;32m   1010\u001b[0m                     \u001b[0marray\u001b[0m \u001b[1;33m=\u001b[0m \u001b[0mxp\u001b[0m\u001b[1;33m.\u001b[0m\u001b[0mastype\u001b[0m\u001b[1;33m(\u001b[0m\u001b[0marray\u001b[0m\u001b[1;33m,\u001b[0m \u001b[0mdtype\u001b[0m\u001b[1;33m,\u001b[0m \u001b[0mcopy\u001b[0m\u001b[1;33m=\u001b[0m\u001b[1;32mFalse\u001b[0m\u001b[1;33m)\u001b[0m\u001b[1;33m\u001b[0m\u001b[1;33m\u001b[0m\u001b[0m\n\u001b[0;32m   1011\u001b[0m                 \u001b[1;32melse\u001b[0m\u001b[1;33m:\u001b[0m\u001b[1;33m\u001b[0m\u001b[1;33m\u001b[0m\u001b[0m\n\u001b[0;32m   1012\u001b[0m                     \u001b[0marray\u001b[0m \u001b[1;33m=\u001b[0m \u001b[0m_asarray_with_order\u001b[0m\u001b[1;33m(\u001b[0m\u001b[0marray\u001b[0m\u001b[1;33m,\u001b[0m \u001b[0morder\u001b[0m\u001b[1;33m=\u001b[0m\u001b[0morder\u001b[0m\u001b[1;33m,\u001b[0m \u001b[0mdtype\u001b[0m\u001b[1;33m=\u001b[0m\u001b[0mdtype\u001b[0m\u001b[1;33m,\u001b[0m \u001b[0mxp\u001b[0m\u001b[1;33m=\u001b[0m\u001b[0mxp\u001b[0m\u001b[1;33m)\u001b[0m\u001b[1;33m\u001b[0m\u001b[1;33m\u001b[0m\u001b[0m\n\u001b[1;32m-> 1013\u001b[1;33m             \u001b[1;32mexcept\u001b[0m \u001b[0mComplexWarning\u001b[0m \u001b[1;32mas\u001b[0m \u001b[0mcomplex_warning\u001b[0m\u001b[1;33m:\u001b[0m\u001b[1;33m\u001b[0m\u001b[1;33m\u001b[0m\u001b[0m\n\u001b[0m\u001b[0;32m   1014\u001b[0m                 raise ValueError(\n\u001b[0;32m   1015\u001b[0m                     \u001b[1;34m\"Complex data not supported\\n{}\\n\"\u001b[0m\u001b[1;33m.\u001b[0m\u001b[0mformat\u001b[0m\u001b[1;33m(\u001b[0m\u001b[0marray\u001b[0m\u001b[1;33m)\u001b[0m\u001b[1;33m\u001b[0m\u001b[1;33m\u001b[0m\u001b[0m\n\u001b[0;32m   1016\u001b[0m                 ) from complex_warning\n",
      "\u001b[1;32m~\\anaconda3\\Lib\\site-packages\\sklearn\\utils\\_array_api.py\u001b[0m in \u001b[0;36m?\u001b[1;34m(array, dtype, order, copy, xp, device)\u001b[0m\n\u001b[0;32m    747\u001b[0m         \u001b[1;31m# Use NumPy API to support order\u001b[0m\u001b[1;33m\u001b[0m\u001b[1;33m\u001b[0m\u001b[0m\n\u001b[0;32m    748\u001b[0m         \u001b[1;32mif\u001b[0m \u001b[0mcopy\u001b[0m \u001b[1;32mis\u001b[0m \u001b[1;32mTrue\u001b[0m\u001b[1;33m:\u001b[0m\u001b[1;33m\u001b[0m\u001b[1;33m\u001b[0m\u001b[0m\n\u001b[0;32m    749\u001b[0m             \u001b[0marray\u001b[0m \u001b[1;33m=\u001b[0m \u001b[0mnumpy\u001b[0m\u001b[1;33m.\u001b[0m\u001b[0marray\u001b[0m\u001b[1;33m(\u001b[0m\u001b[0marray\u001b[0m\u001b[1;33m,\u001b[0m \u001b[0morder\u001b[0m\u001b[1;33m=\u001b[0m\u001b[0morder\u001b[0m\u001b[1;33m,\u001b[0m \u001b[0mdtype\u001b[0m\u001b[1;33m=\u001b[0m\u001b[0mdtype\u001b[0m\u001b[1;33m)\u001b[0m\u001b[1;33m\u001b[0m\u001b[1;33m\u001b[0m\u001b[0m\n\u001b[0;32m    750\u001b[0m         \u001b[1;32melse\u001b[0m\u001b[1;33m:\u001b[0m\u001b[1;33m\u001b[0m\u001b[1;33m\u001b[0m\u001b[0m\n\u001b[1;32m--> 751\u001b[1;33m             \u001b[0marray\u001b[0m \u001b[1;33m=\u001b[0m \u001b[0mnumpy\u001b[0m\u001b[1;33m.\u001b[0m\u001b[0masarray\u001b[0m\u001b[1;33m(\u001b[0m\u001b[0marray\u001b[0m\u001b[1;33m,\u001b[0m \u001b[0morder\u001b[0m\u001b[1;33m=\u001b[0m\u001b[0morder\u001b[0m\u001b[1;33m,\u001b[0m \u001b[0mdtype\u001b[0m\u001b[1;33m=\u001b[0m\u001b[0mdtype\u001b[0m\u001b[1;33m)\u001b[0m\u001b[1;33m\u001b[0m\u001b[1;33m\u001b[0m\u001b[0m\n\u001b[0m\u001b[0;32m    752\u001b[0m \u001b[1;33m\u001b[0m\u001b[0m\n\u001b[0;32m    753\u001b[0m         \u001b[1;31m# At this point array is a NumPy ndarray. We convert it to an array\u001b[0m\u001b[1;33m\u001b[0m\u001b[1;33m\u001b[0m\u001b[0m\n\u001b[0;32m    754\u001b[0m         \u001b[1;31m# container that is consistent with the input's namespace.\u001b[0m\u001b[1;33m\u001b[0m\u001b[1;33m\u001b[0m\u001b[0m\n",
      "\u001b[1;32m~\\anaconda3\\Lib\\site-packages\\pandas\\core\\generic.py\u001b[0m in \u001b[0;36m?\u001b[1;34m(self, dtype, copy)\u001b[0m\n\u001b[0;32m   2149\u001b[0m     def __array__(\n\u001b[0;32m   2150\u001b[0m         \u001b[0mself\u001b[0m\u001b[1;33m,\u001b[0m \u001b[0mdtype\u001b[0m\u001b[1;33m:\u001b[0m \u001b[0mnpt\u001b[0m\u001b[1;33m.\u001b[0m\u001b[0mDTypeLike\u001b[0m \u001b[1;33m|\u001b[0m \u001b[1;32mNone\u001b[0m \u001b[1;33m=\u001b[0m \u001b[1;32mNone\u001b[0m\u001b[1;33m,\u001b[0m \u001b[0mcopy\u001b[0m\u001b[1;33m:\u001b[0m \u001b[0mbool_t\u001b[0m \u001b[1;33m|\u001b[0m \u001b[1;32mNone\u001b[0m \u001b[1;33m=\u001b[0m \u001b[1;32mNone\u001b[0m\u001b[1;33m\u001b[0m\u001b[1;33m\u001b[0m\u001b[0m\n\u001b[0;32m   2151\u001b[0m     ) -> np.ndarray:\n\u001b[0;32m   2152\u001b[0m         \u001b[0mvalues\u001b[0m \u001b[1;33m=\u001b[0m \u001b[0mself\u001b[0m\u001b[1;33m.\u001b[0m\u001b[0m_values\u001b[0m\u001b[1;33m\u001b[0m\u001b[1;33m\u001b[0m\u001b[0m\n\u001b[1;32m-> 2153\u001b[1;33m         \u001b[0marr\u001b[0m \u001b[1;33m=\u001b[0m \u001b[0mnp\u001b[0m\u001b[1;33m.\u001b[0m\u001b[0masarray\u001b[0m\u001b[1;33m(\u001b[0m\u001b[0mvalues\u001b[0m\u001b[1;33m,\u001b[0m \u001b[0mdtype\u001b[0m\u001b[1;33m=\u001b[0m\u001b[0mdtype\u001b[0m\u001b[1;33m)\u001b[0m\u001b[1;33m\u001b[0m\u001b[1;33m\u001b[0m\u001b[0m\n\u001b[0m\u001b[0;32m   2154\u001b[0m         if (\n\u001b[0;32m   2155\u001b[0m             \u001b[0mastype_is_view\u001b[0m\u001b[1;33m(\u001b[0m\u001b[0mvalues\u001b[0m\u001b[1;33m.\u001b[0m\u001b[0mdtype\u001b[0m\u001b[1;33m,\u001b[0m \u001b[0marr\u001b[0m\u001b[1;33m.\u001b[0m\u001b[0mdtype\u001b[0m\u001b[1;33m)\u001b[0m\u001b[1;33m\u001b[0m\u001b[1;33m\u001b[0m\u001b[0m\n\u001b[0;32m   2156\u001b[0m             \u001b[1;32mand\u001b[0m \u001b[0musing_copy_on_write\u001b[0m\u001b[1;33m(\u001b[0m\u001b[1;33m)\u001b[0m\u001b[1;33m\u001b[0m\u001b[1;33m\u001b[0m\u001b[0m\n",
      "\u001b[1;31mValueError\u001b[0m: could not convert string to float: 'Jeremy_Reed'"
     ]
    }
   ],
   "source": [
    "from sklearn.metrics import r2_score\n",
    "\n",
    "rd_pred= Final_model.predict(xtest)\n",
    "r2s=r2_score(ytest, rd_pred)\n",
    "print('r2 score: ', r2s*100)"
   ]
  },
  {
   "cell_type": "code",
   "execution_count": null,
   "id": "8ad77950",
   "metadata": {},
   "outputs": [],
   "source": []
  }
 ],
 "metadata": {
  "kernelspec": {
   "display_name": "Python 3 (ipykernel)",
   "language": "python",
   "name": "python3"
  },
  "language_info": {
   "codemirror_mode": {
    "name": "ipython",
    "version": 3
   },
   "file_extension": ".py",
   "mimetype": "text/x-python",
   "name": "python",
   "nbconvert_exporter": "python",
   "pygments_lexer": "ipython3",
   "version": "3.11.5"
  }
 },
 "nbformat": 4,
 "nbformat_minor": 5
}
